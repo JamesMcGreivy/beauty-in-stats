{
 "cells": [
  {
   "cell_type": "markdown",
   "metadata": {},
   "source": [
    "### Graph Querying"
   ]
  },
  {
   "cell_type": "code",
   "execution_count": 1,
   "metadata": {},
   "outputs": [],
   "source": [
    "import os\n",
    "os.chdir(\"/work/submit/mcgreivy/beauty-in-stats/src\")"
   ]
  },
  {
   "cell_type": "code",
   "execution_count": 2,
   "metadata": {},
   "outputs": [
    {
     "name": "stdout",
     "output_type": "stream",
     "text": [
      "Loading embedding model: BAAI/bge-small-en-v1.5 on cuda\n",
      "Initializing TreeRAG from cache: /work/submit/mcgreivy/beauty-in-stats/data/tree_rag_cache\n",
      "Loading paper trees from: /work/submit/mcgreivy/beauty-in-stats/data/tree_rag_cache\n"
     ]
    },
    {
     "name": "stderr",
     "output_type": "stream",
     "text": [
      "Loading papers: 100%|██████████| 47/47 [00:00<00:00, 388.49it/s]\n"
     ]
    },
    {
     "name": "stdout",
     "output_type": "stream",
     "text": [
      "Successfully loaded 47 papers\n",
      "Validation results: 3117 total sections\n",
      "All paper trees are properly summarized and embedded!\n"
     ]
    },
    {
     "name": "stderr",
     "output_type": "stream",
     "text": [
      "Indexing papers: 100%|██████████| 47/47 [00:00<00:00, 9109.63it/s]\n",
      "Diffusing embeddings: 100%|██████████| 47/47 [00:00<00:00, 310.88it/s]\n"
     ]
    },
    {
     "name": "stdout",
     "output_type": "stream",
     "text": [
      "Loading embedding model: BAAI/bge-small-en-v1.5 on cuda\n",
      "Loading Neo4J Graph at: bolt+s://5b2ee81c.databases.neo4j.io\n"
     ]
    }
   ],
   "source": [
    "from rag import TreeRAG, GraphRAG\n",
    "\n",
    "tree_rag = TreeRAG()\n",
    "graph_rag = GraphRAG()"
   ]
  },
  {
   "cell_type": "code",
   "execution_count": 3,
   "metadata": {},
   "outputs": [
    {
     "name": "stdout",
     "output_type": "stream",
     "text": [
      "Query: What is the most common systematic uncertainty in run1?\n"
     ]
    },
    {
     "name": "stderr",
     "output_type": "stream",
     "text": [
      "Token indices sequence length is longer than the specified maximum sequence length for this model (533 > 512). Running this sequence through the model will result in indexing errors\n"
     ]
    },
    {
     "name": "stdout",
     "output_type": "stream",
     "text": [
      "TreeRAG Answer: 1308.1707.tex: We present a measurement of form-factor independent angular observables in the decay \\mbox{$B^0\\to K^{*}(892)^{0}\\mu^+ \\mu^-$}. The analysis is based on a data sample corresponding to an integrated luminosity of 1.0fb$^{-1}$, collected by the LHCb experiment in $pp$ collisions at a center-of-mass energy of 7TeV. Four observables are measured in six bins of the dimuon invariant mass squared, $q^2$, in the range $0.1<q^2<19.0$GeV$^{2}$/c$^{4}$. Agreement with Standard Model predictions is found for 23 of the 24 measurements. A local discrepancy, corresponding to $3.7$ Gaussian standard deviations, is observed in one $q^2$ bin for one of the observables. Considering the 24 measurements as independent, the probability to observe such a discrepancy, or larger, in one is $0.5\\%$.\n",
      "\n",
      "\ttable 0: {\\small Measurement of the observables P_{4,5,6,8}^{'} and S_{4,5,7,8} in the six q^2 bins of the analysis. For the observables P_i^{'} the measurement in the q^2-bin 1.0<q^2<6.0 { { Ge \\kern -0.1em V} ^2 /c^4} , which is the theoretically preferred region at large recoil, is also reported. The first uncertainty is statistical and the second is systematic.}\n",
      "\n",
      "\tSubsection 1: Measurement of angular observables in B^0→K^{*0}μ^+μ^− decays using 1.0 fb^−1 LHCb data across six q^2 bins. Four observables (P_{4}', P_{5}', P_{6}', P_{8}') and S_i parameters extracted via likelihood fits to invariant mass and angular distributions, incorporating S-wave contributions and systematic uncertainties. Results largely align with Standard Model predictions, except a 3.7σ local deviation in P_{5}' within 4.30–8.68 GeV^2/c^4, suggesting potential new physics effects affecting Wilson coefficient C_9.\n",
      "\n",
      "\t\tChunk 3: takes into account the limited knowledge of the angular acceptance, uncertainties in the signal and background invariant mass models, the angular model for the background, and the impact of a possible S-wave amplitude. Effects due to {{B} ^0} /{{\\offsetoverline{B}} ^0} production asymmetry have been considered and found negligibly small. The comparison between the measurements and the theoretical predictions from Ref.~\\cite{Descotes-Genon:2013vna} are shown in Fig.~\\ref{fig:result:PResult} for the observables P_{4}^{'} and P_5^{'}. The observables P_{6}^{'} and P_{8}^{'} (as well as S_7 and S_8) are suppressed by the small size of the strong phase difference between the decay amplitudes, and therefore are expected to be close to zero across the whole q^2 region. In general, the measurements agree with SM expectations~\\cite{Descotes-Genon:2013vna}, apart from a sizeable discrepancy in the interval \\mbox{4.30<q^2<8.68 { { Ge \\kern -0.1em V} ^2 /c^4} } for the observable P_5^{'}. The p-value, calculated using pseudo-experiments, with respect to the upper bound of the theoretical predictions given in Ref.~\\cite{Descotes-Genon:2013vna}, for the observed deviation is 0.02\\%, corresponding to 3.7 Gaussian standard deviations (\\sigma). If we consider the 24 measurements as independent, the probability that at least one varies from the expected value by 3.7 \\sigma or more is approximately 0.5\\%. A discrepancy of 2.5 \\sigma is observed integrating over the region \\mbox{1.0<q^2<6.0 { { Ge \\kern -0.1em V} ^2 /c^4} } (see Table~\\ref{tab:results}), which is considered the most robust region for theoretical predictions at large recoil. The discrepancy is also observed in the observable S_5. The value of S_5 quantifies the asymmetry between decays with positive and negative value of \\cos{\\theta_K} for |\\phi|<\n",
      "\n",
      "\t\tChunk 4: \\pi/2, averaged with the opposite asymmetry of events with |\\phi|>\\pi/2~\\cite{Altmannshofer:2008dz}. As a cross check, this asymmetry was also determined from a counting analysis. The result is consistent with the value for S_{5} determined from the fit. It is worth noting that the predictions for the first two q^2-bins and for the region \\mbox{1.0<q^2<6.0 { { Ge \\kern -0.1em V} ^2 /c^4} } are also calculated in Ref.~\\cite{Jager:2012uw}, where power corrections to the QCD factorization framework and resonance contributions are considered. However, there is not yet in the literature unanimous consensus about the best approach to treat these power corrections. The technique used in Ref.~\\cite{Jager:2012uw} leads to a larger theoretical uncertainty with respect to Ref.~\\cite{Descotes-Genon:2013vna}. In conclusion, we measure for the first time the angular observables S_4, S_5, S_7, S_8 and the corresponding form-factor independent observables P_{4}^{'}, P_5^{'}, P_6^{'} and P_8^{'} in the decay {{{B} ^0} {\\to} {{K} ^{*0}} { {\\mu} ^+} { {\\mu} ^-} } . These measurements have been performed in six q^2 bins for each of the four observables. Agreement with SM predictions~\\cite{Descotes-Genon:2013vna} is observed for 23 of the 24 measurements, while a local discrepancy of 3.7 \\sigma is observed in the interval \\mbox{4.30<q^2<8.68 { { Ge \\kern -0.1em V} ^2 /c^4} } for the observable P_5^{'}. Integrating over the region \\mbox{1.0<q^2<6.0 { { Ge \\kern -0.1em V} ^2 /c^4} }, the observed discrepancy in P_5^{'} is 2.5 \\sigma. The observed discrepancy in the angular observable\n",
      "\n",
      "2003.04831.tex: An angular analysis of the $B^{0}\\rightarrow K^{*0}(\\to K^{+}\\pi^{-})\\mu^{+}\\mu^{-}$ decay is presented using a data set corresponding to an integrated luminosity of 4.7 fb$^{-1}$ of $pp$ collision data collected with the LHCb experiment. The full set of $C\\!P$-averaged observables are determined in bins of the invariant mass squared of the dimuon system. Contamination from decays with the $K^{+}\\pi^{-}$ system in an S-wave configuration is taken into account. The tension seen between the previous LHCb results and the Standard Model predictions persists with the new data. The precise value of the significance of this tension depends on the choice of theory nuisance parameters.\n",
      "\n",
      "\theader: Angular analysis of \\(B^{0}\\to K^{*0}(\\to K^{+}\\pi^{-})\\mu^{+}\\mu^{-}\\) using 4.7 fb\\(^{-1}\\) LHCb data across multiple energies extracts CP-averaged observables (\\(F_L\\), \\(A_{FB}\\), \\(S_i\\), \\(P'_5\\)) via simultaneous fits to invariant mass and angular distributions, incorporating S-wave contamination, acceptance corrections, and background modeling. Results show persistent tension with Standard Model predictions, with significance sensitive to nuisance parameters.\n",
      "\n",
      "\t\tfigure 1: { Results for the {C P} -averaged angular observables F_{\\rm L}, A_{\\rm FB}, S_{5} and P_{5}' in bins of {q^2} . The data are compared to SM predictions based on the prescription of Refs.~\\cite{Altmannshofer:2014rta, Straub:2015ica}, with the exception of the P_5' distribution, which is compared to SM predictions based on Refs.~\\cite{Descotes-Genon:2014uoa, Khodjamirian:2010vf}.}\n",
      "\n",
      "\t\tSubsection 1: Angular analysis of $B^{0}\\to K^{*0}(\\to K^{+}\\pi^{-})\\mu^{+}\\mu^{-}$ utilizes a 4.7 fb$^{-1}$ dataset, employing fit procedures with CP-averaged observables, S-wave fraction constraints, and acceptance modeling via Legendre polynomial parameterization. Backgrounds include combinatorial and peaking sources, mitigated through BDT selection, PID vetoes, and mass window exclusions. Signal extraction involves simultaneous fits across multiple datasets, with angular observables expressed in basis of $F_L$, $P_{1,2,3}$, and $P'_{4,5,6,8}$. Results confirm persistent tension with Standard Model predictions, with significance dependent on nuisance parameters.\n",
      "\n",
      "\t\t\tChunk 4: these backgrounds are neglected in the angular analysis and are considered only as sources of systematic uncertainty. For every q^2 bin, a fit is performed in both the standard and the optimised basis. For each basis, four data sets are fit simultaneously: the {m({{K} ^+} {{\\pi} ^-} { {\\mu} ^+ {\\mu} ^-} )} and angular distributions of candidates in the Run~1 data; the equivalent distributions for the 2016 data; and the {m({{K} ^+} {{\\pi} ^-} )} distributions of candidates in the Run~1 and the 2016 data sets. The signal fraction is shared between the two data sets from each data-taking period. The {C P} -averaged angular observables and the S-wave fraction are shared between all data sets. The fitted probability density functions ({\\cal{P}}s) are of an identical form to those of Ref.~\\cite{LHCb-PAPER-2015-051}, as are the {q^2} bins used. In addition to the narrow {q^2} bins, results are obtained for the wider bins \\mbox{1.1 < {q^2} < 6.0 { { Ge \\kern -0.1em V} ^2 /c^4} } and \\mbox{15.0 < {q^2} < 19.0 { { Ge \\kern -0.1em V} ^2 /c^4} }. The angular distribution of the signal is described using Eq.~(\\ref{eq:pdfpwave}). The P_i^{(')} observables are determined by reparameterising Eq.~(\\ref{eq:pdfpwave}) using a basis comprising F^{}_{\\rm L}, P^{}_{1,2,3} and P_{4,5,6,8}^{'}. The angular distribution is multiplied by an acceptance model used to account for the effect of the reconstruction and candidate selection. The acceptance function is parameterised in four dimensions, according to \\begin{align} {\\varepsilon} (\\cos {\\theta_\\ell} ,\\cos {\\theta_{K}} ,\\phi,q^2) &= \\sum_{ijmn} c_{ijmn} L_\n",
      "\n",
      "\t\tSubsection 2: Angular observables in \\(B^{0}\\to K^{*0}(\\to K^{+}\\pi^{-})\\mu^{+}\\mu^{-}\\) decays were measured using 4.7 fb\\(^{-1}\\) of LHCb data. Signal modeling employed relativistic Breit-Wigner and LASS parameterization for S-wave, with background described linearly. Systematic uncertainties from peaking backgrounds, acceptance, and bias correction were evaluated via pseudoexperiments. Results for \\(F_L\\), \\(A_{FB}\\), \\(S_5\\), and \\(P'_5\\) show persistent tension with Standard Model predictions, with a significance increase to 3.3σ when fitting \\(C_9\\).\n",
      "\n",
      "\t\t\tChunk 1: \\kern -0.1em V} ^2 /c^4} }, \\mbox{11.0 < {q^2} < 12.5 { { Ge \\kern -0.1em V} ^2 /c^4} } and \\mbox{15.0 < {q^2} < 19.0 { { Ge \\kern -0.1em V} ^2 /c^4} }, is determined to be 2398 \\pm 57 for the Run~1 data, and 2187 \\pm 53 for the 2016 data. Pseudoexperiments, generated using the results of the best fit to data, are used to assess the bias and coverage of the fit. The majority of observables have a bias of less than 10\\% of their statistical uncertainty, with the largest bias being 17\\%, and all observables have an uncertainty estimate within 10\\% of the true uncertainty. The biases are driven by boundary effects in the observables. The largest effect comes from requiring that F_{\\rm S}\\geq 0, which can bias F_{\\rm S} to larger values. This can then result in a bias in the P-wave observables (see Eq.~\\ref{eq:pdfswave}). The statistical uncertainty is corrected to account for any under- or over-coverage and a systematic uncertainty equal to the size of the observed bias is assigned. The size of other sources of systematic uncertainty is estimated using pseudoexperiments, in which one or more parameters are varied and the angular observables are determined with and without this variation. The systematic uncertainty is then taken as the difference between the two models. The pseudoexperiments are generated with signal yields many times larger than the data, in order to render statistical fluctuations negligible. The size of the total systematic uncertainty varies depending on the angular observable and the {q^2} bin. The majority of observables in both the S_{i} and P^{(')}_{i} basis have a total systematic uncertainty between 5\\% and 25\\% of the statistical uncertainty. For F_{\\rm L}, the systematic uncertainty tends to be larger, typically between 20\\% and 50\\%. The systematic uncertainties are given in Table~\\ref{tab:systematics} of the Supplemental Material. The dominant systematic uncertainties arise from the peaking backgrounds that are neglected in the analysis, the bias correction, and,\n",
      "\n",
      "\t\t\tChunk 2: for the narrow {q^2} bins, from the uncertainty associated with evaluating the acceptance at a fixed point in {q^2} . For the peaking backgrounds, the systematic uncertainty is evaluated by injecting additional candidates, drawn from the angular distributions of the background modes, into the pseudoexperiment data. The systematic uncertainty for the bias correction is determined directly from the pseudoexperiments used to validate the fit. The systematic uncertainty from the variation of the acceptance with {q^2} is determined by moving the point in {q^2} at which the acceptance is evaluated to halfway between the bin centre and the upper or the lower edge. The largest deviation is taken as the systematic uncertainty. Examples of further sources of systematic uncertainty investigated include the {m({{K} ^+} {{\\pi} ^-} )} lineshape for the S-wave contribution, the assumption that the acceptance function is flat across the m({{K} ^+} {{\\pi} ^-} ) mass, the effect of the {{{B} ^+} {\\to} {{K} ^+} { {\\mu} ^+} { {\\mu} ^-} } veto on the angular distribution of the background and the order of polynomial used for the background parameterisation. These sources make a negligible contribution to the total uncertainty. With respect to the analysis of Ref.~\\cite{LHCb-PAPER-2015-051}, the systematic uncertainty from residual differences between data and simulation is significantly reduced, owing to an improved decay model for {{{B} ^0} {\\to} { {J} / {\\psi} } {{K} ^{*0}} } decays~\\cite{Chilikin:2014bkk}. The {C P} -averaged observables F_{\\rm L}, A_{\\rm FB}, S_{5} and P'_5 that are obtained from the S_{i} and P_{i}^{(')} fits are shown together with their respective SM predictions in Fig.~\\ref{fig:results:angobs}. The results for all observables are given in Figs.~\\ref{fig:sub:Si} and~\\ref{fig:sub:Pi} and Tables~\\ref{tab:sub:siresults} and~\\ref{tab:sub:piresults} of the Supplemental Material\n",
      "\n",
      "\tResults: Angular observables S₃, S₄, S₇–S₉, and optimized P_i^{(')} measured in B⁰→K*⁰μ⁺μ⁻ decays across q² bins; results compared to SM predictions using light-cone sum rules, lattice form factors, and various theoretical prescriptions. Data account for S-wave Kπ contamination; persistent tension with SM predictions observed, with significance dependent on nuisance parameters. Correlation matrices provided for statistical analysis.\n",
      "\n",
      "\t\ttable 0: {Results for the {C P} -averaged observables F_{\\rm L}, A_{\\rm FB} and S_3--S_9. The first uncertainties are statistical and the second systematic.\\label{tab:sub:siresults}}\n",
      "\n",
      "\t\ttable 1: {Results for the optimised observables P_i^{(')}. The first uncertainties are statistical and the second systematic.\\label{tab:sub:piresults}}\n",
      "\n",
      "\tSystematic uncertainties: Systematic uncertainties in angular observables primarily stem from peaking background neglect and acceptance variation with \\(q^2\\), especially in narrow bins. Bias corrections derived from pseudoexperiments and background model uncertainties—assessed via polynomial order increases—also contribute. These systematic sources influence the significance of deviations from Standard Model predictions in the \\(B^{0}\\rightarrow K^{*0}\\mu^{+}\\mu^{-}\\) angular analysis.\n",
      "\n",
      "\t\ttable 0: {Summary of the different sources of systematic uncertainty on the angular observables. \\label{tab:systematics}}\n",
      "\n",
      "\t\tText: \\label{sec:supp:sys} A summary of the sources of systematic uncertainty on the angular observables is shown in Table~\\ref{tab:systematics}. Details of how the systematic uncertainties are estimated are given in the letter. The dominant systematic uncertainties arise from the peaking backgrounds that are neglected in the analysis (\\emph{peaking backgrounds} in Table~\\ref{tab:systematics}) and, for the narrow {q^2} bins, from the uncertainty associated with evaluating the acceptance at a fixed point in {q^2} (\\emph{acceptance variation with q^2} in Table~\\ref{tab:systematics}). The \\emph{bias correction} in Table~\\ref{tab:systematics} refers to the biases observed when generating pseudoexperiments using the result of the best fit to data, as discussed in the letter. The systematic uncertainty associated with the \\emph{background model} is calculated by increasing the polynomial order to four.\n",
      "\n",
      "GraphRAG Answer: The query shows that the single most common systematic identified for papers that mention \"run1\" is \"Mass and background shape modelling uncertainties\" — an internal modelling category described as variations in signal/background mass shapes, angular background parameterisations and specific background components (combinatorial, reflections, peaking, J/ψ-related, etc.). It appears in 68 affect-instances across 30 papers and impacts 63 distinct observables (top of the returned, affect_instances-sorted list) [1304.6173, 1304.6325, 1308.1707, 1404.1903, 1406.6482, 1408.1251, 1503.07138, 1506.08614, 1506.08777, 1510.01707, 1606.07895, 1703.04639, 1703.05747, 1705.05802, 1708.08856, 1711.05623, 1808.08865, 1903.08726, 1903.09252, 2103.11769, 2109.01038, 2109.01056, 2212.09152, 2212.09153, 2512.09414].\n",
      "\n",
      "For context, the next-most-frequent categories in the results are \"Lineshape model uncertainty\" (47 affect-instances, 16 papers, 45 observables) and \"Monte Carlo statistics\" (41 affect-instances, 20 papers, 35 observables) — the result set is ordered by these affect_instances counts, so the ranking is driven by how many observable–uncertainty links were returned for each source [examples: 1304.6325, 1308.1707, 1403.8044; 1009.2731, 1302.2864, 1302.6269]. If you need the full per-paper breakdown or want to confirm coverage beyond the top 20 returned entries, that is not shown in these results and would require running a broader query.\n"
     ]
    }
   ],
   "source": [
    "query = \"What is the most common systematic uncertainty in run1?\"\n",
    "\n",
    "print(f\"Query: {query}\")\n",
    "\n",
    "answer = tree_rag.query(query)\n",
    "print(f\"TreeRAG Answer: {answer}\")\n",
    "\n",
    "answer = graph_rag.query(query)\n",
    "print(f\"GraphRAG Answer: {answer}\")"
   ]
  }
 ],
 "metadata": {
  "kernelspec": {
   "display_name": "Python (BeautyInStats)",
   "language": "python",
   "name": "beautyinstats"
  },
  "language_info": {
   "codemirror_mode": {
    "name": "ipython",
    "version": 3
   },
   "file_extension": ".py",
   "mimetype": "text/x-python",
   "name": "python",
   "nbconvert_exporter": "python",
   "pygments_lexer": "ipython3",
   "version": "3.10.16"
  }
 },
 "nbformat": 4,
 "nbformat_minor": 2
}
