{
 "cells": [
  {
   "cell_type": "code",
   "execution_count": 1,
   "metadata": {},
   "outputs": [],
   "source": [
    "import regex as re\n",
    "from tqdm import tqdm\n",
    "\n",
    "from concurrent.futures import ThreadPoolExecutor, as_completed\n",
    "import pickle\n",
    "\n",
    "from paper_tree import PaperTree\n",
    "\n",
    "import os\n",
    "import torch\n",
    "torch.cuda.empty_cache()"
   ]
  },
  {
   "cell_type": "code",
   "execution_count": 2,
   "metadata": {},
   "outputs": [
    {
     "name": "stderr",
     "output_type": "stream",
     "text": [
      "Device set to use cuda\n"
     ]
    }
   ],
   "source": [
    "from transformers import pipeline\n",
    "summarizer = pipeline(\"summarization\", model=\"facebook/bart-large-cnn\", device=\"cuda\")"
   ]
  },
  {
   "cell_type": "code",
   "execution_count": 3,
   "metadata": {},
   "outputs": [],
   "source": [
    "def clean_junk(tex):\n",
    "    # LHCb junk\n",
    "    pattern = r\"\\\\centerline[\\n\\s]*\\{[\\n\\s]*\\\\large[\\n\\s]*\\\\bf[\\n\\s]*LHCb[\\n\\s]*collaboration[\\n\\s]*\\}[\\n\\s]*\\\\begin[\\n\\s]*\\{[\\n\\s]*flushleft[\\n\\s]*\\}(?:\\n|.)*\\{[\\n\\s]*\\\\footnotesize(?:\\n|.)*\\}[\\n\\s]*\\\\end[\\n\\s]*\\{[\\n\\s]*flushleft[\\n\\s]*\\}\"\n",
    "    tex = re.sub(pattern, \"\", tex)\n",
    "\n",
    "    # Remove ~ symbol\n",
    "    pattern = r\"\\~\"\n",
    "    tex = re.sub(pattern, \" \", tex)\n",
    "\n",
    "    # LHCb junk\n",
    "    pattern = r\"\\\\bibitem\\{.+\\}(?:.|\\n)*\\\\EndOfBibitem\"\n",
    "    tex = re.sub(pattern, \"\", tex)\n",
    "\n",
    "    # Don't try to RAG on figures\n",
    "    pattern = r\"\\\\begin[\\s\\n]*\\{[\\s\\n]*figure[\\s\\n]*\\}(?:.|\\n)*\\\\end[\\s\\n]*\\{[\\s\\n]*figure[\\s\\n]*\\}\"\n",
    "    tex = re.sub(pattern, \"\", tex)\n",
    "\n",
    "    # Don't try to RAG on tables\n",
    "    pattern = r\"\\\\begin[\\s\\n]*\\{[\\s\\n]*table[\\s\\n]*\\}(?:.|\\n)*\\\\end[\\s\\n]*\\{[\\s\\n]*table[\\s\\n]*\\}\"\n",
    "    tex = re.sub(pattern, \"\", tex)\n",
    "\n",
    "    # Don't try to RAG on arrays\n",
    "    pattern = r\"\\\\begin[\\s\\n]*\\{[\\s\\n]*array[\\s\\n]*\\}(?:.|\\n)*\\\\end[\\s\\n]*\\{[\\s\\n]*array[\\s\\n]*\\}\"\n",
    "    tex = re.sub(pattern, \"\", tex)\n",
    "\n",
    "    # Don't try to RAG on tabular data\n",
    "    pattern = r\"\\\\begin[\\s\\n]*\\{[\\s\\n]*tabular[\\s\\n]*\\}(?:.|\\n)*\\\\end[\\s\\n]*\\{[\\s\\n]*tabular[\\s\\n]*\\}\"\n",
    "    tex = re.sub(pattern, \"\", tex)\n",
    "\n",
    "    # Don't try to RAG on citations\n",
    "    pattern = r\"\\\\cite\\s*({(?:[^{}]*+|(?1))*})\"\n",
    "    tex = re.sub(pattern, \"\", tex)\n",
    "\n",
    "    # Don't try to RAG on refs\n",
    "    pattern = r\"\\\\ref\\s*({(?:[^{}]*+|(?1))*})\"\n",
    "    tex = re.sub(pattern, \"\", tex)\n",
    "    return tex "
   ]
  },
  {
   "cell_type": "code",
   "execution_count": 4,
   "metadata": {},
   "outputs": [
    {
     "name": "stderr",
     "output_type": "stream",
     "text": [
      "Processing: 100%|██████████| 781/781 [00:13<00:00, 57.96it/s]\n"
     ]
    }
   ],
   "source": [
    "dir_expanded_tex = \"../data/expanded_tex/\"\n",
    "dir_abstracts = \"../data/abstracts/\"\n",
    "dir_paper_trees = \"../data/paper_trees/\"\n",
    "\n",
    "os.makedirs(dir_paper_trees, exist_ok=True)\n",
    "def tex_to_paper_tree(filename):\n",
    "    with open(dir_abstracts + filename) as file:\n",
    "        abstract = file.read()\n",
    "    with open(dir_expanded_tex + filename) as file:\n",
    "        full_tex = file.read()\n",
    "    full_tex = clean_junk(full_tex)\n",
    "    paper = PaperTree(filename, full_tex, abstract = abstract)\n",
    "    return paper\n",
    "\n",
    "filenames = list(filter(lambda str : (\".tex\" in str[-4:]), os.listdir(dir_expanded_tex)))\n",
    "\n",
    "papers = []\n",
    "times = []\n",
    "with ThreadPoolExecutor(max_workers = 16) as executor:\n",
    "    futures = [executor.submit(tex_to_paper_tree, filename) for filename in filenames]\n",
    "    \n",
    "    # Use tqdm to track progress as tasks complete\n",
    "    for future in tqdm(as_completed(futures), total=len(futures), desc=\"Processing\"):\n",
    "        paper = future.result()\n",
    "        papers.append(paper)"
   ]
  },
  {
   "cell_type": "code",
   "execution_count": 8,
   "metadata": {},
   "outputs": [
    {
     "name": "stdout",
     "output_type": "stream",
     "text": [
      "1506.00903.tex\n",
      "\n"
     ]
    }
   ],
   "source": [
    "for paper in papers:\n",
    "    if len(paper.sections) < 2:\n",
    "        print(paper)\n",
    "        break"
   ]
  },
  {
   "cell_type": "code",
   "execution_count": 11,
   "metadata": {},
   "outputs": [
    {
     "data": {
      "text/plain": [
       "'\\n\\n \\n\\n\\n\\n\\\\section*{Supplemental Material}\\n\\n\\n\\n\\n\\n\\n\\n\\n'"
      ]
     },
     "execution_count": 11,
     "metadata": {},
     "output_type": "execute_result"
    }
   ],
   "source": [
    "paper.text"
   ]
  },
  {
   "cell_type": "code",
   "execution_count": 5,
   "metadata": {},
   "outputs": [
    {
     "data": {
      "text/plain": [
       "2255"
      ]
     },
     "execution_count": 5,
     "metadata": {},
     "output_type": "execute_result"
    }
   ],
   "source": [
    "needs_abstract = []\n",
    "\n",
    "def build_needs_abstract(paper, needs_abstract):\n",
    "    for section in paper.sections:\n",
    "        if len(section.sections) > 0 and section.abstract is None:\n",
    "            needs_abstract.append(section)\n",
    "        build_needs_abstract(section, needs_abstract)\n",
    "\n",
    "for paper in papers:\n",
    "    build_needs_abstract(paper, needs_abstract)\n",
    "\n",
    "len(needs_abstract)"
   ]
  },
  {
   "cell_type": "code",
   "execution_count": 6,
   "metadata": {},
   "outputs": [],
   "source": [
    "from transformers import BartTokenizer\n",
    "import math\n",
    "\n",
    "MAX_SUMMARY_LENGTH = 150\n",
    "BART_MAX_TOKENS = 1024\n",
    "\n",
    "tokenizer = BartTokenizer.from_pretrained(\"facebook/bart-large-cnn\")\n",
    "# Function to split the text into chunks with overlap\n",
    "def split_into_chunks(text, max_length = BART_MAX_TOKENS - MAX_SUMMARY_LENGTH):\n",
    "    # Tokenize the text into tokens\n",
    "    tokens = tokenizer.encode(text, truncation=False)\n",
    "\n",
    "    # Calculate the ideal chunk size (as equal as possible)\n",
    "    chunk_size = math.ceil(len(tokens) / math.ceil(len(tokens) / max_length))\n",
    "\n",
    "    # Calculate how many chunks are needed\n",
    "    num_chunks = math.ceil(len(tokens) / chunk_size)\n",
    "\n",
    "    chunks = []\n",
    "    start_idx = 0\n",
    "\n",
    "    for _ in range(num_chunks):\n",
    "        end_idx = start_idx + chunk_size\n",
    "        chunk = tokens[start_idx:end_idx]\n",
    "        chunks.append(chunk)\n",
    "\n",
    "        # Update start_idx for the next chunk\n",
    "        start_idx = end_idx\n",
    "\n",
    "    # Decode chunks back to text\n",
    "    chunk_texts = [tokenizer.decode(chunk, skip_special_tokens=True) for chunk in chunks]\n",
    "\n",
    "    return chunk_texts, len(tokens)\n"
   ]
  },
  {
   "cell_type": "code",
   "execution_count": 54,
   "metadata": {},
   "outputs": [
    {
     "name": "stderr",
     "output_type": "stream",
     "text": [
      "Processing sections:   0%|          | 0/2255 [00:00<?, ?section/s]"
     ]
    },
    {
     "name": "stdout",
     "output_type": "stream",
     "text": [
      "Processing section: 1112.4698.tex --> Determination of proper-time acceptance effects | Number of chunks: 2\n"
     ]
    },
    {
     "name": "stderr",
     "output_type": "stream",
     "text": [
      "Processing sections:  13%|█▎        | 301/2255 [00:01<00:06, 303.04section/s]"
     ]
    },
    {
     "name": "stdout",
     "output_type": "stream",
     "text": [
      "Processing section: 1610.01383.tex --> Detector and simulation | Number of chunks: 1\n"
     ]
    },
    {
     "name": "stderr",
     "output_type": "stream",
     "text": [
      "Processing sections:  13%|█▎        | 301/2255 [00:01<00:06, 303.04section/s]"
     ]
    },
    {
     "name": "stdout",
     "output_type": "stream",
     "text": [
      "Processing section: 1610.01383.tex --> Signal and normalisation yields | Number of chunks: 2\n"
     ]
    },
    {
     "name": "stderr",
     "output_type": "stream",
     "text": [
      "Processing sections:  13%|█▎        | 301/2255 [00:02<00:06, 303.04section/s]"
     ]
    },
    {
     "name": "stdout",
     "output_type": "stream",
     "text": [
      "Processing section: 1610.01383.tex --> Results and summary | Number of chunks: 2\n"
     ]
    },
    {
     "name": "stderr",
     "output_type": "stream",
     "text": [
      "Processing sections:  13%|█▎        | 301/2255 [00:03<00:06, 303.04section/s]"
     ]
    },
    {
     "name": "stdout",
     "output_type": "stream",
     "text": [
      "Processing section: 2208.06512.tex --> INTRODUCTION | Number of chunks: 3\n"
     ]
    },
    {
     "name": "stderr",
     "output_type": "stream",
     "text": [
      "Processing sections:  13%|█▎        | 301/2255 [00:04<00:06, 303.04section/s]"
     ]
    },
    {
     "name": "stdout",
     "output_type": "stream",
     "text": [
      "Processing section: 2208.06512.tex --> ANALYSIS METHOD | Number of chunks: 2\n"
     ]
    },
    {
     "name": "stderr",
     "output_type": "stream",
     "text": [
      "Processing sections:  13%|█▎        | 301/2255 [00:05<00:06, 303.04section/s]"
     ]
    },
    {
     "name": "stdout",
     "output_type": "stream",
     "text": [
      "Processing section: 1212.4620.tex --> Introduction | Number of chunks: 2\n"
     ]
    },
    {
     "name": "stderr",
     "output_type": "stream",
     "text": [
      "Processing sections:  13%|█▎        | 301/2255 [00:07<00:06, 303.04section/s]"
     ]
    },
    {
     "name": "stdout",
     "output_type": "stream",
     "text": [
      "Processing section: 1212.4620.tex --> Event selection | Number of chunks: 2\n"
     ]
    },
    {
     "name": "stderr",
     "output_type": "stream",
     "text": [
      "Processing sections:  13%|█▎        | 301/2255 [00:08<00:06, 303.04section/s]"
     ]
    },
    {
     "name": "stdout",
     "output_type": "stream",
     "text": [
      "Processing section: 1212.4620.tex --> Summary | Number of chunks: 1\n"
     ]
    },
    {
     "name": "stderr",
     "output_type": "stream",
     "text": [
      "Processing sections:  13%|█▎        | 301/2255 [00:08<00:06, 303.04section/s]"
     ]
    },
    {
     "name": "stdout",
     "output_type": "stream",
     "text": [
      "Processing section: 2404.03375.tex --> Introduction | Number of chunks: 2\n"
     ]
    },
    {
     "name": "stderr",
     "output_type": "stream",
     "text": [
      "Processing sections:  13%|█▎        | 301/2255 [00:10<00:06, 303.04section/s]"
     ]
    },
    {
     "name": "stdout",
     "output_type": "stream",
     "text": [
      "Processing section: 2404.03375.tex --> Conclusions | Number of chunks: 2\n"
     ]
    },
    {
     "name": "stderr",
     "output_type": "stream",
     "text": [
      "Processing sections:  13%|█▎        | 301/2255 [00:10<00:06, 303.04section/s]"
     ]
    },
    {
     "name": "stdout",
     "output_type": "stream",
     "text": [
      "Processing section: 2211.10920.tex --> Physics motivation | Number of chunks: 2\n"
     ]
    },
    {
     "name": "stderr",
     "output_type": "stream",
     "text": [
      "Processing sections:  14%|█▍        | 318/2255 [00:12<01:40, 19.37section/s] "
     ]
    },
    {
     "name": "stdout",
     "output_type": "stream",
     "text": [
      "Processing section: 2211.10920.tex --> \\lhcb detector | Number of chunks: 2\n"
     ]
    },
    {
     "name": "stderr",
     "output_type": "stream",
     "text": [
      "Processing sections:  14%|█▍        | 319/2255 [00:13<01:53, 17.03section/s]"
     ]
    },
    {
     "name": "stdout",
     "output_type": "stream",
     "text": [
      "Processing section: 2211.10920.tex --> Track reconstruction and data samples | Number of chunks: 3\n"
     ]
    },
    {
     "name": "stderr",
     "output_type": "stream",
     "text": [
      "Processing sections:  14%|█▍        | 319/2255 [00:14<01:53, 17.03section/s]"
     ]
    },
    {
     "name": "stdout",
     "output_type": "stream",
     "text": [
      "Processing section: 1109.3398.tex --> Introduction | Number of chunks: 1\n"
     ]
    },
    {
     "name": "stderr",
     "output_type": "stream",
     "text": [
      "Processing sections:  14%|█▍        | 319/2255 [00:15<01:53, 17.03section/s]"
     ]
    },
    {
     "name": "stdout",
     "output_type": "stream",
     "text": [
      "Processing section: 1109.3398.tex --> Exclusive Dimuon Production | Number of chunks: 2\n"
     ]
    },
    {
     "name": "stderr",
     "output_type": "stream",
     "text": [
      "Processing sections:  14%|█▍        | 319/2255 [00:16<01:53, 17.03section/s]"
     ]
    },
    {
     "name": "stdout",
     "output_type": "stream",
     "text": [
      "Processing section: 1109.3398.tex --> Summary | Number of chunks: 2\n"
     ]
    },
    {
     "name": "stderr",
     "output_type": "stream",
     "text": [
      "Processing sections:  14%|█▍        | 319/2255 [00:17<01:53, 17.03section/s]"
     ]
    },
    {
     "name": "stdout",
     "output_type": "stream",
     "text": [
      "Processing section: 1404.0275.tex --> Detector and software | Number of chunks: 1\n"
     ]
    },
    {
     "name": "stderr",
     "output_type": "stream",
     "text": [
      "Processing sections:  14%|█▍        | 319/2255 [00:18<01:53, 17.03section/s]"
     ]
    },
    {
     "name": "stdout",
     "output_type": "stream",
     "text": [
      "Processing section: 1404.0275.tex --> Event selection | Number of chunks: 4\n"
     ]
    },
    {
     "name": "stderr",
     "output_type": "stream",
     "text": [
      "Processing sections:  14%|█▍        | 319/2255 [00:19<01:53, 17.03section/s]"
     ]
    },
    {
     "name": "stdout",
     "output_type": "stream",
     "text": [
      "Processing section: 1402.2982.tex --> Introduction | Number of chunks: 2\n"
     ]
    },
    {
     "name": "stderr",
     "output_type": "stream",
     "text": [
      "Processing sections:  14%|█▍        | 319/2255 [00:20<01:53, 17.03section/s]"
     ]
    },
    {
     "name": "stdout",
     "output_type": "stream",
     "text": [
      "Processing section: 1402.2982.tex --> Formalism | Number of chunks: 3\n"
     ]
    },
    {
     "name": "stderr",
     "output_type": "stream",
     "text": [
      "Processing sections:  14%|█▍        | 319/2255 [00:22<01:53, 17.03section/s]"
     ]
    },
    {
     "name": "stdout",
     "output_type": "stream",
     "text": [
      "Processing section: 1402.2982.tex --> The LHCb detector and data set | Number of chunks: 1\n"
     ]
    },
    {
     "name": "stderr",
     "output_type": "stream",
     "text": [
      "Processing sections:  14%|█▍        | 319/2255 [00:22<01:53, 17.03section/s]"
     ]
    },
    {
     "name": "stdout",
     "output_type": "stream",
     "text": [
      "Processing section: 1402.2982.tex --> Candidate selection | Number of chunks: 3\n"
     ]
    },
    {
     "name": "stderr",
     "output_type": "stream",
     "text": [
      "Processing sections:  15%|█▍        | 332/2255 [00:24<04:29,  7.13section/s]"
     ]
    },
    {
     "name": "stdout",
     "output_type": "stream",
     "text": [
      "Processing section: 1209.5869.tex --> Formalism and external inputs | Number of chunks: 3\n"
     ]
    },
    {
     "name": "stderr",
     "output_type": "stream",
     "text": [
      "Processing sections:  15%|█▍        | 333/2255 [00:25<04:58,  6.44section/s]"
     ]
    },
    {
     "name": "stdout",
     "output_type": "stream",
     "text": [
      "Processing section: 1209.5869.tex --> Conclusions | Number of chunks: 2\n"
     ]
    },
    {
     "name": "stderr",
     "output_type": "stream",
     "text": [
      "Processing sections:  15%|█▍        | 333/2255 [00:26<04:58,  6.44section/s]"
     ]
    },
    {
     "name": "stdout",
     "output_type": "stream",
     "text": [
      "Processing section: 2312.15201.tex --> Introduction | Number of chunks: 2\n"
     ]
    },
    {
     "name": "stderr",
     "output_type": "stream",
     "text": [
      "Processing sections:  15%|█▍        | 333/2255 [00:27<04:58,  6.44section/s]"
     ]
    },
    {
     "name": "stdout",
     "output_type": "stream",
     "text": [
      "Processing section: 1409.8548.tex --> Introduction | Number of chunks: 2\n"
     ]
    },
    {
     "name": "stderr",
     "output_type": "stream",
     "text": [
      "Processing sections:  15%|█▍        | 333/2255 [00:28<04:58,  6.44section/s]"
     ]
    },
    {
     "name": "stdout",
     "output_type": "stream",
     "text": [
      "Processing section: 1409.8548.tex --> Signal and background discrimination | Number of chunks: 2\n"
     ]
    },
    {
     "name": "stderr",
     "output_type": "stream",
     "text": [
      "Processing sections:  15%|█▌        | 340/2255 [00:29<06:19,  5.04section/s]"
     ]
    },
    {
     "name": "stdout",
     "output_type": "stream",
     "text": [
      "Processing section: 1307.2782.tex --> Introduction | Number of chunks: 2\n"
     ]
    },
    {
     "name": "stderr",
     "output_type": "stream",
     "text": [
      "Processing sections:  15%|█▌        | 340/2255 [00:31<06:19,  5.04section/s]"
     ]
    },
    {
     "name": "stdout",
     "output_type": "stream",
     "text": [
      "Processing section: 2108.09283.tex --> Introduction | Number of chunks: 3\n"
     ]
    },
    {
     "name": "stderr",
     "output_type": "stream",
     "text": [
      "Processing sections:  15%|█▌        | 340/2255 [00:32<06:19,  5.04section/s]"
     ]
    },
    {
     "name": "stdout",
     "output_type": "stream",
     "text": [
      "Processing section: 2108.09283.tex --> Conclusions | Number of chunks: 2\n"
     ]
    },
    {
     "name": "stderr",
     "output_type": "stream",
     "text": [
      "Processing sections:  15%|█▌        | 345/2255 [00:33<07:57,  4.00section/s]"
     ]
    },
    {
     "name": "stdout",
     "output_type": "stream",
     "text": [
      "Processing section: 1902.05884.tex --> Introduction | Number of chunks: 2\n"
     ]
    },
    {
     "name": "stderr",
     "output_type": "stream",
     "text": [
      "Processing sections:  15%|█▌        | 345/2255 [00:34<07:57,  4.00section/s]"
     ]
    },
    {
     "name": "stdout",
     "output_type": "stream",
     "text": [
      "Processing section: 1902.05884.tex --> Detector and simulation | Number of chunks: 1\n"
     ]
    },
    {
     "name": "stderr",
     "output_type": "stream",
     "text": [
      "Processing sections:  15%|█▌        | 345/2255 [00:35<07:57,  4.00section/s]"
     ]
    },
    {
     "name": "stdout",
     "output_type": "stream",
     "text": [
      "Processing section: 1902.05884.tex --> Candidate selection | Number of chunks: 1\n"
     ]
    },
    {
     "name": "stderr",
     "output_type": "stream",
     "text": [
      "Processing sections:  15%|█▌        | 348/2255 [00:36<09:20,  3.40section/s]"
     ]
    },
    {
     "name": "stdout",
     "output_type": "stream",
     "text": [
      "Processing section: 1902.05884.tex --> Systematic uncertainties | Number of chunks: 2\n"
     ]
    },
    {
     "name": "stderr",
     "output_type": "stream",
     "text": [
      "Processing sections:  15%|█▌        | 348/2255 [00:37<09:20,  3.40section/s]"
     ]
    },
    {
     "name": "stdout",
     "output_type": "stream",
     "text": [
      "Processing section: 1902.05884.tex --> The Triple-M Decay amplitude | Number of chunks: 10\n"
     ]
    },
    {
     "name": "stderr",
     "output_type": "stream",
     "text": [
      "Processing sections:  16%|█▌        | 350/2255 [00:41<14:17,  2.22section/s]"
     ]
    },
    {
     "name": "stdout",
     "output_type": "stream",
     "text": [
      "Processing section: 2103.11058.tex --> Introduction | Number of chunks: 1\n"
     ]
    },
    {
     "name": "stderr",
     "output_type": "stream",
     "text": [
      "Processing sections:  16%|█▌        | 352/2255 [00:42<13:58,  2.27section/s]"
     ]
    },
    {
     "name": "stdout",
     "output_type": "stream",
     "text": [
      "Processing section: 2103.11058.tex --> Systematic uncertainties | Number of chunks: 2\n"
     ]
    },
    {
     "name": "stderr",
     "output_type": "stream",
     "text": [
      "Processing sections:  16%|█▌        | 353/2255 [00:43<15:20,  2.07section/s]"
     ]
    },
    {
     "name": "stdout",
     "output_type": "stream",
     "text": [
      "Processing section: 1905.02421.tex --> Introduction | Number of chunks: 2\n"
     ]
    },
    {
     "name": "stderr",
     "output_type": "stream",
     "text": [
      "Processing sections:  16%|█▌        | 355/2255 [00:44<15:38,  2.02section/s]"
     ]
    },
    {
     "name": "stdout",
     "output_type": "stream",
     "text": [
      "Processing section: 1905.02421.tex --> Conclusions | Number of chunks: 16\n"
     ]
    },
    {
     "name": "stderr",
     "output_type": "stream",
     "text": [
      "Processing sections:  16%|█▌        | 356/2255 [00:50<33:26,  1.06s/section]"
     ]
    },
    {
     "name": "stdout",
     "output_type": "stream",
     "text": [
      "Processing section: 1207.6016.tex --> Introduction | Number of chunks: 2\n"
     ]
    },
    {
     "name": "stderr",
     "output_type": "stream",
     "text": [
      "Processing sections:  16%|█▌        | 358/2255 [00:52<30:49,  1.03section/s]"
     ]
    },
    {
     "name": "stdout",
     "output_type": "stream",
     "text": [
      "Processing section: 1207.6016.tex --> Event selection | Number of chunks: 1\n"
     ]
    },
    {
     "name": "stderr",
     "output_type": "stream",
     "text": [
      "Processing sections:  16%|█▌        | 359/2255 [00:53<30:07,  1.05section/s]"
     ]
    },
    {
     "name": "stdout",
     "output_type": "stream",
     "text": [
      "Processing section: 1207.6016.tex --> Cross-checks and systematic uncertainties | Number of chunks: 3\n"
     ]
    },
    {
     "name": "stderr",
     "output_type": "stream",
     "text": [
      "Processing sections:  16%|█▌        | 360/2255 [00:54<32:09,  1.02s/section]"
     ]
    },
    {
     "name": "stdout",
     "output_type": "stream",
     "text": [
      "Processing section: 2305.15329.tex --> Introduction | Number of chunks: 3\n"
     ]
    },
    {
     "name": "stderr",
     "output_type": "stream",
     "text": [
      "Processing sections:  16%|█▌        | 362/2255 [00:55<29:03,  1.09section/s]"
     ]
    },
    {
     "name": "stdout",
     "output_type": "stream",
     "text": [
      "Processing section: 2305.15329.tex --> LHCb detector and datasets | Number of chunks: 2\n"
     ]
    },
    {
     "name": "stderr",
     "output_type": "stream",
     "text": [
      "Processing sections:  16%|█▌        | 363/2255 [00:56<30:09,  1.05section/s]"
     ]
    },
    {
     "name": "stdout",
     "output_type": "stream",
     "text": [
      "Processing section: 2305.15329.tex --> Candidate selection | Number of chunks: 3\n"
     ]
    },
    {
     "name": "stderr",
     "output_type": "stream",
     "text": [
      "Processing sections:  16%|█▌        | 364/2255 [00:58<33:13,  1.05s/section]"
     ]
    },
    {
     "name": "stdout",
     "output_type": "stream",
     "text": [
      "Processing section: 2305.15329.tex --> Measurement of the \\texorpdfstring{$\\boldsymbol{\\Omegab}$}{Omega_b}-baryon mass | Number of chunks: 3\n"
     ]
    },
    {
     "name": "stderr",
     "output_type": "stream",
     "text": [
      "Processing sections:  16%|█▌        | 365/2255 [00:59<35:48,  1.14s/section]"
     ]
    },
    {
     "name": "stdout",
     "output_type": "stream",
     "text": [
      "Processing section: 2305.15329.tex --> Conclusion | Number of chunks: 2\n"
     ]
    },
    {
     "name": "stderr",
     "output_type": "stream",
     "text": [
      "Processing sections:  16%|█▌        | 366/2255 [01:00<36:03,  1.15s/section]"
     ]
    },
    {
     "name": "stdout",
     "output_type": "stream",
     "text": [
      "Processing section: 2306.02768.tex --> Constraint on the \\texorpdfstring{\\boldmath$\\omega$-$\\phi$}{TEXT} mixing angle | Number of chunks: 2\n"
     ]
    },
    {
     "name": "stderr",
     "output_type": "stream",
     "text": [
      "Processing sections:  16%|█▋        | 368/2255 [01:02<27:50,  1.13section/s]"
     ]
    },
    {
     "name": "stdout",
     "output_type": "stream",
     "text": [
      "Processing section: 2306.02768.tex --> Conclusions | Number of chunks: 3\n"
     ]
    },
    {
     "name": "stderr",
     "output_type": "stream",
     "text": [
      "Processing sections:  16%|█▋        | 369/2255 [01:03<31:14,  1.01section/s]"
     ]
    },
    {
     "name": "stdout",
     "output_type": "stream",
     "text": [
      "Processing section: 1604.03896.tex --> Introduction | Number of chunks: 2\n"
     ]
    },
    {
     "name": "stderr",
     "output_type": "stream",
     "text": [
      "Processing sections:  16%|█▋        | 371/2255 [01:04<26:11,  1.20section/s]"
     ]
    },
    {
     "name": "stdout",
     "output_type": "stream",
     "text": [
      "Processing section: 1604.03896.tex --> Candidate selection | Number of chunks: 2\n"
     ]
    },
    {
     "name": "stderr",
     "output_type": "stream",
     "text": [
      "Processing sections:  16%|█▋        | 372/2255 [01:05<28:29,  1.10section/s]"
     ]
    },
    {
     "name": "stdout",
     "output_type": "stream",
     "text": [
      "Processing section: 1604.03896.tex --> Summary | Number of chunks: 2\n"
     ]
    },
    {
     "name": "stderr",
     "output_type": "stream",
     "text": [
      "Processing sections:  17%|█▋        | 373/2255 [01:06<30:13,  1.04section/s]"
     ]
    },
    {
     "name": "stdout",
     "output_type": "stream",
     "text": [
      "Processing section: 2301.10328.tex --> Introduction | Number of chunks: 2\n"
     ]
    },
    {
     "name": "stderr",
     "output_type": "stream",
     "text": [
      "Processing sections:  17%|█▋        | 375/2255 [01:08<26:17,  1.19section/s]"
     ]
    },
    {
     "name": "stdout",
     "output_type": "stream",
     "text": [
      "Processing section: 2301.10328.tex --> Analysis strategy | Number of chunks: 5\n"
     ]
    },
    {
     "name": "stderr",
     "output_type": "stream",
     "text": [
      "Processing sections:  17%|█▋        | 376/2255 [01:10<34:39,  1.11s/section]"
     ]
    },
    {
     "name": "stdout",
     "output_type": "stream",
     "text": [
      "Processing section: 2301.10328.tex --> Binning scheme | Number of chunks: 3\n"
     ]
    },
    {
     "name": "stderr",
     "output_type": "stream",
     "text": [
      "Processing sections:  17%|█▋        | 377/2255 [01:11<36:41,  1.17s/section]"
     ]
    },
    {
     "name": "stdout",
     "output_type": "stream",
     "text": [
      "Processing section: 2404.19510.tex --> Introduction | Number of chunks: 2\n"
     ]
    },
    {
     "name": "stderr",
     "output_type": "stream",
     "text": [
      "Processing sections:  17%|█▋        | 379/2255 [01:12<28:53,  1.08section/s]"
     ]
    },
    {
     "name": "stdout",
     "output_type": "stream",
     "text": [
      "Processing section: 2404.19510.tex --> Systematic uncertainties | Number of chunks: 2\n"
     ]
    },
    {
     "name": "stderr",
     "output_type": "stream",
     "text": [
      "Processing sections:  17%|█▋        | 380/2255 [01:13<28:55,  1.08section/s]"
     ]
    },
    {
     "name": "stdout",
     "output_type": "stream",
     "text": [
      "Processing section: 2404.19510.tex --> Conclusion | Number of chunks: 2\n"
     ]
    },
    {
     "name": "stderr",
     "output_type": "stream",
     "text": [
      "Processing sections:  17%|█▋        | 381/2255 [01:14<28:51,  1.08section/s]"
     ]
    },
    {
     "name": "stdout",
     "output_type": "stream",
     "text": [
      "Processing section: 1708.06370.tex --> Introduction | Number of chunks: 3\n"
     ]
    },
    {
     "name": "stderr",
     "output_type": "stream",
     "text": [
      "Processing sections:  17%|█▋        | 383/2255 [01:15<26:06,  1.20section/s]"
     ]
    },
    {
     "name": "stdout",
     "output_type": "stream",
     "text": [
      "Processing section: 1307.4285.tex --> Introduction | Number of chunks: 2\n"
     ]
    },
    {
     "name": "stderr",
     "output_type": "stream",
     "text": [
      "Processing sections:  17%|█▋        | 385/2255 [01:16<22:10,  1.41section/s]"
     ]
    },
    {
     "name": "stdout",
     "output_type": "stream",
     "text": [
      "Processing section: 1307.4285.tex --> The LHCb detector and dataset | Number of chunks: 1\n"
     ]
    },
    {
     "name": "stderr",
     "output_type": "stream",
     "text": [
      "Processing sections:  17%|█▋        | 386/2255 [01:17<22:19,  1.40section/s]"
     ]
    },
    {
     "name": "stdout",
     "output_type": "stream",
     "text": [
      "Processing section: 1307.4285.tex --> Event reconstruction and selection | Number of chunks: 1\n"
     ]
    },
    {
     "name": "stderr",
     "output_type": "stream",
     "text": [
      "Processing sections:  17%|█▋        | 387/2255 [01:18<20:40,  1.51section/s]"
     ]
    },
    {
     "name": "stdout",
     "output_type": "stream",
     "text": [
      "Processing section: 1307.4285.tex --> Conclusion | Number of chunks: 2\n"
     ]
    },
    {
     "name": "stderr",
     "output_type": "stream",
     "text": [
      "Processing sections:  17%|█▋        | 388/2255 [01:19<25:09,  1.24section/s]"
     ]
    },
    {
     "name": "stdout",
     "output_type": "stream",
     "text": [
      "Processing section: 2306.09755.tex --> Analysis method | Number of chunks: 4\n"
     ]
    },
    {
     "name": "stderr",
     "output_type": "stream",
     "text": [
      "Processing sections:  17%|█▋        | 390/2255 [01:21<25:03,  1.24section/s]"
     ]
    },
    {
     "name": "stdout",
     "output_type": "stream",
     "text": [
      "Processing section: 2306.09755.tex --> Analysis method --> Correlation function | Number of chunks: 2\n"
     ]
    },
    {
     "name": "stderr",
     "output_type": "stream",
     "text": [
      "Processing sections:  17%|█▋        | 391/2255 [01:22<27:26,  1.13section/s]"
     ]
    },
    {
     "name": "stdout",
     "output_type": "stream",
     "text": [
      "Processing section: 2306.09755.tex --> Analysis method --> Final state interactions and nonfemtoscopic effects | Number of chunks: 2\n"
     ]
    },
    {
     "name": "stderr",
     "output_type": "stream",
     "text": [
      "Processing sections:  17%|█▋        | 392/2255 [01:23<30:45,  1.01section/s]"
     ]
    },
    {
     "name": "stdout",
     "output_type": "stream",
     "text": [
      "Processing section: 2306.09755.tex --> Detector and dataset | Number of chunks: 1\n"
     ]
    },
    {
     "name": "stderr",
     "output_type": "stream",
     "text": [
      "Processing sections:  17%|█▋        | 393/2255 [01:24<28:08,  1.10section/s]"
     ]
    },
    {
     "name": "stdout",
     "output_type": "stream",
     "text": [
      "Processing section: 2306.09755.tex --> Event selection | Number of chunks: 1\n"
     ]
    },
    {
     "name": "stderr",
     "output_type": "stream",
     "text": [
      "Processing sections:  17%|█▋        | 394/2255 [01:24<26:03,  1.19section/s]"
     ]
    },
    {
     "name": "stdout",
     "output_type": "stream",
     "text": [
      "Processing section: 2306.09755.tex --> Fitting correlation functions | Number of chunks: 3\n"
     ]
    },
    {
     "name": "stderr",
     "output_type": "stream",
     "text": [
      "Processing sections:  18%|█▊        | 395/2255 [01:26<30:46,  1.01section/s]"
     ]
    },
    {
     "name": "stdout",
     "output_type": "stream",
     "text": [
      "Processing section: 2403.09483.tex --> Introduction | Number of chunks: 2\n"
     ]
    },
    {
     "name": "stderr",
     "output_type": "stream",
     "text": [
      "Processing sections:  18%|█▊        | 397/2255 [01:27<24:16,  1.28section/s]"
     ]
    },
    {
     "name": "stdout",
     "output_type": "stream",
     "text": [
      "Processing section: 1606.07898.tex --> Introduction | Number of chunks: 2\n"
     ]
    },
    {
     "name": "stderr",
     "output_type": "stream",
     "text": [
      "Processing sections:  18%|█▊        | 399/2255 [01:28<22:27,  1.38section/s]"
     ]
    },
    {
     "name": "stdout",
     "output_type": "stream",
     "text": [
      "Processing section: 1811.08304.tex --> Introduction | Number of chunks: 2\n"
     ]
    },
    {
     "name": "stderr",
     "output_type": "stream",
     "text": [
      "Processing sections:  18%|█▊        | 401/2255 [01:29<20:56,  1.48section/s]"
     ]
    },
    {
     "name": "stdout",
     "output_type": "stream",
     "text": [
      "Processing section: 1811.08304.tex --> Event selection | Number of chunks: 2\n"
     ]
    },
    {
     "name": "stderr",
     "output_type": "stream",
     "text": [
      "Processing sections:  18%|█▊        | 402/2255 [01:31<24:55,  1.24section/s]"
     ]
    },
    {
     "name": "stdout",
     "output_type": "stream",
     "text": [
      "Processing section: 1811.08304.tex --> \\CP-violation results | Number of chunks: 15\n"
     ]
    },
    {
     "name": "stderr",
     "output_type": "stream",
     "text": [
      "Processing sections:  18%|█▊        | 403/2255 [01:37<1:01:36,  2.00s/section]"
     ]
    },
    {
     "name": "stdout",
     "output_type": "stream",
     "text": [
      "Processing section: 2304.14891.tex --> Introduction | Number of chunks: 2\n"
     ]
    },
    {
     "name": "stderr",
     "output_type": "stream",
     "text": [
      "Processing sections:  18%|█▊        | 405/2255 [01:38<45:32,  1.48s/section]  "
     ]
    },
    {
     "name": "stdout",
     "output_type": "stream",
     "text": [
      "Processing section: 2304.14891.tex --> Detector, simulation and analysis | Number of chunks: 1\n"
     ]
    },
    {
     "name": "stderr",
     "output_type": "stream",
     "text": [
      "Processing sections:  18%|█▊        | 406/2255 [01:39<39:39,  1.29s/section]"
     ]
    },
    {
     "name": "stdout",
     "output_type": "stream",
     "text": [
      "Processing section: 2304.14891.tex --> Event selection | Number of chunks: 2\n"
     ]
    },
    {
     "name": "stderr",
     "output_type": "stream",
     "text": [
      "Processing sections:  18%|█▊        | 407/2255 [01:40<38:33,  1.25s/section]"
     ]
    },
    {
     "name": "stdout",
     "output_type": "stream",
     "text": [
      "Processing section: 1805.09820.tex --> Introduction | Number of chunks: 2\n"
     ]
    },
    {
     "name": "stderr",
     "output_type": "stream",
     "text": [
      "Processing sections:  18%|█▊        | 409/2255 [01:41<31:08,  1.01s/section]"
     ]
    },
    {
     "name": "stdout",
     "output_type": "stream",
     "text": [
      "Processing section: 1805.09820.tex --> Detector and simulation | Number of chunks: 1\n"
     ]
    },
    {
     "name": "stderr",
     "output_type": "stream",
     "text": [
      "Processing sections:  18%|█▊        | 410/2255 [01:42<27:20,  1.12section/s]"
     ]
    },
    {
     "name": "stdout",
     "output_type": "stream",
     "text": [
      "Processing section: 1805.09820.tex --> Event selection | Number of chunks: 2\n"
     ]
    },
    {
     "name": "stderr",
     "output_type": "stream",
     "text": [
      "Processing sections:  18%|█▊        | 411/2255 [01:43<29:05,  1.06section/s]"
     ]
    },
    {
     "name": "stdout",
     "output_type": "stream",
     "text": [
      "Processing section: 1807.06544.tex --> Introduction | Number of chunks: 1\n"
     ]
    },
    {
     "name": "stderr",
     "output_type": "stream",
     "text": [
      "Processing sections:  18%|█▊        | 413/2255 [01:43<21:45,  1.41section/s]"
     ]
    },
    {
     "name": "stdout",
     "output_type": "stream",
     "text": [
      "Processing section: 1807.06544.tex --> Formalism | Number of chunks: 2\n"
     ]
    },
    {
     "name": "stderr",
     "output_type": "stream",
     "text": [
      "Processing sections:  18%|█▊        | 414/2255 [01:44<22:42,  1.35section/s]"
     ]
    },
    {
     "name": "stdout",
     "output_type": "stream",
     "text": [
      "Processing section: 1807.06544.tex --> Event selection | Number of chunks: 1\n"
     ]
    },
    {
     "name": "stderr",
     "output_type": "stream",
     "text": [
      "Processing sections:  18%|█▊        | 415/2255 [01:45<21:49,  1.40section/s]"
     ]
    },
    {
     "name": "stdout",
     "output_type": "stream",
     "text": [
      "Processing section: 1807.06544.tex --> Invariant-mass fit | Number of chunks: 3\n"
     ]
    },
    {
     "name": "stderr",
     "output_type": "stream",
     "text": [
      "Processing sections:  18%|█▊        | 416/2255 [01:46<27:13,  1.13section/s]"
     ]
    },
    {
     "name": "stdout",
     "output_type": "stream",
     "text": [
      "Processing section: 1807.06544.tex --> Results and conclusions | Number of chunks: 2\n"
     ]
    },
    {
     "name": "stderr",
     "output_type": "stream",
     "text": [
      "Processing sections:  18%|█▊        | 417/2255 [01:47<26:57,  1.14section/s]"
     ]
    },
    {
     "name": "stdout",
     "output_type": "stream",
     "text": [
      "Processing section: 1610.09476.tex --> Introduction | Number of chunks: 3\n"
     ]
    },
    {
     "name": "stderr",
     "output_type": "stream",
     "text": [
      "Processing sections:  19%|█▊        | 419/2255 [01:49<24:56,  1.23section/s]"
     ]
    },
    {
     "name": "stdout",
     "output_type": "stream",
     "text": [
      "Processing section: 1610.09476.tex --> Detector and event selection | Number of chunks: 3\n"
     ]
    },
    {
     "name": "stderr",
     "output_type": "stream",
     "text": [
      "Processing sections:  19%|█▊        | 420/2255 [01:50<28:44,  1.06section/s]"
     ]
    },
    {
     "name": "stdout",
     "output_type": "stream",
     "text": [
      "Processing section: 1610.09476.tex --> Measurement of the asymmetries | Number of chunks: 2\n"
     ]
    },
    {
     "name": "stderr",
     "output_type": "stream",
     "text": [
      "Processing sections:  19%|█▊        | 421/2255 [01:51<30:28,  1.00section/s]"
     ]
    },
    {
     "name": "stdout",
     "output_type": "stream",
     "text": [
      "Processing section: 2109.01113.tex --> Introduction | Number of chunks: 2\n"
     ]
    },
    {
     "name": "stderr",
     "output_type": "stream",
     "text": [
      "Processing sections:  19%|█▉        | 423/2255 [01:52<25:59,  1.17section/s]"
     ]
    },
    {
     "name": "stdout",
     "output_type": "stream",
     "text": [
      "Processing section: 2109.01113.tex --> Summary and Conclusion | Number of chunks: 2\n"
     ]
    },
    {
     "name": "stderr",
     "output_type": "stream",
     "text": [
      "Processing sections:  19%|█▉        | 424/2255 [01:54<28:13,  1.08section/s]"
     ]
    },
    {
     "name": "stdout",
     "output_type": "stream",
     "text": [
      "Processing section: 1506.08777.tex --> Introduction | Number of chunks: 2\n"
     ]
    },
    {
     "name": "stderr",
     "output_type": "stream",
     "text": [
      "Processing sections:  19%|█▉        | 426/2255 [01:55<23:34,  1.29section/s]"
     ]
    },
    {
     "name": "stdout",
     "output_type": "stream",
     "text": [
      "Processing section: 1808.07135.tex --> Introduction | Number of chunks: 2\n"
     ]
    },
    {
     "name": "stderr",
     "output_type": "stream",
     "text": [
      "Processing sections:  19%|█▉        | 428/2255 [01:56<20:47,  1.46section/s]"
     ]
    },
    {
     "name": "stdout",
     "output_type": "stream",
     "text": [
      "Processing section: 1808.07135.tex --> Signal selection | Number of chunks: 3\n"
     ]
    },
    {
     "name": "stderr",
     "output_type": "stream",
     "text": [
      "Processing sections:  19%|█▉        | 429/2255 [01:57<25:33,  1.19section/s]"
     ]
    },
    {
     "name": "stdout",
     "output_type": "stream",
     "text": [
      "Processing section: 1808.07135.tex --> Background estimation | Number of chunks: 1\n"
     ]
    },
    {
     "name": "stderr",
     "output_type": "stream",
     "text": [
      "Processing sections:  19%|█▉        | 430/2255 [01:58<24:13,  1.26section/s]"
     ]
    },
    {
     "name": "stdout",
     "output_type": "stream",
     "text": [
      "Processing section: 2001.03225.tex --> Introduction | Number of chunks: 3\n"
     ]
    },
    {
     "name": "stderr",
     "output_type": "stream",
     "text": [
      "Processing sections:  19%|█▉        | 432/2255 [01:59<23:14,  1.31section/s]"
     ]
    },
    {
     "name": "stdout",
     "output_type": "stream",
     "text": [
      "Processing section: 1407.8136.tex --> Conclusions | Number of chunks: 2\n"
     ]
    },
    {
     "name": "stderr",
     "output_type": "stream",
     "text": [
      "Processing sections:  19%|█▉        | 434/2255 [02:00<21:25,  1.42section/s]"
     ]
    },
    {
     "name": "stdout",
     "output_type": "stream",
     "text": [
      "Processing section: 2410.21115.tex --> Introduction | Number of chunks: 2\n"
     ]
    },
    {
     "name": "stderr",
     "output_type": "stream",
     "text": [
      "Processing sections:  19%|█▉        | 436/2255 [02:02<21:07,  1.43section/s]"
     ]
    },
    {
     "name": "stdout",
     "output_type": "stream",
     "text": [
      "Processing section: 2410.21115.tex --> Analysis overview | Number of chunks: 5\n"
     ]
    },
    {
     "name": "stderr",
     "output_type": "stream",
     "text": [
      "Processing sections:  19%|█▉        | 437/2255 [02:04<29:11,  1.04section/s]"
     ]
    },
    {
     "name": "stdout",
     "output_type": "stream",
     "text": [
      "Processing section: 2410.21115.tex --> Detector and simulation | Number of chunks: 1\n"
     ]
    },
    {
     "name": "stderr",
     "output_type": "stream",
     "text": [
      "Processing sections:  19%|█▉        | 438/2255 [02:04<26:20,  1.15section/s]"
     ]
    },
    {
     "name": "stdout",
     "output_type": "stream",
     "text": [
      "Processing section: 2410.21115.tex --> Candidate selection | Number of chunks: 2\n"
     ]
    },
    {
     "name": "stderr",
     "output_type": "stream",
     "text": [
      "Processing sections:  19%|█▉        | 439/2255 [02:06<28:34,  1.06section/s]"
     ]
    },
    {
     "name": "stdout",
     "output_type": "stream",
     "text": [
      "Processing section: 2410.21115.tex --> Background determination | Number of chunks: 3\n"
     ]
    },
    {
     "name": "stderr",
     "output_type": "stream",
     "text": [
      "Processing sections:  20%|█▉        | 440/2255 [02:07<31:58,  1.06s/section]"
     ]
    },
    {
     "name": "stdout",
     "output_type": "stream",
     "text": [
      "Processing section: 1806.05008.tex --> Event selection | Number of chunks: 3\n"
     ]
    },
    {
     "name": "stderr",
     "output_type": "stream",
     "text": [
      "Processing sections:  20%|█▉        | 442/2255 [02:08<27:23,  1.10section/s]"
     ]
    },
    {
     "name": "stdout",
     "output_type": "stream",
     "text": [
      "Processing section: 1806.05008.tex --> Conclusion | Number of chunks: 1\n"
     ]
    },
    {
     "name": "stderr",
     "output_type": "stream",
     "text": [
      "Processing sections:  20%|█▉        | 443/2255 [02:09<26:26,  1.14section/s]"
     ]
    },
    {
     "name": "stdout",
     "output_type": "stream",
     "text": [
      "Processing section: 1808.08865.tex --> Overview | Number of chunks: 2\n"
     ]
    },
    {
     "name": "stderr",
     "output_type": "stream",
     "text": [
      "Processing sections:  20%|█▉        | 445/2255 [02:10<22:30,  1.34section/s]"
     ]
    },
    {
     "name": "stdout",
     "output_type": "stream",
     "text": [
      "Processing section: 1401.3245.tex --> Event selection | Number of chunks: 3\n"
     ]
    },
    {
     "name": "stderr",
     "output_type": "stream",
     "text": [
      "Processing sections:  20%|█▉        | 447/2255 [02:12<21:59,  1.37section/s]"
     ]
    },
    {
     "name": "stdout",
     "output_type": "stream",
     "text": [
      "Processing section: 1401.3245.tex --> Conclusion | Number of chunks: 2\n"
     ]
    },
    {
     "name": "stderr",
     "output_type": "stream",
     "text": [
      "Processing sections:  20%|█▉        | 448/2255 [02:13<23:24,  1.29section/s]"
     ]
    },
    {
     "name": "stdout",
     "output_type": "stream",
     "text": [
      "Processing section: 1906.08356.tex --> Introduction | Number of chunks: 4\n"
     ]
    },
    {
     "name": "stderr",
     "output_type": "stream",
     "text": [
      "Processing sections:  20%|█▉        | 450/2255 [02:14<23:36,  1.27section/s]"
     ]
    },
    {
     "name": "stdout",
     "output_type": "stream",
     "text": [
      "Processing section: 1906.08356.tex --> Selection and mass fit | Number of chunks: 2\n"
     ]
    },
    {
     "name": "stderr",
     "output_type": "stream",
     "text": [
      "Processing sections:  20%|██        | 451/2255 [02:15<26:19,  1.14section/s]"
     ]
    },
    {
     "name": "stdout",
     "output_type": "stream",
     "text": [
      "Processing section: 1906.08356.tex --> Conclusions | Number of chunks: 2\n"
     ]
    },
    {
     "name": "stderr",
     "output_type": "stream",
     "text": [
      "Processing sections:  20%|██        | 452/2255 [02:16<25:58,  1.16section/s]"
     ]
    },
    {
     "name": "stdout",
     "output_type": "stream",
     "text": [
      "Processing section: 1904.03947.tex --> Comments on the results in Ref.  | Number of chunks: 1\n"
     ]
    },
    {
     "name": "stderr",
     "output_type": "stream",
     "text": [
      "Processing sections:  20%|██        | 454/2255 [02:17<21:14,  1.41section/s]"
     ]
    },
    {
     "name": "stdout",
     "output_type": "stream",
     "text": [
      "Processing section: 2002.08858.tex --> Introduction | Number of chunks: 2\n"
     ]
    },
    {
     "name": "stderr",
     "output_type": "stream",
     "text": [
      "Processing sections:  20%|██        | 456/2255 [02:18<19:40,  1.52section/s]"
     ]
    },
    {
     "name": "stdout",
     "output_type": "stream",
     "text": [
      "Processing section: 2002.08858.tex --> Formalism | Number of chunks: 3\n"
     ]
    },
    {
     "name": "stderr",
     "output_type": "stream",
     "text": [
      "Processing sections:  20%|██        | 457/2255 [02:20<23:34,  1.27section/s]"
     ]
    },
    {
     "name": "stdout",
     "output_type": "stream",
     "text": [
      "Processing section: 2002.08858.tex --> Detector and simulation | Number of chunks: 1\n"
     ]
    },
    {
     "name": "stderr",
     "output_type": "stream",
     "text": [
      "Processing sections:  20%|██        | 458/2255 [02:20<21:44,  1.38section/s]"
     ]
    },
    {
     "name": "stdout",
     "output_type": "stream",
     "text": [
      "Processing section: 2002.08858.tex --> Offline selection | Number of chunks: 2\n"
     ]
    },
    {
     "name": "stderr",
     "output_type": "stream",
     "text": [
      "Processing sections:  20%|██        | 459/2255 [02:21<25:26,  1.18section/s]"
     ]
    },
    {
     "name": "stdout",
     "output_type": "stream",
     "text": [
      "Processing section: 2002.08858.tex --> Conclusion | Number of chunks: 1\n"
     ]
    },
    {
     "name": "stderr",
     "output_type": "stream",
     "text": [
      "Processing sections:  20%|██        | 460/2255 [02:22<24:39,  1.21section/s]"
     ]
    },
    {
     "name": "stdout",
     "output_type": "stream",
     "text": [
      "Processing section: 1607.06823.tex --> Detector and simulation | Number of chunks: 1\n"
     ]
    },
    {
     "name": "stderr",
     "output_type": "stream",
     "text": [
      "Processing sections:  20%|██        | 462/2255 [02:23<17:06,  1.75section/s]"
     ]
    },
    {
     "name": "stdout",
     "output_type": "stream",
     "text": [
      "Processing section: 1607.06823.tex --> Event selection | Number of chunks: 2\n"
     ]
    },
    {
     "name": "stderr",
     "output_type": "stream",
     "text": [
      "Processing sections:  21%|██        | 463/2255 [02:23<18:41,  1.60section/s]"
     ]
    },
    {
     "name": "stdout",
     "output_type": "stream",
     "text": [
      "Processing section: 1607.06823.tex --> Signal yields and efficiency correction | Number of chunks: 2\n"
     ]
    },
    {
     "name": "stderr",
     "output_type": "stream",
     "text": [
      "Processing sections:  21%|██        | 464/2255 [02:25<23:37,  1.26section/s]"
     ]
    },
    {
     "name": "stdout",
     "output_type": "stream",
     "text": [
      "Processing section: 1607.06823.tex --> Systematic uncertainties | Number of chunks: 1\n"
     ]
    },
    {
     "name": "stderr",
     "output_type": "stream",
     "text": [
      "Processing sections:  21%|██        | 465/2255 [02:25<20:24,  1.46section/s]"
     ]
    },
    {
     "name": "stdout",
     "output_type": "stream",
     "text": [
      "Processing section: 1607.06823.tex --> Results and summary | Number of chunks: 2\n"
     ]
    },
    {
     "name": "stderr",
     "output_type": "stream",
     "text": [
      "Processing sections:  21%|██        | 466/2255 [02:26<24:07,  1.24section/s]"
     ]
    },
    {
     "name": "stdout",
     "output_type": "stream",
     "text": [
      "Processing section: 1405.3219.tex --> Introduction | Number of chunks: 2\n"
     ]
    },
    {
     "name": "stderr",
     "output_type": "stream",
     "text": [
      "Processing sections:  21%|██        | 468/2255 [02:27<21:53,  1.36section/s]"
     ]
    },
    {
     "name": "stdout",
     "output_type": "stream",
     "text": [
      "Processing section: 1405.3219.tex --> The LHCb detector | Number of chunks: 1\n"
     ]
    },
    {
     "name": "stderr",
     "output_type": "stream",
     "text": [
      "Processing sections:  21%|██        | 469/2255 [02:28<21:40,  1.37section/s]"
     ]
    },
    {
     "name": "stdout",
     "output_type": "stream",
     "text": [
      "Processing section: 1405.3219.tex --> Analysis overview | Number of chunks: 2\n"
     ]
    },
    {
     "name": "stderr",
     "output_type": "stream",
     "text": [
      "Processing sections:  21%|██        | 470/2255 [02:29<26:00,  1.14section/s]"
     ]
    },
    {
     "name": "stdout",
     "output_type": "stream",
     "text": [
      "Processing section: 1405.3219.tex --> Selection requirements | Number of chunks: 3\n"
     ]
    },
    {
     "name": "stderr",
     "output_type": "stream",
     "text": [
      "Processing sections:  21%|██        | 471/2255 [02:31<29:59,  1.01s/section]"
     ]
    },
    {
     "name": "stdout",
     "output_type": "stream",
     "text": [
      "Processing section: 1405.3219.tex --> Determination of signal yields | Number of chunks: 1\n"
     ]
    },
    {
     "name": "stderr",
     "output_type": "stream",
     "text": [
      "Processing sections:  21%|██        | 472/2255 [02:32<27:51,  1.07section/s]"
     ]
    },
    {
     "name": "stdout",
     "output_type": "stream",
     "text": [
      "Processing section: 1405.3219.tex --> Systematic uncertainties | Number of chunks: 4\n"
     ]
    },
    {
     "name": "stderr",
     "output_type": "stream",
     "text": [
      "Processing sections:  21%|██        | 473/2255 [02:33<33:18,  1.12s/section]"
     ]
    },
    {
     "name": "stdout",
     "output_type": "stream",
     "text": [
      "Processing section: 2405.17347.tex --> Introduction | Number of chunks: 4\n"
     ]
    },
    {
     "name": "stderr",
     "output_type": "stream",
     "text": [
      "Processing sections:  21%|██        | 475/2255 [02:35<29:02,  1.02section/s]"
     ]
    },
    {
     "name": "stdout",
     "output_type": "stream",
     "text": [
      "Processing section: 2405.17347.tex --> Theoretical signal model | Number of chunks: 12\n"
     ]
    },
    {
     "name": "stderr",
     "output_type": "stream",
     "text": [
      "Processing sections:  21%|██        | 476/2255 [02:40<56:50,  1.92s/section]"
     ]
    },
    {
     "name": "stdout",
     "output_type": "stream",
     "text": [
      "Processing section: 2405.17347.tex --> Theoretical signal model --> Transversity amplitudes | Number of chunks: 3\n"
     ]
    },
    {
     "name": "stderr",
     "output_type": "stream",
     "text": [
      "Processing sections:  21%|██        | 477/2255 [02:41<52:01,  1.76s/section]"
     ]
    },
    {
     "name": "stdout",
     "output_type": "stream",
     "text": [
      "Processing section: 2405.17347.tex --> Theoretical signal model --> Local form factors | Number of chunks: 2\n"
     ]
    },
    {
     "name": "stderr",
     "output_type": "stream",
     "text": [
      "Processing sections:  21%|██        | 478/2255 [02:42<48:27,  1.64s/section]"
     ]
    },
    {
     "name": "stdout",
     "output_type": "stream",
     "text": [
      "Processing section: 2405.17347.tex --> Theoretical signal model --> Nonlocal form factors | Number of chunks: 6\n"
     ]
    },
    {
     "name": "stderr",
     "output_type": "stream",
     "text": [
      "Processing sections:  21%|██        | 479/2255 [02:45<55:00,  1.86s/section]"
     ]
    },
    {
     "name": "stdout",
     "output_type": "stream",
     "text": [
      "Processing section: 2405.17347.tex --> Theoretical signal model --> Nonlocal form factors --> Parameterisation of specific nonlocal contributions | Number of chunks: 4\n"
     ]
    },
    {
     "name": "stderr",
     "output_type": "stream",
     "text": [
      "Processing sections:  21%|██▏       | 481/2255 [02:46<41:16,  1.40s/section]"
     ]
    },
    {
     "name": "stdout",
     "output_type": "stream",
     "text": [
      "Processing section: 2405.17347.tex --> Experimental model of the signal | Number of chunks: 3\n"
     ]
    },
    {
     "name": "stderr",
     "output_type": "stream",
     "text": [
      "Processing sections:  21%|██▏       | 482/2255 [02:48<41:36,  1.41s/section]"
     ]
    },
    {
     "name": "stdout",
     "output_type": "stream",
     "text": [
      "Processing section: 2405.17347.tex --> Experimental model of the signal --> Detector and simulation | Number of chunks: 1\n"
     ]
    },
    {
     "name": "stderr",
     "output_type": "stream",
     "text": [
      "Processing sections:  21%|██▏       | 483/2255 [02:48<35:47,  1.21s/section]"
     ]
    },
    {
     "name": "stdout",
     "output_type": "stream",
     "text": [
      "Processing section: 2405.17347.tex --> Experimental model of the signal --> Signal candidate selection | Number of chunks: 2\n"
     ]
    },
    {
     "name": "stderr",
     "output_type": "stream",
     "text": [
      "Processing sections:  21%|██▏       | 484/2255 [02:49<33:38,  1.14s/section]"
     ]
    },
    {
     "name": "stdout",
     "output_type": "stream",
     "text": [
      "Processing section: 2006.16957.tex --> Introduction | Number of chunks: 2\n"
     ]
    },
    {
     "name": "stderr",
     "output_type": "stream",
     "text": [
      "Processing sections:  22%|██▏       | 486/2255 [02:51<27:07,  1.09section/s]"
     ]
    },
    {
     "name": "stdout",
     "output_type": "stream",
     "text": [
      "Processing section: 1205.3422.tex --> Introduction | Number of chunks: 2\n"
     ]
    },
    {
     "name": "stderr",
     "output_type": "stream",
     "text": [
      "Processing sections:  22%|██▏       | 488/2255 [02:52<23:11,  1.27section/s]"
     ]
    },
    {
     "name": "stdout",
     "output_type": "stream",
     "text": [
      "Processing section: 1205.3422.tex --> Experimental setup | Number of chunks: 1\n"
     ]
    },
    {
     "name": "stderr",
     "output_type": "stream",
     "text": [
      "Processing sections:  22%|██▏       | 489/2255 [02:52<22:56,  1.28section/s]"
     ]
    },
    {
     "name": "stdout",
     "output_type": "stream",
     "text": [
      "Processing section: 1205.3422.tex --> Event selection | Number of chunks: 3\n"
     ]
    },
    {
     "name": "stderr",
     "output_type": "stream",
     "text": [
      "Processing sections:  22%|██▏       | 490/2255 [02:54<27:31,  1.07section/s]"
     ]
    },
    {
     "name": "stdout",
     "output_type": "stream",
     "text": [
      "Processing section: 2308.06162.tex --> Introduction | Number of chunks: 2\n"
     ]
    },
    {
     "name": "stderr",
     "output_type": "stream",
     "text": [
      "Processing sections:  22%|██▏       | 492/2255 [02:55<23:37,  1.24section/s]"
     ]
    },
    {
     "name": "stdout",
     "output_type": "stream",
     "text": [
      "Processing section: 2308.06162.tex --> Branching fraction determination | Number of chunks: 2\n"
     ]
    },
    {
     "name": "stderr",
     "output_type": "stream",
     "text": [
      "Processing sections:  22%|██▏       | 493/2255 [02:56<24:42,  1.19section/s]"
     ]
    },
    {
     "name": "stdout",
     "output_type": "stream",
     "text": [
      "Processing section: 2308.06162.tex --> Conclusions | Number of chunks: 1\n"
     ]
    },
    {
     "name": "stderr",
     "output_type": "stream",
     "text": [
      "Processing sections:  22%|██▏       | 494/2255 [02:57<22:50,  1.29section/s]"
     ]
    },
    {
     "name": "stdout",
     "output_type": "stream",
     "text": [
      "Processing section: 2107.13428.tex --> Introduction | Number of chunks: 2\n"
     ]
    },
    {
     "name": "stderr",
     "output_type": "stream",
     "text": [
      "Processing sections:  22%|██▏       | 496/2255 [02:58<20:11,  1.45section/s]"
     ]
    },
    {
     "name": "stdout",
     "output_type": "stream",
     "text": [
      "Processing section: 2107.13428.tex --> Detector and simulation | Number of chunks: 1\n"
     ]
    },
    {
     "name": "stderr",
     "output_type": "stream",
     "text": [
      "Processing sections:  22%|██▏       | 497/2255 [02:58<18:43,  1.57section/s]"
     ]
    },
    {
     "name": "stdout",
     "output_type": "stream",
     "text": [
      "Processing section: 2107.13428.tex --> Selection of signal candidates | Number of chunks: 2\n"
     ]
    },
    {
     "name": "stderr",
     "output_type": "stream",
     "text": [
      "Processing sections:  22%|██▏       | 498/2255 [02:59<22:20,  1.31section/s]"
     ]
    },
    {
     "name": "stdout",
     "output_type": "stream",
     "text": [
      "Processing section: 1304.2600.tex --> Conclusion \\label{sec:conclusion} | Number of chunks: 1\n"
     ]
    },
    {
     "name": "stderr",
     "output_type": "stream",
     "text": [
      "Processing sections:  22%|██▏       | 500/2255 [03:00<18:12,  1.61section/s]"
     ]
    },
    {
     "name": "stdout",
     "output_type": "stream",
     "text": [
      "Processing section: 1112.4896.tex --> Introduction | Number of chunks: 2\n"
     ]
    },
    {
     "name": "stderr",
     "output_type": "stream",
     "text": [
      "Processing sections:  22%|██▏       | 502/2255 [03:02<18:16,  1.60section/s]"
     ]
    },
    {
     "name": "stdout",
     "output_type": "stream",
     "text": [
      "Processing section: 2312.12987.tex --> Introduction | Number of chunks: 2\n"
     ]
    },
    {
     "name": "stderr",
     "output_type": "stream",
     "text": [
      "Processing sections:  22%|██▏       | 504/2255 [03:03<17:26,  1.67section/s]"
     ]
    },
    {
     "name": "stdout",
     "output_type": "stream",
     "text": [
      "Processing section: 2312.12987.tex --> Detector and simulation | Number of chunks: 2\n"
     ]
    },
    {
     "name": "stderr",
     "output_type": "stream",
     "text": [
      "Processing sections:  22%|██▏       | 505/2255 [03:04<21:09,  1.38section/s]"
     ]
    },
    {
     "name": "stdout",
     "output_type": "stream",
     "text": [
      "Processing section: 2312.12987.tex --> Event selection | Number of chunks: 4\n"
     ]
    },
    {
     "name": "stderr",
     "output_type": "stream",
     "text": [
      "Processing sections:  22%|██▏       | 506/2255 [03:05<26:44,  1.09section/s]"
     ]
    },
    {
     "name": "stdout",
     "output_type": "stream",
     "text": [
      "Processing section: 2501.06483.tex --> Introduction | Number of chunks: 2\n"
     ]
    },
    {
     "name": "stderr",
     "output_type": "stream",
     "text": [
      "Processing sections:  23%|██▎       | 508/2255 [03:07<23:11,  1.26section/s]"
     ]
    },
    {
     "name": "stdout",
     "output_type": "stream",
     "text": [
      "Processing section: 2107.10090.tex --> Introduction | Number of chunks: 2\n"
     ]
    },
    {
     "name": "stderr",
     "output_type": "stream",
     "text": [
      "Processing sections:  23%|██▎       | 510/2255 [03:08<21:00,  1.38section/s]"
     ]
    },
    {
     "name": "stdout",
     "output_type": "stream",
     "text": [
      "Processing section: 2107.10090.tex --> Detector and data sample | Number of chunks: 1\n"
     ]
    },
    {
     "name": "stderr",
     "output_type": "stream",
     "text": [
      "Processing sections:  23%|██▎       | 511/2255 [03:08<20:09,  1.44section/s]"
     ]
    },
    {
     "name": "stdout",
     "output_type": "stream",
     "text": [
      "Processing section: 2107.10090.tex --> Analysis strategy | Number of chunks: 3\n"
     ]
    },
    {
     "name": "stderr",
     "output_type": "stream",
     "text": [
      "Processing sections:  23%|██▎       | 512/2255 [03:10<24:45,  1.17section/s]"
     ]
    },
    {
     "name": "stdout",
     "output_type": "stream",
     "text": [
      "Processing section: 2210.12000.tex --> Introduction | Number of chunks: 2\n"
     ]
    },
    {
     "name": "stderr",
     "output_type": "stream",
     "text": [
      "Processing sections:  23%|██▎       | 514/2255 [03:11<20:44,  1.40section/s]"
     ]
    },
    {
     "name": "stdout",
     "output_type": "stream",
     "text": [
      "Processing section: 2210.12000.tex --> Discussion of $\\boldsymbol{\\mathcal{B}(\\Bc \\to \\Bs \\pip)}$ | Number of chunks: 2\n"
     ]
    },
    {
     "name": "stderr",
     "output_type": "stream",
     "text": [
      "Processing sections:  23%|██▎       | 515/2255 [03:12<23:15,  1.25section/s]"
     ]
    },
    {
     "name": "stdout",
     "output_type": "stream",
     "text": [
      "Processing section: 2002.08229.tex --> Introduction | Number of chunks: 2\n"
     ]
    },
    {
     "name": "stderr",
     "output_type": "stream",
     "text": [
      "Processing sections:  23%|██▎       | 517/2255 [03:13<22:27,  1.29section/s]"
     ]
    },
    {
     "name": "stdout",
     "output_type": "stream",
     "text": [
      "Processing section: 2002.08229.tex --> LHCb detector | Number of chunks: 1\n"
     ]
    },
    {
     "name": "stderr",
     "output_type": "stream",
     "text": [
      "Processing sections:  23%|██▎       | 518/2255 [03:14<20:54,  1.38section/s]"
     ]
    },
    {
     "name": "stdout",
     "output_type": "stream",
     "text": [
      "Processing section: 2002.08229.tex --> Event selection | Number of chunks: 3\n"
     ]
    },
    {
     "name": "stderr",
     "output_type": "stream",
     "text": [
      "Processing sections:  23%|██▎       | 519/2255 [03:15<26:08,  1.11section/s]"
     ]
    },
    {
     "name": "stdout",
     "output_type": "stream",
     "text": [
      "Processing section: 1310.7953.tex --> LHCb detector and data set | Number of chunks: 1\n"
     ]
    },
    {
     "name": "stderr",
     "output_type": "stream",
     "text": [
      "Processing sections:  23%|██▎       | 521/2255 [03:16<19:20,  1.49section/s]"
     ]
    },
    {
     "name": "stdout",
     "output_type": "stream",
     "text": [
      "Processing section: 1310.7953.tex --> Event selection | Number of chunks: 2\n"
     ]
    },
    {
     "name": "stderr",
     "output_type": "stream",
     "text": [
      "Processing sections:  23%|██▎       | 522/2255 [03:17<22:49,  1.27section/s]"
     ]
    },
    {
     "name": "stdout",
     "output_type": "stream",
     "text": [
      "Processing section: 1310.7953.tex --> Conclusion | Number of chunks: 1\n"
     ]
    },
    {
     "name": "stderr",
     "output_type": "stream",
     "text": [
      "Processing sections:  23%|██▎       | 523/2255 [03:18<21:41,  1.33section/s]"
     ]
    },
    {
     "name": "stdout",
     "output_type": "stream",
     "text": [
      "Processing section: 2209.03692.tex --> Introduction | Number of chunks: 3\n"
     ]
    },
    {
     "name": "stderr",
     "output_type": "stream",
     "text": [
      "Processing sections:  23%|██▎       | 525/2255 [03:19<21:05,  1.37section/s]"
     ]
    },
    {
     "name": "stdout",
     "output_type": "stream",
     "text": [
      "Processing section: 2209.03692.tex --> Bin definitions and observables | Number of chunks: 2\n"
     ]
    },
    {
     "name": "stderr",
     "output_type": "stream",
     "text": [
      "Processing sections:  23%|██▎       | 526/2255 [03:20<23:47,  1.21section/s]"
     ]
    },
    {
     "name": "stdout",
     "output_type": "stream",
     "text": [
      "Processing section: 2303.04062.tex --> Introduction | Number of chunks: 2\n"
     ]
    },
    {
     "name": "stderr",
     "output_type": "stream",
     "text": [
      "Processing sections:  23%|██▎       | 528/2255 [03:22<20:56,  1.37section/s]"
     ]
    },
    {
     "name": "stdout",
     "output_type": "stream",
     "text": [
      "Processing section: 2303.04062.tex --> LHCb detector | Number of chunks: 1\n"
     ]
    },
    {
     "name": "stderr",
     "output_type": "stream",
     "text": [
      "Processing sections:  23%|██▎       | 529/2255 [03:22<21:07,  1.36section/s]"
     ]
    },
    {
     "name": "stdout",
     "output_type": "stream",
     "text": [
      "Processing section: 2303.04062.tex --> Candidate selection and final data samples | Number of chunks: 2\n"
     ]
    },
    {
     "name": "stderr",
     "output_type": "stream",
     "text": [
      "Processing sections:  24%|██▎       | 530/2255 [03:23<23:45,  1.21section/s]"
     ]
    },
    {
     "name": "stdout",
     "output_type": "stream",
     "text": [
      "Processing section: 2303.04062.tex --> Conclusions | Number of chunks: 2\n"
     ]
    },
    {
     "name": "stderr",
     "output_type": "stream",
     "text": [
      "Processing sections:  24%|██▎       | 531/2255 [03:25<25:34,  1.12section/s]"
     ]
    },
    {
     "name": "stdout",
     "output_type": "stream",
     "text": [
      "Processing section: 2305.15580.tex --> Introduction | Number of chunks: 1\n"
     ]
    },
    {
     "name": "stderr",
     "output_type": "stream",
     "text": [
      "Processing sections:  24%|██▎       | 533/2255 [03:25<18:54,  1.52section/s]"
     ]
    },
    {
     "name": "stdout",
     "output_type": "stream",
     "text": [
      "Processing section: 2305.15580.tex --> Summary | Number of chunks: 2\n"
     ]
    },
    {
     "name": "stderr",
     "output_type": "stream",
     "text": [
      "Processing sections:  24%|██▎       | 534/2255 [03:26<20:27,  1.40section/s]"
     ]
    },
    {
     "name": "stdout",
     "output_type": "stream",
     "text": [
      "Processing section: 1705.07332.tex --> Introduction | Number of chunks: 1\n"
     ]
    },
    {
     "name": "stderr",
     "output_type": "stream",
     "text": [
      "Processing sections:  24%|██▍       | 536/2255 [03:27<15:01,  1.91section/s]"
     ]
    },
    {
     "name": "stdout",
     "output_type": "stream",
     "text": [
      "Processing section: 1705.07332.tex --> Detector and event simulation | Number of chunks: 1\n"
     ]
    },
    {
     "name": "stderr",
     "output_type": "stream",
     "text": [
      "Processing sections:  24%|██▍       | 537/2255 [03:27<15:33,  1.84section/s]"
     ]
    },
    {
     "name": "stdout",
     "output_type": "stream",
     "text": [
      "Processing section: 1705.07332.tex --> Event selection | Number of chunks: 4\n"
     ]
    },
    {
     "name": "stderr",
     "output_type": "stream",
     "text": [
      "Processing sections:  24%|██▍       | 538/2255 [03:29<22:47,  1.26section/s]"
     ]
    },
    {
     "name": "stdout",
     "output_type": "stream",
     "text": [
      "Processing section: 1705.07332.tex --> Systematic uncertainties | Number of chunks: 6\n"
     ]
    },
    {
     "name": "stderr",
     "output_type": "stream",
     "text": [
      "Processing sections:  24%|██▍       | 539/2255 [03:31<34:41,  1.21s/section]"
     ]
    },
    {
     "name": "stdout",
     "output_type": "stream",
     "text": [
      "Processing section: 1705.07332.tex --> Results | Number of chunks: 2\n"
     ]
    },
    {
     "name": "stderr",
     "output_type": "stream",
     "text": [
      "Processing sections:  24%|██▍       | 540/2255 [03:33<35:35,  1.25s/section]"
     ]
    },
    {
     "name": "stdout",
     "output_type": "stream",
     "text": [
      "Processing section: 2206.02038.tex --> Introduction | Number of chunks: 2\n"
     ]
    },
    {
     "name": "stderr",
     "output_type": "stream",
     "text": [
      "Processing sections:  24%|██▍       | 542/2255 [03:34<28:31,  1.00section/s]"
     ]
    },
    {
     "name": "stdout",
     "output_type": "stream",
     "text": [
      "Processing section: 2206.02038.tex --> LHCb detector and dataset | Number of chunks: 1\n"
     ]
    },
    {
     "name": "stderr",
     "output_type": "stream",
     "text": [
      "Processing sections:  24%|██▍       | 543/2255 [03:35<26:12,  1.09section/s]"
     ]
    },
    {
     "name": "stdout",
     "output_type": "stream",
     "text": [
      "Processing section: 2206.02038.tex --> Selection of signal candidates | Number of chunks: 1\n"
     ]
    },
    {
     "name": "stderr",
     "output_type": "stream",
     "text": [
      "Processing sections:  24%|██▍       | 544/2255 [03:35<25:09,  1.13section/s]"
     ]
    },
    {
     "name": "stdout",
     "output_type": "stream",
     "text": [
      "Processing section: 2206.02038.tex --> Summary and conclusion | Number of chunks: 2\n"
     ]
    },
    {
     "name": "stderr",
     "output_type": "stream",
     "text": [
      "Processing sections:  24%|██▍       | 545/2255 [03:37<27:09,  1.05section/s]"
     ]
    },
    {
     "name": "stdout",
     "output_type": "stream",
     "text": [
      "Processing section: 1612.06116.tex --> Results and conclusion | Number of chunks: 2\n"
     ]
    },
    {
     "name": "stderr",
     "output_type": "stream",
     "text": [
      "Processing sections:  24%|██▍       | 547/2255 [03:38<23:10,  1.23section/s]"
     ]
    },
    {
     "name": "stdout",
     "output_type": "stream",
     "text": [
      "Processing section: 1205.0897.tex --> Conclusions | Number of chunks: 4\n"
     ]
    },
    {
     "name": "stderr",
     "output_type": "stream",
     "text": [
      "Processing sections:  24%|██▍       | 549/2255 [03:39<22:56,  1.24section/s]"
     ]
    },
    {
     "name": "stdout",
     "output_type": "stream",
     "text": [
      "Processing section: 1908.03099.tex --> Introduction | Number of chunks: 2\n"
     ]
    },
    {
     "name": "stderr",
     "output_type": "stream",
     "text": [
      "Processing sections:  24%|██▍       | 551/2255 [03:40<20:26,  1.39section/s]"
     ]
    },
    {
     "name": "stdout",
     "output_type": "stream",
     "text": [
      "Processing section: 1908.03099.tex --> \\boldmath Selection of \\psitwos candidates | Number of chunks: 1\n"
     ]
    },
    {
     "name": "stderr",
     "output_type": "stream",
     "text": [
      "Processing sections:  24%|██▍       | 552/2255 [03:41<20:14,  1.40section/s]"
     ]
    },
    {
     "name": "stdout",
     "output_type": "stream",
     "text": [
      "Processing section: 1908.03099.tex --> Cross-section determination | Number of chunks: 3\n"
     ]
    },
    {
     "name": "stderr",
     "output_type": "stream",
     "text": [
      "Processing sections:  25%|██▍       | 553/2255 [03:42<24:00,  1.18section/s]"
     ]
    },
    {
     "name": "stdout",
     "output_type": "stream",
     "text": [
      "Processing section: 1908.03099.tex --> Cross-section determination --> \\boldmath Measurement of the inclusive $\\bquark\\to\\psitwos X$ branching fraction | Number of chunks: 2\n"
     ]
    },
    {
     "name": "stderr",
     "output_type": "stream",
     "text": [
      "Processing sections:  25%|██▍       | 555/2255 [03:43<19:52,  1.43section/s]"
     ]
    },
    {
     "name": "stdout",
     "output_type": "stream",
     "text": [
      "Processing section: 1908.03099.tex --> Conclusions | Number of chunks: 2\n"
     ]
    },
    {
     "name": "stderr",
     "output_type": "stream",
     "text": [
      "Processing sections:  25%|██▍       | 556/2255 [03:44<21:17,  1.33section/s]"
     ]
    },
    {
     "name": "stdout",
     "output_type": "stream",
     "text": [
      "Processing section: 1402.2554.tex --> Introduction | Number of chunks: 4\n"
     ]
    },
    {
     "name": "stderr",
     "output_type": "stream",
     "text": [
      "Processing sections:  25%|██▍       | 558/2255 [03:46<21:33,  1.31section/s]"
     ]
    },
    {
     "name": "stdout",
     "output_type": "stream",
     "text": [
      "Processing section: 2305.01463.tex --> INTRODUCTION | Number of chunks: 2\n"
     ]
    },
    {
     "name": "stderr",
     "output_type": "stream",
     "text": [
      "Processing sections:  25%|██▍       | 560/2255 [03:47<19:18,  1.46section/s]"
     ]
    },
    {
     "name": "stdout",
     "output_type": "stream",
     "text": [
      "Processing section: 2305.01463.tex --> DETECTOR AND SIMULATION | Number of chunks: 1\n"
     ]
    },
    {
     "name": "stderr",
     "output_type": "stream",
     "text": [
      "Processing sections:  25%|██▍       | 561/2255 [03:48<18:29,  1.53section/s]"
     ]
    },
    {
     "name": "stdout",
     "output_type": "stream",
     "text": [
      "Processing section: 2305.01463.tex --> EVENT SELECTION | Number of chunks: 4\n"
     ]
    },
    {
     "name": "stderr",
     "output_type": "stream",
     "text": [
      "Processing sections:  25%|██▍       | 562/2255 [03:49<24:27,  1.15section/s]"
     ]
    },
    {
     "name": "stdout",
     "output_type": "stream",
     "text": [
      "Processing section: 2305.01463.tex --> EVENT SELECTION --> Common selection criteria | Number of chunks: 2\n"
     ]
    },
    {
     "name": "stderr",
     "output_type": "stream",
     "text": [
      "Processing sections:  25%|██▍       | 563/2255 [03:50<26:42,  1.06section/s]"
     ]
    },
    {
     "name": "stdout",
     "output_type": "stream",
     "text": [
      "Processing section: 2305.01463.tex --> EVENT SELECTION --> Selection of signal mode \\sig | Number of chunks: 1\n"
     ]
    },
    {
     "name": "stderr",
     "output_type": "stream",
     "text": [
      "Processing sections:  25%|██▌       | 564/2255 [03:51<24:13,  1.16section/s]"
     ]
    },
    {
     "name": "stdout",
     "output_type": "stream",
     "text": [
      "Processing section: 2305.01463.tex --> STUDY OF DOUBLE-CHARM BACKGROUND | Number of chunks: 2\n"
     ]
    },
    {
     "name": "stderr",
     "output_type": "stream",
     "text": [
      "Processing sections:  25%|██▌       | 565/2255 [03:52<26:14,  1.07section/s]"
     ]
    },
    {
     "name": "stdout",
     "output_type": "stream",
     "text": [
      "Processing section: 2305.01463.tex --> STUDY OF DOUBLE-CHARM BACKGROUND --> \\texorpdfstring{$\\boldsymbol{\\Ds \\to 3\\pi X}$}{ Ds+->3piX} decay model | Number of chunks: 1\n"
     ]
    },
    {
     "name": "stderr",
     "output_type": "stream",
     "text": [
      "Processing sections:  25%|██▌       | 566/2255 [03:53<23:18,  1.21section/s]"
     ]
    },
    {
     "name": "stdout",
     "output_type": "stream",
     "text": [
      "Processing section: 2305.01463.tex --> SYSTEMATIC UNCERTAINTIES | Number of chunks: 2\n"
     ]
    },
    {
     "name": "stderr",
     "output_type": "stream",
     "text": [
      "Processing sections:  25%|██▌       | 567/2255 [03:55<26:22,  1.07section/s]"
     ]
    },
    {
     "name": "stdout",
     "output_type": "stream",
     "text": [
      "Processing section: 2305.01463.tex --> CONCLUSION | Number of chunks: 40\n"
     ]
    },
    {
     "name": "stderr",
     "output_type": "stream",
     "text": [
      "Processing sections:  25%|██▌       | 568/2255 [04:10<2:31:48,  5.40s/section]"
     ]
    },
    {
     "name": "stdout",
     "output_type": "stream",
     "text": [
      "Processing section: 1706.07013.tex --> Introduction | Number of chunks: 3\n"
     ]
    },
    {
     "name": "stderr",
     "output_type": "stream",
     "text": [
      "Processing sections:  25%|██▌       | 570/2255 [04:12<1:32:23,  3.29s/section]"
     ]
    },
    {
     "name": "stdout",
     "output_type": "stream",
     "text": [
      "Processing section: 1706.07013.tex --> \\lhcb detector and data sample | Number of chunks: 2\n"
     ]
    },
    {
     "name": "stderr",
     "output_type": "stream",
     "text": [
      "Processing sections:  25%|██▌       | 571/2255 [04:13<1:16:10,  2.71s/section]"
     ]
    },
    {
     "name": "stdout",
     "output_type": "stream",
     "text": [
      "Processing section: 1706.07013.tex --> Summary and discussion | Number of chunks: 5\n"
     ]
    },
    {
     "name": "stderr",
     "output_type": "stream",
     "text": [
      "Processing sections:  25%|██▌       | 572/2255 [04:15<1:10:46,  2.52s/section]"
     ]
    },
    {
     "name": "stdout",
     "output_type": "stream",
     "text": [
      "Processing section: 1701.05501.tex --> Measurement of \\boldmath{\\AcpJpsiK} | Number of chunks: 1\n"
     ]
    },
    {
     "name": "stderr",
     "output_type": "stream",
     "text": [
      "Processing sections:  25%|██▌       | 574/2255 [04:15<43:54,  1.57s/section]  "
     ]
    },
    {
     "name": "stdout",
     "output_type": "stream",
     "text": [
      "Processing section: 1701.05501.tex --> Summary and conclusions | Number of chunks: 2\n"
     ]
    },
    {
     "name": "stderr",
     "output_type": "stream",
     "text": [
      "Processing sections:  25%|██▌       | 575/2255 [04:16<40:07,  1.43s/section]"
     ]
    },
    {
     "name": "stdout",
     "output_type": "stream",
     "text": [
      "Processing section: 2104.15074.tex --> Introduction | Number of chunks: 2\n"
     ]
    },
    {
     "name": "stderr",
     "output_type": "stream",
     "text": [
      "Processing sections:  26%|██▌       | 577/2255 [04:17<31:28,  1.13s/section]"
     ]
    },
    {
     "name": "stdout",
     "output_type": "stream",
     "text": [
      "Processing section: 2104.15074.tex --> Detector, trigger and simulation | Number of chunks: 2\n"
     ]
    },
    {
     "name": "stderr",
     "output_type": "stream",
     "text": [
      "Processing sections:  26%|██▌       | 578/2255 [04:18<30:11,  1.08s/section]"
     ]
    },
    {
     "name": "stdout",
     "output_type": "stream",
     "text": [
      "Processing section: 2104.15074.tex --> Offline selection | Number of chunks: 3\n"
     ]
    },
    {
     "name": "stderr",
     "output_type": "stream",
     "text": [
      "Processing sections:  26%|██▌       | 579/2255 [04:20<32:22,  1.16s/section]"
     ]
    },
    {
     "name": "stdout",
     "output_type": "stream",
     "text": [
      "Processing section: 2104.15074.tex --> $\\boldsymbol{\\xb}$ candidate mass fit | Number of chunks: 2\n"
     ]
    },
    {
     "name": "stderr",
     "output_type": "stream",
     "text": [
      "Processing sections:  26%|██▌       | 580/2255 [04:21<31:20,  1.12s/section]"
     ]
    },
    {
     "name": "stdout",
     "output_type": "stream",
     "text": [
      "Processing section: 1202.4812.tex --> Introduction | Number of chunks: 2\n"
     ]
    },
    {
     "name": "stderr",
     "output_type": "stream",
     "text": [
      "Processing sections:  26%|██▌       | 582/2255 [04:22<24:06,  1.16section/s]"
     ]
    },
    {
     "name": "stdout",
     "output_type": "stream",
     "text": [
      "Processing section: 1202.4812.tex --> Cross-section determination | Number of chunks: 2\n"
     ]
    },
    {
     "name": "stderr",
     "output_type": "stream",
     "text": [
      "Processing sections:  26%|██▌       | 583/2255 [04:23<25:57,  1.07section/s]"
     ]
    },
    {
     "name": "stdout",
     "output_type": "stream",
     "text": [
      "Processing section: 1509.07645.tex --> Introduction | Number of chunks: 2\n"
     ]
    },
    {
     "name": "stderr",
     "output_type": "stream",
     "text": [
      "Processing sections:  26%|██▌       | 585/2255 [04:24<22:35,  1.23section/s]"
     ]
    },
    {
     "name": "stdout",
     "output_type": "stream",
     "text": [
      "Processing section: 1509.07645.tex --> Detector and datasets | Number of chunks: 1\n"
     ]
    },
    {
     "name": "stderr",
     "output_type": "stream",
     "text": [
      "Processing sections:  26%|██▌       | 586/2255 [04:25<20:51,  1.33section/s]"
     ]
    },
    {
     "name": "stdout",
     "output_type": "stream",
     "text": [
      "Processing section: 1509.07645.tex --> Conclusions | Number of chunks: 2\n"
     ]
    },
    {
     "name": "stderr",
     "output_type": "stream",
     "text": [
      "Processing sections:  26%|██▌       | 587/2255 [04:26<23:39,  1.17section/s]"
     ]
    },
    {
     "name": "stdout",
     "output_type": "stream",
     "text": [
      "Processing section: 1107.0882.tex --> The LHCb detector and data samples | Number of chunks: 2\n"
     ]
    },
    {
     "name": "stderr",
     "output_type": "stream",
     "text": [
      "Processing sections:  26%|██▌       | 589/2255 [04:27<19:03,  1.46section/s]"
     ]
    },
    {
     "name": "stdout",
     "output_type": "stream",
     "text": [
      "Processing section: 1107.0882.tex --> Analysis procedure | Number of chunks: 2\n"
     ]
    },
    {
     "name": "stderr",
     "output_type": "stream",
     "text": [
      "Processing sections:  26%|██▌       | 590/2255 [04:28<21:18,  1.30section/s]"
     ]
    },
    {
     "name": "stdout",
     "output_type": "stream",
     "text": [
      "Processing section: 1107.0882.tex --> Acknowledgements | Number of chunks: 2\n"
     ]
    },
    {
     "name": "stderr",
     "output_type": "stream",
     "text": [
      "Processing sections:  26%|██▌       | 591/2255 [04:29<23:08,  1.20section/s]"
     ]
    },
    {
     "name": "stdout",
     "output_type": "stream",
     "text": [
      "Processing section: 2009.00026.tex --> Introduction | Number of chunks: 2\n"
     ]
    },
    {
     "name": "stderr",
     "output_type": "stream",
     "text": [
      "Processing sections:  26%|██▋       | 593/2255 [04:30<19:25,  1.43section/s]"
     ]
    },
    {
     "name": "stdout",
     "output_type": "stream",
     "text": [
      "Processing section: 2009.00026.tex --> Detector and simulation | Number of chunks: 2\n"
     ]
    },
    {
     "name": "stderr",
     "output_type": "stream",
     "text": [
      "Processing sections:  26%|██▋       | 594/2255 [04:31<21:55,  1.26section/s]"
     ]
    },
    {
     "name": "stdout",
     "output_type": "stream",
     "text": [
      "Processing section: 2009.00026.tex --> Selection | Number of chunks: 2\n"
     ]
    },
    {
     "name": "stderr",
     "output_type": "stream",
     "text": [
      "Processing sections:  26%|██▋       | 595/2255 [04:32<24:39,  1.12section/s]"
     ]
    },
    {
     "name": "stdout",
     "output_type": "stream",
     "text": [
      "Processing section: 2303.09443.tex --> Introduction | Number of chunks: 2\n"
     ]
    },
    {
     "name": "stderr",
     "output_type": "stream",
     "text": [
      "Processing sections:  26%|██▋       | 597/2255 [04:33<19:00,  1.45section/s]"
     ]
    },
    {
     "name": "stdout",
     "output_type": "stream",
     "text": [
      "Processing section: 2303.09443.tex --> Detector and simulation | Number of chunks: 2\n"
     ]
    },
    {
     "name": "stderr",
     "output_type": "stream",
     "text": [
      "Processing sections:  27%|██▋       | 598/2255 [04:34<21:47,  1.27section/s]"
     ]
    },
    {
     "name": "stdout",
     "output_type": "stream",
     "text": [
      "Processing section: 2303.09443.tex --> Event selection | Number of chunks: 3\n"
     ]
    },
    {
     "name": "stderr",
     "output_type": "stream",
     "text": [
      "Processing sections:  27%|██▋       | 599/2255 [04:36<26:21,  1.05section/s]"
     ]
    },
    {
     "name": "stdout",
     "output_type": "stream",
     "text": [
      "Processing section: 2303.09443.tex --> Systematic uncertainties | Number of chunks: 3\n"
     ]
    },
    {
     "name": "stderr",
     "output_type": "stream",
     "text": [
      "Processing sections:  27%|██▋       | 600/2255 [04:37<29:18,  1.06s/section]"
     ]
    },
    {
     "name": "stdout",
     "output_type": "stream",
     "text": [
      "Processing section: 2303.09443.tex --> Results and summary | Number of chunks: 2\n"
     ]
    },
    {
     "name": "stderr",
     "output_type": "stream",
     "text": [
      "Processing sections:  27%|██▋       | 601/2255 [04:38<29:09,  1.06s/section]"
     ]
    },
    {
     "name": "stdout",
     "output_type": "stream",
     "text": [
      "Processing section: 2404.07131.tex --> Introduction | Number of chunks: 2\n"
     ]
    },
    {
     "name": "stderr",
     "output_type": "stream",
     "text": [
      "Processing sections:  27%|██▋       | 603/2255 [04:39<23:03,  1.19section/s]"
     ]
    },
    {
     "name": "stdout",
     "output_type": "stream",
     "text": [
      "Processing section: 2404.07131.tex --> The \\texorpdfstring{\\lhcb}{LHCb} detector | Number of chunks: 1\n"
     ]
    },
    {
     "name": "stderr",
     "output_type": "stream",
     "text": [
      "Processing sections:  27%|██▋       | 604/2255 [04:40<20:54,  1.32section/s]"
     ]
    },
    {
     "name": "stdout",
     "output_type": "stream",
     "text": [
      "Processing section: 2212.12574.tex --> Introduction | Number of chunks: 2\n"
     ]
    },
    {
     "name": "stderr",
     "output_type": "stream",
     "text": [
      "Processing sections:  27%|██▋       | 606/2255 [04:41<18:49,  1.46section/s]"
     ]
    },
    {
     "name": "stdout",
     "output_type": "stream",
     "text": [
      "Processing section: 1407.2222.tex --> Introduction | Number of chunks: 2\n"
     ]
    },
    {
     "name": "stderr",
     "output_type": "stream",
     "text": [
      "Processing sections:  27%|██▋       | 608/2255 [04:42<18:01,  1.52section/s]"
     ]
    },
    {
     "name": "stdout",
     "output_type": "stream",
     "text": [
      "Processing section: 1407.2222.tex --> Detector description | Number of chunks: 1\n"
     ]
    },
    {
     "name": "stderr",
     "output_type": "stream",
     "text": [
      "Processing sections:  27%|██▋       | 609/2255 [04:43<17:10,  1.60section/s]"
     ]
    },
    {
     "name": "stdout",
     "output_type": "stream",
     "text": [
      "Processing section: 1407.2222.tex --> Selection and mass model | Number of chunks: 3\n"
     ]
    },
    {
     "name": "stderr",
     "output_type": "stream",
     "text": [
      "Processing sections:  27%|██▋       | 610/2255 [04:44<21:58,  1.25section/s]"
     ]
    },
    {
     "name": "stdout",
     "output_type": "stream",
     "text": [
      "Processing section: 2309.14206.tex --> Introduction | Number of chunks: 2\n"
     ]
    },
    {
     "name": "stderr",
     "output_type": "stream",
     "text": [
      "Processing sections:  27%|██▋       | 612/2255 [04:45<19:09,  1.43section/s]"
     ]
    },
    {
     "name": "stdout",
     "output_type": "stream",
     "text": [
      "Processing section: 2309.14206.tex --> Detector and data samples | Number of chunks: 1\n"
     ]
    },
    {
     "name": "stderr",
     "output_type": "stream",
     "text": [
      "Processing sections:  27%|██▋       | 613/2255 [04:46<18:26,  1.48section/s]"
     ]
    },
    {
     "name": "stdout",
     "output_type": "stream",
     "text": [
      "Processing section: 2309.14206.tex --> Cross-section determination | Number of chunks: 2\n"
     ]
    },
    {
     "name": "stderr",
     "output_type": "stream",
     "text": [
      "Processing sections:  27%|██▋       | 614/2255 [04:47<21:34,  1.27section/s]"
     ]
    },
    {
     "name": "stdout",
     "output_type": "stream",
     "text": [
      "Processing section: 2309.14206.tex --> Conclusion | Number of chunks: 2\n"
     ]
    },
    {
     "name": "stderr",
     "output_type": "stream",
     "text": [
      "Processing sections:  27%|██▋       | 615/2255 [04:48<22:17,  1.23section/s]"
     ]
    },
    {
     "name": "stdout",
     "output_type": "stream",
     "text": [
      "Processing section: 2310.19397.tex --> Introduction | Number of chunks: 1\n"
     ]
    },
    {
     "name": "stderr",
     "output_type": "stream",
     "text": [
      "Processing sections:  27%|██▋       | 617/2255 [04:48<16:45,  1.63section/s]"
     ]
    },
    {
     "name": "stdout",
     "output_type": "stream",
     "text": [
      "Processing section: 2310.19397.tex --> Energy test method | Number of chunks: 1\n"
     ]
    },
    {
     "name": "stderr",
     "output_type": "stream",
     "text": [
      "Processing sections:  27%|██▋       | 618/2255 [04:49<16:15,  1.68section/s]"
     ]
    },
    {
     "name": "stdout",
     "output_type": "stream",
     "text": [
      "Processing section: 2310.19397.tex --> LHCb experiment | Number of chunks: 1\n"
     ]
    },
    {
     "name": "stderr",
     "output_type": "stream",
     "text": [
      "Processing sections:  27%|██▋       | 619/2255 [04:49<16:10,  1.69section/s]"
     ]
    },
    {
     "name": "stdout",
     "output_type": "stream",
     "text": [
      "Processing section: 2310.19397.tex --> Signal selection | Number of chunks: 3\n"
     ]
    },
    {
     "name": "stderr",
     "output_type": "stream",
     "text": [
      "Processing sections:  27%|██▋       | 620/2255 [04:51<21:56,  1.24section/s]"
     ]
    },
    {
     "name": "stdout",
     "output_type": "stream",
     "text": [
      "Processing section: 2407.12475.tex --> Introduction | Number of chunks: 2\n"
     ]
    },
    {
     "name": "stderr",
     "output_type": "stream",
     "text": [
      "Processing sections:  28%|██▊       | 622/2255 [04:52<20:00,  1.36section/s]"
     ]
    },
    {
     "name": "stdout",
     "output_type": "stream",
     "text": [
      "Processing section: 2407.12475.tex --> Detector and simulation | Number of chunks: 1\n"
     ]
    },
    {
     "name": "stderr",
     "output_type": "stream",
     "text": [
      "Processing sections:  28%|██▊       | 623/2255 [04:53<18:45,  1.45section/s]"
     ]
    },
    {
     "name": "stdout",
     "output_type": "stream",
     "text": [
      "Processing section: 2407.12475.tex --> Event reconstruction | Number of chunks: 2\n"
     ]
    },
    {
     "name": "stderr",
     "output_type": "stream",
     "text": [
      "Processing sections:  28%|██▊       | 624/2255 [04:54<20:44,  1.31section/s]"
     ]
    },
    {
     "name": "stdout",
     "output_type": "stream",
     "text": [
      "Processing section: 1704.08217.tex --> Introduction | Number of chunks: 2\n"
     ]
    },
    {
     "name": "stderr",
     "output_type": "stream",
     "text": [
      "Processing sections:  28%|██▊       | 626/2255 [04:55<19:36,  1.38section/s]"
     ]
    },
    {
     "name": "stdout",
     "output_type": "stream",
     "text": [
      "Processing section: 1704.08217.tex --> \\boldmath Decay rates for $\\Bs$ and $\\Bsb \\to \\jpsi K^+ K^-$ | Number of chunks: 2\n"
     ]
    },
    {
     "name": "stderr",
     "output_type": "stream",
     "text": [
      "Processing sections:  28%|██▊       | 627/2255 [04:56<22:14,  1.22section/s]"
     ]
    },
    {
     "name": "stdout",
     "output_type": "stream",
     "text": [
      "Processing section: 1803.10974.tex --> Detector and data samples | Number of chunks: 2\n"
     ]
    },
    {
     "name": "stderr",
     "output_type": "stream",
     "text": [
      "Processing sections:  28%|██▊       | 629/2255 [04:57<19:41,  1.38section/s]"
     ]
    },
    {
     "name": "stdout",
     "output_type": "stream",
     "text": [
      "Processing section: 1803.10974.tex --> Analysis method | Number of chunks: 2\n"
     ]
    },
    {
     "name": "stderr",
     "output_type": "stream",
     "text": [
      "Processing sections:  28%|██▊       | 630/2255 [04:59<23:13,  1.17section/s]"
     ]
    },
    {
     "name": "stdout",
     "output_type": "stream",
     "text": [
      "Processing section: 1803.10974.tex --> Measurement of the fiducial cross-section | Number of chunks: 2\n"
     ]
    },
    {
     "name": "stderr",
     "output_type": "stream",
     "text": [
      "Processing sections:  28%|██▊       | 631/2255 [05:00<25:47,  1.05section/s]"
     ]
    },
    {
     "name": "stdout",
     "output_type": "stream",
     "text": [
      "Processing section: 1806.01642.tex --> Introduction | Number of chunks: 2\n"
     ]
    },
    {
     "name": "stderr",
     "output_type": "stream",
     "text": [
      "Processing sections:  28%|██▊       | 633/2255 [05:01<22:05,  1.22section/s]"
     ]
    },
    {
     "name": "stdout",
     "output_type": "stream",
     "text": [
      "Processing section: 1805.03941.tex --> Introduction | Number of chunks: 2\n"
     ]
    },
    {
     "name": "stderr",
     "output_type": "stream",
     "text": [
      "Processing sections:  28%|██▊       | 635/2255 [05:02<20:39,  1.31section/s]"
     ]
    },
    {
     "name": "stdout",
     "output_type": "stream",
     "text": [
      "Processing section: 1805.03941.tex --> Detector and simulation | Number of chunks: 1\n"
     ]
    },
    {
     "name": "stderr",
     "output_type": "stream",
     "text": [
      "Processing sections:  28%|██▊       | 636/2255 [05:03<18:54,  1.43section/s]"
     ]
    },
    {
     "name": "stdout",
     "output_type": "stream",
     "text": [
      "Processing section: 1805.03941.tex --> Candidate selection | Number of chunks: 3\n"
     ]
    },
    {
     "name": "stderr",
     "output_type": "stream",
     "text": [
      "Processing sections:  28%|██▊       | 637/2255 [05:04<23:10,  1.16section/s]"
     ]
    },
    {
     "name": "stdout",
     "output_type": "stream",
     "text": [
      "Processing section: 1805.03941.tex --> Measurement of the $\\boldsymbol \\CP$-violating asymmetries | Number of chunks: 2\n"
     ]
    },
    {
     "name": "stderr",
     "output_type": "stream",
     "text": [
      "Processing sections:  28%|██▊       | 638/2255 [05:06<25:41,  1.05section/s]"
     ]
    },
    {
     "name": "stdout",
     "output_type": "stream",
     "text": [
      "Processing section: 1204.5643.tex --> Introduction | Number of chunks: 1\n"
     ]
    },
    {
     "name": "stderr",
     "output_type": "stream",
     "text": [
      "Processing sections:  28%|██▊       | 640/2255 [05:06<18:24,  1.46section/s]"
     ]
    },
    {
     "name": "stdout",
     "output_type": "stream",
     "text": [
      "Processing section: 1204.5643.tex --> Conclusions | Number of chunks: 2\n"
     ]
    },
    {
     "name": "stderr",
     "output_type": "stream",
     "text": [
      "Processing sections:  28%|██▊       | 641/2255 [05:08<23:02,  1.17section/s]"
     ]
    },
    {
     "name": "stdout",
     "output_type": "stream",
     "text": [
      "Processing section: 1505.04051.tex --> Introduction | Number of chunks: 2\n"
     ]
    },
    {
     "name": "stderr",
     "output_type": "stream",
     "text": [
      "Processing sections:  29%|██▊       | 643/2255 [05:09<21:09,  1.27section/s]"
     ]
    },
    {
     "name": "stdout",
     "output_type": "stream",
     "text": [
      "Processing section: 1505.04051.tex --> The LHCb detector and data set | Number of chunks: 1\n"
     ]
    },
    {
     "name": "stderr",
     "output_type": "stream",
     "text": [
      "Processing sections:  29%|██▊       | 644/2255 [05:10<20:28,  1.31section/s]"
     ]
    },
    {
     "name": "stdout",
     "output_type": "stream",
     "text": [
      "Processing section: 1505.04051.tex --> Event selection | Number of chunks: 2\n"
     ]
    },
    {
     "name": "stderr",
     "output_type": "stream",
     "text": [
      "Processing sections:  29%|██▊       | 645/2255 [05:11<23:11,  1.16section/s]"
     ]
    },
    {
     "name": "stdout",
     "output_type": "stream",
     "text": [
      "Processing section: 1505.04051.tex --> Background determination | Number of chunks: 2\n"
     ]
    },
    {
     "name": "stderr",
     "output_type": "stream",
     "text": [
      "Processing sections:  29%|██▊       | 646/2255 [05:12<26:19,  1.02section/s]"
     ]
    },
    {
     "name": "stdout",
     "output_type": "stream",
     "text": [
      "Processing section: 1505.04051.tex --> Results | Number of chunks: 2\n"
     ]
    },
    {
     "name": "stderr",
     "output_type": "stream",
     "text": [
      "Processing sections:  29%|██▊       | 647/2255 [05:14<28:55,  1.08s/section]"
     ]
    },
    {
     "name": "stdout",
     "output_type": "stream",
     "text": [
      "Processing section: 1612.06764.tex --> Introduction | Number of chunks: 2\n"
     ]
    },
    {
     "name": "stderr",
     "output_type": "stream",
     "text": [
      "Processing sections:  29%|██▉       | 649/2255 [05:15<22:56,  1.17section/s]"
     ]
    },
    {
     "name": "stdout",
     "output_type": "stream",
     "text": [
      "Processing section: 1612.06764.tex --> Detector and simulation | Number of chunks: 1\n"
     ]
    },
    {
     "name": "stderr",
     "output_type": "stream",
     "text": [
      "Processing sections:  29%|██▉       | 650/2255 [05:15<21:21,  1.25section/s]"
     ]
    },
    {
     "name": "stdout",
     "output_type": "stream",
     "text": [
      "Processing section: 1612.06764.tex --> Selection of signal candidates | Number of chunks: 2\n"
     ]
    },
    {
     "name": "stderr",
     "output_type": "stream",
     "text": [
      "Processing sections:  29%|██▉       | 651/2255 [05:16<23:54,  1.12section/s]"
     ]
    },
    {
     "name": "stdout",
     "output_type": "stream",
     "text": [
      "Processing section: 1612.06764.tex --> Systematic uncertainties | Number of chunks: 1\n"
     ]
    },
    {
     "name": "stderr",
     "output_type": "stream",
     "text": [
      "Processing sections:  29%|██▉       | 652/2255 [05:17<21:40,  1.23section/s]"
     ]
    },
    {
     "name": "stdout",
     "output_type": "stream",
     "text": [
      "Processing section: 1612.06764.tex --> Conclusions | Number of chunks: 2\n"
     ]
    },
    {
     "name": "stderr",
     "output_type": "stream",
     "text": [
      "Processing sections:  29%|██▉       | 653/2255 [05:18<25:24,  1.05section/s]"
     ]
    },
    {
     "name": "stdout",
     "output_type": "stream",
     "text": [
      "Processing section: 2010.15931.tex --> Introduction | Number of chunks: 1\n"
     ]
    },
    {
     "name": "stderr",
     "output_type": "stream",
     "text": [
      "Processing sections:  29%|██▉       | 655/2255 [05:19<17:46,  1.50section/s]"
     ]
    },
    {
     "name": "stdout",
     "output_type": "stream",
     "text": [
      "Processing section: 2010.15931.tex --> Detector and selection | Number of chunks: 2\n"
     ]
    },
    {
     "name": "stderr",
     "output_type": "stream",
     "text": [
      "Processing sections:  29%|██▉       | 656/2255 [05:20<20:40,  1.29section/s]"
     ]
    },
    {
     "name": "stdout",
     "output_type": "stream",
     "text": [
      "Processing section: 2010.15931.tex --> Fit description and results | Number of chunks: 2\n"
     ]
    },
    {
     "name": "stderr",
     "output_type": "stream",
     "text": [
      "Processing sections:  29%|██▉       | 657/2255 [05:21<24:23,  1.09section/s]"
     ]
    },
    {
     "name": "stdout",
     "output_type": "stream",
     "text": [
      "Processing section: 2010.15931.tex --> Conclusions | Number of chunks: 1\n"
     ]
    },
    {
     "name": "stderr",
     "output_type": "stream",
     "text": [
      "Processing sections:  29%|██▉       | 658/2255 [05:22<21:57,  1.21section/s]"
     ]
    },
    {
     "name": "stdout",
     "output_type": "stream",
     "text": [
      "Processing section: 1301.7084.tex --> Introduction | Number of chunks: 2\n"
     ]
    },
    {
     "name": "stderr",
     "output_type": "stream",
     "text": [
      "Processing sections:  29%|██▉       | 660/2255 [05:23<18:59,  1.40section/s]"
     ]
    },
    {
     "name": "stdout",
     "output_type": "stream",
     "text": [
      "Processing section: 1301.7084.tex --> Detector and data samples | Number of chunks: 1\n"
     ]
    },
    {
     "name": "stderr",
     "output_type": "stream",
     "text": [
      "Processing sections:  29%|██▉       | 661/2255 [05:24<18:36,  1.43section/s]"
     ]
    },
    {
     "name": "stdout",
     "output_type": "stream",
     "text": [
      "Processing section: 1301.7084.tex --> Event selection | Number of chunks: 2\n"
     ]
    },
    {
     "name": "stderr",
     "output_type": "stream",
     "text": [
      "Processing sections:  29%|██▉       | 662/2255 [05:25<22:11,  1.20section/s]"
     ]
    },
    {
     "name": "stdout",
     "output_type": "stream",
     "text": [
      "Processing section: 2109.07360.tex --> Introduction | Number of chunks: 2\n"
     ]
    },
    {
     "name": "stderr",
     "output_type": "stream",
     "text": [
      "Processing sections:  29%|██▉       | 664/2255 [05:26<19:34,  1.36section/s]"
     ]
    },
    {
     "name": "stdout",
     "output_type": "stream",
     "text": [
      "Processing section: 2109.07360.tex --> Event selection | Number of chunks: 1\n"
     ]
    },
    {
     "name": "stderr",
     "output_type": "stream",
     "text": [
      "Processing sections:  29%|██▉       | 665/2255 [05:27<18:22,  1.44section/s]"
     ]
    },
    {
     "name": "stdout",
     "output_type": "stream",
     "text": [
      "Processing section: 2109.07360.tex --> Cross-section determination | Number of chunks: 3\n"
     ]
    },
    {
     "name": "stderr",
     "output_type": "stream",
     "text": [
      "Processing sections:  30%|██▉       | 666/2255 [05:28<23:23,  1.13section/s]"
     ]
    },
    {
     "name": "stdout",
     "output_type": "stream",
     "text": [
      "Processing section: 1709.01769.tex --> BEC measurement | Number of chunks: 3\n"
     ]
    },
    {
     "name": "stderr",
     "output_type": "stream",
     "text": [
      "Processing sections:  30%|██▉       | 668/2255 [05:30<21:24,  1.24section/s]"
     ]
    },
    {
     "name": "stdout",
     "output_type": "stream",
     "text": [
      "Processing section: 1709.01769.tex --> Detector and dataset | Number of chunks: 1\n"
     ]
    },
    {
     "name": "stderr",
     "output_type": "stream",
     "text": [
      "Processing sections:  30%|██▉       | 669/2255 [05:30<20:11,  1.31section/s]"
     ]
    },
    {
     "name": "stdout",
     "output_type": "stream",
     "text": [
      "Processing section: 1709.01769.tex --> Selection and model fitting | Number of chunks: 3\n"
     ]
    },
    {
     "name": "stderr",
     "output_type": "stream",
     "text": [
      "Processing sections:  30%|██▉       | 670/2255 [05:32<24:28,  1.08section/s]"
     ]
    },
    {
     "name": "stdout",
     "output_type": "stream",
     "text": [
      "Processing section: 1605.01082.tex --> Introduction | Number of chunks: 4\n"
     ]
    },
    {
     "name": "stderr",
     "output_type": "stream",
     "text": [
      "Processing sections:  30%|██▉       | 672/2255 [05:33<23:14,  1.14section/s]"
     ]
    },
    {
     "name": "stdout",
     "output_type": "stream",
     "text": [
      "Processing section: 1605.01082.tex --> The \\lhcb detector | Number of chunks: 1\n"
     ]
    },
    {
     "name": "stderr",
     "output_type": "stream",
     "text": [
      "Processing sections:  30%|██▉       | 673/2255 [05:34<21:07,  1.25section/s]"
     ]
    },
    {
     "name": "stdout",
     "output_type": "stream",
     "text": [
      "Processing section: 1605.01082.tex --> Candidate selection and background sources | Number of chunks: 2\n"
     ]
    },
    {
     "name": "stderr",
     "output_type": "stream",
     "text": [
      "Processing sections:  30%|██▉       | 674/2255 [05:35<23:36,  1.12section/s]"
     ]
    },
    {
     "name": "stdout",
     "output_type": "stream",
     "text": [
      "Processing section: 1605.01082.tex --> Conclusion | Number of chunks: 2\n"
     ]
    },
    {
     "name": "stderr",
     "output_type": "stream",
     "text": [
      "Processing sections:  30%|██▉       | 675/2255 [05:36<25:20,  1.04section/s]"
     ]
    },
    {
     "name": "stdout",
     "output_type": "stream",
     "text": [
      "Processing section: 1909.02957.tex --> Introduction | Number of chunks: 1\n"
     ]
    },
    {
     "name": "stderr",
     "output_type": "stream",
     "text": [
      "Processing sections:  30%|███       | 677/2255 [05:37<17:23,  1.51section/s]"
     ]
    },
    {
     "name": "stdout",
     "output_type": "stream",
     "text": [
      "Processing section: 1909.02957.tex --> Detector and simulation | Number of chunks: 1\n"
     ]
    },
    {
     "name": "stderr",
     "output_type": "stream",
     "text": [
      "Processing sections:  30%|███       | 678/2255 [05:37<17:54,  1.47section/s]"
     ]
    },
    {
     "name": "stdout",
     "output_type": "stream",
     "text": [
      "Processing section: 1805.09869.tex --> Introduction | Number of chunks: 1\n"
     ]
    },
    {
     "name": "stderr",
     "output_type": "stream",
     "text": [
      "Processing sections:  30%|███       | 680/2255 [05:38<14:00,  1.87section/s]"
     ]
    },
    {
     "name": "stdout",
     "output_type": "stream",
     "text": [
      "Processing section: 1805.09869.tex --> Data selection | Number of chunks: 2\n"
     ]
    },
    {
     "name": "stderr",
     "output_type": "stream",
     "text": [
      "Processing sections:  30%|███       | 681/2255 [05:39<16:33,  1.58section/s]"
     ]
    },
    {
     "name": "stdout",
     "output_type": "stream",
     "text": [
      "Processing section: 1405.2797.tex --> Introduction | Number of chunks: 1\n"
     ]
    },
    {
     "name": "stderr",
     "output_type": "stream",
     "text": [
      "Processing sections:  30%|███       | 683/2255 [05:40<13:30,  1.94section/s]"
     ]
    },
    {
     "name": "stdout",
     "output_type": "stream",
     "text": [
      "Processing section: 1405.2797.tex --> Method and formalism | Number of chunks: 2\n"
     ]
    },
    {
     "name": "stderr",
     "output_type": "stream",
     "text": [
      "Processing sections:  30%|███       | 684/2255 [05:41<17:08,  1.53section/s]"
     ]
    },
    {
     "name": "stdout",
     "output_type": "stream",
     "text": [
      "Processing section: 1405.2797.tex --> Data set and selection | Number of chunks: 2\n"
     ]
    },
    {
     "name": "stderr",
     "output_type": "stream",
     "text": [
      "Processing sections:  30%|███       | 685/2255 [05:42<21:12,  1.23section/s]"
     ]
    },
    {
     "name": "stdout",
     "output_type": "stream",
     "text": [
      "Processing section: 1405.2797.tex --> Determination of the asymmetries | Number of chunks: 1\n"
     ]
    },
    {
     "name": "stderr",
     "output_type": "stream",
     "text": [
      "Processing sections:  30%|███       | 686/2255 [05:43<20:01,  1.31section/s]"
     ]
    },
    {
     "name": "stdout",
     "output_type": "stream",
     "text": [
      "Processing section: 1405.2797.tex --> Conclusion | Number of chunks: 1\n"
     ]
    },
    {
     "name": "stderr",
     "output_type": "stream",
     "text": [
      "Processing sections:  30%|███       | 687/2255 [05:43<18:41,  1.40section/s]"
     ]
    },
    {
     "name": "stdout",
     "output_type": "stream",
     "text": [
      "Processing section: 1402.4430.tex --> Introduction | Number of chunks: 1\n"
     ]
    },
    {
     "name": "stderr",
     "output_type": "stream",
     "text": [
      "Processing sections:  31%|███       | 689/2255 [05:44<14:33,  1.79section/s]"
     ]
    },
    {
     "name": "stdout",
     "output_type": "stream",
     "text": [
      "Processing section: 1402.4430.tex --> LHCb detector and track reconstruction | Number of chunks: 1\n"
     ]
    },
    {
     "name": "stderr",
     "output_type": "stream",
     "text": [
      "Processing sections:  31%|███       | 690/2255 [05:45<14:37,  1.78section/s]"
     ]
    },
    {
     "name": "stdout",
     "output_type": "stream",
     "text": [
      "Processing section: 1402.4430.tex --> Data set and simulation | Number of chunks: 1\n"
     ]
    },
    {
     "name": "stderr",
     "output_type": "stream",
     "text": [
      "Processing sections:  31%|███       | 691/2255 [05:45<13:54,  1.88section/s]"
     ]
    },
    {
     "name": "stdout",
     "output_type": "stream",
     "text": [
      "Processing section: 1402.4430.tex --> Event definition and data selection | Number of chunks: 1\n"
     ]
    },
    {
     "name": "stderr",
     "output_type": "stream",
     "text": [
      "Processing sections:  31%|███       | 692/2255 [05:46<15:17,  1.70section/s]"
     ]
    },
    {
     "name": "stdout",
     "output_type": "stream",
     "text": [
      "Processing section: 1402.4430.tex --> Analysis | Number of chunks: 4\n"
     ]
    },
    {
     "name": "stderr",
     "output_type": "stream",
     "text": [
      "Processing sections:  31%|███       | 693/2255 [05:47<23:01,  1.13section/s]"
     ]
    },
    {
     "name": "stdout",
     "output_type": "stream",
     "text": [
      "Processing section: 1402.4430.tex --> Analysis --> Correction for reconstruction artefacts and non-prompt particles | Number of chunks: 2\n"
     ]
    },
    {
     "name": "stderr",
     "output_type": "stream",
     "text": [
      "Processing sections:  31%|███       | 694/2255 [05:49<24:53,  1.05section/s]"
     ]
    },
    {
     "name": "stdout",
     "output_type": "stream",
     "text": [
      "Processing section: 1402.4430.tex --> Analysis --> Correction for undetected events | Number of chunks: 2\n"
     ]
    },
    {
     "name": "stderr",
     "output_type": "stream",
     "text": [
      "Processing sections:  31%|███       | 695/2255 [05:50<25:46,  1.01section/s]"
     ]
    },
    {
     "name": "stdout",
     "output_type": "stream",
     "text": [
      "Processing section: 1402.4430.tex --> Analysis --> Efficiency correction and unfolding procedure | Number of chunks: 2\n"
     ]
    },
    {
     "name": "stderr",
     "output_type": "stream",
     "text": [
      "Processing sections:  31%|███       | 696/2255 [05:51<26:26,  1.02s/section]"
     ]
    },
    {
     "name": "stdout",
     "output_type": "stream",
     "text": [
      "Processing section: 1402.4430.tex --> Systematic uncertainties | Number of chunks: 2\n"
     ]
    },
    {
     "name": "stderr",
     "output_type": "stream",
     "text": [
      "Processing sections:  31%|███       | 697/2255 [05:52<25:11,  1.03section/s]"
     ]
    },
    {
     "name": "stdout",
     "output_type": "stream",
     "text": [
      "Processing section: 1707.02750.tex --> Introduction | Number of chunks: 2\n"
     ]
    },
    {
     "name": "stderr",
     "output_type": "stream",
     "text": [
      "Processing sections:  31%|███       | 699/2255 [05:53<19:51,  1.31section/s]"
     ]
    },
    {
     "name": "stdout",
     "output_type": "stream",
     "text": [
      "Processing section: 1707.02750.tex --> Detector and data samples | Number of chunks: 1\n"
     ]
    },
    {
     "name": "stderr",
     "output_type": "stream",
     "text": [
      "Processing sections:  31%|███       | 700/2255 [05:53<18:30,  1.40section/s]"
     ]
    },
    {
     "name": "stdout",
     "output_type": "stream",
     "text": [
      "Processing section: 1707.02750.tex --> Cross-section determination | Number of chunks: 2\n"
     ]
    },
    {
     "name": "stderr",
     "output_type": "stream",
     "text": [
      "Processing sections:  31%|███       | 701/2255 [05:54<21:32,  1.20section/s]"
     ]
    },
    {
     "name": "stdout",
     "output_type": "stream",
     "text": [
      "Processing section: 1707.02750.tex --> Conclusion | Number of chunks: 1\n"
     ]
    },
    {
     "name": "stderr",
     "output_type": "stream",
     "text": [
      "Processing sections:  31%|███       | 702/2255 [05:55<18:32,  1.40section/s]"
     ]
    },
    {
     "name": "stdout",
     "output_type": "stream",
     "text": [
      "Processing section: 1403.8045.tex --> Introduction | Number of chunks: 2\n"
     ]
    },
    {
     "name": "stderr",
     "output_type": "stream",
     "text": [
      "Processing sections:  31%|███       | 704/2255 [05:56<17:37,  1.47section/s]"
     ]
    },
    {
     "name": "stdout",
     "output_type": "stream",
     "text": [
      "Processing section: 1403.8045.tex --> Selection of signal candidates | Number of chunks: 4\n"
     ]
    },
    {
     "name": "stderr",
     "output_type": "stream",
     "text": [
      "Processing sections:  31%|███▏      | 705/2255 [05:58<23:03,  1.12section/s]"
     ]
    },
    {
     "name": "stdout",
     "output_type": "stream",
     "text": [
      "Processing section: 2206.08221.tex --> Introduction | Number of chunks: 3\n"
     ]
    },
    {
     "name": "stderr",
     "output_type": "stream",
     "text": [
      "Processing sections:  31%|███▏      | 707/2255 [05:59<21:16,  1.21section/s]"
     ]
    },
    {
     "name": "stdout",
     "output_type": "stream",
     "text": [
      "Processing section: 2206.08221.tex --> Conclusion | Number of chunks: 1\n"
     ]
    },
    {
     "name": "stderr",
     "output_type": "stream",
     "text": [
      "Processing sections:  31%|███▏      | 708/2255 [06:00<20:04,  1.28section/s]"
     ]
    },
    {
     "name": "stdout",
     "output_type": "stream",
     "text": [
      "Processing section: 1304.6865.tex --> Introduction | Number of chunks: 2\n"
     ]
    },
    {
     "name": "stderr",
     "output_type": "stream",
     "text": [
      "Processing sections:  31%|███▏      | 710/2255 [06:01<17:37,  1.46section/s]"
     ]
    },
    {
     "name": "stdout",
     "output_type": "stream",
     "text": [
      "Processing section: 1304.6865.tex --> Detector and dataset | Number of chunks: 2\n"
     ]
    },
    {
     "name": "stderr",
     "output_type": "stream",
     "text": [
      "Processing sections:  32%|███▏      | 711/2255 [06:02<21:08,  1.22section/s]"
     ]
    },
    {
     "name": "stdout",
     "output_type": "stream",
     "text": [
      "Processing section: 1304.6865.tex --> Selection | Number of chunks: 2\n"
     ]
    },
    {
     "name": "stderr",
     "output_type": "stream",
     "text": [
      "Processing sections:  32%|███▏      | 712/2255 [06:03<21:34,  1.19section/s]"
     ]
    },
    {
     "name": "stdout",
     "output_type": "stream",
     "text": [
      "Processing section: 1304.6865.tex --> Fit Results | Number of chunks: 2\n"
     ]
    },
    {
     "name": "stderr",
     "output_type": "stream",
     "text": [
      "Processing sections:  32%|███▏      | 713/2255 [06:04<24:36,  1.04section/s]"
     ]
    },
    {
     "name": "stdout",
     "output_type": "stream",
     "text": [
      "Processing section: 1304.6865.tex --> Summary | Number of chunks: 2\n"
     ]
    },
    {
     "name": "stderr",
     "output_type": "stream",
     "text": [
      "Processing sections:  32%|███▏      | 714/2255 [06:05<24:58,  1.03section/s]"
     ]
    },
    {
     "name": "stdout",
     "output_type": "stream",
     "text": [
      "Processing section: 1907.00954.tex --> Detector and simulation | Number of chunks: 1\n"
     ]
    },
    {
     "name": "stderr",
     "output_type": "stream",
     "text": [
      "Processing sections:  32%|███▏      | 716/2255 [06:06<17:35,  1.46section/s]"
     ]
    },
    {
     "name": "stdout",
     "output_type": "stream",
     "text": [
      "Processing section: 1907.00954.tex --> Event selection | Number of chunks: 2\n"
     ]
    },
    {
     "name": "stderr",
     "output_type": "stream",
     "text": [
      "Processing sections:  32%|███▏      | 717/2255 [06:07<21:48,  1.18section/s]"
     ]
    },
    {
     "name": "stdout",
     "output_type": "stream",
     "text": [
      "Processing section: 1907.00954.tex --> Signal yields and efficiencies | Number of chunks: 3\n"
     ]
    },
    {
     "name": "stderr",
     "output_type": "stream",
     "text": [
      "Processing sections:  32%|███▏      | 718/2255 [06:09<25:24,  1.01section/s]"
     ]
    },
    {
     "name": "stdout",
     "output_type": "stream",
     "text": [
      "Processing section: 1907.00954.tex --> Systematic uncertainties | Number of chunks: 2\n"
     ]
    },
    {
     "name": "stderr",
     "output_type": "stream",
     "text": [
      "Processing sections:  32%|███▏      | 719/2255 [06:10<25:22,  1.01section/s]"
     ]
    },
    {
     "name": "stdout",
     "output_type": "stream",
     "text": [
      "Processing section: 1907.00954.tex --> Results and summary | Number of chunks: 2\n"
     ]
    },
    {
     "name": "stderr",
     "output_type": "stream",
     "text": [
      "Processing sections:  32%|███▏      | 720/2255 [06:11<25:13,  1.01section/s]"
     ]
    },
    {
     "name": "stdout",
     "output_type": "stream",
     "text": [
      "Processing section: 2107.03223.tex --> Conclusions | Number of chunks: 1\n"
     ]
    },
    {
     "name": "stderr",
     "output_type": "stream",
     "text": [
      "Processing sections:  32%|███▏      | 722/2255 [06:11<16:17,  1.57section/s]"
     ]
    },
    {
     "name": "stdout",
     "output_type": "stream",
     "text": [
      "Processing section: 1709.01301.tex --> Introduction | Number of chunks: 4\n"
     ]
    },
    {
     "name": "stderr",
     "output_type": "stream",
     "text": [
      "Processing sections:  32%|███▏      | 724/2255 [06:13<17:55,  1.42section/s]"
     ]
    },
    {
     "name": "stdout",
     "output_type": "stream",
     "text": [
      "Processing section: 1709.01301.tex --> LHCb detector and simulation | Number of chunks: 1\n"
     ]
    },
    {
     "name": "stderr",
     "output_type": "stream",
     "text": [
      "Processing sections:  32%|███▏      | 725/2255 [06:13<16:42,  1.53section/s]"
     ]
    },
    {
     "name": "stdout",
     "output_type": "stream",
     "text": [
      "Processing section: 1709.01301.tex --> Summary | Number of chunks: 2\n"
     ]
    },
    {
     "name": "stderr",
     "output_type": "stream",
     "text": [
      "Processing sections:  32%|███▏      | 726/2255 [06:14<18:23,  1.39section/s]"
     ]
    },
    {
     "name": "stdout",
     "output_type": "stream",
     "text": [
      "Processing section: 1412.6433.tex --> Introduction | Number of chunks: 1\n"
     ]
    },
    {
     "name": "stderr",
     "output_type": "stream",
     "text": [
      "Processing sections:  32%|███▏      | 728/2255 [06:15<13:49,  1.84section/s]"
     ]
    },
    {
     "name": "stdout",
     "output_type": "stream",
     "text": [
      "Processing section: 1412.6433.tex --> Event selection | Number of chunks: 3\n"
     ]
    },
    {
     "name": "stderr",
     "output_type": "stream",
     "text": [
      "Processing sections:  32%|███▏      | 729/2255 [06:16<18:54,  1.35section/s]"
     ]
    },
    {
     "name": "stdout",
     "output_type": "stream",
     "text": [
      "Processing section: 1412.6433.tex --> Conclusions | Number of chunks: 2\n"
     ]
    },
    {
     "name": "stderr",
     "output_type": "stream",
     "text": [
      "Processing sections:  32%|███▏      | 730/2255 [06:17<22:42,  1.12section/s]"
     ]
    },
    {
     "name": "stdout",
     "output_type": "stream",
     "text": [
      "Processing section: 1708.00819.tex --> Introduction | Number of chunks: 1\n"
     ]
    },
    {
     "name": "stderr",
     "output_type": "stream",
     "text": [
      "Processing sections:  32%|███▏      | 732/2255 [06:18<16:48,  1.51section/s]"
     ]
    },
    {
     "name": "stdout",
     "output_type": "stream",
     "text": [
      "Processing section: 1708.00819.tex --> Conclusions | Number of chunks: 1\n"
     ]
    },
    {
     "name": "stderr",
     "output_type": "stream",
     "text": [
      "Processing sections:  33%|███▎      | 733/2255 [06:19<15:30,  1.64section/s]"
     ]
    },
    {
     "name": "stdout",
     "output_type": "stream",
     "text": [
      "Processing section: 2208.03262.tex --> Introduction | Number of chunks: 2\n"
     ]
    },
    {
     "name": "stderr",
     "output_type": "stream",
     "text": [
      "Processing sections:  33%|███▎      | 735/2255 [06:20<15:00,  1.69section/s]"
     ]
    },
    {
     "name": "stdout",
     "output_type": "stream",
     "text": [
      "Processing section: 2208.03262.tex --> Detector and simulation | Number of chunks: 2\n"
     ]
    },
    {
     "name": "stderr",
     "output_type": "stream",
     "text": [
      "Processing sections:  33%|███▎      | 736/2255 [06:21<17:41,  1.43section/s]"
     ]
    },
    {
     "name": "stdout",
     "output_type": "stream",
     "text": [
      "Processing section: 2208.03262.tex --> Selection and invariant mass fit | Number of chunks: 8\n"
     ]
    },
    {
     "name": "stderr",
     "output_type": "stream",
     "text": [
      "Processing sections:  33%|███▎      | 737/2255 [06:24<33:02,  1.31s/section]"
     ]
    },
    {
     "name": "stdout",
     "output_type": "stream",
     "text": [
      "Processing section: 2208.03262.tex --> Selection and invariant mass fit --> Amplitude model for the \\boldmath\\Lcpkpi decay | Number of chunks: 6\n"
     ]
    },
    {
     "name": "stderr",
     "output_type": "stream",
     "text": [
      "Processing sections:  33%|███▎      | 739/2255 [06:27<32:18,  1.28s/section]"
     ]
    },
    {
     "name": "stdout",
     "output_type": "stream",
     "text": [
      "Processing section: 1505.08139.tex --> Introduction | Number of chunks: 2\n"
     ]
    },
    {
     "name": "stderr",
     "output_type": "stream",
     "text": [
      "Processing sections:  33%|███▎      | 742/2255 [06:28<22:46,  1.11section/s]"
     ]
    },
    {
     "name": "stdout",
     "output_type": "stream",
     "text": [
      "Processing section: 1505.08139.tex --> Conclusion | Number of chunks: 1\n"
     ]
    },
    {
     "name": "stderr",
     "output_type": "stream",
     "text": [
      "Processing sections:  33%|███▎      | 743/2255 [06:29<21:37,  1.17section/s]"
     ]
    },
    {
     "name": "stdout",
     "output_type": "stream",
     "text": [
      "Processing section: 2010.08483.tex --> Introduction | Number of chunks: 2\n"
     ]
    },
    {
     "name": "stderr",
     "output_type": "stream",
     "text": [
      "Processing sections:  33%|███▎      | 745/2255 [06:30<19:56,  1.26section/s]"
     ]
    },
    {
     "name": "stdout",
     "output_type": "stream",
     "text": [
      "Processing section: 2010.08483.tex --> Analysis Overview | Number of chunks: 5\n"
     ]
    },
    {
     "name": "stderr",
     "output_type": "stream",
     "text": [
      "Processing sections:  33%|███▎      | 746/2255 [06:32<26:08,  1.04s/section]"
     ]
    },
    {
     "name": "stdout",
     "output_type": "stream",
     "text": [
      "Processing section: 2010.08483.tex --> Conclusions | Number of chunks: 2\n"
     ]
    },
    {
     "name": "stderr",
     "output_type": "stream",
     "text": [
      "Processing sections:  33%|███▎      | 747/2255 [06:33<25:03,  1.00section/s]"
     ]
    },
    {
     "name": "stdout",
     "output_type": "stream",
     "text": [
      "Processing section: 2208.03300.tex --> Introduction | Number of chunks: 3\n"
     ]
    },
    {
     "name": "stderr",
     "output_type": "stream",
     "text": [
      "Processing sections:  33%|███▎      | 749/2255 [06:34<22:10,  1.13section/s]"
     ]
    },
    {
     "name": "stdout",
     "output_type": "stream",
     "text": [
      "Processing section: 2208.03300.tex --> Systematic uncertainties | Number of chunks: 2\n"
     ]
    },
    {
     "name": "stderr",
     "output_type": "stream",
     "text": [
      "Processing sections:  33%|███▎      | 750/2255 [06:35<23:52,  1.05section/s]"
     ]
    },
    {
     "name": "stdout",
     "output_type": "stream",
     "text": [
      "Processing section: 2208.03300.tex --> Summary and conclusions | Number of chunks: 2\n"
     ]
    },
    {
     "name": "stderr",
     "output_type": "stream",
     "text": [
      "Processing sections:  33%|███▎      | 751/2255 [06:36<24:05,  1.04section/s]"
     ]
    },
    {
     "name": "stdout",
     "output_type": "stream",
     "text": [
      "Processing section: 1311.3893.tex --> Introduction | Number of chunks: 2\n"
     ]
    },
    {
     "name": "stderr",
     "output_type": "stream",
     "text": [
      "Processing sections:  33%|███▎      | 753/2255 [06:37<19:34,  1.28section/s]"
     ]
    },
    {
     "name": "stdout",
     "output_type": "stream",
     "text": [
      "Processing section: 1311.3893.tex --> Conclusions | Number of chunks: 1\n"
     ]
    },
    {
     "name": "stderr",
     "output_type": "stream",
     "text": [
      "Processing sections:  33%|███▎      | 754/2255 [06:38<17:38,  1.42section/s]"
     ]
    },
    {
     "name": "stdout",
     "output_type": "stream",
     "text": [
      "Processing section: 1807.01891.tex --> Introduction | Number of chunks: 3\n"
     ]
    },
    {
     "name": "stderr",
     "output_type": "stream",
     "text": [
      "Processing sections:  34%|███▎      | 756/2255 [06:39<17:02,  1.47section/s]"
     ]
    },
    {
     "name": "stdout",
     "output_type": "stream",
     "text": [
      "Processing section: 2007.03923.tex --> Introduction | Number of chunks: 2\n"
     ]
    },
    {
     "name": "stderr",
     "output_type": "stream",
     "text": [
      "Processing sections:  34%|███▎      | 758/2255 [06:41<16:59,  1.47section/s]"
     ]
    },
    {
     "name": "stdout",
     "output_type": "stream",
     "text": [
      "Processing section: 2007.03923.tex --> Detector and simulation | Number of chunks: 2\n"
     ]
    },
    {
     "name": "stderr",
     "output_type": "stream",
     "text": [
      "Processing sections:  34%|███▎      | 759/2255 [06:42<18:59,  1.31section/s]"
     ]
    },
    {
     "name": "stdout",
     "output_type": "stream",
     "text": [
      "Processing section: 2007.03923.tex --> Summary | Number of chunks: 2\n"
     ]
    },
    {
     "name": "stderr",
     "output_type": "stream",
     "text": [
      "Processing sections:  34%|███▎      | 760/2255 [06:43<19:57,  1.25section/s]"
     ]
    },
    {
     "name": "stdout",
     "output_type": "stream",
     "text": [
      "Processing section: 1304.6317.tex --> Systematic uncertainties and cross-checks | Number of chunks: 1\n"
     ]
    },
    {
     "name": "stderr",
     "output_type": "stream",
     "text": [
      "Processing sections:  34%|███▍      | 762/2255 [06:43<15:49,  1.57section/s]"
     ]
    },
    {
     "name": "stdout",
     "output_type": "stream",
     "text": [
      "Processing section: 1304.6317.tex --> Results and conclusions | Number of chunks: 2\n"
     ]
    },
    {
     "name": "stderr",
     "output_type": "stream",
     "text": [
      "Processing sections:  34%|███▍      | 763/2255 [06:44<17:26,  1.43section/s]"
     ]
    },
    {
     "name": "stdout",
     "output_type": "stream",
     "text": [
      "Processing section: 2012.05319.tex --> Introduction | Number of chunks: 3\n"
     ]
    },
    {
     "name": "stderr",
     "output_type": "stream",
     "text": [
      "Processing sections:  34%|███▍      | 765/2255 [06:46<17:43,  1.40section/s]"
     ]
    },
    {
     "name": "stdout",
     "output_type": "stream",
     "text": [
      "Processing section: 2012.05319.tex --> Detector, trigger and simulation | Number of chunks: 1\n"
     ]
    },
    {
     "name": "stderr",
     "output_type": "stream",
     "text": [
      "Processing sections:  34%|███▍      | 766/2255 [06:46<16:43,  1.48section/s]"
     ]
    },
    {
     "name": "stdout",
     "output_type": "stream",
     "text": [
      "Processing section: 2012.05319.tex --> Selection | Number of chunks: 2\n"
     ]
    },
    {
     "name": "stderr",
     "output_type": "stream",
     "text": [
      "Processing sections:  34%|███▍      | 767/2255 [06:48<20:37,  1.20section/s]"
     ]
    },
    {
     "name": "stdout",
     "output_type": "stream",
     "text": [
      "Processing section: 2012.05319.tex --> Flavour tagging | Number of chunks: 2\n"
     ]
    },
    {
     "name": "stderr",
     "output_type": "stream",
     "text": [
      "Processing sections:  34%|███▍      | 768/2255 [06:49<23:22,  1.06section/s]"
     ]
    },
    {
     "name": "stdout",
     "output_type": "stream",
     "text": [
      "Processing section: 2012.05319.tex --> Decay-time resolution | Number of chunks: 2\n"
     ]
    },
    {
     "name": "stderr",
     "output_type": "stream",
     "text": [
      "Processing sections:  34%|███▍      | 769/2255 [06:50<25:12,  1.02s/section]"
     ]
    },
    {
     "name": "stdout",
     "output_type": "stream",
     "text": [
      "Processing section: 2012.05319.tex --> Systematic uncertainties | Number of chunks: 2\n"
     ]
    },
    {
     "name": "stderr",
     "output_type": "stream",
     "text": [
      "Processing sections:  34%|███▍      | 770/2255 [06:51<26:25,  1.07s/section]"
     ]
    },
    {
     "name": "stdout",
     "output_type": "stream",
     "text": [
      "Processing section: 2012.05319.tex --> Concluding remarks | Number of chunks: 2\n"
     ]
    },
    {
     "name": "stderr",
     "output_type": "stream",
     "text": [
      "Processing sections:  34%|███▍      | 771/2255 [06:53<27:47,  1.12s/section]"
     ]
    },
    {
     "name": "stdout",
     "output_type": "stream",
     "text": [
      "Processing section: 2012.05319.tex --> Additional information on flavour-tagging | Number of chunks: 8\n"
     ]
    },
    {
     "name": "stderr",
     "output_type": "stream",
     "text": [
      "Processing sections:  34%|███▍      | 772/2255 [06:56<43:14,  1.75s/section]"
     ]
    },
    {
     "name": "stdout",
     "output_type": "stream",
     "text": [
      "Processing section: 2012.05319.tex --> Additional information on flavour-tagging --> Formalism | Number of chunks: 7\n"
     ]
    },
    {
     "name": "stderr",
     "output_type": "stream",
     "text": [
      "Processing sections:  34%|███▍      | 773/2255 [06:59<50:11,  2.03s/section]"
     ]
    },
    {
     "name": "stdout",
     "output_type": "stream",
     "text": [
      "Processing section: 2006.03145.tex --> Introduction | Number of chunks: 2\n"
     ]
    },
    {
     "name": "stderr",
     "output_type": "stream",
     "text": [
      "Processing sections:  34%|███▍      | 775/2255 [07:00<34:38,  1.40s/section]"
     ]
    },
    {
     "name": "stdout",
     "output_type": "stream",
     "text": [
      "Processing section: 2006.03145.tex --> Selection of signal candidates | Number of chunks: 2\n"
     ]
    },
    {
     "name": "stderr",
     "output_type": "stream",
     "text": [
      "Processing sections:  34%|███▍      | 776/2255 [07:01<34:04,  1.38s/section]"
     ]
    },
    {
     "name": "stdout",
     "output_type": "stream",
     "text": [
      "Processing section: 1407.7712.tex --> Introduction | Number of chunks: 2\n"
     ]
    },
    {
     "name": "stderr",
     "output_type": "stream",
     "text": [
      "Processing sections:  35%|███▍      | 778/2255 [07:02<25:33,  1.04s/section]"
     ]
    },
    {
     "name": "stdout",
     "output_type": "stream",
     "text": [
      "Processing section: 2401.17934.tex --> Introduction | Number of chunks: 4\n"
     ]
    },
    {
     "name": "stderr",
     "output_type": "stream",
     "text": [
      "Processing sections:  35%|███▍      | 780/2255 [07:04<23:19,  1.05section/s]"
     ]
    },
    {
     "name": "stdout",
     "output_type": "stream",
     "text": [
      "Processing section: 2401.17934.tex --> LHCb detector and simulation | Number of chunks: 1\n"
     ]
    },
    {
     "name": "stderr",
     "output_type": "stream",
     "text": [
      "Processing sections:  35%|███▍      | 781/2255 [07:05<21:54,  1.12section/s]"
     ]
    },
    {
     "name": "stdout",
     "output_type": "stream",
     "text": [
      "Processing section: 2401.17934.tex --> Selection, efficiencies, and production and detection asymmetries | Number of chunks: 3\n"
     ]
    },
    {
     "name": "stderr",
     "output_type": "stream",
     "text": [
      "Processing sections:  35%|███▍      | 782/2255 [07:06<25:07,  1.02s/section]"
     ]
    },
    {
     "name": "stdout",
     "output_type": "stream",
     "text": [
      "Processing section: 2401.17934.tex --> \\texorpdfstring{Measurement of \\CP-violating observables}{Measurement of CP-violating observables} | Number of chunks: 3\n"
     ]
    },
    {
     "name": "stderr",
     "output_type": "stream",
     "text": [
      "Processing sections:  35%|███▍      | 783/2255 [07:07<27:44,  1.13s/section]"
     ]
    },
    {
     "name": "stdout",
     "output_type": "stream",
     "text": [
      "Processing section: 2401.17934.tex --> \\texorpdfstring{Measurement of \\CP-violating observables}{Measurement of CP-violating observables} --> Modelling the reconstructed mass distribution | Number of chunks: 2\n"
     ]
    },
    {
     "name": "stderr",
     "output_type": "stream",
     "text": [
      "Processing sections:  35%|███▍      | 784/2255 [07:09<29:03,  1.19s/section]"
     ]
    },
    {
     "name": "stdout",
     "output_type": "stream",
     "text": [
      "Processing section: 1503.00963.tex --> Introduction | Number of chunks: 2\n"
     ]
    },
    {
     "name": "stderr",
     "output_type": "stream",
     "text": [
      "Processing sections:  35%|███▍      | 786/2255 [07:10<22:24,  1.09section/s]"
     ]
    },
    {
     "name": "stdout",
     "output_type": "stream",
     "text": [
      "Processing section: 1503.00963.tex --> Data analysis | Number of chunks: 3\n"
     ]
    },
    {
     "name": "stderr",
     "output_type": "stream",
     "text": [
      "Processing sections:  35%|███▍      | 787/2255 [07:11<25:16,  1.03s/section]"
     ]
    },
    {
     "name": "stdout",
     "output_type": "stream",
     "text": [
      "Processing section: 1503.00963.tex --> Summary | Number of chunks: 2\n"
     ]
    },
    {
     "name": "stderr",
     "output_type": "stream",
     "text": [
      "Processing sections:  35%|███▍      | 788/2255 [07:12<25:50,  1.06s/section]"
     ]
    },
    {
     "name": "stdout",
     "output_type": "stream",
     "text": [
      "Processing section: 1211.1541.tex --> Selection efficiencies | Number of chunks: 2\n"
     ]
    },
    {
     "name": "stderr",
     "output_type": "stream",
     "text": [
      "Processing sections:  35%|███▌      | 790/2255 [07:13<20:16,  1.20section/s]"
     ]
    },
    {
     "name": "stdout",
     "output_type": "stream",
     "text": [
      "Processing section: 1211.1541.tex --> Results and summary | Number of chunks: 2\n"
     ]
    },
    {
     "name": "stderr",
     "output_type": "stream",
     "text": [
      "Processing sections:  35%|███▌      | 791/2255 [07:15<22:22,  1.09section/s]"
     ]
    },
    {
     "name": "stdout",
     "output_type": "stream",
     "text": [
      "Processing section: 1712.04094.tex --> Introduction | Number of chunks: 2\n"
     ]
    },
    {
     "name": "stderr",
     "output_type": "stream",
     "text": [
      "Processing sections:  35%|███▌      | 793/2255 [07:16<18:45,  1.30section/s]"
     ]
    },
    {
     "name": "stdout",
     "output_type": "stream",
     "text": [
      "Processing section: 1712.04094.tex --> Detector and simulation | Number of chunks: 1\n"
     ]
    },
    {
     "name": "stderr",
     "output_type": "stream",
     "text": [
      "Processing sections:  35%|███▌      | 794/2255 [07:16<18:08,  1.34section/s]"
     ]
    },
    {
     "name": "stdout",
     "output_type": "stream",
     "text": [
      "Processing section: 1712.04094.tex --> Event selection | Number of chunks: 2\n"
     ]
    },
    {
     "name": "stderr",
     "output_type": "stream",
     "text": [
      "Processing sections:  35%|███▌      | 795/2255 [07:17<19:16,  1.26section/s]"
     ]
    },
    {
     "name": "stdout",
     "output_type": "stream",
     "text": [
      "Processing section: 1307.6165.tex --> Introduction | Number of chunks: 2\n"
     ]
    },
    {
     "name": "stderr",
     "output_type": "stream",
     "text": [
      "Processing sections:  35%|███▌      | 797/2255 [07:19<17:18,  1.40section/s]"
     ]
    },
    {
     "name": "stdout",
     "output_type": "stream",
     "text": [
      "Processing section: 1307.6165.tex --> Summary | Number of chunks: 2\n"
     ]
    },
    {
     "name": "stderr",
     "output_type": "stream",
     "text": [
      "Processing sections:  35%|███▌      | 798/2255 [07:20<20:49,  1.17section/s]"
     ]
    },
    {
     "name": "stdout",
     "output_type": "stream",
     "text": [
      "Processing section: 1112.5310.tex --> Introduction | Number of chunks: 1\n"
     ]
    },
    {
     "name": "stderr",
     "output_type": "stream",
     "text": [
      "Processing sections:  35%|███▌      | 800/2255 [07:20<14:30,  1.67section/s]"
     ]
    },
    {
     "name": "stdout",
     "output_type": "stream",
     "text": [
      "Processing section: 1112.5310.tex --> The LHCb spectrometer and data sample | Number of chunks: 1\n"
     ]
    },
    {
     "name": "stderr",
     "output_type": "stream",
     "text": [
      "Processing sections:  36%|███▌      | 801/2255 [07:21<14:23,  1.68section/s]"
     ]
    },
    {
     "name": "stdout",
     "output_type": "stream",
     "text": [
      "Processing section: 1112.5310.tex --> Event selection | Number of chunks: 1\n"
     ]
    },
    {
     "name": "stderr",
     "output_type": "stream",
     "text": [
      "Processing sections:  36%|███▌      | 802/2255 [07:21<13:24,  1.81section/s]"
     ]
    },
    {
     "name": "stdout",
     "output_type": "stream",
     "text": [
      "Processing section: 1112.5310.tex --> Mass measurements | Number of chunks: 2\n"
     ]
    },
    {
     "name": "stderr",
     "output_type": "stream",
     "text": [
      "Processing sections:  36%|███▌      | 803/2255 [07:22<16:32,  1.46section/s]"
     ]
    },
    {
     "name": "stdout",
     "output_type": "stream",
     "text": [
      "Processing section: 1112.5310.tex --> Results and conclusion | Number of chunks: 2\n"
     ]
    },
    {
     "name": "stderr",
     "output_type": "stream",
     "text": [
      "Processing sections:  36%|███▌      | 804/2255 [07:24<19:28,  1.24section/s]"
     ]
    },
    {
     "name": "stdout",
     "output_type": "stream",
     "text": [
      "Processing section: 1510.05949.tex --> Introduction | Number of chunks: 4\n"
     ]
    },
    {
     "name": "stderr",
     "output_type": "stream",
     "text": [
      "Processing sections:  36%|███▌      | 806/2255 [07:25<18:59,  1.27section/s]"
     ]
    },
    {
     "name": "stdout",
     "output_type": "stream",
     "text": [
      "Processing section: 1510.05949.tex --> Detector and data sample | Number of chunks: 1\n"
     ]
    },
    {
     "name": "stderr",
     "output_type": "stream",
     "text": [
      "Processing sections:  36%|███▌      | 807/2255 [07:26<18:43,  1.29section/s]"
     ]
    },
    {
     "name": "stdout",
     "output_type": "stream",
     "text": [
      "Processing section: 1510.05949.tex --> Event selection | Number of chunks: 3\n"
     ]
    },
    {
     "name": "stderr",
     "output_type": "stream",
     "text": [
      "Processing sections:  36%|███▌      | 808/2255 [07:27<23:03,  1.05section/s]"
     ]
    },
    {
     "name": "stdout",
     "output_type": "stream",
     "text": [
      "Processing section: 1510.05949.tex --> Systematic uncertainties | Number of chunks: 4\n"
     ]
    },
    {
     "name": "stderr",
     "output_type": "stream",
     "text": [
      "Processing sections:  36%|███▌      | 809/2255 [07:29<27:07,  1.13s/section]"
     ]
    },
    {
     "name": "stdout",
     "output_type": "stream",
     "text": [
      "Processing section: 1510.05949.tex --> Results and discussion | Number of chunks: 5\n"
     ]
    },
    {
     "name": "stderr",
     "output_type": "stream",
     "text": [
      "Processing sections:  36%|███▌      | 810/2255 [07:31<32:51,  1.36s/section]"
     ]
    },
    {
     "name": "stdout",
     "output_type": "stream",
     "text": [
      "Processing section: 1510.05949.tex --> Summary | Number of chunks: 2\n"
     ]
    },
    {
     "name": "stderr",
     "output_type": "stream",
     "text": [
      "Processing sections:  36%|███▌      | 811/2255 [07:32<28:59,  1.20s/section]"
     ]
    },
    {
     "name": "stdout",
     "output_type": "stream",
     "text": [
      "Processing section: 1202.6267.tex --> The \\lhcb detector and dataset | Number of chunks: 1\n"
     ]
    },
    {
     "name": "stderr",
     "output_type": "stream",
     "text": [
      "Processing sections:  36%|███▌      | 813/2255 [07:32<19:52,  1.21section/s]"
     ]
    },
    {
     "name": "stdout",
     "output_type": "stream",
     "text": [
      "Processing section: 1202.6267.tex --> Event selection | Number of chunks: 1\n"
     ]
    },
    {
     "name": "stderr",
     "output_type": "stream",
     "text": [
      "Processing sections:  36%|███▌      | 814/2255 [07:33<18:28,  1.30section/s]"
     ]
    },
    {
     "name": "stdout",
     "output_type": "stream",
     "text": [
      "Processing section: 1202.6267.tex --> Determination of the ratio of branching fractions\\label{section:extraction} | Number of chunks: 3\n"
     ]
    },
    {
     "name": "stderr",
     "output_type": "stream",
     "text": [
      "Processing sections:  36%|███▌      | 815/2255 [07:34<22:22,  1.07section/s]"
     ]
    },
    {
     "name": "stdout",
     "output_type": "stream",
     "text": [
      "Processing section: 1210.2645.tex --> Introduction | Number of chunks: 2\n"
     ]
    },
    {
     "name": "stderr",
     "output_type": "stream",
     "text": [
      "Processing sections:  36%|███▌      | 817/2255 [07:36<18:38,  1.29section/s]"
     ]
    },
    {
     "name": "stdout",
     "output_type": "stream",
     "text": [
      "Processing section: 1210.2645.tex --> Event selection | Number of chunks: 2\n"
     ]
    },
    {
     "name": "stderr",
     "output_type": "stream",
     "text": [
      "Processing sections:  36%|███▋      | 818/2255 [07:37<20:10,  1.19section/s]"
     ]
    },
    {
     "name": "stdout",
     "output_type": "stream",
     "text": [
      "Processing section: 1210.2645.tex --> Systematic uncertainties | Number of chunks: 1\n"
     ]
    },
    {
     "name": "stderr",
     "output_type": "stream",
     "text": [
      "Processing sections:  36%|███▋      | 820/2255 [07:37<14:45,  1.62section/s]"
     ]
    },
    {
     "name": "stdout",
     "output_type": "stream",
     "text": [
      "Processing section: 1210.2645.tex --> Results and conclusion | Number of chunks: 2\n"
     ]
    },
    {
     "name": "stderr",
     "output_type": "stream",
     "text": [
      "Processing sections:  36%|███▋      | 821/2255 [07:38<17:22,  1.38section/s]"
     ]
    },
    {
     "name": "stdout",
     "output_type": "stream",
     "text": [
      "Processing section: 2212.09153.tex --> Introduction | Number of chunks: 3\n"
     ]
    },
    {
     "name": "stderr",
     "output_type": "stream",
     "text": [
      "Processing sections:  36%|███▋      | 823/2255 [07:40<16:58,  1.41section/s]"
     ]
    },
    {
     "name": "stdout",
     "output_type": "stream",
     "text": [
      "Processing section: 2212.09153.tex --> LHCb detector and simulation | Number of chunks: 2\n"
     ]
    },
    {
     "name": "stderr",
     "output_type": "stream",
     "text": [
      "Processing sections:  37%|███▋      | 824/2255 [07:41<18:49,  1.27section/s]"
     ]
    },
    {
     "name": "stdout",
     "output_type": "stream",
     "text": [
      "Processing section: 2206.07622.tex --> Introduction | Number of chunks: 2\n"
     ]
    },
    {
     "name": "stderr",
     "output_type": "stream",
     "text": [
      "Processing sections:  37%|███▋      | 826/2255 [07:42<17:03,  1.40section/s]"
     ]
    },
    {
     "name": "stdout",
     "output_type": "stream",
     "text": [
      "Processing section: 2206.07622.tex --> LHCb detector, dataset and simulation | Number of chunks: 1\n"
     ]
    },
    {
     "name": "stderr",
     "output_type": "stream",
     "text": [
      "Processing sections:  37%|███▋      | 827/2255 [07:43<17:10,  1.39section/s]"
     ]
    },
    {
     "name": "stdout",
     "output_type": "stream",
     "text": [
      "Processing section: 2206.07622.tex --> Candidate selection | Number of chunks: 2\n"
     ]
    },
    {
     "name": "stderr",
     "output_type": "stream",
     "text": [
      "Processing sections:  37%|███▋      | 828/2255 [07:44<19:24,  1.22section/s]"
     ]
    },
    {
     "name": "stdout",
     "output_type": "stream",
     "text": [
      "Processing section: 2206.07622.tex --> Partial width difference | Number of chunks: 2\n"
     ]
    },
    {
     "name": "stderr",
     "output_type": "stream",
     "text": [
      "Processing sections:  37%|███▋      | 829/2255 [07:45<20:33,  1.16section/s]"
     ]
    },
    {
     "name": "stdout",
     "output_type": "stream",
     "text": [
      "Processing section: 2206.07622.tex --> Summary and conclusions | Number of chunks: 2\n"
     ]
    },
    {
     "name": "stderr",
     "output_type": "stream",
     "text": [
      "Processing sections:  37%|███▋      | 830/2255 [07:46<21:05,  1.13section/s]"
     ]
    },
    {
     "name": "stdout",
     "output_type": "stream",
     "text": [
      "Processing section: 1911.08594.tex --> Detector and simulation | Number of chunks: 1\n"
     ]
    },
    {
     "name": "stderr",
     "output_type": "stream",
     "text": [
      "Processing sections:  37%|███▋      | 832/2255 [07:46<15:39,  1.51section/s]"
     ]
    },
    {
     "name": "stdout",
     "output_type": "stream",
     "text": [
      "Processing section: 1911.08594.tex --> Event selection | Number of chunks: 2\n"
     ]
    },
    {
     "name": "stderr",
     "output_type": "stream",
     "text": [
      "Processing sections:  37%|███▋      | 833/2255 [07:47<17:05,  1.39section/s]"
     ]
    },
    {
     "name": "stdout",
     "output_type": "stream",
     "text": [
      "Processing section: 1911.08594.tex --> Mass measurement | Number of chunks: 3\n"
     ]
    },
    {
     "name": "stderr",
     "output_type": "stream",
     "text": [
      "Processing sections:  37%|███▋      | 834/2255 [07:49<21:12,  1.12section/s]"
     ]
    },
    {
     "name": "stdout",
     "output_type": "stream",
     "text": [
      "Processing section: 1302.6354.tex --> Event selection | Number of chunks: 3\n"
     ]
    },
    {
     "name": "stderr",
     "output_type": "stream",
     "text": [
      "Processing sections:  37%|███▋      | 836/2255 [07:50<19:21,  1.22section/s]"
     ]
    },
    {
     "name": "stdout",
     "output_type": "stream",
     "text": [
      "Processing section: 1302.6354.tex --> Efficiencies and systematic uncertainties | Number of chunks: 2\n"
     ]
    },
    {
     "name": "stderr",
     "output_type": "stream",
     "text": [
      "Processing sections:  37%|███▋      | 837/2255 [07:51<21:23,  1.10section/s]"
     ]
    },
    {
     "name": "stdout",
     "output_type": "stream",
     "text": [
      "Processing section: 1302.6354.tex --> Results | Number of chunks: 2\n"
     ]
    },
    {
     "name": "stderr",
     "output_type": "stream",
     "text": [
      "Processing sections:  37%|███▋      | 838/2255 [07:52<22:29,  1.05section/s]"
     ]
    },
    {
     "name": "stdout",
     "output_type": "stream",
     "text": [
      "Processing section: 1405.5152.tex --> Introduction | Number of chunks: 2\n"
     ]
    },
    {
     "name": "stderr",
     "output_type": "stream",
     "text": [
      "Processing sections:  37%|███▋      | 841/2255 [07:54<16:24,  1.44section/s]"
     ]
    },
    {
     "name": "stdout",
     "output_type": "stream",
     "text": [
      "Processing section: 1405.5152.tex --> Detector and data set | Number of chunks: 1\n"
     ]
    },
    {
     "name": "stderr",
     "output_type": "stream",
     "text": [
      "Processing sections:  37%|███▋      | 842/2255 [07:54<15:43,  1.50section/s]"
     ]
    },
    {
     "name": "stdout",
     "output_type": "stream",
     "text": [
      "Processing section: 1405.5152.tex --> Cross-section determination | Number of chunks: 2\n"
     ]
    },
    {
     "name": "stderr",
     "output_type": "stream",
     "text": [
      "Processing sections:  37%|███▋      | 843/2255 [07:56<18:11,  1.29section/s]"
     ]
    },
    {
     "name": "stdout",
     "output_type": "stream",
     "text": [
      "Processing section: 1405.5152.tex --> Conclusions | Number of chunks: 2\n"
     ]
    },
    {
     "name": "stderr",
     "output_type": "stream",
     "text": [
      "Processing sections:  37%|███▋      | 844/2255 [07:56<18:42,  1.26section/s]"
     ]
    },
    {
     "name": "stdout",
     "output_type": "stream",
     "text": [
      "Processing section: 1306.4489.tex --> Trigger and selection requirements | Number of chunks: 3\n"
     ]
    },
    {
     "name": "stderr",
     "output_type": "stream",
     "text": [
      "Processing sections:  38%|███▊      | 846/2255 [07:58<18:02,  1.30section/s]"
     ]
    },
    {
     "name": "stdout",
     "output_type": "stream",
     "text": [
      "Processing section: 1306.4489.tex --> Fit model and results | Number of chunks: 2\n"
     ]
    },
    {
     "name": "stderr",
     "output_type": "stream",
     "text": [
      "Processing sections:  38%|███▊      | 847/2255 [07:59<19:19,  1.21section/s]"
     ]
    },
    {
     "name": "stdout",
     "output_type": "stream",
     "text": [
      "Processing section: 1306.4489.tex --> Systematic uncertainties | Number of chunks: 2\n"
     ]
    },
    {
     "name": "stderr",
     "output_type": "stream",
     "text": [
      "Processing sections:  38%|███▊      | 848/2255 [08:00<21:20,  1.10section/s]"
     ]
    },
    {
     "name": "stdout",
     "output_type": "stream",
     "text": [
      "Processing section: 1306.4489.tex --> Results and conclusions | Number of chunks: 3\n"
     ]
    },
    {
     "name": "stderr",
     "output_type": "stream",
     "text": [
      "Processing sections:  38%|███▊      | 849/2255 [08:01<23:28,  1.00s/section]"
     ]
    },
    {
     "name": "stdout",
     "output_type": "stream",
     "text": [
      "Processing section: 1505.03295.tex --> Introduction | Number of chunks: 3\n"
     ]
    },
    {
     "name": "stderr",
     "output_type": "stream",
     "text": [
      "Processing sections:  38%|███▊      | 851/2255 [08:03<20:43,  1.13section/s]"
     ]
    },
    {
     "name": "stdout",
     "output_type": "stream",
     "text": [
      "Processing section: 1505.03295.tex --> Introduction --> Branching fraction measurement | Number of chunks: 2\n"
     ]
    },
    {
     "name": "stderr",
     "output_type": "stream",
     "text": [
      "Processing sections:  38%|███▊      | 853/2255 [08:04<17:41,  1.32section/s]"
     ]
    },
    {
     "name": "stdout",
     "output_type": "stream",
     "text": [
      "Processing section: 1505.03295.tex --> Conclusions | Number of chunks: 2\n"
     ]
    },
    {
     "name": "stderr",
     "output_type": "stream",
     "text": [
      "Processing sections:  38%|███▊      | 854/2255 [08:05<19:59,  1.17section/s]"
     ]
    },
    {
     "name": "stdout",
     "output_type": "stream",
     "text": [
      "Processing section: 1807.10722.tex --> Introduction | Number of chunks: 2\n"
     ]
    },
    {
     "name": "stderr",
     "output_type": "stream",
     "text": [
      "Processing sections:  38%|███▊      | 856/2255 [08:06<18:10,  1.28section/s]"
     ]
    },
    {
     "name": "stdout",
     "output_type": "stream",
     "text": [
      "Processing section: 1807.10722.tex --> Data sample and selection | Number of chunks: 2\n"
     ]
    },
    {
     "name": "stderr",
     "output_type": "stream",
     "text": [
      "Processing sections:  38%|███▊      | 857/2255 [08:08<20:38,  1.13section/s]"
     ]
    },
    {
     "name": "stdout",
     "output_type": "stream",
     "text": [
      "Processing section: 1807.10722.tex --> Reconstruction of the $\\boldsymbol{\\Bub}$ meson momentum | Number of chunks: 1\n"
     ]
    },
    {
     "name": "stderr",
     "output_type": "stream",
     "text": [
      "Processing sections:  38%|███▊      | 858/2255 [08:08<19:01,  1.22section/s]"
     ]
    },
    {
     "name": "stdout",
     "output_type": "stream",
     "text": [
      "Processing section: 1806.04079.tex --> Introduction | Number of chunks: 2\n"
     ]
    },
    {
     "name": "stderr",
     "output_type": "stream",
     "text": [
      "Processing sections:  38%|███▊      | 860/2255 [08:09<16:57,  1.37section/s]"
     ]
    },
    {
     "name": "stdout",
     "output_type": "stream",
     "text": [
      "Processing section: 1806.04079.tex --> Detector, data samples and triggers | Number of chunks: 1\n"
     ]
    },
    {
     "name": "stderr",
     "output_type": "stream",
     "text": [
      "Processing sections:  38%|███▊      | 861/2255 [08:10<16:43,  1.39section/s]"
     ]
    },
    {
     "name": "stdout",
     "output_type": "stream",
     "text": [
      "Processing section: 1806.04079.tex --> Conclusions | Number of chunks: 2\n"
     ]
    },
    {
     "name": "stderr",
     "output_type": "stream",
     "text": [
      "Processing sections:  38%|███▊      | 862/2255 [08:11<19:08,  1.21section/s]"
     ]
    },
    {
     "name": "stdout",
     "output_type": "stream",
     "text": [
      "Processing section: 1805.06759.tex --> Introduction | Number of chunks: 3\n"
     ]
    },
    {
     "name": "stderr",
     "output_type": "stream",
     "text": [
      "Processing sections:  38%|███▊      | 864/2255 [08:13<17:58,  1.29section/s]"
     ]
    },
    {
     "name": "stdout",
     "output_type": "stream",
     "text": [
      "Processing section: 2005.10264.tex --> Introduction | Number of chunks: 1\n"
     ]
    },
    {
     "name": "stderr",
     "output_type": "stream",
     "text": [
      "Processing sections:  38%|███▊      | 866/2255 [08:13<13:52,  1.67section/s]"
     ]
    },
    {
     "name": "stdout",
     "output_type": "stream",
     "text": [
      "Processing section: 2005.10264.tex --> Results | Number of chunks: 2\n"
     ]
    },
    {
     "name": "stderr",
     "output_type": "stream",
     "text": [
      "Processing sections:  38%|███▊      | 867/2255 [08:14<16:45,  1.38section/s]"
     ]
    },
    {
     "name": "stdout",
     "output_type": "stream",
     "text": [
      "Processing section: 2005.10264.tex --> Summary | Number of chunks: 1\n"
     ]
    },
    {
     "name": "stderr",
     "output_type": "stream",
     "text": [
      "Processing sections:  38%|███▊      | 868/2255 [08:15<16:46,  1.38section/s]"
     ]
    },
    {
     "name": "stdout",
     "output_type": "stream",
     "text": [
      "Processing section: 2410.02502.tex --> Introduction | Number of chunks: 3\n"
     ]
    },
    {
     "name": "stderr",
     "output_type": "stream",
     "text": [
      "Processing sections:  39%|███▊      | 870/2255 [08:17<16:39,  1.39section/s]"
     ]
    },
    {
     "name": "stdout",
     "output_type": "stream",
     "text": [
      "Processing section: 2410.02502.tex --> Dataset | Number of chunks: 2\n"
     ]
    },
    {
     "name": "stderr",
     "output_type": "stream",
     "text": [
      "Processing sections:  39%|███▊      | 871/2255 [08:18<19:12,  1.20section/s]"
     ]
    },
    {
     "name": "stdout",
     "output_type": "stream",
     "text": [
      "Processing section: 2410.02502.tex --> Corrections to the simulation and background modelling | Number of chunks: 2\n"
     ]
    },
    {
     "name": "stderr",
     "output_type": "stream",
     "text": [
      "Processing sections:  39%|███▊      | 872/2255 [08:19<19:56,  1.16section/s]"
     ]
    },
    {
     "name": "stdout",
     "output_type": "stream",
     "text": [
      "Processing section: 2410.02502.tex --> Cross-checks | Number of chunks: 1\n"
     ]
    },
    {
     "name": "stderr",
     "output_type": "stream",
     "text": [
      "Processing sections:  39%|███▊      | 873/2255 [08:19<17:27,  1.32section/s]"
     ]
    },
    {
     "name": "stdout",
     "output_type": "stream",
     "text": [
      "Processing section: 2410.02502.tex --> Conclusion | Number of chunks: 2\n"
     ]
    },
    {
     "name": "stderr",
     "output_type": "stream",
     "text": [
      "Processing sections:  39%|███▉      | 874/2255 [08:20<18:02,  1.28section/s]"
     ]
    },
    {
     "name": "stdout",
     "output_type": "stream",
     "text": [
      "Processing section: 1406.0755.tex --> Event Selection | Number of chunks: 2\n"
     ]
    },
    {
     "name": "stderr",
     "output_type": "stream",
     "text": [
      "Processing sections:  39%|███▉      | 876/2255 [08:21<15:08,  1.52section/s]"
     ]
    },
    {
     "name": "stdout",
     "output_type": "stream",
     "text": [
      "Processing section: 1406.0755.tex --> Signal and background description | Number of chunks: 2\n"
     ]
    },
    {
     "name": "stderr",
     "output_type": "stream",
     "text": [
      "Processing sections:  39%|███▉      | 877/2255 [08:22<17:49,  1.29section/s]"
     ]
    },
    {
     "name": "stdout",
     "output_type": "stream",
     "text": [
      "Processing section: 1310.2538.tex --> Introduction | Number of chunks: 3\n"
     ]
    },
    {
     "name": "stderr",
     "output_type": "stream",
     "text": [
      "Processing sections:  39%|███▉      | 879/2255 [08:24<16:57,  1.35section/s]"
     ]
    },
    {
     "name": "stdout",
     "output_type": "stream",
     "text": [
      "Processing section: 1310.2538.tex --> Triggering, reconstruction, and selection | Number of chunks: 2\n"
     ]
    },
    {
     "name": "stderr",
     "output_type": "stream",
     "text": [
      "Processing sections:  39%|███▉      | 880/2255 [08:25<19:28,  1.18section/s]"
     ]
    },
    {
     "name": "stdout",
     "output_type": "stream",
     "text": [
      "Processing section: 1610.03666.tex --> Detector and simulation | Number of chunks: 1\n"
     ]
    },
    {
     "name": "stderr",
     "output_type": "stream",
     "text": [
      "Processing sections:  39%|███▉      | 882/2255 [08:26<15:12,  1.50section/s]"
     ]
    },
    {
     "name": "stdout",
     "output_type": "stream",
     "text": [
      "Processing section: 1610.03666.tex --> Event selection | Number of chunks: 1\n"
     ]
    },
    {
     "name": "stderr",
     "output_type": "stream",
     "text": [
      "Processing sections:  39%|███▉      | 883/2255 [08:26<14:47,  1.55section/s]"
     ]
    },
    {
     "name": "stdout",
     "output_type": "stream",
     "text": [
      "Processing section: 1303.7133.tex --> Detector and software | Number of chunks: 1\n"
     ]
    },
    {
     "name": "stderr",
     "output_type": "stream",
     "text": [
      "Processing sections:  39%|███▉      | 885/2255 [08:27<11:13,  2.03section/s]"
     ]
    },
    {
     "name": "stdout",
     "output_type": "stream",
     "text": [
      "Processing section: 1303.7133.tex --> Candidate selection | Number of chunks: 3\n"
     ]
    },
    {
     "name": "stderr",
     "output_type": "stream",
     "text": [
      "Processing sections:  39%|███▉      | 886/2255 [08:28<15:44,  1.45section/s]"
     ]
    },
    {
     "name": "stdout",
     "output_type": "stream",
     "text": [
      "Processing section: 1303.7133.tex --> Summary | Number of chunks: 2\n"
     ]
    },
    {
     "name": "stderr",
     "output_type": "stream",
     "text": [
      "Processing sections:  39%|███▉      | 887/2255 [08:29<17:51,  1.28section/s]"
     ]
    },
    {
     "name": "stdout",
     "output_type": "stream",
     "text": [
      "Processing section: 1505.01505.tex --> Systematic uncertainties | Number of chunks: 2\n"
     ]
    },
    {
     "name": "stderr",
     "output_type": "stream",
     "text": [
      "Processing sections:  39%|███▉      | 889/2255 [08:31<16:56,  1.34section/s]"
     ]
    },
    {
     "name": "stdout",
     "output_type": "stream",
     "text": [
      "Processing section: 1305.5059.tex --> Detector and simulation | Number of chunks: 2\n"
     ]
    },
    {
     "name": "stderr",
     "output_type": "stream",
     "text": [
      "Processing sections:  40%|███▉      | 891/2255 [08:32<15:54,  1.43section/s]"
     ]
    },
    {
     "name": "stdout",
     "output_type": "stream",
     "text": [
      "Processing section: 1305.5059.tex --> Candidate selection | Number of chunks: 2\n"
     ]
    },
    {
     "name": "stderr",
     "output_type": "stream",
     "text": [
      "Processing sections:  40%|███▉      | 892/2255 [08:33<18:41,  1.22section/s]"
     ]
    },
    {
     "name": "stdout",
     "output_type": "stream",
     "text": [
      "Processing section: 1305.5059.tex --> Normalisation  | Number of chunks: 3\n"
     ]
    },
    {
     "name": "stderr",
     "output_type": "stream",
     "text": [
      "Processing sections:  40%|███▉      | 893/2255 [08:35<21:48,  1.04section/s]"
     ]
    },
    {
     "name": "stdout",
     "output_type": "stream",
     "text": [
      "Processing section: 1111.0521.tex --> Introduction | Number of chunks: 2\n"
     ]
    },
    {
     "name": "stderr",
     "output_type": "stream",
     "text": [
      "Processing sections:  40%|███▉      | 895/2255 [08:36<18:21,  1.23section/s]"
     ]
    },
    {
     "name": "stdout",
     "output_type": "stream",
     "text": [
      "Processing section: 1111.0521.tex --> Data Sample | Number of chunks: 1\n"
     ]
    },
    {
     "name": "stderr",
     "output_type": "stream",
     "text": [
      "Processing sections:  40%|███▉      | 896/2255 [08:36<16:51,  1.34section/s]"
     ]
    },
    {
     "name": "stdout",
     "output_type": "stream",
     "text": [
      "Processing section: 1111.0521.tex --> Systematic Uncertainties | Number of chunks: 2\n"
     ]
    },
    {
     "name": "stderr",
     "output_type": "stream",
     "text": [
      "Processing sections:  40%|███▉      | 897/2255 [08:37<18:27,  1.23section/s]"
     ]
    },
    {
     "name": "stdout",
     "output_type": "stream",
     "text": [
      "Processing section: 1111.0521.tex --> Results and Conclusions | Number of chunks: 4\n"
     ]
    },
    {
     "name": "stderr",
     "output_type": "stream",
     "text": [
      "Processing sections:  40%|███▉      | 898/2255 [08:39<22:21,  1.01section/s]"
     ]
    },
    {
     "name": "stdout",
     "output_type": "stream",
     "text": [
      "Processing section: 2011.00217.tex --> Introduction | Number of chunks: 2\n"
     ]
    },
    {
     "name": "stderr",
     "output_type": "stream",
     "text": [
      "Processing sections:  40%|███▉      | 900/2255 [08:40<16:47,  1.34section/s]"
     ]
    },
    {
     "name": "stdout",
     "output_type": "stream",
     "text": [
      "Processing section: 2011.00217.tex --> Triggering, reconstruction and selection | Number of chunks: 2\n"
     ]
    },
    {
     "name": "stderr",
     "output_type": "stream",
     "text": [
      "Processing sections:  40%|███▉      | 901/2255 [08:41<18:24,  1.23section/s]"
     ]
    },
    {
     "name": "stdout",
     "output_type": "stream",
     "text": [
      "Processing section: 2011.00217.tex --> Invariant-mass distributions | Number of chunks: 2\n"
     ]
    },
    {
     "name": "stderr",
     "output_type": "stream",
     "text": [
      "Processing sections:  40%|████      | 902/2255 [08:42<18:58,  1.19section/s]"
     ]
    },
    {
     "name": "stdout",
     "output_type": "stream",
     "text": [
      "Processing section: 1803.05188.tex --> Introduction | Number of chunks: 2\n"
     ]
    },
    {
     "name": "stderr",
     "output_type": "stream",
     "text": [
      "Processing sections:  40%|████      | 904/2255 [08:43<17:07,  1.32section/s]"
     ]
    },
    {
     "name": "stdout",
     "output_type": "stream",
     "text": [
      "Processing section: 1803.05188.tex --> Detector and simulation | Number of chunks: 1\n"
     ]
    },
    {
     "name": "stderr",
     "output_type": "stream",
     "text": [
      "Processing sections:  40%|████      | 905/2255 [08:44<16:56,  1.33section/s]"
     ]
    },
    {
     "name": "stdout",
     "output_type": "stream",
     "text": [
      "Processing section: 1803.05188.tex --> Event selection and purity | Number of chunks: 2\n"
     ]
    },
    {
     "name": "stderr",
     "output_type": "stream",
     "text": [
      "Processing sections:  40%|████      | 906/2255 [08:45<20:08,  1.12section/s]"
     ]
    },
    {
     "name": "stdout",
     "output_type": "stream",
     "text": [
      "Processing section: 1803.05188.tex --> Conclusion | Number of chunks: 2\n"
     ]
    },
    {
     "name": "stderr",
     "output_type": "stream",
     "text": [
      "Processing sections:  40%|████      | 907/2255 [08:46<20:04,  1.12section/s]"
     ]
    },
    {
     "name": "stdout",
     "output_type": "stream",
     "text": [
      "Processing section: 1706.00758.tex --> Introduction | Number of chunks: 1\n"
     ]
    },
    {
     "name": "stderr",
     "output_type": "stream",
     "text": [
      "Processing sections:  40%|████      | 909/2255 [08:47<14:58,  1.50section/s]"
     ]
    },
    {
     "name": "stdout",
     "output_type": "stream",
     "text": [
      "Processing section: 1706.00758.tex --> \\boldmath\\KS decays in \\lhcb | Number of chunks: 2\n"
     ]
    },
    {
     "name": "stderr",
     "output_type": "stream",
     "text": [
      "Processing sections:  40%|████      | 910/2255 [08:47<16:22,  1.37section/s]"
     ]
    },
    {
     "name": "stdout",
     "output_type": "stream",
     "text": [
      "Processing section: 1706.00758.tex --> Selection and search strategy | Number of chunks: 1\n"
     ]
    },
    {
     "name": "stderr",
     "output_type": "stream",
     "text": [
      "Processing sections:  40%|████      | 911/2255 [08:48<15:08,  1.48section/s]"
     ]
    },
    {
     "name": "stdout",
     "output_type": "stream",
     "text": [
      "Processing section: 1706.00758.tex --> Backgrounds | Number of chunks: 1\n"
     ]
    },
    {
     "name": "stderr",
     "output_type": "stream",
     "text": [
      "Processing sections:  40%|████      | 912/2255 [08:49<14:32,  1.54section/s]"
     ]
    },
    {
     "name": "stdout",
     "output_type": "stream",
     "text": [
      "Processing section: 1210.1089.tex --> Introduction | Number of chunks: 2\n"
     ]
    },
    {
     "name": "stderr",
     "output_type": "stream",
     "text": [
      "Processing sections:  41%|████      | 914/2255 [08:50<13:54,  1.61section/s]"
     ]
    },
    {
     "name": "stdout",
     "output_type": "stream",
     "text": [
      "Processing section: 1302.2864.tex --> Experimental conditions | Number of chunks: 1\n"
     ]
    },
    {
     "name": "stderr",
     "output_type": "stream",
     "text": [
      "Processing sections:  41%|████      | 916/2255 [08:50<10:45,  2.08section/s]"
     ]
    },
    {
     "name": "stdout",
     "output_type": "stream",
     "text": [
      "Processing section: 1302.2864.tex --> Analysis strategy | Number of chunks: 2\n"
     ]
    },
    {
     "name": "stderr",
     "output_type": "stream",
     "text": [
      "Processing sections:  41%|████      | 917/2255 [08:51<13:27,  1.66section/s]"
     ]
    },
    {
     "name": "stdout",
     "output_type": "stream",
     "text": [
      "Processing section: 1302.2864.tex --> Analysis strategy --> Selection criteria | Number of chunks: 1\n"
     ]
    },
    {
     "name": "stderr",
     "output_type": "stream",
     "text": [
      "Processing sections:  41%|████      | 918/2255 [08:52<12:52,  1.73section/s]"
     ]
    },
    {
     "name": "stdout",
     "output_type": "stream",
     "text": [
      "Processing section: 1302.2864.tex --> Production ratios and integrated \\xsecstxtnoun | Number of chunks: 7\n"
     ]
    },
    {
     "name": "stderr",
     "output_type": "stream",
     "text": [
      "Processing sections:  41%|████      | 919/2255 [08:54<24:41,  1.11s/section]"
     ]
    },
    {
     "name": "stdout",
     "output_type": "stream",
     "text": [
      "Processing section: 2011.06847.tex --> Introduction | Number of chunks: 2\n"
     ]
    },
    {
     "name": "stderr",
     "output_type": "stream",
     "text": [
      "Processing sections:  41%|████      | 921/2255 [08:56<19:58,  1.11section/s]"
     ]
    },
    {
     "name": "stdout",
     "output_type": "stream",
     "text": [
      "Processing section: 2011.06847.tex --> Conclusion | Number of chunks: 1\n"
     ]
    },
    {
     "name": "stderr",
     "output_type": "stream",
     "text": [
      "Processing sections:  41%|████      | 922/2255 [08:56<19:16,  1.15section/s]"
     ]
    },
    {
     "name": "stdout",
     "output_type": "stream",
     "text": [
      "Processing section: 1510.04866.tex --> Conclusion | Number of chunks: 1\n"
     ]
    },
    {
     "name": "stderr",
     "output_type": "stream",
     "text": [
      "Processing sections:  41%|████      | 924/2255 [08:57<15:58,  1.39section/s]"
     ]
    },
    {
     "name": "stdout",
     "output_type": "stream",
     "text": [
      "Processing section: 1711.05637.tex --> Conclusions | Number of chunks: 2\n"
     ]
    },
    {
     "name": "stderr",
     "output_type": "stream",
     "text": [
      "Processing sections:  41%|████      | 926/2255 [08:59<14:32,  1.52section/s]"
     ]
    },
    {
     "name": "stdout",
     "output_type": "stream",
     "text": [
      "Processing section: 1603.00413.tex --> Introduction | Number of chunks: 2\n"
     ]
    },
    {
     "name": "stderr",
     "output_type": "stream",
     "text": [
      "Processing sections:  41%|████      | 928/2255 [09:00<13:44,  1.61section/s]"
     ]
    },
    {
     "name": "stdout",
     "output_type": "stream",
     "text": [
      "Processing section: 1603.00413.tex --> Detector and dataset | Number of chunks: 2\n"
     ]
    },
    {
     "name": "stderr",
     "output_type": "stream",
     "text": [
      "Processing sections:  41%|████      | 929/2255 [09:01<16:01,  1.38section/s]"
     ]
    },
    {
     "name": "stdout",
     "output_type": "stream",
     "text": [
      "Processing section: 1603.00413.tex --> Selection requirements and efficiency modelling | Number of chunks: 3\n"
     ]
    },
    {
     "name": "stderr",
     "output_type": "stream",
     "text": [
      "Processing sections:  41%|████      | 930/2255 [09:02<19:20,  1.14section/s]"
     ]
    },
    {
     "name": "stdout",
     "output_type": "stream",
     "text": [
      "Processing section: 1603.00413.tex --> Fit model and results | Number of chunks: 3\n"
     ]
    },
    {
     "name": "stderr",
     "output_type": "stream",
     "text": [
      "Processing sections:  41%|████▏     | 931/2255 [09:04<22:03,  1.00section/s]"
     ]
    },
    {
     "name": "stdout",
     "output_type": "stream",
     "text": [
      "Processing section: 1603.00413.tex --> Conclusions | Number of chunks: 1\n"
     ]
    },
    {
     "name": "stderr",
     "output_type": "stream",
     "text": [
      "Processing sections:  41%|████▏     | 932/2255 [09:04<20:45,  1.06section/s]"
     ]
    },
    {
     "name": "stdout",
     "output_type": "stream",
     "text": [
      "Processing section: 1503.07055.tex --> Introduction | Number of chunks: 3\n"
     ]
    },
    {
     "name": "stderr",
     "output_type": "stream",
     "text": [
      "Processing sections:  41%|████▏     | 934/2255 [09:06<17:53,  1.23section/s]"
     ]
    },
    {
     "name": "stdout",
     "output_type": "stream",
     "text": [
      "Processing section: 1503.07055.tex --> Conclusion | Number of chunks: 2\n"
     ]
    },
    {
     "name": "stderr",
     "output_type": "stream",
     "text": [
      "Processing sections:  42%|████▏     | 936/2255 [09:07<16:06,  1.36section/s]"
     ]
    },
    {
     "name": "stdout",
     "output_type": "stream",
     "text": [
      "Processing section: 1402.0770.tex --> Introduction | Number of chunks: 1\n"
     ]
    },
    {
     "name": "stderr",
     "output_type": "stream",
     "text": [
      "Processing sections:  42%|████▏     | 938/2255 [09:07<12:17,  1.79section/s]"
     ]
    },
    {
     "name": "stdout",
     "output_type": "stream",
     "text": [
      "Processing section: 1402.0770.tex --> Selection requirements, efficiency modelling and background studies | Number of chunks: 4\n"
     ]
    },
    {
     "name": "stderr",
     "output_type": "stream",
     "text": [
      "Processing sections:  42%|████▏     | 939/2255 [09:09<16:52,  1.30section/s]"
     ]
    },
    {
     "name": "stdout",
     "output_type": "stream",
     "text": [
      "Processing section: 1402.0770.tex --> Fit model and results | Number of chunks: 2\n"
     ]
    },
    {
     "name": "stderr",
     "output_type": "stream",
     "text": [
      "Processing sections:  42%|████▏     | 940/2255 [09:10<19:30,  1.12section/s]"
     ]
    },
    {
     "name": "stdout",
     "output_type": "stream",
     "text": [
      "Processing section: 1402.0770.tex --> Systematic uncertainties | Number of chunks: 2\n"
     ]
    },
    {
     "name": "stderr",
     "output_type": "stream",
     "text": [
      "Processing sections:  42%|████▏     | 941/2255 [09:11<20:11,  1.08section/s]"
     ]
    },
    {
     "name": "stdout",
     "output_type": "stream",
     "text": [
      "Processing section: 1402.0770.tex --> Branching fraction results | Number of chunks: 4\n"
     ]
    },
    {
     "name": "stderr",
     "output_type": "stream",
     "text": [
      "Processing sections:  42%|████▏     | 942/2255 [09:13<24:09,  1.10s/section]"
     ]
    },
    {
     "name": "stdout",
     "output_type": "stream",
     "text": [
      "Processing section: 1402.0770.tex --> \\boldmath Direct \\CP asymmetry | Number of chunks: 1\n"
     ]
    },
    {
     "name": "stderr",
     "output_type": "stream",
     "text": [
      "Processing sections:  42%|████▏     | 943/2255 [09:14<21:18,  1.03section/s]"
     ]
    },
    {
     "name": "stdout",
     "output_type": "stream",
     "text": [
      "Processing section: 1303.6861.tex --> Introduction | Number of chunks: 2\n"
     ]
    },
    {
     "name": "stderr",
     "output_type": "stream",
     "text": [
      "Processing sections:  42%|████▏     | 945/2255 [09:15<17:12,  1.27section/s]"
     ]
    },
    {
     "name": "stdout",
     "output_type": "stream",
     "text": [
      "Processing section: 1303.6861.tex --> Detector, signal selection and simulation | Number of chunks: 2\n"
     ]
    },
    {
     "name": "stderr",
     "output_type": "stream",
     "text": [
      "Processing sections:  42%|████▏     | 946/2255 [09:16<20:08,  1.08section/s]"
     ]
    },
    {
     "name": "stdout",
     "output_type": "stream",
     "text": [
      "Processing section: 1303.6861.tex --> Search for excited charm resonances | Number of chunks: 2\n"
     ]
    },
    {
     "name": "stderr",
     "output_type": "stream",
     "text": [
      "Processing sections:  42%|████▏     | 947/2255 [09:17<22:15,  1.02s/section]"
     ]
    },
    {
     "name": "stdout",
     "output_type": "stream",
     "text": [
      "Processing section: 1303.6861.tex --> Summary | Number of chunks: 2\n"
     ]
    },
    {
     "name": "stderr",
     "output_type": "stream",
     "text": [
      "Processing sections:  42%|████▏     | 948/2255 [09:18<22:20,  1.03s/section]"
     ]
    },
    {
     "name": "stdout",
     "output_type": "stream",
     "text": [
      "Processing section: 1910.13404.tex --> Introduction | Number of chunks: 2\n"
     ]
    },
    {
     "name": "stderr",
     "output_type": "stream",
     "text": [
      "Processing sections:  42%|████▏     | 950/2255 [09:20<18:20,  1.19section/s]"
     ]
    },
    {
     "name": "stdout",
     "output_type": "stream",
     "text": [
      "Processing section: 1910.13404.tex --> Conclusions | Number of chunks: 3\n"
     ]
    },
    {
     "name": "stderr",
     "output_type": "stream",
     "text": [
      "Processing sections:  42%|████▏     | 951/2255 [09:21<21:02,  1.03section/s]"
     ]
    },
    {
     "name": "stdout",
     "output_type": "stream",
     "text": [
      "Processing section: 2309.05514.tex --> Introduction | Number of chunks: 2\n"
     ]
    },
    {
     "name": "stderr",
     "output_type": "stream",
     "text": [
      "Processing sections:  42%|████▏     | 953/2255 [09:22<18:11,  1.19section/s]"
     ]
    },
    {
     "name": "stdout",
     "output_type": "stream",
     "text": [
      "Processing section: 2309.05514.tex --> Summary | Number of chunks: 2\n"
     ]
    },
    {
     "name": "stderr",
     "output_type": "stream",
     "text": [
      "Processing sections:  42%|████▏     | 954/2255 [09:23<19:23,  1.12section/s]"
     ]
    },
    {
     "name": "stdout",
     "output_type": "stream",
     "text": [
      "Processing section: 1301.5286.tex --> Introduction | Number of chunks: 2\n"
     ]
    },
    {
     "name": "stderr",
     "output_type": "stream",
     "text": [
      "Processing sections:  42%|████▏     | 956/2255 [09:25<17:11,  1.26section/s]"
     ]
    },
    {
     "name": "stdout",
     "output_type": "stream",
     "text": [
      "Processing section: 1301.5286.tex --> Detector and software | Number of chunks: 1\n"
     ]
    },
    {
     "name": "stderr",
     "output_type": "stream",
     "text": [
      "Processing sections:  42%|████▏     | 957/2255 [09:25<15:41,  1.38section/s]"
     ]
    },
    {
     "name": "stdout",
     "output_type": "stream",
     "text": [
      "Processing section: 1301.5286.tex --> Event selection | Number of chunks: 1\n"
     ]
    },
    {
     "name": "stderr",
     "output_type": "stream",
     "text": [
      "Processing sections:  42%|████▏     | 958/2255 [09:26<15:35,  1.39section/s]"
     ]
    },
    {
     "name": "stdout",
     "output_type": "stream",
     "text": [
      "Processing section: 1712.04702.tex --> Results and conclusion | Number of chunks: 3\n"
     ]
    },
    {
     "name": "stderr",
     "output_type": "stream",
     "text": [
      "Processing sections:  43%|████▎     | 960/2255 [09:27<14:25,  1.50section/s]"
     ]
    },
    {
     "name": "stdout",
     "output_type": "stream",
     "text": [
      "Processing section: 1305.2050.tex --> Introduction | Number of chunks: 3\n"
     ]
    },
    {
     "name": "stderr",
     "output_type": "stream",
     "text": [
      "Processing sections:  43%|████▎     | 962/2255 [09:28<14:36,  1.48section/s]"
     ]
    },
    {
     "name": "stdout",
     "output_type": "stream",
     "text": [
      "Processing section: 2403.03586.tex --> Introduction | Number of chunks: 2\n"
     ]
    },
    {
     "name": "stderr",
     "output_type": "stream",
     "text": [
      "Processing sections:  43%|████▎     | 964/2255 [09:30<14:20,  1.50section/s]"
     ]
    },
    {
     "name": "stdout",
     "output_type": "stream",
     "text": [
      "Processing section: 1107.3935.tex --> LHCb detector and data set | Number of chunks: 2\n"
     ]
    },
    {
     "name": "stderr",
     "output_type": "stream",
     "text": [
      "Processing sections:  43%|████▎     | 966/2255 [09:31<13:22,  1.61section/s]"
     ]
    },
    {
     "name": "stdout",
     "output_type": "stream",
     "text": [
      "Processing section: 1107.3935.tex --> Data selection and efficiencies | Number of chunks: 2\n"
     ]
    },
    {
     "name": "stderr",
     "output_type": "stream",
     "text": [
      "Processing sections:  43%|████▎     | 967/2255 [09:32<15:45,  1.36section/s]"
     ]
    },
    {
     "name": "stdout",
     "output_type": "stream",
     "text": [
      "Processing section: 1602.03455.tex --> Introduction | Number of chunks: 2\n"
     ]
    },
    {
     "name": "stderr",
     "output_type": "stream",
     "text": [
      "Processing sections:  43%|████▎     | 969/2255 [09:33<15:14,  1.41section/s]"
     ]
    },
    {
     "name": "stdout",
     "output_type": "stream",
     "text": [
      "Processing section: 2011.01867.tex --> Introduction | Number of chunks: 3\n"
     ]
    },
    {
     "name": "stderr",
     "output_type": "stream",
     "text": [
      "Processing sections:  43%|████▎     | 971/2255 [09:34<14:48,  1.45section/s]"
     ]
    },
    {
     "name": "stdout",
     "output_type": "stream",
     "text": [
      "Processing section: 2011.01867.tex --> Detector and simulation | Number of chunks: 2\n"
     ]
    },
    {
     "name": "stderr",
     "output_type": "stream",
     "text": [
      "Processing sections:  43%|████▎     | 972/2255 [09:35<15:42,  1.36section/s]"
     ]
    },
    {
     "name": "stdout",
     "output_type": "stream",
     "text": [
      "Processing section: 2011.01867.tex --> Event selection | Number of chunks: 4\n"
     ]
    },
    {
     "name": "stderr",
     "output_type": "stream",
     "text": [
      "Processing sections:  43%|████▎     | 973/2255 [09:37<19:40,  1.09section/s]"
     ]
    },
    {
     "name": "stdout",
     "output_type": "stream",
     "text": [
      "Processing section: 2011.01867.tex --> Summary | Number of chunks: 3\n"
     ]
    },
    {
     "name": "stderr",
     "output_type": "stream",
     "text": [
      "Processing sections:  43%|████▎     | 974/2255 [09:38<21:28,  1.01s/section]"
     ]
    },
    {
     "name": "stdout",
     "output_type": "stream",
     "text": [
      "Processing section: 2111.01607.tex --> Conclusions | Number of chunks: 1\n"
     ]
    },
    {
     "name": "stderr",
     "output_type": "stream",
     "text": [
      "Processing sections:  43%|████▎     | 976/2255 [09:39<16:05,  1.32section/s]"
     ]
    },
    {
     "name": "stdout",
     "output_type": "stream",
     "text": [
      "Processing section: 2112.07458.tex --> Introduction | Number of chunks: 2\n"
     ]
    },
    {
     "name": "stderr",
     "output_type": "stream",
     "text": [
      "Processing sections:  43%|████▎     | 978/2255 [09:40<14:20,  1.48section/s]"
     ]
    },
    {
     "name": "stdout",
     "output_type": "stream",
     "text": [
      "Processing section: 2112.07458.tex --> Numerical results | Number of chunks: 9\n"
     ]
    },
    {
     "name": "stderr",
     "output_type": "stream",
     "text": [
      "Processing sections:  43%|████▎     | 979/2255 [09:44<27:24,  1.29s/section]"
     ]
    },
    {
     "name": "stdout",
     "output_type": "stream",
     "text": [
      "Processing section: 1909.05212.tex --> Introduction | Number of chunks: 2\n"
     ]
    },
    {
     "name": "stderr",
     "output_type": "stream",
     "text": [
      "Processing sections:  44%|████▎     | 982/2255 [09:45<18:40,  1.14section/s]"
     ]
    },
    {
     "name": "stdout",
     "output_type": "stream",
     "text": [
      "Processing section: 1909.05212.tex --> Detector and simulation | Number of chunks: 1\n"
     ]
    },
    {
     "name": "stderr",
     "output_type": "stream",
     "text": [
      "Processing sections:  44%|████▎     | 983/2255 [09:46<17:24,  1.22section/s]"
     ]
    },
    {
     "name": "stdout",
     "output_type": "stream",
     "text": [
      "Processing section: 1909.05212.tex --> Selection | Number of chunks: 1\n"
     ]
    },
    {
     "name": "stderr",
     "output_type": "stream",
     "text": [
      "Processing sections:  44%|████▎     | 984/2255 [09:46<15:49,  1.34section/s]"
     ]
    },
    {
     "name": "stdout",
     "output_type": "stream",
     "text": [
      "Processing section: 1909.05212.tex --> \\boldmath \\Bp\\ candidate invariant-mass fit | Number of chunks: 2\n"
     ]
    },
    {
     "name": "stderr",
     "output_type": "stream",
     "text": [
      "Processing sections:  44%|████▎     | 985/2255 [09:47<17:50,  1.19section/s]"
     ]
    },
    {
     "name": "stdout",
     "output_type": "stream",
     "text": [
      "Processing section: 2406.00235.tex --> Detector and selection | Number of chunks: 3\n"
     ]
    },
    {
     "name": "stderr",
     "output_type": "stream",
     "text": [
      "Processing sections:  44%|████▍     | 987/2255 [09:49<16:54,  1.25section/s]"
     ]
    },
    {
     "name": "stdout",
     "output_type": "stream",
     "text": [
      "Processing section: 2406.00235.tex --> Invariant-mass fit | Number of chunks: 2\n"
     ]
    },
    {
     "name": "stderr",
     "output_type": "stream",
     "text": [
      "Processing sections:  44%|████▍     | 988/2255 [09:50<19:36,  1.08section/s]"
     ]
    },
    {
     "name": "stdout",
     "output_type": "stream",
     "text": [
      "Processing section: 1412.7654.tex --> Determination of branching fractions | Number of chunks: 2\n"
     ]
    },
    {
     "name": "stderr",
     "output_type": "stream",
     "text": [
      "Processing sections:  44%|████▍     | 990/2255 [09:51<15:57,  1.32section/s]"
     ]
    },
    {
     "name": "stdout",
     "output_type": "stream",
     "text": [
      "Processing section: 2105.06841.tex --> Conclusion | Number of chunks: 2\n"
     ]
    },
    {
     "name": "stderr",
     "output_type": "stream",
     "text": [
      "Processing sections:  44%|████▍     | 992/2255 [09:52<13:17,  1.58section/s]"
     ]
    },
    {
     "name": "stdout",
     "output_type": "stream",
     "text": [
      "Processing section: 1302.1213.tex --> Introduction | Number of chunks: 2\n"
     ]
    },
    {
     "name": "stderr",
     "output_type": "stream",
     "text": [
      "Processing sections:  44%|████▍     | 994/2255 [09:53<13:25,  1.57section/s]"
     ]
    },
    {
     "name": "stdout",
     "output_type": "stream",
     "text": [
      "Processing section: 1302.1213.tex --> Introduction --> Systematic uncertainties | Number of chunks: 1\n"
     ]
    },
    {
     "name": "stderr",
     "output_type": "stream",
     "text": [
      "Processing sections:  44%|████▍     | 995/2255 [09:54<13:01,  1.61section/s]"
     ]
    },
    {
     "name": "stdout",
     "output_type": "stream",
     "text": [
      "Processing section: 1302.1213.tex --> Conclusions | Number of chunks: 2\n"
     ]
    },
    {
     "name": "stderr",
     "output_type": "stream",
     "text": [
      "Processing sections:  44%|████▍     | 996/2255 [09:55<15:56,  1.32section/s]"
     ]
    },
    {
     "name": "stdout",
     "output_type": "stream",
     "text": [
      "Processing section: 1304.2591.tex --> Detector and datasets | Number of chunks: 2\n"
     ]
    },
    {
     "name": "stderr",
     "output_type": "stream",
     "text": [
      "Processing sections:  44%|████▍     | 998/2255 [09:56<14:30,  1.44section/s]"
     ]
    },
    {
     "name": "stdout",
     "output_type": "stream",
     "text": [
      "Processing section: 2311.14088.tex --> Efficiency correction | Number of chunks: 2\n"
     ]
    },
    {
     "name": "stderr",
     "output_type": "stream",
     "text": [
      "Processing sections:  44%|████▍     | 1000/2255 [09:57<13:16,  1.58section/s]"
     ]
    },
    {
     "name": "stdout",
     "output_type": "stream",
     "text": [
      "Processing section: 2311.14088.tex --> Systematic uncertainties | Number of chunks: 2\n"
     ]
    },
    {
     "name": "stderr",
     "output_type": "stream",
     "text": [
      "Processing sections:  44%|████▍     | 1001/2255 [09:58<14:38,  1.43section/s]"
     ]
    },
    {
     "name": "stdout",
     "output_type": "stream",
     "text": [
      "Processing section: 2311.14088.tex --> Systematic uncertainties --> Invariant-mass fits | Number of chunks: 2\n"
     ]
    },
    {
     "name": "stderr",
     "output_type": "stream",
     "text": [
      "Processing sections:  44%|████▍     | 1002/2255 [09:59<16:25,  1.27section/s]"
     ]
    },
    {
     "name": "stdout",
     "output_type": "stream",
     "text": [
      "Processing section: 2311.14088.tex --> Conclusion | Number of chunks: 3\n"
     ]
    },
    {
     "name": "stderr",
     "output_type": "stream",
     "text": [
      "Processing sections:  44%|████▍     | 1003/2255 [10:01<19:37,  1.06section/s]"
     ]
    },
    {
     "name": "stdout",
     "output_type": "stream",
     "text": [
      "Processing section: 1210.6750.tex --> Experimental setup and datasets | Number of chunks: 1\n"
     ]
    },
    {
     "name": "stderr",
     "output_type": "stream",
     "text": [
      "Processing sections:  45%|████▍     | 1005/2255 [10:01<14:19,  1.45section/s]"
     ]
    },
    {
     "name": "stdout",
     "output_type": "stream",
     "text": [
      "Processing section: 1210.6750.tex --> Selection | Number of chunks: 2\n"
     ]
    },
    {
     "name": "stderr",
     "output_type": "stream",
     "text": [
      "Processing sections:  45%|████▍     | 1006/2255 [10:02<16:12,  1.28section/s]"
     ]
    },
    {
     "name": "stdout",
     "output_type": "stream",
     "text": [
      "Processing section: 1210.6750.tex --> Systematic uncertainties | Number of chunks: 1\n"
     ]
    },
    {
     "name": "stderr",
     "output_type": "stream",
     "text": [
      "Processing sections:  45%|████▍     | 1007/2255 [10:03<15:03,  1.38section/s]"
     ]
    },
    {
     "name": "stdout",
     "output_type": "stream",
     "text": [
      "Processing section: 1309.5911.tex --> Summary | Number of chunks: 2\n"
     ]
    },
    {
     "name": "stderr",
     "output_type": "stream",
     "text": [
      "Processing sections:  45%|████▍     | 1010/2255 [10:04<12:14,  1.70section/s]"
     ]
    },
    {
     "name": "stdout",
     "output_type": "stream",
     "text": [
      "Processing section: 1903.12240.tex --> Introduction | Number of chunks: 2\n"
     ]
    },
    {
     "name": "stderr",
     "output_type": "stream",
     "text": [
      "Processing sections:  45%|████▍     | 1012/2255 [10:05<11:05,  1.87section/s]"
     ]
    },
    {
     "name": "stdout",
     "output_type": "stream",
     "text": [
      "Processing section: 1903.12240.tex --> The LHCb detector and simulation | Number of chunks: 1\n"
     ]
    },
    {
     "name": "stderr",
     "output_type": "stream",
     "text": [
      "Processing sections:  45%|████▍     | 1013/2255 [10:06<10:48,  1.91section/s]"
     ]
    },
    {
     "name": "stdout",
     "output_type": "stream",
     "text": [
      "Processing section: 1903.12240.tex --> Selection | Number of chunks: 16\n"
     ]
    },
    {
     "name": "stderr",
     "output_type": "stream",
     "text": [
      "Processing sections:  45%|████▍     | 1014/2255 [10:12<37:15,  1.80s/section]"
     ]
    },
    {
     "name": "stdout",
     "output_type": "stream",
     "text": [
      "Processing section: 1812.07041.tex --> Introduction | Number of chunks: 2\n"
     ]
    },
    {
     "name": "stderr",
     "output_type": "stream",
     "text": [
      "Processing sections:  45%|████▌     | 1016/2255 [10:13<28:09,  1.36s/section]"
     ]
    },
    {
     "name": "stdout",
     "output_type": "stream",
     "text": [
      "Processing section: 1812.07041.tex --> Systematic uncertainties | Number of chunks: 3\n"
     ]
    },
    {
     "name": "stderr",
     "output_type": "stream",
     "text": [
      "Processing sections:  45%|████▌     | 1017/2255 [10:15<28:16,  1.37s/section]"
     ]
    },
    {
     "name": "stdout",
     "output_type": "stream",
     "text": [
      "Processing section: 1812.07041.tex --> Systematic uncertainties --> Uncertainties on the branching fraction | Number of chunks: 3\n"
     ]
    },
    {
     "name": "stderr",
     "output_type": "stream",
     "text": [
      "Processing sections:  45%|████▌     | 1018/2255 [10:16<28:25,  1.38s/section]"
     ]
    },
    {
     "name": "stdout",
     "output_type": "stream",
     "text": [
      "Processing section: 1812.07041.tex --> Results and Summary | Number of chunks: 2\n"
     ]
    },
    {
     "name": "stderr",
     "output_type": "stream",
     "text": [
      "Processing sections:  45%|████▌     | 1019/2255 [10:17<26:51,  1.30s/section]"
     ]
    },
    {
     "name": "stdout",
     "output_type": "stream",
     "text": [
      "Processing section: 1809.07416.tex --> Introduction | Number of chunks: 2\n"
     ]
    },
    {
     "name": "stderr",
     "output_type": "stream",
     "text": [
      "Processing sections:  45%|████▌     | 1021/2255 [10:19<20:58,  1.02s/section]"
     ]
    },
    {
     "name": "stdout",
     "output_type": "stream",
     "text": [
      "Processing section: 2002.05112.tex --> Introduction | Number of chunks: 4\n"
     ]
    },
    {
     "name": "stderr",
     "output_type": "stream",
     "text": [
      "Processing sections:  45%|████▌     | 1023/2255 [10:20<19:26,  1.06section/s]"
     ]
    },
    {
     "name": "stdout",
     "output_type": "stream",
     "text": [
      "Processing section: 2002.05112.tex --> Results and summary | Number of chunks: 3\n"
     ]
    },
    {
     "name": "stderr",
     "output_type": "stream",
     "text": [
      "Processing sections:  45%|████▌     | 1024/2255 [10:22<21:38,  1.05s/section]"
     ]
    },
    {
     "name": "stdout",
     "output_type": "stream",
     "text": [
      "Processing section: 1506.08634.tex --> Introduction | Number of chunks: 2\n"
     ]
    },
    {
     "name": "stderr",
     "output_type": "stream",
     "text": [
      "Processing sections:  45%|████▌     | 1026/2255 [10:23<18:11,  1.13section/s]"
     ]
    },
    {
     "name": "stdout",
     "output_type": "stream",
     "text": [
      "Processing section: 1506.08634.tex --> Event selection | Number of chunks: 2\n"
     ]
    },
    {
     "name": "stderr",
     "output_type": "stream",
     "text": [
      "Processing sections:  46%|████▌     | 1027/2255 [10:24<19:58,  1.02section/s]"
     ]
    },
    {
     "name": "stdout",
     "output_type": "stream",
     "text": [
      "Processing section: 1506.08634.tex --> Fit model | Number of chunks: 2\n"
     ]
    },
    {
     "name": "stderr",
     "output_type": "stream",
     "text": [
      "Processing sections:  46%|████▌     | 1028/2255 [10:25<20:27,  1.00s/section]"
     ]
    },
    {
     "name": "stdout",
     "output_type": "stream",
     "text": [
      "Processing section: 1506.08634.tex --> Summary and conclusion | Number of chunks: 2\n"
     ]
    },
    {
     "name": "stderr",
     "output_type": "stream",
     "text": [
      "Processing sections:  46%|████▌     | 1029/2255 [10:26<21:04,  1.03s/section]"
     ]
    },
    {
     "name": "stdout",
     "output_type": "stream",
     "text": [
      "Processing section: 1304.4530.tex --> Introduction | Number of chunks: 2\n"
     ]
    },
    {
     "name": "stderr",
     "output_type": "stream",
     "text": [
      "Processing sections:  46%|████▌     | 1031/2255 [10:28<17:01,  1.20section/s]"
     ]
    },
    {
     "name": "stdout",
     "output_type": "stream",
     "text": [
      "Processing section: 1304.4530.tex --> Results and summary | Number of chunks: 2\n"
     ]
    },
    {
     "name": "stderr",
     "output_type": "stream",
     "text": [
      "Processing sections:  46%|████▌     | 1032/2255 [10:29<19:12,  1.06section/s]"
     ]
    },
    {
     "name": "stdout",
     "output_type": "stream",
     "text": [
      "Processing section: 2308.00587.tex --> Efficiency | Number of chunks: 3\n"
     ]
    },
    {
     "name": "stderr",
     "output_type": "stream",
     "text": [
      "Processing sections:  46%|████▌     | 1034/2255 [10:30<17:16,  1.18section/s]"
     ]
    },
    {
     "name": "stdout",
     "output_type": "stream",
     "text": [
      "Processing section: 2308.00587.tex --> Results | Number of chunks: 2\n"
     ]
    },
    {
     "name": "stderr",
     "output_type": "stream",
     "text": [
      "Processing sections:  46%|████▌     | 1035/2255 [10:31<18:40,  1.09section/s]"
     ]
    },
    {
     "name": "stdout",
     "output_type": "stream",
     "text": [
      "Processing section: 2308.00587.tex --> Conclusion | Number of chunks: 2\n"
     ]
    },
    {
     "name": "stderr",
     "output_type": "stream",
     "text": [
      "Processing sections:  46%|████▌     | 1036/2255 [10:32<17:52,  1.14section/s]"
     ]
    },
    {
     "name": "stdout",
     "output_type": "stream",
     "text": [
      "Processing section: 1601.05284.tex --> Introduction | Number of chunks: 2\n"
     ]
    },
    {
     "name": "stderr",
     "output_type": "stream",
     "text": [
      "Processing sections:  46%|████▌     | 1038/2255 [10:33<14:49,  1.37section/s]"
     ]
    },
    {
     "name": "stdout",
     "output_type": "stream",
     "text": [
      "Processing section: 1601.05284.tex --> Event selection | Number of chunks: 2\n"
     ]
    },
    {
     "name": "stderr",
     "output_type": "stream",
     "text": [
      "Processing sections:  46%|████▌     | 1039/2255 [10:35<17:35,  1.15section/s]"
     ]
    },
    {
     "name": "stdout",
     "output_type": "stream",
     "text": [
      "Processing section: 1601.05284.tex --> Systematic uncertainties | Number of chunks: 2\n"
     ]
    },
    {
     "name": "stderr",
     "output_type": "stream",
     "text": [
      "Processing sections:  46%|████▌     | 1040/2255 [10:36<18:09,  1.12section/s]"
     ]
    },
    {
     "name": "stdout",
     "output_type": "stream",
     "text": [
      "Processing section: 1601.05284.tex --> Conclusions | Number of chunks: 2\n"
     ]
    },
    {
     "name": "stderr",
     "output_type": "stream",
     "text": [
      "Processing sections:  46%|████▌     | 1041/2255 [10:37<19:13,  1.05section/s]"
     ]
    },
    {
     "name": "stdout",
     "output_type": "stream",
     "text": [
      "Processing section: 2208.08660.tex --> Introduction | Number of chunks: 2\n"
     ]
    },
    {
     "name": "stderr",
     "output_type": "stream",
     "text": [
      "Processing sections:  46%|████▋     | 1043/2255 [10:38<15:31,  1.30section/s]"
     ]
    },
    {
     "name": "stdout",
     "output_type": "stream",
     "text": [
      "Processing section: 2208.08660.tex --> Detector and simulation | Number of chunks: 2\n"
     ]
    },
    {
     "name": "stderr",
     "output_type": "stream",
     "text": [
      "Processing sections:  46%|████▋     | 1044/2255 [10:39<15:56,  1.27section/s]"
     ]
    },
    {
     "name": "stdout",
     "output_type": "stream",
     "text": [
      "Processing section: 2208.08660.tex --> Event selection | Number of chunks: 3\n"
     ]
    },
    {
     "name": "stderr",
     "output_type": "stream",
     "text": [
      "Processing sections:  46%|████▋     | 1045/2255 [10:40<19:02,  1.06section/s]"
     ]
    },
    {
     "name": "stdout",
     "output_type": "stream",
     "text": [
      "Processing section: 2308.12940.tex --> Introduction | Number of chunks: 2\n"
     ]
    },
    {
     "name": "stderr",
     "output_type": "stream",
     "text": [
      "Processing sections:  46%|████▋     | 1047/2255 [10:41<15:50,  1.27section/s]"
     ]
    },
    {
     "name": "stdout",
     "output_type": "stream",
     "text": [
      "Processing section: 2308.12940.tex --> Detector and simulation | Number of chunks: 1\n"
     ]
    },
    {
     "name": "stderr",
     "output_type": "stream",
     "text": [
      "Processing sections:  46%|████▋     | 1048/2255 [10:42<15:31,  1.30section/s]"
     ]
    },
    {
     "name": "stdout",
     "output_type": "stream",
     "text": [
      "Processing section: 1308.1302.tex --> Data selection and reconstruction | Number of chunks: 3\n"
     ]
    },
    {
     "name": "stderr",
     "output_type": "stream",
     "text": [
      "Processing sections:  47%|████▋     | 1050/2255 [10:43<15:02,  1.33section/s]"
     ]
    },
    {
     "name": "stdout",
     "output_type": "stream",
     "text": [
      "Processing section: 1308.1302.tex --> Conclusion | Number of chunks: 2\n"
     ]
    },
    {
     "name": "stderr",
     "output_type": "stream",
     "text": [
      "Processing sections:  47%|████▋     | 1051/2255 [10:44<16:46,  1.20section/s]"
     ]
    },
    {
     "name": "stdout",
     "output_type": "stream",
     "text": [
      "Processing section: 1009.1963.tex --> Introduction | Number of chunks: 1\n"
     ]
    },
    {
     "name": "stderr",
     "output_type": "stream",
     "text": [
      "Processing sections:  47%|████▋     | 1053/2255 [10:45<12:53,  1.55section/s]"
     ]
    },
    {
     "name": "stdout",
     "output_type": "stream",
     "text": [
      "Processing section: 1009.1963.tex --> The LHCb muon system | Number of chunks: 1\n"
     ]
    },
    {
     "name": "stderr",
     "output_type": "stream",
     "text": [
      "Processing sections:  47%|████▋     | 1054/2255 [10:46<12:06,  1.65section/s]"
     ]
    },
    {
     "name": "stdout",
     "output_type": "stream",
     "text": [
      "Processing section: 1009.1963.tex --> Acknowledgments | Number of chunks: 2\n"
     ]
    },
    {
     "name": "stderr",
     "output_type": "stream",
     "text": [
      "Processing sections:  47%|████▋     | 1055/2255 [10:46<13:44,  1.45section/s]"
     ]
    },
    {
     "name": "stdout",
     "output_type": "stream",
     "text": [
      "Processing section: 1903.06792.tex --> \\boldmath Measurements of \\CP asymmetries and concluding remarks | Number of chunks: 3\n"
     ]
    },
    {
     "name": "stderr",
     "output_type": "stream",
     "text": [
      "Processing sections:  47%|████▋     | 1057/2255 [10:48<13:51,  1.44section/s]"
     ]
    },
    {
     "name": "stdout",
     "output_type": "stream",
     "text": [
      "Processing section: 1112.4311.tex --> Introduction | Number of chunks: 1\n"
     ]
    },
    {
     "name": "stderr",
     "output_type": "stream",
     "text": [
      "Processing sections:  47%|████▋     | 1059/2255 [10:49<11:19,  1.76section/s]"
     ]
    },
    {
     "name": "stdout",
     "output_type": "stream",
     "text": [
      "Processing section: 1112.4311.tex --> Data sample and analysis strategy | Number of chunks: 2\n"
     ]
    },
    {
     "name": "stderr",
     "output_type": "stream",
     "text": [
      "Processing sections:  47%|████▋     | 1060/2255 [10:50<13:53,  1.43section/s]"
     ]
    },
    {
     "name": "stdout",
     "output_type": "stream",
     "text": [
      "Processing section: 1112.4311.tex --> Conclusion | Number of chunks: 2\n"
     ]
    },
    {
     "name": "stderr",
     "output_type": "stream",
     "text": [
      "Processing sections:  47%|████▋     | 1061/2255 [10:51<15:18,  1.30section/s]"
     ]
    },
    {
     "name": "stdout",
     "output_type": "stream",
     "text": [
      "Processing section: 2204.09541.tex --> Introduction | Number of chunks: 3\n"
     ]
    },
    {
     "name": "stderr",
     "output_type": "stream",
     "text": [
      "Processing sections:  47%|████▋     | 1063/2255 [10:52<14:43,  1.35section/s]"
     ]
    },
    {
     "name": "stdout",
     "output_type": "stream",
     "text": [
      "Processing section: 1503.05362.tex --> Introduction | Number of chunks: 2\n"
     ]
    },
    {
     "name": "stderr",
     "output_type": "stream",
     "text": [
      "Processing sections:  47%|████▋     | 1065/2255 [10:53<13:20,  1.49section/s]"
     ]
    },
    {
     "name": "stdout",
     "output_type": "stream",
     "text": [
      "Processing section: 1503.05362.tex --> Analysis strategy | Number of chunks: 5\n"
     ]
    },
    {
     "name": "stderr",
     "output_type": "stream",
     "text": [
      "Processing sections:  47%|████▋     | 1066/2255 [10:55<18:47,  1.05section/s]"
     ]
    },
    {
     "name": "stdout",
     "output_type": "stream",
     "text": [
      "Processing section: 1503.05362.tex --> Analysis strategy --> Angular distribution | Number of chunks: 4\n"
     ]
    },
    {
     "name": "stderr",
     "output_type": "stream",
     "text": [
      "Processing sections:  47%|████▋     | 1068/2255 [10:57<17:38,  1.12section/s]"
     ]
    },
    {
     "name": "stdout",
     "output_type": "stream",
     "text": [
      "Processing section: 1503.05362.tex --> Conclusions | Number of chunks: 2\n"
     ]
    },
    {
     "name": "stderr",
     "output_type": "stream",
     "text": [
      "Processing sections:  47%|████▋     | 1069/2255 [10:58<18:23,  1.07section/s]"
     ]
    },
    {
     "name": "stdout",
     "output_type": "stream",
     "text": [
      "Processing section: 1509.00400.tex --> Introduction | Number of chunks: 2\n"
     ]
    },
    {
     "name": "stderr",
     "output_type": "stream",
     "text": [
      "Processing sections:  47%|████▋     | 1071/2255 [10:59<16:06,  1.22section/s]"
     ]
    },
    {
     "name": "stdout",
     "output_type": "stream",
     "text": [
      "Processing section: 2305.06711.tex --> Introduction | Number of chunks: 2\n"
     ]
    },
    {
     "name": "stderr",
     "output_type": "stream",
     "text": [
      "Processing sections:  48%|████▊     | 1073/2255 [11:00<14:49,  1.33section/s]"
     ]
    },
    {
     "name": "stdout",
     "output_type": "stream",
     "text": [
      "Processing section: 2305.06711.tex --> Analysis, detector, and simulation | Number of chunks: 2\n"
     ]
    },
    {
     "name": "stderr",
     "output_type": "stream",
     "text": [
      "Processing sections:  48%|████▊     | 1074/2255 [11:02<16:46,  1.17section/s]"
     ]
    },
    {
     "name": "stdout",
     "output_type": "stream",
     "text": [
      "Processing section: 2305.06711.tex --> Determination of signal yields and efficiency | Number of chunks: 2\n"
     ]
    },
    {
     "name": "stderr",
     "output_type": "stream",
     "text": [
      "Processing sections:  48%|████▊     | 1075/2255 [11:03<18:28,  1.06section/s]"
     ]
    },
    {
     "name": "stdout",
     "output_type": "stream",
     "text": [
      "Processing section: 2305.06711.tex --> Results | Number of chunks: 3\n"
     ]
    },
    {
     "name": "stderr",
     "output_type": "stream",
     "text": [
      "Processing sections:  48%|████▊     | 1076/2255 [11:04<20:37,  1.05s/section]"
     ]
    },
    {
     "name": "stdout",
     "output_type": "stream",
     "text": [
      "Processing section: 2305.06711.tex --> Results --> Differential ratio of \\Xicp to \\Lc($D^{0}$) | Number of chunks: 2\n"
     ]
    },
    {
     "name": "stderr",
     "output_type": "stream",
     "text": [
      "Processing sections:  48%|████▊     | 1077/2255 [11:06<21:21,  1.09s/section]"
     ]
    },
    {
     "name": "stdout",
     "output_type": "stream",
     "text": [
      "Processing section: 2305.06711.tex --> Summary | Number of chunks: 2\n"
     ]
    },
    {
     "name": "stderr",
     "output_type": "stream",
     "text": [
      "Processing sections:  48%|████▊     | 1078/2255 [11:06<20:24,  1.04s/section]"
     ]
    },
    {
     "name": "stdout",
     "output_type": "stream",
     "text": [
      "Processing section: 2305.06711.tex --> Additional plots | Number of chunks: 2\n"
     ]
    },
    {
     "name": "stderr",
     "output_type": "stream",
     "text": [
      "Processing sections:  48%|████▊     | 1079/2255 [11:08<20:47,  1.06s/section]"
     ]
    },
    {
     "name": "stdout",
     "output_type": "stream",
     "text": [
      "Processing section: 2211.00812.tex --> Introduction | Number of chunks: 2\n"
     ]
    },
    {
     "name": "stderr",
     "output_type": "stream",
     "text": [
      "Processing sections:  48%|████▊     | 1081/2255 [11:09<16:34,  1.18section/s]"
     ]
    },
    {
     "name": "stdout",
     "output_type": "stream",
     "text": [
      "Processing section: 2211.00812.tex --> Detector and signal selection | Number of chunks: 2\n"
     ]
    },
    {
     "name": "stderr",
     "output_type": "stream",
     "text": [
      "Processing sections:  48%|████▊     | 1082/2255 [11:10<17:24,  1.12section/s]"
     ]
    },
    {
     "name": "stdout",
     "output_type": "stream",
     "text": [
      "Processing section: 2211.00812.tex --> Summary | Number of chunks: 2\n"
     ]
    },
    {
     "name": "stderr",
     "output_type": "stream",
     "text": [
      "Processing sections:  48%|████▊     | 1083/2255 [11:11<17:13,  1.13section/s]"
     ]
    },
    {
     "name": "stdout",
     "output_type": "stream",
     "text": [
      "Processing section: 1808.00264.tex --> Introduction | Number of chunks: 2\n"
     ]
    },
    {
     "name": "stderr",
     "output_type": "stream",
     "text": [
      "Processing sections:  48%|████▊     | 1085/2255 [11:12<14:07,  1.38section/s]"
     ]
    },
    {
     "name": "stdout",
     "output_type": "stream",
     "text": [
      "Processing section: 1808.00264.tex --> Moments of the angular distribution | Number of chunks: 2\n"
     ]
    },
    {
     "name": "stderr",
     "output_type": "stream",
     "text": [
      "Processing sections:  48%|████▊     | 1086/2255 [11:13<15:09,  1.29section/s]"
     ]
    },
    {
     "name": "stdout",
     "output_type": "stream",
     "text": [
      "Processing section: 1808.00264.tex --> Detector and simulation | Number of chunks: 1\n"
     ]
    },
    {
     "name": "stderr",
     "output_type": "stream",
     "text": [
      "Processing sections:  48%|████▊     | 1087/2255 [11:13<14:50,  1.31section/s]"
     ]
    },
    {
     "name": "stdout",
     "output_type": "stream",
     "text": [
      "Processing section: 1808.00264.tex --> Candidate selection | Number of chunks: 1\n"
     ]
    },
    {
     "name": "stderr",
     "output_type": "stream",
     "text": [
      "Processing sections:  48%|████▊     | 1088/2255 [11:14<14:32,  1.34section/s]"
     ]
    },
    {
     "name": "stdout",
     "output_type": "stream",
     "text": [
      "Processing section: 1404.0287.tex --> Detector | Number of chunks: 1\n"
     ]
    },
    {
     "name": "stderr",
     "output_type": "stream",
     "text": [
      "Processing sections:  48%|████▊     | 1090/2255 [11:14<10:05,  1.92section/s]"
     ]
    },
    {
     "name": "stdout",
     "output_type": "stream",
     "text": [
      "Processing section: 1404.0287.tex --> Candidate selection | Number of chunks: 2\n"
     ]
    },
    {
     "name": "stderr",
     "output_type": "stream",
     "text": [
      "Processing sections:  48%|████▊     | 1091/2255 [11:15<11:17,  1.72section/s]"
     ]
    },
    {
     "name": "stdout",
     "output_type": "stream",
     "text": [
      "Processing section: 1404.0287.tex --> Efficiency and systematic uncertainties | Number of chunks: 2\n"
     ]
    },
    {
     "name": "stderr",
     "output_type": "stream",
     "text": [
      "Processing sections:  48%|████▊     | 1092/2255 [11:16<13:54,  1.39section/s]"
     ]
    },
    {
     "name": "stdout",
     "output_type": "stream",
     "text": [
      "Processing section: 1404.0287.tex --> Results and summary  | Number of chunks: 2\n"
     ]
    },
    {
     "name": "stderr",
     "output_type": "stream",
     "text": [
      "Processing sections:  48%|████▊     | 1093/2255 [11:17<15:52,  1.22section/s]"
     ]
    },
    {
     "name": "stdout",
     "output_type": "stream",
     "text": [
      "Processing section: 2112.10617.tex --> Introduction | Number of chunks: 2\n"
     ]
    },
    {
     "name": "stderr",
     "output_type": "stream",
     "text": [
      "Processing sections:  49%|████▊     | 1095/2255 [11:19<13:34,  1.42section/s]"
     ]
    },
    {
     "name": "stdout",
     "output_type": "stream",
     "text": [
      "Processing section: 2112.10617.tex --> External inputs and formalism | Number of chunks: 3\n"
     ]
    },
    {
     "name": "stderr",
     "output_type": "stream",
     "text": [
      "Processing sections:  49%|████▊     | 1096/2255 [11:20<16:46,  1.15section/s]"
     ]
    },
    {
     "name": "stdout",
     "output_type": "stream",
     "text": [
      "Processing section: 2112.10617.tex --> The \\lhcb detector | Number of chunks: 1\n"
     ]
    },
    {
     "name": "stderr",
     "output_type": "stream",
     "text": [
      "Processing sections:  49%|████▊     | 1097/2255 [11:20<14:59,  1.29section/s]"
     ]
    },
    {
     "name": "stdout",
     "output_type": "stream",
     "text": [
      "Processing section: 2112.10617.tex --> Event selection | Number of chunks: 2\n"
     ]
    },
    {
     "name": "stderr",
     "output_type": "stream",
     "text": [
      "Processing sections:  49%|████▊     | 1098/2255 [11:22<16:48,  1.15section/s]"
     ]
    },
    {
     "name": "stdout",
     "output_type": "stream",
     "text": [
      "Processing section: 2112.10617.tex --> Mass fit | Number of chunks: 2\n"
     ]
    },
    {
     "name": "stderr",
     "output_type": "stream",
     "text": [
      "Processing sections:  49%|████▊     | 1099/2255 [11:22<16:30,  1.17section/s]"
     ]
    },
    {
     "name": "stdout",
     "output_type": "stream",
     "text": [
      "Processing section: 1806.01202.tex --> Introduction | Number of chunks: 2\n"
     ]
    },
    {
     "name": "stderr",
     "output_type": "stream",
     "text": [
      "Processing sections:  49%|████▉     | 1101/2255 [11:24<14:39,  1.31section/s]"
     ]
    },
    {
     "name": "stdout",
     "output_type": "stream",
     "text": [
      "Processing section: 1806.01202.tex --> Overview of the analysis | Number of chunks: 2\n"
     ]
    },
    {
     "name": "stderr",
     "output_type": "stream",
     "text": [
      "Processing sections:  49%|████▉     | 1102/2255 [11:25<17:22,  1.11section/s]"
     ]
    },
    {
     "name": "stdout",
     "output_type": "stream",
     "text": [
      "Processing section: 1806.01202.tex --> Conclusions | Number of chunks: 2\n"
     ]
    },
    {
     "name": "stderr",
     "output_type": "stream",
     "text": [
      "Processing sections:  49%|████▉     | 1103/2255 [11:26<18:26,  1.04section/s]"
     ]
    },
    {
     "name": "stdout",
     "output_type": "stream",
     "text": [
      "Processing section: 1806.10576.tex --> Introduction | Number of chunks: 2\n"
     ]
    },
    {
     "name": "stderr",
     "output_type": "stream",
     "text": [
      "Processing sections:  49%|████▉     | 1105/2255 [11:28<16:01,  1.20section/s]"
     ]
    },
    {
     "name": "stdout",
     "output_type": "stream",
     "text": [
      "Processing section: 1806.10576.tex --> Summary | Number of chunks: 2\n"
     ]
    },
    {
     "name": "stderr",
     "output_type": "stream",
     "text": [
      "Processing sections:  49%|████▉     | 1106/2255 [11:29<17:44,  1.08section/s]"
     ]
    },
    {
     "name": "stdout",
     "output_type": "stream",
     "text": [
      "Processing section: 1211.6093.tex --> Introduction | Number of chunks: 2\n"
     ]
    },
    {
     "name": "stderr",
     "output_type": "stream",
     "text": [
      "Processing sections:  49%|████▉     | 1108/2255 [11:30<14:43,  1.30section/s]"
     ]
    },
    {
     "name": "stdout",
     "output_type": "stream",
     "text": [
      "Processing section: 1211.6093.tex --> Data samples and selection requirements | Number of chunks: 2\n"
     ]
    },
    {
     "name": "stderr",
     "output_type": "stream",
     "text": [
      "Processing sections:  49%|████▉     | 1109/2255 [11:31<16:58,  1.13section/s]"
     ]
    },
    {
     "name": "stdout",
     "output_type": "stream",
     "text": [
      "Processing section: 1211.6093.tex --> Flavour tagging | Number of chunks: 2\n"
     ]
    },
    {
     "name": "stderr",
     "output_type": "stream",
     "text": [
      "Processing sections:  49%|████▉     | 1110/2255 [11:32<17:08,  1.11section/s]"
     ]
    },
    {
     "name": "stdout",
     "output_type": "stream",
     "text": [
      "Processing section: 1211.6093.tex --> \\texorpdfstring{Measurement of {\\boldmath \\SJpsiKS and \\CJpsiKS}}{Measurement of S and C} | Number of chunks: 2\n"
     ]
    },
    {
     "name": "stderr",
     "output_type": "stream",
     "text": [
      "Processing sections:  49%|████▉     | 1111/2255 [11:33<18:35,  1.03section/s]"
     ]
    },
    {
     "name": "stdout",
     "output_type": "stream",
     "text": [
      "Processing section: 1211.6093.tex --> Systematic uncertainties | Number of chunks: 1\n"
     ]
    },
    {
     "name": "stderr",
     "output_type": "stream",
     "text": [
      "Processing sections:  49%|████▉     | 1112/2255 [11:34<16:14,  1.17section/s]"
     ]
    },
    {
     "name": "stdout",
     "output_type": "stream",
     "text": [
      "Processing section: 1304.4741.tex --> Introduction | Number of chunks: 1\n"
     ]
    },
    {
     "name": "stderr",
     "output_type": "stream",
     "text": [
      "Processing sections:  49%|████▉     | 1114/2255 [11:35<12:15,  1.55section/s]"
     ]
    },
    {
     "name": "stdout",
     "output_type": "stream",
     "text": [
      "Processing section: 1304.4741.tex --> The \\lhcb experiment | Number of chunks: 1\n"
     ]
    },
    {
     "name": "stderr",
     "output_type": "stream",
     "text": [
      "Processing sections:  49%|████▉     | 1115/2255 [11:35<12:22,  1.53section/s]"
     ]
    },
    {
     "name": "stdout",
     "output_type": "stream",
     "text": [
      "Processing section: 1304.4741.tex --> Signal selection and analysis strategy | Number of chunks: 2\n"
     ]
    },
    {
     "name": "stderr",
     "output_type": "stream",
     "text": [
      "Processing sections:  49%|████▉     | 1116/2255 [11:36<14:26,  1.31section/s]"
     ]
    },
    {
     "name": "stdout",
     "output_type": "stream",
     "text": [
      "Processing section: 2012.02696.tex --> Conclusion | Number of chunks: 2\n"
     ]
    },
    {
     "name": "stderr",
     "output_type": "stream",
     "text": [
      "Processing sections:  50%|████▉     | 1118/2255 [11:37<12:32,  1.51section/s]"
     ]
    },
    {
     "name": "stdout",
     "output_type": "stream",
     "text": [
      "Processing section: 1505.01654.tex --> Introduction | Number of chunks: 2\n"
     ]
    },
    {
     "name": "stderr",
     "output_type": "stream",
     "text": [
      "Processing sections:  50%|████▉     | 1120/2255 [11:39<12:21,  1.53section/s]"
     ]
    },
    {
     "name": "stdout",
     "output_type": "stream",
     "text": [
      "Processing section: 1505.01654.tex --> LHCb detector | Number of chunks: 1\n"
     ]
    },
    {
     "name": "stderr",
     "output_type": "stream",
     "text": [
      "Processing sections:  50%|████▉     | 1121/2255 [11:39<11:47,  1.60section/s]"
     ]
    },
    {
     "name": "stdout",
     "output_type": "stream",
     "text": [
      "Processing section: 1505.01654.tex --> Determination of signal yield | Number of chunks: 3\n"
     ]
    },
    {
     "name": "stderr",
     "output_type": "stream",
     "text": [
      "Processing sections:  50%|████▉     | 1122/2255 [11:40<14:56,  1.26section/s]"
     ]
    },
    {
     "name": "stdout",
     "output_type": "stream",
     "text": [
      "Processing section: 1803.10990.tex --> Production and detection asymmetries | Number of chunks: 2\n"
     ]
    },
    {
     "name": "stderr",
     "output_type": "stream",
     "text": [
      "Processing sections:  50%|████▉     | 1124/2255 [11:41<12:39,  1.49section/s]"
     ]
    },
    {
     "name": "stdout",
     "output_type": "stream",
     "text": [
      "Processing section: 1803.10990.tex --> Results and conclusions | Number of chunks: 2\n"
     ]
    },
    {
     "name": "stderr",
     "output_type": "stream",
     "text": [
      "Processing sections:  50%|████▉     | 1125/2255 [11:42<14:14,  1.32section/s]"
     ]
    },
    {
     "name": "stdout",
     "output_type": "stream",
     "text": [
      "Processing section: 1712.08609.tex --> \\label{sec:Introduction}Introduction | Number of chunks: 1\n"
     ]
    },
    {
     "name": "stderr",
     "output_type": "stream",
     "text": [
      "Processing sections:  50%|████▉     | 1127/2255 [11:43<10:55,  1.72section/s]"
     ]
    },
    {
     "name": "stdout",
     "output_type": "stream",
     "text": [
      "Processing section: 1712.08609.tex --> \\label{sec:detector}Detector and simulation | Number of chunks: 1\n"
     ]
    },
    {
     "name": "stderr",
     "output_type": "stream",
     "text": [
      "Processing sections:  50%|█████     | 1128/2255 [11:44<10:44,  1.75section/s]"
     ]
    },
    {
     "name": "stdout",
     "output_type": "stream",
     "text": [
      "Processing section: 1712.08609.tex --> \\label{sec:selection}Signal selection and backgrounds | Number of chunks: 3\n"
     ]
    },
    {
     "name": "stderr",
     "output_type": "stream",
     "text": [
      "Processing sections:  50%|█████     | 1129/2255 [11:45<14:23,  1.30section/s]"
     ]
    },
    {
     "name": "stdout",
     "output_type": "stream",
     "text": [
      "Processing section: 2207.04005.tex --> Introduction | Number of chunks: 2\n"
     ]
    },
    {
     "name": "stderr",
     "output_type": "stream",
     "text": [
      "Processing sections:  50%|█████     | 1131/2255 [11:46<11:55,  1.57section/s]"
     ]
    },
    {
     "name": "stdout",
     "output_type": "stream",
     "text": [
      "Processing section: 2207.04005.tex --> Detector and simulation | Number of chunks: 1\n"
     ]
    },
    {
     "name": "stderr",
     "output_type": "stream",
     "text": [
      "Processing sections:  50%|█████     | 1132/2255 [11:46<11:15,  1.66section/s]"
     ]
    },
    {
     "name": "stdout",
     "output_type": "stream",
     "text": [
      "Processing section: 2207.04005.tex --> Selection of signal candidates | Number of chunks: 3\n"
     ]
    },
    {
     "name": "stderr",
     "output_type": "stream",
     "text": [
      "Processing sections:  50%|█████     | 1133/2255 [11:48<14:55,  1.25section/s]"
     ]
    },
    {
     "name": "stdout",
     "output_type": "stream",
     "text": [
      "Processing section: 2207.04005.tex --> Normalisation | Number of chunks: 2\n"
     ]
    },
    {
     "name": "stderr",
     "output_type": "stream",
     "text": [
      "Processing sections:  50%|█████     | 1134/2255 [11:49<16:27,  1.14section/s]"
     ]
    },
    {
     "name": "stdout",
     "output_type": "stream",
     "text": [
      "Processing section: 2110.02350.tex --> Introduction | Number of chunks: 1\n"
     ]
    },
    {
     "name": "stderr",
     "output_type": "stream",
     "text": [
      "Processing sections:  50%|█████     | 1136/2255 [11:49<11:34,  1.61section/s]"
     ]
    },
    {
     "name": "stdout",
     "output_type": "stream",
     "text": [
      "Processing section: 1705.05802.tex --> Introduction | Number of chunks: 2\n"
     ]
    },
    {
     "name": "stderr",
     "output_type": "stream",
     "text": [
      "Processing sections:  50%|█████     | 1138/2255 [11:51<10:54,  1.71section/s]"
     ]
    },
    {
     "name": "stdout",
     "output_type": "stream",
     "text": [
      "Processing section: 1705.05802.tex --> Conclusions | Number of chunks: 2\n"
     ]
    },
    {
     "name": "stderr",
     "output_type": "stream",
     "text": [
      "Processing sections:  51%|█████     | 1139/2255 [11:51<12:04,  1.54section/s]"
     ]
    },
    {
     "name": "stdout",
     "output_type": "stream",
     "text": [
      "Processing section: 2202.04045.tex --> Introduction | Number of chunks: 4\n"
     ]
    },
    {
     "name": "stderr",
     "output_type": "stream",
     "text": [
      "Processing sections:  51%|█████     | 1141/2255 [11:53<13:01,  1.43section/s]"
     ]
    },
    {
     "name": "stdout",
     "output_type": "stream",
     "text": [
      "Processing section: 2202.04045.tex --> Detector and simulation | Number of chunks: 2\n"
     ]
    },
    {
     "name": "stderr",
     "output_type": "stream",
     "text": [
      "Processing sections:  51%|█████     | 1143/2255 [11:54<11:41,  1.59section/s]"
     ]
    },
    {
     "name": "stdout",
     "output_type": "stream",
     "text": [
      "Processing section: 2202.04045.tex --> Event selection | Number of chunks: 6\n"
     ]
    },
    {
     "name": "stderr",
     "output_type": "stream",
     "text": [
      "Processing sections:  51%|█████     | 1144/2255 [11:56<18:08,  1.02section/s]"
     ]
    },
    {
     "name": "stdout",
     "output_type": "stream",
     "text": [
      "Processing section: 2310.05864.tex --> Introduction | Number of chunks: 1\n"
     ]
    },
    {
     "name": "stderr",
     "output_type": "stream",
     "text": [
      "Processing sections:  51%|█████     | 1146/2255 [11:57<13:39,  1.35section/s]"
     ]
    },
    {
     "name": "stdout",
     "output_type": "stream",
     "text": [
      "Processing section: 2310.05864.tex --> Summary | Number of chunks: 2\n"
     ]
    },
    {
     "name": "stderr",
     "output_type": "stream",
     "text": [
      "Processing sections:  51%|█████     | 1147/2255 [11:58<14:08,  1.31section/s]"
     ]
    },
    {
     "name": "stdout",
     "output_type": "stream",
     "text": [
      "Processing section: 1911.01114.tex --> Introduction | Number of chunks: 2\n"
     ]
    },
    {
     "name": "stderr",
     "output_type": "stream",
     "text": [
      "Processing sections:  51%|█████     | 1149/2255 [11:59<13:09,  1.40section/s]"
     ]
    },
    {
     "name": "stdout",
     "output_type": "stream",
     "text": [
      "Processing section: 1911.01114.tex --> Analysis strategy\\label{sec:overview} | Number of chunks: 2\n"
     ]
    },
    {
     "name": "stderr",
     "output_type": "stream",
     "text": [
      "Processing sections:  51%|█████     | 1150/2255 [12:00<14:59,  1.23section/s]"
     ]
    },
    {
     "name": "stdout",
     "output_type": "stream",
     "text": [
      "Processing section: 1911.01114.tex --> Selection\\label{sec:selection} | Number of chunks: 3\n"
     ]
    },
    {
     "name": "stderr",
     "output_type": "stream",
     "text": [
      "Processing sections:  51%|█████     | 1151/2255 [12:02<17:28,  1.05section/s]"
     ]
    },
    {
     "name": "stdout",
     "output_type": "stream",
     "text": [
      "Processing section: 2412.14074.tex --> Introduction | Number of chunks: 2\n"
     ]
    },
    {
     "name": "stderr",
     "output_type": "stream",
     "text": [
      "Processing sections:  51%|█████     | 1153/2255 [12:03<15:33,  1.18section/s]"
     ]
    },
    {
     "name": "stdout",
     "output_type": "stream",
     "text": [
      "Processing section: 2103.07349.tex --> Introduction | Number of chunks: 1\n"
     ]
    },
    {
     "name": "stderr",
     "output_type": "stream",
     "text": [
      "Processing sections:  51%|█████     | 1155/2255 [12:04<11:56,  1.53section/s]"
     ]
    },
    {
     "name": "stdout",
     "output_type": "stream",
     "text": [
      "Processing section: 2103.07349.tex --> Data selection | Number of chunks: 2\n"
     ]
    },
    {
     "name": "stderr",
     "output_type": "stream",
     "text": [
      "Processing sections:  51%|█████▏    | 1156/2255 [12:05<13:26,  1.36section/s]"
     ]
    },
    {
     "name": "stdout",
     "output_type": "stream",
     "text": [
      "Processing section: 2103.07349.tex --> Data analysis | Number of chunks: 1\n"
     ]
    },
    {
     "name": "stderr",
     "output_type": "stream",
     "text": [
      "Processing sections:  51%|█████▏    | 1157/2255 [12:05<12:56,  1.41section/s]"
     ]
    },
    {
     "name": "stdout",
     "output_type": "stream",
     "text": [
      "Processing section: 2103.07349.tex --> Summary | Number of chunks: 1\n"
     ]
    },
    {
     "name": "stderr",
     "output_type": "stream",
     "text": [
      "Processing sections:  51%|█████▏    | 1158/2255 [12:06<12:33,  1.46section/s]"
     ]
    },
    {
     "name": "stdout",
     "output_type": "stream",
     "text": [
      "Processing section: 1809.01404.tex --> Introduction | Number of chunks: 2\n"
     ]
    },
    {
     "name": "stderr",
     "output_type": "stream",
     "text": [
      "Processing sections:  51%|█████▏    | 1160/2255 [12:07<11:54,  1.53section/s]"
     ]
    },
    {
     "name": "stdout",
     "output_type": "stream",
     "text": [
      "Processing section: 1809.01404.tex --> Detector and data | Number of chunks: 2\n"
     ]
    },
    {
     "name": "stderr",
     "output_type": "stream",
     "text": [
      "Processing sections:  51%|█████▏    | 1161/2255 [12:08<13:47,  1.32section/s]"
     ]
    },
    {
     "name": "stdout",
     "output_type": "stream",
     "text": [
      "Processing section: 1809.01404.tex --> Cross-section determination | Number of chunks: 3\n"
     ]
    },
    {
     "name": "stderr",
     "output_type": "stream",
     "text": [
      "Processing sections:  52%|█████▏    | 1162/2255 [12:10<16:41,  1.09section/s]"
     ]
    },
    {
     "name": "stdout",
     "output_type": "stream",
     "text": [
      "Processing section: 1809.01404.tex --> Conclusion | Number of chunks: 2\n"
     ]
    },
    {
     "name": "stderr",
     "output_type": "stream",
     "text": [
      "Processing sections:  52%|█████▏    | 1164/2255 [12:11<13:03,  1.39section/s]"
     ]
    },
    {
     "name": "stdout",
     "output_type": "stream",
     "text": [
      "Processing section: 2010.09437.tex --> Introduction | Number of chunks: 2\n"
     ]
    },
    {
     "name": "stderr",
     "output_type": "stream",
     "text": [
      "Processing sections:  52%|█████▏    | 1166/2255 [12:12<12:19,  1.47section/s]"
     ]
    },
    {
     "name": "stdout",
     "output_type": "stream",
     "text": [
      "Processing section: 2010.09437.tex --> Detector and simulation | Number of chunks: 2\n"
     ]
    },
    {
     "name": "stderr",
     "output_type": "stream",
     "text": [
      "Processing sections:  52%|█████▏    | 1167/2255 [12:13<13:41,  1.32section/s]"
     ]
    },
    {
     "name": "stdout",
     "output_type": "stream",
     "text": [
      "Processing section: 2010.09437.tex --> Jet reconstruction and event selection | Number of chunks: 2\n"
     ]
    },
    {
     "name": "stderr",
     "output_type": "stream",
     "text": [
      "Processing sections:  52%|█████▏    | 1168/2255 [12:14<15:07,  1.20section/s]"
     ]
    },
    {
     "name": "stdout",
     "output_type": "stream",
     "text": [
      "Processing section: 1606.04731.tex --> Introduction | Number of chunks: 2\n"
     ]
    },
    {
     "name": "stderr",
     "output_type": "stream",
     "text": [
      "Processing sections:  52%|█████▏    | 1170/2255 [12:15<12:50,  1.41section/s]"
     ]
    },
    {
     "name": "stdout",
     "output_type": "stream",
     "text": [
      "Processing section: 1606.04731.tex --> The angular distribution and $F_{\\rm S}$ | Number of chunks: 4\n"
     ]
    },
    {
     "name": "stderr",
     "output_type": "stream",
     "text": [
      "Processing sections:  52%|█████▏    | 1171/2255 [12:17<16:31,  1.09section/s]"
     ]
    },
    {
     "name": "stdout",
     "output_type": "stream",
     "text": [
      "Processing section: 1606.04731.tex --> Detector and simulation | Number of chunks: 1\n"
     ]
    },
    {
     "name": "stderr",
     "output_type": "stream",
     "text": [
      "Processing sections:  52%|█████▏    | 1172/2255 [12:17<15:34,  1.16section/s]"
     ]
    },
    {
     "name": "stdout",
     "output_type": "stream",
     "text": [
      "Processing section: 1606.04731.tex --> Selection of signal candidates | Number of chunks: 1\n"
     ]
    },
    {
     "name": "stderr",
     "output_type": "stream",
     "text": [
      "Processing sections:  52%|█████▏    | 1173/2255 [12:18<15:42,  1.15section/s]"
     ]
    },
    {
     "name": "stdout",
     "output_type": "stream",
     "text": [
      "Processing section: 2003.08453.tex --> Introduction | Number of chunks: 2\n"
     ]
    },
    {
     "name": "stderr",
     "output_type": "stream",
     "text": [
      "Processing sections:  52%|█████▏    | 1175/2255 [12:19<13:30,  1.33section/s]"
     ]
    },
    {
     "name": "stdout",
     "output_type": "stream",
     "text": [
      "Processing section: 1503.07138.tex --> Introduction | Number of chunks: 2\n"
     ]
    },
    {
     "name": "stderr",
     "output_type": "stream",
     "text": [
      "Processing sections:  52%|█████▏    | 1177/2255 [12:20<11:52,  1.51section/s]"
     ]
    },
    {
     "name": "stdout",
     "output_type": "stream",
     "text": [
      "Processing section: 1503.07138.tex --> Detector and simulation | Number of chunks: 1\n"
     ]
    },
    {
     "name": "stderr",
     "output_type": "stream",
     "text": [
      "Processing sections:  52%|█████▏    | 1178/2255 [12:21<11:59,  1.50section/s]"
     ]
    },
    {
     "name": "stdout",
     "output_type": "stream",
     "text": [
      "Processing section: 1503.07138.tex --> Candidate selection | Number of chunks: 2\n"
     ]
    },
    {
     "name": "stderr",
     "output_type": "stream",
     "text": [
      "Processing sections:  52%|█████▏    | 1179/2255 [12:22<14:00,  1.28section/s]"
     ]
    },
    {
     "name": "stdout",
     "output_type": "stream",
     "text": [
      "Processing section: 1503.07138.tex --> Yields | Number of chunks: 2\n"
     ]
    },
    {
     "name": "stderr",
     "output_type": "stream",
     "text": [
      "Processing sections:  52%|█████▏    | 1180/2255 [12:23<15:48,  1.13section/s]"
     ]
    },
    {
     "name": "stdout",
     "output_type": "stream",
     "text": [
      "Processing section: 1503.07138.tex --> Erratum | Number of chunks: 2\n"
     ]
    },
    {
     "name": "stderr",
     "output_type": "stream",
     "text": [
      "Processing sections:  52%|█████▏    | 1182/2255 [12:25<13:25,  1.33section/s]"
     ]
    },
    {
     "name": "stdout",
     "output_type": "stream",
     "text": [
      "Processing section: 1206.5160.tex --> Introduction | Number of chunks: 2\n"
     ]
    },
    {
     "name": "stderr",
     "output_type": "stream",
     "text": [
      "Processing sections:  53%|█████▎    | 1184/2255 [12:25<11:11,  1.60section/s]"
     ]
    },
    {
     "name": "stdout",
     "output_type": "stream",
     "text": [
      "Processing section: 1206.5160.tex --> Data samples and the LHCb detector | Number of chunks: 2\n"
     ]
    },
    {
     "name": "stderr",
     "output_type": "stream",
     "text": [
      "Processing sections:  53%|█████▎    | 1185/2255 [12:27<13:28,  1.32section/s]"
     ]
    },
    {
     "name": "stdout",
     "output_type": "stream",
     "text": [
      "Processing section: 1206.5160.tex --> Selection of the analysis sample | Number of chunks: 2\n"
     ]
    },
    {
     "name": "stderr",
     "output_type": "stream",
     "text": [
      "Processing sections:  53%|█████▎    | 1186/2255 [12:28<14:43,  1.21section/s]"
     ]
    },
    {
     "name": "stdout",
     "output_type": "stream",
     "text": [
      "Processing section: 1505.07044.tex --> Introduction | Number of chunks: 2\n"
     ]
    },
    {
     "name": "stderr",
     "output_type": "stream",
     "text": [
      "Processing sections:  53%|█████▎    | 1188/2255 [12:29<12:31,  1.42section/s]"
     ]
    },
    {
     "name": "stdout",
     "output_type": "stream",
     "text": [
      "Processing section: 1505.07044.tex --> Formalism | Number of chunks: 4\n"
     ]
    },
    {
     "name": "stderr",
     "output_type": "stream",
     "text": [
      "Processing sections:  53%|█████▎    | 1189/2255 [12:30<16:00,  1.11section/s]"
     ]
    },
    {
     "name": "stdout",
     "output_type": "stream",
     "text": [
      "Processing section: 1505.07044.tex --> The LHCb detector and simulation | Number of chunks: 1\n"
     ]
    },
    {
     "name": "stderr",
     "output_type": "stream",
     "text": [
      "Processing sections:  53%|█████▎    | 1190/2255 [12:31<15:22,  1.15section/s]"
     ]
    },
    {
     "name": "stdout",
     "output_type": "stream",
     "text": [
      "Processing section: 1505.07044.tex --> Candidate selection | Number of chunks: 5\n"
     ]
    },
    {
     "name": "stderr",
     "output_type": "stream",
     "text": [
      "Processing sections:  53%|█████▎    | 1191/2255 [12:33<20:26,  1.15s/section]"
     ]
    },
    {
     "name": "stdout",
     "output_type": "stream",
     "text": [
      "Processing section: 2105.09889.tex --> Introduction | Number of chunks: 3\n"
     ]
    },
    {
     "name": "stderr",
     "output_type": "stream",
     "text": [
      "Processing sections:  53%|█████▎    | 1193/2255 [12:35<17:09,  1.03section/s]"
     ]
    },
    {
     "name": "stdout",
     "output_type": "stream",
     "text": [
      "Processing section: 2105.09889.tex --> Measurement overview | Number of chunks: 2\n"
     ]
    },
    {
     "name": "stderr",
     "output_type": "stream",
     "text": [
      "Processing sections:  53%|█████▎    | 1194/2255 [12:36<17:46,  1.01s/section]"
     ]
    },
    {
     "name": "stdout",
     "output_type": "stream",
     "text": [
      "Processing section: 2105.09889.tex --> \\lhcb detector \\label{sect:detector} | Number of chunks: 1\n"
     ]
    },
    {
     "name": "stderr",
     "output_type": "stream",
     "text": [
      "Processing sections:  53%|█████▎    | 1195/2255 [12:36<15:11,  1.16section/s]"
     ]
    },
    {
     "name": "stdout",
     "output_type": "stream",
     "text": [
      "Processing section: 2105.09889.tex --> Candidate selection | Number of chunks: 2\n"
     ]
    },
    {
     "name": "stderr",
     "output_type": "stream",
     "text": [
      "Processing sections:  53%|█████▎    | 1196/2255 [12:37<17:00,  1.04section/s]"
     ]
    },
    {
     "name": "stdout",
     "output_type": "stream",
     "text": [
      "Processing section: 2105.09889.tex --> Formalism | Number of chunks: 5\n"
     ]
    },
    {
     "name": "stderr",
     "output_type": "stream",
     "text": [
      "Processing sections:  53%|█████▎    | 1197/2255 [12:39<22:02,  1.25s/section]"
     ]
    },
    {
     "name": "stdout",
     "output_type": "stream",
     "text": [
      "Processing section: 2105.09889.tex --> Upper bound on the size of \\texorpdfstring{$\\boldsymbol{\\Delta Y_{\\RS}}$}{DeltaY(K–pi+)} | Number of chunks: 3\n"
     ]
    },
    {
     "name": "stderr",
     "output_type": "stream",
     "text": [
      "Processing sections:  53%|█████▎    | 1198/2255 [12:41<23:05,  1.31s/section]"
     ]
    },
    {
     "name": "stdout",
     "output_type": "stream",
     "text": [
      "Processing section: 1202.1080.tex --> Introduction | Number of chunks: 1\n"
     ]
    },
    {
     "name": "stderr",
     "output_type": "stream",
     "text": [
      "Processing sections:  53%|█████▎    | 1200/2255 [12:41<15:07,  1.16section/s]"
     ]
    },
    {
     "name": "stdout",
     "output_type": "stream",
     "text": [
      "Processing section: 1202.1080.tex --> \\LHCb\\ detector and selection requirements | Number of chunks: 3\n"
     ]
    },
    {
     "name": "stderr",
     "output_type": "stream",
     "text": [
      "Processing sections:  53%|█████▎    | 1201/2255 [12:43<17:36,  1.00s/section]"
     ]
    },
    {
     "name": "stdout",
     "output_type": "stream",
     "text": [
      "Processing section: 2306.09945.tex --> Production and detection asymmetries | Number of chunks: 3\n"
     ]
    },
    {
     "name": "stderr",
     "output_type": "stream",
     "text": [
      "Processing sections:  53%|█████▎    | 1203/2255 [12:44<15:32,  1.13section/s]"
     ]
    },
    {
     "name": "stdout",
     "output_type": "stream",
     "text": [
      "Processing section: 2012.11341.tex --> Systematic uncertainties | Number of chunks: 1\n"
     ]
    },
    {
     "name": "stderr",
     "output_type": "stream",
     "text": [
      "Processing sections:  53%|█████▎    | 1205/2255 [12:45<11:23,  1.54section/s]"
     ]
    },
    {
     "name": "stdout",
     "output_type": "stream",
     "text": [
      "Processing section: 2012.11341.tex --> Results | Number of chunks: 2\n"
     ]
    },
    {
     "name": "stderr",
     "output_type": "stream",
     "text": [
      "Processing sections:  53%|█████▎    | 1206/2255 [12:46<12:41,  1.38section/s]"
     ]
    },
    {
     "name": "stdout",
     "output_type": "stream",
     "text": [
      "Processing section: 2012.11341.tex --> Conclusion | Number of chunks: 2\n"
     ]
    },
    {
     "name": "stderr",
     "output_type": "stream",
     "text": [
      "Processing sections:  54%|█████▎    | 1207/2255 [12:47<13:39,  1.28section/s]"
     ]
    },
    {
     "name": "stdout",
     "output_type": "stream",
     "text": [
      "Processing section: 1612.08110.tex --> Introduction | Number of chunks: 4\n"
     ]
    },
    {
     "name": "stderr",
     "output_type": "stream",
     "text": [
      "Processing sections:  54%|█████▎    | 1209/2255 [12:48<13:42,  1.27section/s]"
     ]
    },
    {
     "name": "stdout",
     "output_type": "stream",
     "text": [
      "Processing section: 1612.08110.tex --> Result and conclusion | Number of chunks: 2\n"
     ]
    },
    {
     "name": "stderr",
     "output_type": "stream",
     "text": [
      "Processing sections:  54%|█████▎    | 1210/2255 [12:49<14:30,  1.20section/s]"
     ]
    },
    {
     "name": "stdout",
     "output_type": "stream",
     "text": [
      "Processing section: 2205.09009.tex --> Introduction | Number of chunks: 2\n"
     ]
    },
    {
     "name": "stderr",
     "output_type": "stream",
     "text": [
      "Processing sections:  54%|█████▎    | 1212/2255 [12:51<12:50,  1.35section/s]"
     ]
    },
    {
     "name": "stdout",
     "output_type": "stream",
     "text": [
      "Processing section: 2205.09009.tex --> Data sample and simulation | Number of chunks: 1\n"
     ]
    },
    {
     "name": "stderr",
     "output_type": "stream",
     "text": [
      "Processing sections:  54%|█████▍    | 1213/2255 [12:51<12:30,  1.39section/s]"
     ]
    },
    {
     "name": "stdout",
     "output_type": "stream",
     "text": [
      "Processing section: 2205.09009.tex --> Exclusive \\texorpdfstring{{\\boldmath \\Rexc}}{RLbar} measurement | Number of chunks: 1\n"
     ]
    },
    {
     "name": "stderr",
     "output_type": "stream",
     "text": [
      "Processing sections:  54%|█████▍    | 1214/2255 [12:52<12:09,  1.43section/s]"
     ]
    },
    {
     "name": "stdout",
     "output_type": "stream",
     "text": [
      "Processing section: 1804.09214.tex --> Introduction | Number of chunks: 1\n"
     ]
    },
    {
     "name": "stderr",
     "output_type": "stream",
     "text": [
      "Processing sections:  54%|█████▍    | 1216/2255 [12:52<08:56,  1.94section/s]"
     ]
    },
    {
     "name": "stdout",
     "output_type": "stream",
     "text": [
      "Processing section: 1804.09214.tex --> The \\lhcb detector and event selection | Number of chunks: 2\n"
     ]
    },
    {
     "name": "stderr",
     "output_type": "stream",
     "text": [
      "Processing sections:  54%|█████▍    | 1217/2255 [12:54<11:10,  1.55section/s]"
     ]
    },
    {
     "name": "stdout",
     "output_type": "stream",
     "text": [
      "Processing section: 1804.09214.tex --> Conclusion | Number of chunks: 18\n"
     ]
    },
    {
     "name": "stderr",
     "output_type": "stream",
     "text": [
      "Processing sections:  54%|█████▍    | 1218/2255 [13:01<38:23,  2.22s/section]"
     ]
    },
    {
     "name": "stdout",
     "output_type": "stream",
     "text": [
      "Processing section: 1103.2465.tex --> Introduction | Number of chunks: 2\n"
     ]
    },
    {
     "name": "stderr",
     "output_type": "stream",
     "text": [
      "Processing sections:  54%|█████▍    | 1220/2255 [13:02<26:40,  1.55s/section]"
     ]
    },
    {
     "name": "stdout",
     "output_type": "stream",
     "text": [
      "Processing section: 1103.2465.tex --> The LHCb detector | Number of chunks: 2\n"
     ]
    },
    {
     "name": "stderr",
     "output_type": "stream",
     "text": [
      "Processing sections:  54%|█████▍    | 1221/2255 [13:03<24:56,  1.45s/section]"
     ]
    },
    {
     "name": "stdout",
     "output_type": "stream",
     "text": [
      "Processing section: 1103.2465.tex --> Analysis strategy | Number of chunks: 1\n"
     ]
    },
    {
     "name": "stderr",
     "output_type": "stream",
     "text": [
      "Processing sections:  54%|█████▍    | 1222/2255 [13:04<21:57,  1.28s/section]"
     ]
    },
    {
     "name": "stdout",
     "output_type": "stream",
     "text": [
      "Processing section: 1103.2465.tex --> Event selection | Number of chunks: 2\n"
     ]
    },
    {
     "name": "stderr",
     "output_type": "stream",
     "text": [
      "Processing sections:  54%|█████▍    | 1223/2255 [13:05<22:11,  1.29s/section]"
     ]
    },
    {
     "name": "stdout",
     "output_type": "stream",
     "text": [
      "Processing section: 1103.2465.tex --> Evaluation of the normalization factor | Number of chunks: 3\n"
     ]
    },
    {
     "name": "stderr",
     "output_type": "stream",
     "text": [
      "Processing sections:  54%|█████▍    | 1224/2255 [13:06<22:55,  1.33s/section]"
     ]
    },
    {
     "name": "stdout",
     "output_type": "stream",
     "text": [
      "Processing section: 1103.2465.tex --> Evaluation of the normalization factor --> Ratio of reconstruction and selection efficiencies | Number of chunks: 1\n"
     ]
    },
    {
     "name": "stderr",
     "output_type": "stream",
     "text": [
      "Processing sections:  54%|█████▍    | 1225/2255 [13:07<19:55,  1.16s/section]"
     ]
    },
    {
     "name": "stdout",
     "output_type": "stream",
     "text": [
      "Processing section: 1103.2465.tex --> Evaluation of the normalization factor --> Ratio of trigger efficiencies | Number of chunks: 2\n"
     ]
    },
    {
     "name": "stderr",
     "output_type": "stream",
     "text": [
      "Processing sections:  54%|█████▍    | 1226/2255 [13:08<20:53,  1.22s/section]"
     ]
    },
    {
     "name": "stdout",
     "output_type": "stream",
     "text": [
      "Processing section: 1103.2465.tex --> Conclusions | Number of chunks: 3\n"
     ]
    },
    {
     "name": "stderr",
     "output_type": "stream",
     "text": [
      "Processing sections:  54%|█████▍    | 1227/2255 [13:10<21:40,  1.26s/section]"
     ]
    },
    {
     "name": "stdout",
     "output_type": "stream",
     "text": [
      "Processing section: 1902.02092.tex --> Event selection and selection efficiencies | Number of chunks: 2\n"
     ]
    },
    {
     "name": "stderr",
     "output_type": "stream",
     "text": [
      "Processing sections:  55%|█████▍    | 1229/2255 [13:11<15:38,  1.09section/s]"
     ]
    },
    {
     "name": "stdout",
     "output_type": "stream",
     "text": [
      "Processing section: 1902.02092.tex --> Conclusion | Number of chunks: 15\n"
     ]
    },
    {
     "name": "stderr",
     "output_type": "stream",
     "text": [
      "Processing sections:  55%|█████▍    | 1230/2255 [13:17<37:19,  2.18s/section]"
     ]
    },
    {
     "name": "stdout",
     "output_type": "stream",
     "text": [
      "Processing section: 2411.10219.tex --> Introduction | Number of chunks: 3\n"
     ]
    },
    {
     "name": "stderr",
     "output_type": "stream",
     "text": [
      "Processing sections:  55%|█████▍    | 1232/2255 [13:18<27:00,  1.58s/section]"
     ]
    },
    {
     "name": "stdout",
     "output_type": "stream",
     "text": [
      "Processing section: 2411.10219.tex --> The \\lhcb detector and dataset | Number of chunks: 1\n"
     ]
    },
    {
     "name": "stderr",
     "output_type": "stream",
     "text": [
      "Processing sections:  55%|█████▍    | 1233/2255 [13:19<23:02,  1.35s/section]"
     ]
    },
    {
     "name": "stdout",
     "output_type": "stream",
     "text": [
      "Processing section: 2411.10219.tex --> Selection of signal candidates | Number of chunks: 3\n"
     ]
    },
    {
     "name": "stderr",
     "output_type": "stream",
     "text": [
      "Processing sections:  55%|█████▍    | 1234/2255 [13:20<23:35,  1.39s/section]"
     ]
    },
    {
     "name": "stdout",
     "output_type": "stream",
     "text": [
      "Processing section: 2411.10219.tex --> Selection of signal candidates --> Exclusive backgrounds | Number of chunks: 1\n"
     ]
    },
    {
     "name": "stderr",
     "output_type": "stream",
     "text": [
      "Processing sections:  55%|█████▍    | 1236/2255 [13:21<15:24,  1.10section/s]"
     ]
    },
    {
     "name": "stdout",
     "output_type": "stream",
     "text": [
      "Processing section: 2411.10219.tex --> Selection of signal candidates --> Effective \\boldmath{\\qsq} range of the \\BsPhiEE signal events | Number of chunks: 1\n"
     ]
    },
    {
     "name": "stderr",
     "output_type": "stream",
     "text": [
      "Processing sections:  55%|█████▍    | 1237/2255 [13:22<15:22,  1.10section/s]"
     ]
    },
    {
     "name": "stdout",
     "output_type": "stream",
     "text": [
      "Processing section: 2004.10563.tex --> Introduction | Number of chunks: 3\n"
     ]
    },
    {
     "name": "stderr",
     "output_type": "stream",
     "text": [
      "Processing sections:  55%|█████▍    | 1239/2255 [13:23<14:08,  1.20section/s]"
     ]
    },
    {
     "name": "stdout",
     "output_type": "stream",
     "text": [
      "Processing section: 2209.09846.tex --> Introduction\n",
      "\\label{sec:Introduction} | Number of chunks: 1\n"
     ]
    },
    {
     "name": "stderr",
     "output_type": "stream",
     "text": [
      "Processing sections:  55%|█████▌    | 1241/2255 [13:24<10:58,  1.54section/s]"
     ]
    },
    {
     "name": "stdout",
     "output_type": "stream",
     "text": [
      "Processing section: 2209.09846.tex --> LHCb detector, trigger and simulation | Number of chunks: 1\n"
     ]
    },
    {
     "name": "stderr",
     "output_type": "stream",
     "text": [
      "Processing sections:  55%|█████▌    | 1242/2255 [13:24<10:48,  1.56section/s]"
     ]
    },
    {
     "name": "stdout",
     "output_type": "stream",
     "text": [
      "Processing section: 2209.09846.tex --> Event selection | Number of chunks: 4\n"
     ]
    },
    {
     "name": "stderr",
     "output_type": "stream",
     "text": [
      "Processing sections:  55%|█████▌    | 1243/2255 [13:26<14:21,  1.17section/s]"
     ]
    },
    {
     "name": "stdout",
     "output_type": "stream",
     "text": [
      "Processing section: 2202.05648.tex --> Introduction | Number of chunks: 4\n"
     ]
    },
    {
     "name": "stderr",
     "output_type": "stream",
     "text": [
      "Processing sections:  55%|█████▌    | 1245/2255 [13:28<14:05,  1.20section/s]"
     ]
    },
    {
     "name": "stdout",
     "output_type": "stream",
     "text": [
      "Processing section: 2202.05648.tex --> Results and summary | Number of chunks: 2\n"
     ]
    },
    {
     "name": "stderr",
     "output_type": "stream",
     "text": [
      "Processing sections:  55%|█████▌    | 1246/2255 [13:29<14:30,  1.16section/s]"
     ]
    },
    {
     "name": "stdout",
     "output_type": "stream",
     "text": [
      "Processing section: 1310.2535.tex --> Introduction | Number of chunks: 2\n"
     ]
    },
    {
     "name": "stderr",
     "output_type": "stream",
     "text": [
      "Processing sections:  55%|█████▌    | 1248/2255 [13:30<13:03,  1.29section/s]"
     ]
    },
    {
     "name": "stdout",
     "output_type": "stream",
     "text": [
      "Processing section: 1310.2535.tex --> Conclusions | Number of chunks: 1\n"
     ]
    },
    {
     "name": "stderr",
     "output_type": "stream",
     "text": [
      "Processing sections:  55%|█████▌    | 1249/2255 [13:31<12:24,  1.35section/s]"
     ]
    },
    {
     "name": "stdout",
     "output_type": "stream",
     "text": [
      "Processing section: 1307.6379.tex --> Introduction | Number of chunks: 3\n"
     ]
    },
    {
     "name": "stderr",
     "output_type": "stream",
     "text": [
      "Processing sections:  55%|█████▌    | 1251/2255 [13:32<12:13,  1.37section/s]"
     ]
    },
    {
     "name": "stdout",
     "output_type": "stream",
     "text": [
      "Processing section: 1307.6379.tex --> LHCb detector and data sample | Number of chunks: 1\n"
     ]
    },
    {
     "name": "stderr",
     "output_type": "stream",
     "text": [
      "Processing sections:  56%|█████▌    | 1252/2255 [13:33<12:05,  1.38section/s]"
     ]
    },
    {
     "name": "stdout",
     "output_type": "stream",
     "text": [
      "Processing section: 1307.6379.tex --> Conclusion | Number of chunks: 2\n"
     ]
    },
    {
     "name": "stderr",
     "output_type": "stream",
     "text": [
      "Processing sections:  56%|█████▌    | 1253/2255 [13:34<13:28,  1.24section/s]"
     ]
    },
    {
     "name": "stdout",
     "output_type": "stream",
     "text": [
      "Processing section: 1701.07873.tex --> Introduction | Number of chunks: 3\n"
     ]
    },
    {
     "name": "stderr",
     "output_type": "stream",
     "text": [
      "Processing sections:  56%|█████▌    | 1255/2255 [13:35<12:31,  1.33section/s]"
     ]
    },
    {
     "name": "stdout",
     "output_type": "stream",
     "text": [
      "Processing section: 1701.07873.tex --> Conclusion | Number of chunks: 2\n"
     ]
    },
    {
     "name": "stderr",
     "output_type": "stream",
     "text": [
      "Processing sections:  56%|█████▌    | 1256/2255 [13:36<14:33,  1.14section/s]"
     ]
    },
    {
     "name": "stdout",
     "output_type": "stream",
     "text": [
      "Processing section: 1909.12273.tex --> Introduction | Number of chunks: 3\n"
     ]
    },
    {
     "name": "stderr",
     "output_type": "stream",
     "text": [
      "Processing sections:  56%|█████▌    | 1258/2255 [13:38<13:12,  1.26section/s]"
     ]
    },
    {
     "name": "stdout",
     "output_type": "stream",
     "text": [
      "Processing section: 1909.12273.tex --> Reconstruction and selection | Number of chunks: 3\n"
     ]
    },
    {
     "name": "stderr",
     "output_type": "stream",
     "text": [
      "Processing sections:  56%|█████▌    | 1259/2255 [13:39<15:23,  1.08section/s]"
     ]
    },
    {
     "name": "stdout",
     "output_type": "stream",
     "text": [
      "Processing section: 1909.12273.tex --> Yield measurements | Number of chunks: 1\n"
     ]
    },
    {
     "name": "stderr",
     "output_type": "stream",
     "text": [
      "Processing sections:  56%|█████▌    | 1260/2255 [13:40<14:10,  1.17section/s]"
     ]
    },
    {
     "name": "stdout",
     "output_type": "stream",
     "text": [
      "Processing section: 1909.12273.tex --> Conclusion | Number of chunks: 2\n"
     ]
    },
    {
     "name": "stderr",
     "output_type": "stream",
     "text": [
      "Processing sections:  56%|█████▌    | 1261/2255 [13:41<16:07,  1.03section/s]"
     ]
    },
    {
     "name": "stdout",
     "output_type": "stream",
     "text": [
      "Processing section: 1910.11316.tex --> Introduction | Number of chunks: 2\n"
     ]
    },
    {
     "name": "stderr",
     "output_type": "stream",
     "text": [
      "Processing sections:  56%|█████▌    | 1263/2255 [13:42<12:31,  1.32section/s]"
     ]
    },
    {
     "name": "stdout",
     "output_type": "stream",
     "text": [
      "Processing section: 1910.11316.tex --> Event selection | Number of chunks: 2\n"
     ]
    },
    {
     "name": "stderr",
     "output_type": "stream",
     "text": [
      "Processing sections:  56%|█████▌    | 1264/2255 [13:43<13:14,  1.25section/s]"
     ]
    },
    {
     "name": "stdout",
     "output_type": "stream",
     "text": [
      "Processing section: 1910.11316.tex --> Signal yields | Number of chunks: 1\n"
     ]
    },
    {
     "name": "stderr",
     "output_type": "stream",
     "text": [
      "Processing sections:  56%|█████▌    | 1265/2255 [13:44<12:25,  1.33section/s]"
     ]
    },
    {
     "name": "stdout",
     "output_type": "stream",
     "text": [
      "Processing section: 1910.11316.tex --> Conclusion | Number of chunks: 1\n"
     ]
    },
    {
     "name": "stderr",
     "output_type": "stream",
     "text": [
      "Processing sections:  56%|█████▌    | 1266/2255 [13:44<11:04,  1.49section/s]"
     ]
    },
    {
     "name": "stdout",
     "output_type": "stream",
     "text": [
      "Processing section: 1709.03458.tex --> Introduction | Number of chunks: 2\n"
     ]
    },
    {
     "name": "stderr",
     "output_type": "stream",
     "text": [
      "Processing sections:  56%|█████▌    | 1268/2255 [13:45<10:35,  1.55section/s]"
     ]
    },
    {
     "name": "stdout",
     "output_type": "stream",
     "text": [
      "Processing section: 1709.03458.tex --> The LHCb detector, trigger and simulation | Number of chunks: 1\n"
     ]
    },
    {
     "name": "stderr",
     "output_type": "stream",
     "text": [
      "Processing sections:  56%|█████▋    | 1269/2255 [13:46<10:06,  1.63section/s]"
     ]
    },
    {
     "name": "stdout",
     "output_type": "stream",
     "text": [
      "Processing section: 1709.03458.tex --> Candidate selection | Number of chunks: 2\n"
     ]
    },
    {
     "name": "stderr",
     "output_type": "stream",
     "text": [
      "Processing sections:  56%|█████▋    | 1270/2255 [13:47<12:19,  1.33section/s]"
     ]
    },
    {
     "name": "stdout",
     "output_type": "stream",
     "text": [
      "Processing section: 1709.03458.tex --> Cross-section determination and systematic uncertainties | Number of chunks: 2\n"
     ]
    },
    {
     "name": "stderr",
     "output_type": "stream",
     "text": [
      "Processing sections:  56%|█████▋    | 1271/2255 [13:48<13:30,  1.21section/s]"
     ]
    },
    {
     "name": "stdout",
     "output_type": "stream",
     "text": [
      "Processing section: 1709.03458.tex --> Results and conclusions | Number of chunks: 2\n"
     ]
    },
    {
     "name": "stderr",
     "output_type": "stream",
     "text": [
      "Processing sections:  56%|█████▋    | 1272/2255 [13:49<15:12,  1.08section/s]"
     ]
    },
    {
     "name": "stdout",
     "output_type": "stream",
     "text": [
      "Processing section: 2305.10515.tex --> Introduction | Number of chunks: 1\n"
     ]
    },
    {
     "name": "stderr",
     "output_type": "stream",
     "text": [
      "Processing sections:  56%|█████▋    | 1274/2255 [13:50<11:02,  1.48section/s]"
     ]
    },
    {
     "name": "stdout",
     "output_type": "stream",
     "text": [
      "Processing section: 2305.10515.tex --> Summary | Number of chunks: 2\n"
     ]
    },
    {
     "name": "stderr",
     "output_type": "stream",
     "text": [
      "Processing sections:  57%|█████▋    | 1275/2255 [13:51<11:50,  1.38section/s]"
     ]
    },
    {
     "name": "stdout",
     "output_type": "stream",
     "text": [
      "Processing section: 2105.04031.tex --> Introduction | Number of chunks: 3\n"
     ]
    },
    {
     "name": "stderr",
     "output_type": "stream",
     "text": [
      "Processing sections:  57%|█████▋    | 1277/2255 [13:52<11:54,  1.37section/s]"
     ]
    },
    {
     "name": "stdout",
     "output_type": "stream",
     "text": [
      "Processing section: 2105.04031.tex --> Introduction --> DAQ and HLT architectures | Number of chunks: 1\n"
     ]
    },
    {
     "name": "stderr",
     "output_type": "stream",
     "text": [
      "Processing sections:  57%|█████▋    | 1279/2255 [13:53<10:24,  1.56section/s]"
     ]
    },
    {
     "name": "stdout",
     "output_type": "stream",
     "text": [
      "Processing section: 2105.04031.tex --> Conclusion | Number of chunks: 2\n"
     ]
    },
    {
     "name": "stderr",
     "output_type": "stream",
     "text": [
      "Processing sections:  57%|█████▋    | 1280/2255 [13:54<11:14,  1.45section/s]"
     ]
    },
    {
     "name": "stdout",
     "output_type": "stream",
     "text": [
      "Processing section: 1503.07770.tex --> Introduction | Number of chunks: 1\n"
     ]
    },
    {
     "name": "stderr",
     "output_type": "stream",
     "text": [
      "Processing sections:  57%|█████▋    | 1282/2255 [13:55<09:24,  1.72section/s]"
     ]
    },
    {
     "name": "stdout",
     "output_type": "stream",
     "text": [
      "Processing section: 1503.07770.tex --> Data sets and selection requirements | Number of chunks: 2\n"
     ]
    },
    {
     "name": "stderr",
     "output_type": "stream",
     "text": [
      "Processing sections:  57%|█████▋    | 1283/2255 [13:56<10:46,  1.50section/s]"
     ]
    },
    {
     "name": "stdout",
     "output_type": "stream",
     "text": [
      "Processing section: 1503.07770.tex --> Four-body mass fit | Number of chunks: 2\n"
     ]
    },
    {
     "name": "stderr",
     "output_type": "stream",
     "text": [
      "Processing sections:  57%|█████▋    | 1284/2255 [13:57<12:08,  1.33section/s]"
     ]
    },
    {
     "name": "stdout",
     "output_type": "stream",
     "text": [
      "Processing section: 1503.07770.tex --> Branching fraction determination | Number of chunks: 2\n"
     ]
    },
    {
     "name": "stderr",
     "output_type": "stream",
     "text": [
      "Processing sections:  57%|█████▋    | 1285/2255 [13:58<14:33,  1.11section/s]"
     ]
    },
    {
     "name": "stdout",
     "output_type": "stream",
     "text": [
      "Processing section: 1503.07770.tex --> Conclusions | Number of chunks: 2\n"
     ]
    },
    {
     "name": "stderr",
     "output_type": "stream",
     "text": [
      "Processing sections:  57%|█████▋    | 1286/2255 [13:59<16:18,  1.01s/section]"
     ]
    },
    {
     "name": "stdout",
     "output_type": "stream",
     "text": [
      "Processing section: 1611.07805.tex --> Introduction | Number of chunks: 1\n"
     ]
    },
    {
     "name": "stderr",
     "output_type": "stream",
     "text": [
      "Processing sections:  57%|█████▋    | 1289/2255 [14:00<10:03,  1.60section/s]"
     ]
    },
    {
     "name": "stdout",
     "output_type": "stream",
     "text": [
      "Processing section: 1611.07805.tex --> Detector and data sample | Number of chunks: 2\n"
     ]
    },
    {
     "name": "stderr",
     "output_type": "stream",
     "text": [
      "Processing sections:  57%|█████▋    | 1290/2255 [14:01<11:29,  1.40section/s]"
     ]
    },
    {
     "name": "stdout",
     "output_type": "stream",
     "text": [
      "Processing section: 1611.07805.tex --> Sample selection and composition | Number of chunks: 3\n"
     ]
    },
    {
     "name": "stderr",
     "output_type": "stream",
     "text": [
      "Processing sections:  57%|█████▋    | 1291/2255 [14:03<13:59,  1.15section/s]"
     ]
    },
    {
     "name": "stdout",
     "output_type": "stream",
     "text": [
      "Processing section: 1611.07805.tex --> Signal yield determination | Number of chunks: 1\n"
     ]
    },
    {
     "name": "stderr",
     "output_type": "stream",
     "text": [
      "Processing sections:  57%|█████▋    | 1292/2255 [14:03<12:58,  1.24section/s]"
     ]
    },
    {
     "name": "stdout",
     "output_type": "stream",
     "text": [
      "Processing section: 1611.07805.tex --> Systematic uncertainties | Number of chunks: 1\n"
     ]
    },
    {
     "name": "stderr",
     "output_type": "stream",
     "text": [
      "Processing sections:  57%|█████▋    | 1293/2255 [14:04<11:59,  1.34section/s]"
     ]
    },
    {
     "name": "stdout",
     "output_type": "stream",
     "text": [
      "Processing section: 1611.07805.tex --> Results and conclusion | Number of chunks: 2\n"
     ]
    },
    {
     "name": "stderr",
     "output_type": "stream",
     "text": [
      "Processing sections:  57%|█████▋    | 1294/2255 [14:05<12:01,  1.33section/s]"
     ]
    },
    {
     "name": "stdout",
     "output_type": "stream",
     "text": [
      "Processing section: 1509.00771.tex --> Introduction | Number of chunks: 2\n"
     ]
    },
    {
     "name": "stderr",
     "output_type": "stream",
     "text": [
      "Processing sections:  58%|█████▊    | 1297/2255 [14:06<08:46,  1.82section/s]"
     ]
    },
    {
     "name": "stdout",
     "output_type": "stream",
     "text": [
      "Processing section: 1509.00771.tex --> The \\lhcb detector and data set | Number of chunks: 2\n"
     ]
    },
    {
     "name": "stderr",
     "output_type": "stream",
     "text": [
      "Processing sections:  58%|█████▊    | 1298/2255 [14:07<10:49,  1.47section/s]"
     ]
    },
    {
     "name": "stdout",
     "output_type": "stream",
     "text": [
      "Processing section: 1509.00771.tex --> Cross-section determination | Number of chunks: 2\n"
     ]
    },
    {
     "name": "stderr",
     "output_type": "stream",
     "text": [
      "Processing sections:  58%|█████▊    | 1299/2255 [14:08<12:40,  1.26section/s]"
     ]
    },
    {
     "name": "stdout",
     "output_type": "stream",
     "text": [
      "Processing section: 1207.5993.tex --> Introduction | Number of chunks: 2\n"
     ]
    },
    {
     "name": "stderr",
     "output_type": "stream",
     "text": [
      "Processing sections:  58%|█████▊    | 1301/2255 [14:09<11:23,  1.40section/s]"
     ]
    },
    {
     "name": "stdout",
     "output_type": "stream",
     "text": [
      "Processing section: 1207.5993.tex --> The LHCb experiment and simulation software | Number of chunks: 2\n"
     ]
    },
    {
     "name": "stderr",
     "output_type": "stream",
     "text": [
      "Processing sections:  58%|█████▊    | 1302/2255 [14:11<13:42,  1.16section/s]"
     ]
    },
    {
     "name": "stdout",
     "output_type": "stream",
     "text": [
      "Processing section: 1207.5993.tex --> Analysis of the effective $\\boldsymbol{ B_s^0 \\rightarrow K^+ K^- }$ lifetime | Number of chunks: 2\n"
     ]
    },
    {
     "name": "stderr",
     "output_type": "stream",
     "text": [
      "Processing sections:  58%|█████▊    | 1303/2255 [14:12<15:02,  1.05section/s]"
     ]
    },
    {
     "name": "stdout",
     "output_type": "stream",
     "text": [
      "Processing section: 1206.2794.tex --> Introduction | Number of chunks: 1\n"
     ]
    },
    {
     "name": "stderr",
     "output_type": "stream",
     "text": [
      "Processing sections:  58%|█████▊    | 1305/2255 [14:13<10:28,  1.51section/s]"
     ]
    },
    {
     "name": "stdout",
     "output_type": "stream",
     "text": [
      "Processing section: 1206.2794.tex --> Detector, trigger and event selection | Number of chunks: 2\n"
     ]
    },
    {
     "name": "stderr",
     "output_type": "stream",
     "text": [
      "Processing sections:  58%|█████▊    | 1306/2255 [14:14<12:40,  1.25section/s]"
     ]
    },
    {
     "name": "stdout",
     "output_type": "stream",
     "text": [
      "Processing section: 1206.2794.tex --> Results and conclusions | Number of chunks: 2\n"
     ]
    },
    {
     "name": "stderr",
     "output_type": "stream",
     "text": [
      "Processing sections:  58%|█████▊    | 1307/2255 [14:15<13:52,  1.14section/s]"
     ]
    },
    {
     "name": "stdout",
     "output_type": "stream",
     "text": [
      "Processing section: 1510.01951.tex --> Introduction | Number of chunks: 1\n"
     ]
    },
    {
     "name": "stderr",
     "output_type": "stream",
     "text": [
      "Processing sections:  58%|█████▊    | 1310/2255 [14:16<08:21,  1.88section/s]"
     ]
    },
    {
     "name": "stdout",
     "output_type": "stream",
     "text": [
      "Processing section: 1510.01951.tex --> Data samples and candidate selection | Number of chunks: 2\n"
     ]
    },
    {
     "name": "stderr",
     "output_type": "stream",
     "text": [
      "Processing sections:  58%|█████▊    | 1311/2255 [14:17<09:50,  1.60section/s]"
     ]
    },
    {
     "name": "stdout",
     "output_type": "stream",
     "text": [
      "Processing section: 1510.01951.tex --> Summary and conclusions | Number of chunks: 2\n"
     ]
    },
    {
     "name": "stderr",
     "output_type": "stream",
     "text": [
      "Processing sections:  58%|█████▊    | 1312/2255 [14:17<10:49,  1.45section/s]"
     ]
    },
    {
     "name": "stdout",
     "output_type": "stream",
     "text": [
      "Processing section: 1204.2813.tex --> Introduction | Number of chunks: 2\n"
     ]
    },
    {
     "name": "stderr",
     "output_type": "stream",
     "text": [
      "Processing sections:  58%|█████▊    | 1315/2255 [14:19<08:20,  1.88section/s]"
     ]
    },
    {
     "name": "stdout",
     "output_type": "stream",
     "text": [
      "Processing section: 1804.07167.tex --> Introduction | Number of chunks: 2\n"
     ]
    },
    {
     "name": "stderr",
     "output_type": "stream",
     "text": [
      "Processing sections:  58%|█████▊    | 1317/2255 [14:20<08:07,  1.92section/s]"
     ]
    },
    {
     "name": "stdout",
     "output_type": "stream",
     "text": [
      "Processing section: 1804.07167.tex --> Detector and simulation | Number of chunks: 1\n"
     ]
    },
    {
     "name": "stderr",
     "output_type": "stream",
     "text": [
      "Processing sections:  58%|█████▊    | 1318/2255 [14:20<08:27,  1.85section/s]"
     ]
    },
    {
     "name": "stdout",
     "output_type": "stream",
     "text": [
      "Processing section: 1804.07167.tex --> Candidate selection | Number of chunks: 2\n"
     ]
    },
    {
     "name": "stderr",
     "output_type": "stream",
     "text": [
      "Processing sections:  58%|█████▊    | 1319/2255 [14:21<10:42,  1.46section/s]"
     ]
    },
    {
     "name": "stdout",
     "output_type": "stream",
     "text": [
      "Processing section: 1804.07167.tex --> Signal yields | Number of chunks: 3\n"
     ]
    },
    {
     "name": "stderr",
     "output_type": "stream",
     "text": [
      "Processing sections:  59%|█████▊    | 1320/2255 [14:23<13:13,  1.18section/s]"
     ]
    },
    {
     "name": "stdout",
     "output_type": "stream",
     "text": [
      "Processing section: 1605.00951.tex --> Introduction | Number of chunks: 2\n"
     ]
    },
    {
     "name": "stderr",
     "output_type": "stream",
     "text": [
      "Processing sections:  59%|█████▊    | 1322/2255 [14:24<11:36,  1.34section/s]"
     ]
    },
    {
     "name": "stdout",
     "output_type": "stream",
     "text": [
      "Processing section: 1605.00951.tex --> Detector and simulation | Number of chunks: 1\n"
     ]
    },
    {
     "name": "stderr",
     "output_type": "stream",
     "text": [
      "Processing sections:  59%|█████▊    | 1323/2255 [14:25<10:56,  1.42section/s]"
     ]
    },
    {
     "name": "stdout",
     "output_type": "stream",
     "text": [
      "Processing section: 1605.00951.tex --> Purity determination | Number of chunks: 2\n"
     ]
    },
    {
     "name": "stderr",
     "output_type": "stream",
     "text": [
      "Processing sections:  59%|█████▊    | 1324/2255 [14:26<12:50,  1.21section/s]"
     ]
    },
    {
     "name": "stdout",
     "output_type": "stream",
     "text": [
      "Processing section: 1605.00951.tex --> Purity determination --> \\wj sample purity | Number of chunks: 1\n"
     ]
    },
    {
     "name": "stderr",
     "output_type": "stream",
     "text": [
      "Processing sections:  59%|█████▉    | 1325/2255 [14:26<11:54,  1.30section/s]"
     ]
    },
    {
     "name": "stdout",
     "output_type": "stream",
     "text": [
      "Processing section: 1605.00951.tex --> Conclusions | Number of chunks: 2\n"
     ]
    },
    {
     "name": "stderr",
     "output_type": "stream",
     "text": [
      "Processing sections:  59%|█████▉    | 1326/2255 [14:27<13:01,  1.19section/s]"
     ]
    },
    {
     "name": "stdout",
     "output_type": "stream",
     "text": [
      "Processing section: 2405.11324.tex --> Introduction | Number of chunks: 1\n"
     ]
    },
    {
     "name": "stderr",
     "output_type": "stream",
     "text": [
      "Processing sections:  59%|█████▉    | 1328/2255 [14:28<08:49,  1.75section/s]"
     ]
    },
    {
     "name": "stdout",
     "output_type": "stream",
     "text": [
      "Processing section: 2405.11324.tex --> Conclusions | Number of chunks: 2\n"
     ]
    },
    {
     "name": "stderr",
     "output_type": "stream",
     "text": [
      "Processing sections:  59%|█████▉    | 1329/2255 [14:29<10:34,  1.46section/s]"
     ]
    },
    {
     "name": "stdout",
     "output_type": "stream",
     "text": [
      "Processing section: 2105.02596.tex --> Introduction | Number of chunks: 2\n"
     ]
    },
    {
     "name": "stderr",
     "output_type": "stream",
     "text": [
      "Processing sections:  59%|█████▉    | 1331/2255 [14:30<10:10,  1.51section/s]"
     ]
    },
    {
     "name": "stdout",
     "output_type": "stream",
     "text": [
      "Processing section: 1907.10003.tex --> Introduction | Number of chunks: 2\n"
     ]
    },
    {
     "name": "stderr",
     "output_type": "stream",
     "text": [
      "Processing sections:  59%|█████▉    | 1333/2255 [14:31<10:03,  1.53section/s]"
     ]
    },
    {
     "name": "stdout",
     "output_type": "stream",
     "text": [
      "Processing section: 1907.10003.tex --> Detector description | Number of chunks: 1\n"
     ]
    },
    {
     "name": "stderr",
     "output_type": "stream",
     "text": [
      "Processing sections:  59%|█████▉    | 1334/2255 [14:32<09:41,  1.58section/s]"
     ]
    },
    {
     "name": "stdout",
     "output_type": "stream",
     "text": [
      "Processing section: 1907.10003.tex --> Selection and mass model | Number of chunks: 3\n"
     ]
    },
    {
     "name": "stderr",
     "output_type": "stream",
     "text": [
      "Processing sections:  59%|█████▉    | 1335/2255 [14:33<12:18,  1.25section/s]"
     ]
    },
    {
     "name": "stdout",
     "output_type": "stream",
     "text": [
      "Processing section: 1604.01412.tex --> Introduction | Number of chunks: 2\n"
     ]
    },
    {
     "name": "stderr",
     "output_type": "stream",
     "text": [
      "Processing sections:  59%|█████▉    | 1337/2255 [14:35<11:02,  1.39section/s]"
     ]
    },
    {
     "name": "stdout",
     "output_type": "stream",
     "text": [
      "Processing section: 1604.01412.tex --> Detector and simulation | Number of chunks: 1\n"
     ]
    },
    {
     "name": "stderr",
     "output_type": "stream",
     "text": [
      "Processing sections:  59%|█████▉    | 1338/2255 [14:35<10:14,  1.49section/s]"
     ]
    },
    {
     "name": "stdout",
     "output_type": "stream",
     "text": [
      "Processing section: 1604.01412.tex --> Candidate selection | Number of chunks: 2\n"
     ]
    },
    {
     "name": "stderr",
     "output_type": "stream",
     "text": [
      "Processing sections:  59%|█████▉    | 1339/2255 [14:36<11:27,  1.33section/s]"
     ]
    },
    {
     "name": "stdout",
     "output_type": "stream",
     "text": [
      "Processing section: 1604.01412.tex --> Systematic uncertainties | Number of chunks: 1\n"
     ]
    },
    {
     "name": "stderr",
     "output_type": "stream",
     "text": [
      "Processing sections:  59%|█████▉    | 1340/2255 [14:37<12:02,  1.27section/s]"
     ]
    },
    {
     "name": "stdout",
     "output_type": "stream",
     "text": [
      "Processing section: 1604.01412.tex --> Summary | Number of chunks: 2\n"
     ]
    },
    {
     "name": "stderr",
     "output_type": "stream",
     "text": [
      "Processing sections:  59%|█████▉    | 1341/2255 [14:38<13:22,  1.14section/s]"
     ]
    },
    {
     "name": "stdout",
     "output_type": "stream",
     "text": [
      "Processing section: 1408.4354.tex --> Introduction | Number of chunks: 1\n"
     ]
    },
    {
     "name": "stderr",
     "output_type": "stream",
     "text": [
      "Processing sections:  60%|█████▉    | 1343/2255 [14:39<10:14,  1.48section/s]"
     ]
    },
    {
     "name": "stdout",
     "output_type": "stream",
     "text": [
      "Processing section: 1408.4354.tex --> Detector and data sets | Number of chunks: 1\n"
     ]
    },
    {
     "name": "stderr",
     "output_type": "stream",
     "text": [
      "Processing sections:  60%|█████▉    | 1344/2255 [14:39<10:01,  1.52section/s]"
     ]
    },
    {
     "name": "stdout",
     "output_type": "stream",
     "text": [
      "Processing section: 1408.4354.tex --> Event selection | Number of chunks: 1\n"
     ]
    },
    {
     "name": "stderr",
     "output_type": "stream",
     "text": [
      "Processing sections:  60%|█████▉    | 1345/2255 [14:40<09:52,  1.54section/s]"
     ]
    },
    {
     "name": "stdout",
     "output_type": "stream",
     "text": [
      "Processing section: 1408.4354.tex --> Signal yield | Number of chunks: 1\n"
     ]
    },
    {
     "name": "stderr",
     "output_type": "stream",
     "text": [
      "Processing sections:  60%|█████▉    | 1346/2255 [14:41<10:21,  1.46section/s]"
     ]
    },
    {
     "name": "stdout",
     "output_type": "stream",
     "text": [
      "Processing section: 1902.07955.tex --> Introduction | Number of chunks: 3\n"
     ]
    },
    {
     "name": "stderr",
     "output_type": "stream",
     "text": [
      "Processing sections:  60%|█████▉    | 1348/2255 [14:42<10:35,  1.43section/s]"
     ]
    },
    {
     "name": "stdout",
     "output_type": "stream",
     "text": [
      "Processing section: 1902.07955.tex --> Results | Number of chunks: 3\n"
     ]
    },
    {
     "name": "stderr",
     "output_type": "stream",
     "text": [
      "Processing sections:  60%|█████▉    | 1349/2255 [14:44<13:12,  1.14section/s]"
     ]
    },
    {
     "name": "stdout",
     "output_type": "stream",
     "text": [
      "Processing section: 1902.07955.tex --> Summary | Number of chunks: 16\n"
     ]
    },
    {
     "name": "stderr",
     "output_type": "stream",
     "text": [
      "Processing sections:  60%|█████▉    | 1350/2255 [14:50<34:15,  2.27s/section]"
     ]
    },
    {
     "name": "stdout",
     "output_type": "stream",
     "text": [
      "Processing section: 1701.01871.tex --> Introduction | Number of chunks: 1\n"
     ]
    },
    {
     "name": "stderr",
     "output_type": "stream",
     "text": [
      "Processing sections:  60%|█████▉    | 1352/2255 [14:51<21:51,  1.45s/section]"
     ]
    },
    {
     "name": "stdout",
     "output_type": "stream",
     "text": [
      "Processing section: 1701.01871.tex --> Method | Number of chunks: 2\n"
     ]
    },
    {
     "name": "stderr",
     "output_type": "stream",
     "text": [
      "Processing sections:  60%|██████    | 1353/2255 [14:52<20:17,  1.35s/section]"
     ]
    },
    {
     "name": "stdout",
     "output_type": "stream",
     "text": [
      "Processing section: 1701.01871.tex --> Reconstruction and sample composition | Number of chunks: 3\n"
     ]
    },
    {
     "name": "stderr",
     "output_type": "stream",
     "text": [
      "Processing sections:  60%|██████    | 1354/2255 [14:53<20:40,  1.38s/section]"
     ]
    },
    {
     "name": "stdout",
     "output_type": "stream",
     "text": [
      "Processing section: 1701.01871.tex --> Determination of the asymmetries | Number of chunks: 3\n"
     ]
    },
    {
     "name": "stderr",
     "output_type": "stream",
     "text": [
      "Processing sections:  60%|██████    | 1355/2255 [14:55<21:08,  1.41s/section]"
     ]
    },
    {
     "name": "stdout",
     "output_type": "stream",
     "text": [
      "Processing section: 1701.01871.tex --> Systematic uncertainties | Number of chunks: 2\n"
     ]
    },
    {
     "name": "stderr",
     "output_type": "stream",
     "text": [
      "Processing sections:  60%|██████    | 1356/2255 [14:56<20:59,  1.40s/section]"
     ]
    },
    {
     "name": "stdout",
     "output_type": "stream",
     "text": [
      "Processing section: 1701.01871.tex --> Results and summary | Number of chunks: 2\n"
     ]
    },
    {
     "name": "stderr",
     "output_type": "stream",
     "text": [
      "Processing sections:  60%|██████    | 1357/2255 [14:57<19:58,  1.33s/section]"
     ]
    },
    {
     "name": "stdout",
     "output_type": "stream",
     "text": [
      "Processing section: 1611.03076.tex --> Introduction | Number of chunks: 6\n"
     ]
    },
    {
     "name": "stderr",
     "output_type": "stream",
     "text": [
      "Processing sections:  60%|██████    | 1359/2255 [15:00<19:14,  1.29s/section]"
     ]
    },
    {
     "name": "stdout",
     "output_type": "stream",
     "text": [
      "Processing section: 1306.2577.tex --> Introduction | Number of chunks: 1\n"
     ]
    },
    {
     "name": "stderr",
     "output_type": "stream",
     "text": [
      "Processing sections:  60%|██████    | 1361/2255 [15:00<13:44,  1.08section/s]"
     ]
    },
    {
     "name": "stdout",
     "output_type": "stream",
     "text": [
      "Processing section: 1306.2577.tex --> Detector and software | Number of chunks: 1\n"
     ]
    },
    {
     "name": "stderr",
     "output_type": "stream",
     "text": [
      "Processing sections:  60%|██████    | 1362/2255 [15:01<13:07,  1.13section/s]"
     ]
    },
    {
     "name": "stdout",
     "output_type": "stream",
     "text": [
      "Processing section: 1306.2577.tex --> Candidate selection | Number of chunks: 2\n"
     ]
    },
    {
     "name": "stderr",
     "output_type": "stream",
     "text": [
      "Processing sections:  60%|██████    | 1363/2255 [15:03<14:37,  1.02section/s]"
     ]
    },
    {
     "name": "stdout",
     "output_type": "stream",
     "text": [
      "Processing section: 1306.2577.tex --> Yields | Number of chunks: 2\n"
     ]
    },
    {
     "name": "stderr",
     "output_type": "stream",
     "text": [
      "Processing sections:  60%|██████    | 1364/2255 [15:04<15:26,  1.04s/section]"
     ]
    },
    {
     "name": "stdout",
     "output_type": "stream",
     "text": [
      "Processing section: 1306.2577.tex --> Yields --> Fit results | Number of chunks: 2\n"
     ]
    },
    {
     "name": "stderr",
     "output_type": "stream",
     "text": [
      "Processing sections:  61%|██████    | 1366/2255 [15:05<12:38,  1.17section/s]"
     ]
    },
    {
     "name": "stdout",
     "output_type": "stream",
     "text": [
      "Processing section: 1202.4979.tex --> Introduction | Number of chunks: 2\n"
     ]
    },
    {
     "name": "stderr",
     "output_type": "stream",
     "text": [
      "Processing sections:  61%|██████    | 1368/2255 [15:06<10:45,  1.37section/s]"
     ]
    },
    {
     "name": "stdout",
     "output_type": "stream",
     "text": [
      "Processing section: 1202.4979.tex --> Flavour tagging algorithms | Number of chunks: 1\n"
     ]
    },
    {
     "name": "stderr",
     "output_type": "stream",
     "text": [
      "Processing sections:  61%|██████    | 1369/2255 [15:06<10:07,  1.46section/s]"
     ]
    },
    {
     "name": "stdout",
     "output_type": "stream",
     "text": [
      "Processing section: 1202.4979.tex --> Summary | Number of chunks: 1\n"
     ]
    },
    {
     "name": "stderr",
     "output_type": "stream",
     "text": [
      "Processing sections:  61%|██████    | 1370/2255 [15:07<10:36,  1.39section/s]"
     ]
    },
    {
     "name": "stdout",
     "output_type": "stream",
     "text": [
      "Processing section: 1812.10790.tex --> Introduction | Number of chunks: 2\n"
     ]
    },
    {
     "name": "stderr",
     "output_type": "stream",
     "text": [
      "Processing sections:  61%|██████    | 1372/2255 [15:09<10:30,  1.40section/s]"
     ]
    },
    {
     "name": "stdout",
     "output_type": "stream",
     "text": [
      "Processing section: 1812.10790.tex --> Conclusions | Number of chunks: 1\n"
     ]
    },
    {
     "name": "stderr",
     "output_type": "stream",
     "text": [
      "Processing sections:  61%|██████    | 1373/2255 [15:10<10:54,  1.35section/s]"
     ]
    },
    {
     "name": "stdout",
     "output_type": "stream",
     "text": [
      "Processing section: 2312.09102.tex --> Introduction | Number of chunks: 2\n"
     ]
    },
    {
     "name": "stderr",
     "output_type": "stream",
     "text": [
      "Processing sections:  61%|██████    | 1375/2255 [15:11<09:55,  1.48section/s]"
     ]
    },
    {
     "name": "stdout",
     "output_type": "stream",
     "text": [
      "Processing section: 2312.09102.tex --> Formalism | Number of chunks: 6\n"
     ]
    },
    {
     "name": "stderr",
     "output_type": "stream",
     "text": [
      "Processing sections:  61%|██████    | 1376/2255 [15:13<15:26,  1.05s/section]"
     ]
    },
    {
     "name": "stdout",
     "output_type": "stream",
     "text": [
      "Processing section: 2312.09102.tex --> LHCb detector and simulation | Number of chunks: 1\n"
     ]
    },
    {
     "name": "stderr",
     "output_type": "stream",
     "text": [
      "Processing sections:  61%|██████    | 1377/2255 [15:14<13:36,  1.08section/s]"
     ]
    },
    {
     "name": "stdout",
     "output_type": "stream",
     "text": [
      "Processing section: 2312.09102.tex --> Selection of signal candidates | Number of chunks: 2\n"
     ]
    },
    {
     "name": "stderr",
     "output_type": "stream",
     "text": [
      "Processing sections:  61%|██████    | 1378/2255 [15:15<13:55,  1.05section/s]"
     ]
    },
    {
     "name": "stdout",
     "output_type": "stream",
     "text": [
      "Processing section: 2408.05134.tex --> Introduction | Number of chunks: 2\n"
     ]
    },
    {
     "name": "stderr",
     "output_type": "stream",
     "text": [
      "Processing sections:  61%|██████    | 1380/2255 [15:16<11:47,  1.24section/s]"
     ]
    },
    {
     "name": "stdout",
     "output_type": "stream",
     "text": [
      "Processing section: 2408.05134.tex --> Detector and simulation | Number of chunks: 2\n"
     ]
    },
    {
     "name": "stderr",
     "output_type": "stream",
     "text": [
      "Processing sections:  61%|██████    | 1381/2255 [15:17<12:53,  1.13section/s]"
     ]
    },
    {
     "name": "stdout",
     "output_type": "stream",
     "text": [
      "Processing section: 2408.05134.tex --> $\\decay{\\PUpsilon}{\\mumu}$ selection and mass fits | Number of chunks: 4\n"
     ]
    },
    {
     "name": "stderr",
     "output_type": "stream",
     "text": [
      "Processing sections:  61%|██████▏   | 1382/2255 [15:19<15:27,  1.06s/section]"
     ]
    },
    {
     "name": "stdout",
     "output_type": "stream",
     "text": [
      "Processing section: 1408.2748.tex --> Introduction | Number of chunks: 1\n"
     ]
    },
    {
     "name": "stderr",
     "output_type": "stream",
     "text": [
      "Processing sections:  61%|██████▏   | 1384/2255 [15:19<11:28,  1.26section/s]"
     ]
    },
    {
     "name": "stdout",
     "output_type": "stream",
     "text": [
      "Processing section: 1408.2748.tex --> Overview of the analysis | Number of chunks: 2\n"
     ]
    },
    {
     "name": "stderr",
     "output_type": "stream",
     "text": [
      "Processing sections:  61%|██████▏   | 1385/2255 [15:21<13:04,  1.11section/s]"
     ]
    },
    {
     "name": "stdout",
     "output_type": "stream",
     "text": [
      "Processing section: 1408.2748.tex --> Conclusions | Number of chunks: 2\n"
     ]
    },
    {
     "name": "stderr",
     "output_type": "stream",
     "text": [
      "Processing sections:  61%|██████▏   | 1386/2255 [15:22<13:42,  1.06section/s]"
     ]
    },
    {
     "name": "stdout",
     "output_type": "stream",
     "text": [
      "Processing section: 1406.2885.tex --> Introduction\\label{sec:Intro} | Number of chunks: 2\n"
     ]
    },
    {
     "name": "stderr",
     "output_type": "stream",
     "text": [
      "Processing sections:  62%|██████▏   | 1388/2255 [15:23<11:36,  1.24section/s]"
     ]
    },
    {
     "name": "stdout",
     "output_type": "stream",
     "text": [
      "Processing section: 1406.2885.tex --> Detector and software\\label{sec:Detector} | Number of chunks: 1\n"
     ]
    },
    {
     "name": "stderr",
     "output_type": "stream",
     "text": [
      "Processing sections:  62%|██████▏   | 1389/2255 [15:24<10:41,  1.35section/s]"
     ]
    },
    {
     "name": "stdout",
     "output_type": "stream",
     "text": [
      "Processing section: 1406.2885.tex --> Data samples and candidate selection\\label{sec:Sel} | Number of chunks: 2\n"
     ]
    },
    {
     "name": "stderr",
     "output_type": "stream",
     "text": [
      "Processing sections:  62%|██████▏   | 1390/2255 [15:25<12:56,  1.11section/s]"
     ]
    },
    {
     "name": "stdout",
     "output_type": "stream",
     "text": [
      "Processing section: 1406.2885.tex --> Conclusions\\label{sec:Concl} | Number of chunks: 2\n"
     ]
    },
    {
     "name": "stderr",
     "output_type": "stream",
     "text": [
      "Processing sections:  62%|██████▏   | 1391/2255 [15:26<13:31,  1.07section/s]"
     ]
    },
    {
     "name": "stdout",
     "output_type": "stream",
     "text": [
      "Processing section: 1304.4500.tex --> Introduction | Number of chunks: 3\n"
     ]
    },
    {
     "name": "stderr",
     "output_type": "stream",
     "text": [
      "Processing sections:  62%|██████▏   | 1393/2255 [15:27<12:02,  1.19section/s]"
     ]
    },
    {
     "name": "stdout",
     "output_type": "stream",
     "text": [
      "Processing section: 1304.4500.tex --> Results and conclusion | Number of chunks: 2\n"
     ]
    },
    {
     "name": "stderr",
     "output_type": "stream",
     "text": [
      "Processing sections:  62%|██████▏   | 1394/2255 [15:28<11:49,  1.21section/s]"
     ]
    },
    {
     "name": "stdout",
     "output_type": "stream",
     "text": [
      "Processing section: 1709.05855.tex --> Introduction | Number of chunks: 7\n"
     ]
    },
    {
     "name": "stderr",
     "output_type": "stream",
     "text": [
      "Processing sections:  62%|██████▏   | 1396/2255 [15:31<14:48,  1.03s/section]"
     ]
    },
    {
     "name": "stdout",
     "output_type": "stream",
     "text": [
      "Processing section: 1709.05855.tex --> Detector, online selection and simulation | Number of chunks: 2\n"
     ]
    },
    {
     "name": "stderr",
     "output_type": "stream",
     "text": [
      "Processing sections:  62%|██████▏   | 1397/2255 [15:32<15:06,  1.06s/section]"
     ]
    },
    {
     "name": "stdout",
     "output_type": "stream",
     "text": [
      "Processing section: 1709.05855.tex --> Offline selection | Number of chunks: 2\n"
     ]
    },
    {
     "name": "stderr",
     "output_type": "stream",
     "text": [
      "Processing sections:  62%|██████▏   | 1398/2255 [15:33<15:50,  1.11s/section]"
     ]
    },
    {
     "name": "stdout",
     "output_type": "stream",
     "text": [
      "Processing section: 1709.05855.tex --> Fit to the invariant mass distribution | Number of chunks: 1\n"
     ]
    },
    {
     "name": "stderr",
     "output_type": "stream",
     "text": [
      "Processing sections:  62%|██████▏   | 1399/2255 [15:34<13:58,  1.02section/s]"
     ]
    },
    {
     "name": "stdout",
     "output_type": "stream",
     "text": [
      "Processing section: 1709.05855.tex --> Conclusions | Number of chunks: 1\n"
     ]
    },
    {
     "name": "stderr",
     "output_type": "stream",
     "text": [
      "Processing sections:  62%|██████▏   | 1400/2255 [15:35<12:47,  1.11section/s]"
     ]
    },
    {
     "name": "stdout",
     "output_type": "stream",
     "text": [
      "Processing section: 1911.08187.tex --> Introduction | Number of chunks: 2\n"
     ]
    },
    {
     "name": "stderr",
     "output_type": "stream",
     "text": [
      "Processing sections:  62%|██████▏   | 1402/2255 [15:36<10:59,  1.29section/s]"
     ]
    },
    {
     "name": "stdout",
     "output_type": "stream",
     "text": [
      "Processing section: 1911.08187.tex --> Detector and simulation | Number of chunks: 1\n"
     ]
    },
    {
     "name": "stderr",
     "output_type": "stream",
     "text": [
      "Processing sections:  62%|██████▏   | 1403/2255 [15:36<10:20,  1.37section/s]"
     ]
    },
    {
     "name": "stdout",
     "output_type": "stream",
     "text": [
      "Processing section: 1911.08187.tex --> Selection | Number of chunks: 2\n"
     ]
    },
    {
     "name": "stderr",
     "output_type": "stream",
     "text": [
      "Processing sections:  62%|██████▏   | 1404/2255 [15:38<12:28,  1.14section/s]"
     ]
    },
    {
     "name": "stdout",
     "output_type": "stream",
     "text": [
      "Processing section: 2311.14085.tex --> Introduction | Number of chunks: 2\n"
     ]
    },
    {
     "name": "stderr",
     "output_type": "stream",
     "text": [
      "Processing sections:  62%|██████▏   | 1406/2255 [15:39<10:53,  1.30section/s]"
     ]
    },
    {
     "name": "stdout",
     "output_type": "stream",
     "text": [
      "Processing section: 2311.14085.tex --> Candidate selection | Number of chunks: 1\n"
     ]
    },
    {
     "name": "stderr",
     "output_type": "stream",
     "text": [
      "Processing sections:  62%|██████▏   | 1407/2255 [15:39<10:05,  1.40section/s]"
     ]
    },
    {
     "name": "stdout",
     "output_type": "stream",
     "text": [
      "Processing section: 2311.14085.tex --> Cross-section determination | Number of chunks: 2\n"
     ]
    },
    {
     "name": "stderr",
     "output_type": "stream",
     "text": [
      "Processing sections:  62%|██████▏   | 1408/2255 [15:41<12:08,  1.16section/s]"
     ]
    },
    {
     "name": "stdout",
     "output_type": "stream",
     "text": [
      "Processing section: 2311.14085.tex --> Conclusion | Number of chunks: 2\n"
     ]
    },
    {
     "name": "stderr",
     "output_type": "stream",
     "text": [
      "Processing sections:  62%|██████▏   | 1409/2255 [15:42<12:31,  1.13section/s]"
     ]
    },
    {
     "name": "stdout",
     "output_type": "stream",
     "text": [
      "Processing section: 2402.01336.tex --> Introduction | Number of chunks: 2\n"
     ]
    },
    {
     "name": "stderr",
     "output_type": "stream",
     "text": [
      "Processing sections:  63%|██████▎   | 1411/2255 [15:43<10:49,  1.30section/s]"
     ]
    },
    {
     "name": "stdout",
     "output_type": "stream",
     "text": [
      "Processing section: 2402.01336.tex --> Candidate selection | Number of chunks: 2\n"
     ]
    },
    {
     "name": "stderr",
     "output_type": "stream",
     "text": [
      "Processing sections:  63%|██████▎   | 1412/2255 [15:44<12:38,  1.11section/s]"
     ]
    },
    {
     "name": "stdout",
     "output_type": "stream",
     "text": [
      "Processing section: 2402.01336.tex --> Signal yield determination | Number of chunks: 2\n"
     ]
    },
    {
     "name": "stderr",
     "output_type": "stream",
     "text": [
      "Processing sections:  63%|██████▎   | 1413/2255 [15:45<13:01,  1.08section/s]"
     ]
    },
    {
     "name": "stdout",
     "output_type": "stream",
     "text": [
      "Processing section: 1512.04442.tex --> Introduction | Number of chunks: 1\n"
     ]
    },
    {
     "name": "stderr",
     "output_type": "stream",
     "text": [
      "Processing sections:  63%|██████▎   | 1415/2255 [15:46<09:11,  1.52section/s]"
     ]
    },
    {
     "name": "stdout",
     "output_type": "stream",
     "text": [
      "Processing section: 1512.04442.tex --> Angular distribution and observables | Number of chunks: 4\n"
     ]
    },
    {
     "name": "stderr",
     "output_type": "stream",
     "text": [
      "Processing sections:  63%|██████▎   | 1416/2255 [15:48<12:22,  1.13section/s]"
     ]
    },
    {
     "name": "stdout",
     "output_type": "stream",
     "text": [
      "Processing section: 1102.0206.tex --> Introduction | Number of chunks: 4\n"
     ]
    },
    {
     "name": "stderr",
     "output_type": "stream",
     "text": [
      "Processing sections:  63%|██████▎   | 1418/2255 [15:49<11:57,  1.17section/s]"
     ]
    },
    {
     "name": "stdout",
     "output_type": "stream",
     "text": [
      "Processing section: 1102.0206.tex --> Acknowledgments | Number of chunks: 2\n"
     ]
    },
    {
     "name": "stderr",
     "output_type": "stream",
     "text": [
      "Processing sections:  63%|██████▎   | 1419/2255 [15:50<12:40,  1.10section/s]"
     ]
    },
    {
     "name": "stdout",
     "output_type": "stream",
     "text": [
      "Processing section: 1408.1299.tex --> Introduction | Number of chunks: 2\n"
     ]
    },
    {
     "name": "stderr",
     "output_type": "stream",
     "text": [
      "Processing sections:  63%|██████▎   | 1421/2255 [15:51<10:58,  1.27section/s]"
     ]
    },
    {
     "name": "stdout",
     "output_type": "stream",
     "text": [
      "Processing section: 1408.1299.tex --> Detector | Number of chunks: 1\n"
     ]
    },
    {
     "name": "stderr",
     "output_type": "stream",
     "text": [
      "Processing sections:  63%|██████▎   | 1422/2255 [15:52<10:52,  1.28section/s]"
     ]
    },
    {
     "name": "stdout",
     "output_type": "stream",
     "text": [
      "Processing section: 1408.1299.tex --> Selection | Number of chunks: 1\n"
     ]
    },
    {
     "name": "stderr",
     "output_type": "stream",
     "text": [
      "Processing sections:  63%|██████▎   | 1423/2255 [15:53<10:16,  1.35section/s]"
     ]
    },
    {
     "name": "stdout",
     "output_type": "stream",
     "text": [
      "Processing section: 1204.1258.tex --> Introduction | Number of chunks: 1\n"
     ]
    },
    {
     "name": "stderr",
     "output_type": "stream",
     "text": [
      "Processing sections:  63%|██████▎   | 1425/2255 [15:53<07:44,  1.78section/s]"
     ]
    },
    {
     "name": "stdout",
     "output_type": "stream",
     "text": [
      "Processing section: 1204.1258.tex --> The LHCb detector and data sample | Number of chunks: 2\n"
     ]
    },
    {
     "name": "stderr",
     "output_type": "stream",
     "text": [
      "Processing sections:  63%|██████▎   | 1426/2255 [15:55<09:38,  1.43section/s]"
     ]
    },
    {
     "name": "stdout",
     "output_type": "stream",
     "text": [
      "Processing section: 1204.1258.tex --> Signal yield | Number of chunks: 1\n"
     ]
    },
    {
     "name": "stderr",
     "output_type": "stream",
     "text": [
      "Processing sections:  63%|██████▎   | 1427/2255 [15:55<09:15,  1.49section/s]"
     ]
    },
    {
     "name": "stdout",
     "output_type": "stream",
     "text": [
      "Processing section: 1308.3189.tex --> Introduction | Number of chunks: 2\n"
     ]
    },
    {
     "name": "stderr",
     "output_type": "stream",
     "text": [
      "Processing sections:  63%|██████▎   | 1429/2255 [15:56<08:44,  1.57section/s]"
     ]
    },
    {
     "name": "stdout",
     "output_type": "stream",
     "text": [
      "Processing section: 1308.3189.tex --> Selection | Number of chunks: 1\n"
     ]
    },
    {
     "name": "stderr",
     "output_type": "stream",
     "text": [
      "Processing sections:  63%|██████▎   | 1430/2255 [15:57<08:04,  1.70section/s]"
     ]
    },
    {
     "name": "stdout",
     "output_type": "stream",
     "text": [
      "Processing section: 2011.05263.tex --> Introduction | Number of chunks: 2\n"
     ]
    },
    {
     "name": "stderr",
     "output_type": "stream",
     "text": [
      "Processing sections:  64%|██████▎   | 1432/2255 [15:58<08:19,  1.65section/s]"
     ]
    },
    {
     "name": "stdout",
     "output_type": "stream",
     "text": [
      "Processing section: 2011.05263.tex --> Conclusion | Number of chunks: 2\n"
     ]
    },
    {
     "name": "stderr",
     "output_type": "stream",
     "text": [
      "Processing sections:  64%|██████▎   | 1433/2255 [15:59<09:12,  1.49section/s]"
     ]
    },
    {
     "name": "stdout",
     "output_type": "stream",
     "text": [
      "Processing section: 1711.01157.tex --> Introduction | Number of chunks: 2\n"
     ]
    },
    {
     "name": "stderr",
     "output_type": "stream",
     "text": [
      "Processing sections:  64%|██████▎   | 1435/2255 [16:00<08:02,  1.70section/s]"
     ]
    },
    {
     "name": "stdout",
     "output_type": "stream",
     "text": [
      "Processing section: 1711.01157.tex --> Results | Number of chunks: 3\n"
     ]
    },
    {
     "name": "stderr",
     "output_type": "stream",
     "text": [
      "Processing sections:  64%|██████▎   | 1436/2255 [16:01<10:21,  1.32section/s]"
     ]
    },
    {
     "name": "stdout",
     "output_type": "stream",
     "text": [
      "Processing section: 1306.3663.tex --> Introduction | Number of chunks: 2\n"
     ]
    },
    {
     "name": "stderr",
     "output_type": "stream",
     "text": [
      "Processing sections:  64%|██████▍   | 1439/2255 [16:02<07:31,  1.81section/s]"
     ]
    },
    {
     "name": "stdout",
     "output_type": "stream",
     "text": [
      "Processing section: 1306.3663.tex --> Candidate selection | Number of chunks: 2\n"
     ]
    },
    {
     "name": "stderr",
     "output_type": "stream",
     "text": [
      "Processing sections:  64%|██████▍   | 1440/2255 [16:03<08:32,  1.59section/s]"
     ]
    },
    {
     "name": "stdout",
     "output_type": "stream",
     "text": [
      "Processing section: 1306.3663.tex --> Cross-section determination | Number of chunks: 2\n"
     ]
    },
    {
     "name": "stderr",
     "output_type": "stream",
     "text": [
      "Processing sections:  64%|██████▍   | 1441/2255 [16:04<09:57,  1.36section/s]"
     ]
    },
    {
     "name": "stdout",
     "output_type": "stream",
     "text": [
      "Processing section: 2112.11428.tex --> Introduction | Number of chunks: 2\n"
     ]
    },
    {
     "name": "stderr",
     "output_type": "stream",
     "text": [
      "Processing sections:  64%|██████▍   | 1445/2255 [16:05<06:45,  2.00section/s]"
     ]
    },
    {
     "name": "stdout",
     "output_type": "stream",
     "text": [
      "Processing section: 2112.11428.tex --> Systematic uncertainties | Number of chunks: 3\n"
     ]
    },
    {
     "name": "stderr",
     "output_type": "stream",
     "text": [
      "Processing sections:  64%|██████▍   | 1446/2255 [16:07<08:45,  1.54section/s]"
     ]
    },
    {
     "name": "stdout",
     "output_type": "stream",
     "text": [
      "Processing section: 1702.08048.tex --> Introduction | Number of chunks: 2\n"
     ]
    },
    {
     "name": "stderr",
     "output_type": "stream",
     "text": [
      "Processing sections:  64%|██████▍   | 1448/2255 [16:08<08:31,  1.58section/s]"
     ]
    },
    {
     "name": "stdout",
     "output_type": "stream",
     "text": [
      "Processing section: 1302.5578.tex --> Introduction | Number of chunks: 2\n"
     ]
    },
    {
     "name": "stderr",
     "output_type": "stream",
     "text": [
      "Processing sections:  64%|██████▍   | 1450/2255 [16:09<08:08,  1.65section/s]"
     ]
    },
    {
     "name": "stdout",
     "output_type": "stream",
     "text": [
      "Processing section: 1302.5578.tex --> Conclusion | Number of chunks: 1\n"
     ]
    },
    {
     "name": "stderr",
     "output_type": "stream",
     "text": [
      "Processing sections:  64%|██████▍   | 1451/2255 [16:10<08:39,  1.55section/s]"
     ]
    },
    {
     "name": "stdout",
     "output_type": "stream",
     "text": [
      "Processing section: 1502.02638.tex --> Introduction | Number of chunks: 1\n"
     ]
    },
    {
     "name": "stderr",
     "output_type": "stream",
     "text": [
      "Processing sections:  64%|██████▍   | 1454/2255 [16:11<06:17,  2.12section/s]"
     ]
    },
    {
     "name": "stdout",
     "output_type": "stream",
     "text": [
      "Processing section: 1301.5347.tex --> Branching fractions | Number of chunks: 4\n"
     ]
    },
    {
     "name": "stderr",
     "output_type": "stream",
     "text": [
      "Processing sections:  65%|██████▍   | 1456/2255 [16:12<07:40,  1.73section/s]"
     ]
    },
    {
     "name": "stdout",
     "output_type": "stream",
     "text": [
      "Processing section: 1301.5347.tex --> Conclusions | Number of chunks: 2\n"
     ]
    },
    {
     "name": "stderr",
     "output_type": "stream",
     "text": [
      "Processing sections:  65%|██████▍   | 1457/2255 [16:14<09:17,  1.43section/s]"
     ]
    },
    {
     "name": "stdout",
     "output_type": "stream",
     "text": [
      "Processing section: 1805.03448.tex --> Introduction | Number of chunks: 2\n"
     ]
    },
    {
     "name": "stderr",
     "output_type": "stream",
     "text": [
      "Processing sections:  65%|██████▍   | 1459/2255 [16:15<08:40,  1.53section/s]"
     ]
    },
    {
     "name": "stdout",
     "output_type": "stream",
     "text": [
      "Processing section: 1805.03448.tex --> Candidate selection | Number of chunks: 2\n"
     ]
    },
    {
     "name": "stderr",
     "output_type": "stream",
     "text": [
      "Processing sections:  65%|██████▍   | 1460/2255 [16:16<10:19,  1.28section/s]"
     ]
    },
    {
     "name": "stdout",
     "output_type": "stream",
     "text": [
      "Processing section: 1805.03448.tex --> Conclusion | Number of chunks: 1\n"
     ]
    },
    {
     "name": "stderr",
     "output_type": "stream",
     "text": [
      "Processing sections:  65%|██████▍   | 1461/2255 [16:17<10:13,  1.29section/s]"
     ]
    },
    {
     "name": "stdout",
     "output_type": "stream",
     "text": [
      "Processing section: 1308.0961.tex --> Detector and trigger | Number of chunks: 1\n"
     ]
    },
    {
     "name": "stderr",
     "output_type": "stream",
     "text": [
      "Processing sections:  65%|██████▍   | 1463/2255 [16:17<07:44,  1.71section/s]"
     ]
    },
    {
     "name": "stdout",
     "output_type": "stream",
     "text": [
      "Processing section: 1308.0961.tex --> Candidate selection | Number of chunks: 3\n"
     ]
    },
    {
     "name": "stderr",
     "output_type": "stream",
     "text": [
      "Processing sections:  65%|██████▍   | 1464/2255 [16:19<10:01,  1.31section/s]"
     ]
    },
    {
     "name": "stdout",
     "output_type": "stream",
     "text": [
      "Processing section: 1308.0961.tex --> Signal yield determination | Number of chunks: 2\n"
     ]
    },
    {
     "name": "stderr",
     "output_type": "stream",
     "text": [
      "Processing sections:  65%|██████▍   | 1465/2255 [16:20<11:17,  1.17section/s]"
     ]
    },
    {
     "name": "stdout",
     "output_type": "stream",
     "text": [
      "Processing section: 1308.0961.tex --> Systematic uncertainties | Number of chunks: 1\n"
     ]
    },
    {
     "name": "stderr",
     "output_type": "stream",
     "text": [
      "Processing sections:  65%|██████▌   | 1466/2255 [16:21<10:08,  1.30section/s]"
     ]
    },
    {
     "name": "stdout",
     "output_type": "stream",
     "text": [
      "Processing section: 1308.0961.tex --> Results and conclusion | Number of chunks: 2\n"
     ]
    },
    {
     "name": "stderr",
     "output_type": "stream",
     "text": [
      "Processing sections:  65%|██████▌   | 1467/2255 [16:22<11:06,  1.18section/s]"
     ]
    },
    {
     "name": "stdout",
     "output_type": "stream",
     "text": [
      "Processing section: 1603.02870.tex --> Summary | Number of chunks: 2\n"
     ]
    },
    {
     "name": "stderr",
     "output_type": "stream",
     "text": [
      "Processing sections:  65%|██████▌   | 1469/2255 [16:23<09:27,  1.38section/s]"
     ]
    },
    {
     "name": "stdout",
     "output_type": "stream",
     "text": [
      "Processing section: 2310.12649.tex --> Introduction | Number of chunks: 2\n"
     ]
    },
    {
     "name": "stderr",
     "output_type": "stream",
     "text": [
      "Processing sections:  65%|██████▌   | 1471/2255 [16:24<09:21,  1.40section/s]"
     ]
    },
    {
     "name": "stdout",
     "output_type": "stream",
     "text": [
      "Processing section: 2310.12649.tex --> Detector and simulation | Number of chunks: 1\n"
     ]
    },
    {
     "name": "stderr",
     "output_type": "stream",
     "text": [
      "Processing sections:  65%|██████▌   | 1472/2255 [16:25<09:18,  1.40section/s]"
     ]
    },
    {
     "name": "stdout",
     "output_type": "stream",
     "text": [
      "Processing section: 2310.12649.tex --> Event selection | Number of chunks: 2\n"
     ]
    },
    {
     "name": "stderr",
     "output_type": "stream",
     "text": [
      "Processing sections:  65%|██████▌   | 1473/2255 [16:26<11:11,  1.16section/s]"
     ]
    },
    {
     "name": "stdout",
     "output_type": "stream",
     "text": [
      "Processing section: 2310.12649.tex --> Summary | Number of chunks: 2\n"
     ]
    },
    {
     "name": "stderr",
     "output_type": "stream",
     "text": [
      "Processing sections:  65%|██████▌   | 1474/2255 [16:27<11:56,  1.09section/s]"
     ]
    },
    {
     "name": "stdout",
     "output_type": "stream",
     "text": [
      "Processing section: 1407.6127.tex --> Introduction | Number of chunks: 2\n"
     ]
    },
    {
     "name": "stderr",
     "output_type": "stream",
     "text": [
      "Processing sections:  65%|██████▌   | 1476/2255 [16:28<09:57,  1.30section/s]"
     ]
    },
    {
     "name": "stdout",
     "output_type": "stream",
     "text": [
      "Processing section: 1407.6127.tex --> Conclusion | Number of chunks: 1\n"
     ]
    },
    {
     "name": "stderr",
     "output_type": "stream",
     "text": [
      "Processing sections:  65%|██████▌   | 1477/2255 [16:29<09:34,  1.35section/s]"
     ]
    },
    {
     "name": "stdout",
     "output_type": "stream",
     "text": [
      "Processing section: 2408.16646.tex --> Introduction | Number of chunks: 3\n"
     ]
    },
    {
     "name": "stderr",
     "output_type": "stream",
     "text": [
      "Processing sections:  66%|██████▌   | 1479/2255 [16:30<09:30,  1.36section/s]"
     ]
    },
    {
     "name": "stdout",
     "output_type": "stream",
     "text": [
      "Processing section: 1804.09617.tex --> Candidate selection | Number of chunks: 3\n"
     ]
    },
    {
     "name": "stderr",
     "output_type": "stream",
     "text": [
      "Processing sections:  66%|██████▌   | 1481/2255 [16:32<09:30,  1.36section/s]"
     ]
    },
    {
     "name": "stdout",
     "output_type": "stream",
     "text": [
      "Processing section: 1804.09617.tex --> Conclusion | Number of chunks: 2\n"
     ]
    },
    {
     "name": "stderr",
     "output_type": "stream",
     "text": [
      "Processing sections:  66%|██████▌   | 1482/2255 [16:33<09:50,  1.31section/s]"
     ]
    },
    {
     "name": "stdout",
     "output_type": "stream",
     "text": [
      "Processing section: 2011.13738.tex --> Branching fraction ratio and efficiencies | Number of chunks: 2\n"
     ]
    },
    {
     "name": "stderr",
     "output_type": "stream",
     "text": [
      "Processing sections:  66%|██████▌   | 1484/2255 [16:34<08:38,  1.49section/s]"
     ]
    },
    {
     "name": "stdout",
     "output_type": "stream",
     "text": [
      "Processing section: 2011.13738.tex --> Systematic uncertainties | Number of chunks: 2\n"
     ]
    },
    {
     "name": "stderr",
     "output_type": "stream",
     "text": [
      "Processing sections:  66%|██████▌   | 1485/2255 [16:35<09:38,  1.33section/s]"
     ]
    },
    {
     "name": "stdout",
     "output_type": "stream",
     "text": [
      "Processing section: 2011.13738.tex --> Results and summary | Number of chunks: 2\n"
     ]
    },
    {
     "name": "stderr",
     "output_type": "stream",
     "text": [
      "Processing sections:  66%|██████▌   | 1486/2255 [16:36<09:45,  1.31section/s]"
     ]
    },
    {
     "name": "stdout",
     "output_type": "stream",
     "text": [
      "Processing section: 1103.0423.tex --> Introduction | Number of chunks: 1\n"
     ]
    },
    {
     "name": "stderr",
     "output_type": "stream",
     "text": [
      "Processing sections:  66%|██████▌   | 1488/2255 [16:36<07:34,  1.69section/s]"
     ]
    },
    {
     "name": "stdout",
     "output_type": "stream",
     "text": [
      "Processing section: 1103.0423.tex --> The LHCb detector, data sample and Monte Carlo simulation | Number of chunks: 2\n"
     ]
    },
    {
     "name": "stderr",
     "output_type": "stream",
     "text": [
      "Processing sections:  66%|██████▌   | 1489/2255 [16:38<09:33,  1.34section/s]"
     ]
    },
    {
     "name": "stdout",
     "output_type": "stream",
     "text": [
      "Processing section: 1103.0423.tex --> Conclusions | Number of chunks: 6\n"
     ]
    },
    {
     "name": "stderr",
     "output_type": "stream",
     "text": [
      "Processing sections:  66%|██████▌   | 1490/2255 [16:40<14:21,  1.13s/section]"
     ]
    },
    {
     "name": "stdout",
     "output_type": "stream",
     "text": [
      "Processing section: 1712.08086.tex --> Conclusions | Number of chunks: 2\n"
     ]
    },
    {
     "name": "stderr",
     "output_type": "stream",
     "text": [
      "Processing sections:  66%|██████▌   | 1492/2255 [16:41<11:25,  1.11section/s]"
     ]
    },
    {
     "name": "stdout",
     "output_type": "stream",
     "text": [
      "Processing section: 1911.05957.tex --> Introduction | Number of chunks: 2\n"
     ]
    },
    {
     "name": "stderr",
     "output_type": "stream",
     "text": [
      "Processing sections:  66%|██████▋   | 1494/2255 [16:42<09:44,  1.30section/s]"
     ]
    },
    {
     "name": "stdout",
     "output_type": "stream",
     "text": [
      "Processing section: 1911.05957.tex --> LHCb detector | Number of chunks: 1\n"
     ]
    },
    {
     "name": "stderr",
     "output_type": "stream",
     "text": [
      "Processing sections:  66%|██████▋   | 1495/2255 [16:43<09:07,  1.39section/s]"
     ]
    },
    {
     "name": "stdout",
     "output_type": "stream",
     "text": [
      "Processing section: 1911.05957.tex --> Selection requirements | Number of chunks: 3\n"
     ]
    },
    {
     "name": "stderr",
     "output_type": "stream",
     "text": [
      "Processing sections:  66%|██████▋   | 1496/2255 [16:44<11:04,  1.14section/s]"
     ]
    },
    {
     "name": "stdout",
     "output_type": "stream",
     "text": [
      "Processing section: 1911.05957.tex --> Selection requirements --> Headers --> Search for additional contributions and spin-parity determination | Number of chunks: 2\n"
     ]
    },
    {
     "name": "stderr",
     "output_type": "stream",
     "text": [
      "Processing sections:  66%|██████▋   | 1498/2255 [16:45<09:27,  1.33section/s]"
     ]
    },
    {
     "name": "stdout",
     "output_type": "stream",
     "text": [
      "Processing section: 1911.05957.tex --> Summary | Number of chunks: 1\n"
     ]
    },
    {
     "name": "stderr",
     "output_type": "stream",
     "text": [
      "Processing sections:  66%|██████▋   | 1499/2255 [16:46<09:00,  1.40section/s]"
     ]
    },
    {
     "name": "stdout",
     "output_type": "stream",
     "text": [
      "Processing section: 1402.2539.tex --> Detector and data sample | Number of chunks: 1\n"
     ]
    },
    {
     "name": "stderr",
     "output_type": "stream",
     "text": [
      "Processing sections:  67%|██████▋   | 1501/2255 [16:46<06:49,  1.84section/s]"
     ]
    },
    {
     "name": "stdout",
     "output_type": "stream",
     "text": [
      "Processing section: 1402.2539.tex --> Signal selection and cross-section determination | Number of chunks: 1\n"
     ]
    },
    {
     "name": "stderr",
     "output_type": "stream",
     "text": [
      "Processing sections:  67%|██████▋   | 1502/2255 [16:47<06:42,  1.87section/s]"
     ]
    },
    {
     "name": "stdout",
     "output_type": "stream",
     "text": [
      "Processing section: 1402.2539.tex --> Conclusions | Number of chunks: 1\n"
     ]
    },
    {
     "name": "stderr",
     "output_type": "stream",
     "text": [
      "Processing sections:  67%|██████▋   | 1503/2255 [16:48<07:01,  1.78section/s]"
     ]
    },
    {
     "name": "stdout",
     "output_type": "stream",
     "text": [
      "Processing section: 1405.6842.tex --> Introduction | Number of chunks: 3\n"
     ]
    },
    {
     "name": "stderr",
     "output_type": "stream",
     "text": [
      "Processing sections:  67%|██████▋   | 1505/2255 [16:49<07:40,  1.63section/s]"
     ]
    },
    {
     "name": "stdout",
     "output_type": "stream",
     "text": [
      "Processing section: 1405.6842.tex --> Detector and simulation | Number of chunks: 1\n"
     ]
    },
    {
     "name": "stderr",
     "output_type": "stream",
     "text": [
      "Processing sections:  67%|██████▋   | 1506/2255 [16:49<07:19,  1.71section/s]"
     ]
    },
    {
     "name": "stdout",
     "output_type": "stream",
     "text": [
      "Processing section: 1405.6842.tex --> Event selection | Number of chunks: 2\n"
     ]
    },
    {
     "name": "stderr",
     "output_type": "stream",
     "text": [
      "Processing sections:  67%|██████▋   | 1507/2255 [16:50<08:44,  1.43section/s]"
     ]
    },
    {
     "name": "stdout",
     "output_type": "stream",
     "text": [
      "Processing section: 1405.6842.tex --> Systematic uncertainties | Number of chunks: 2\n"
     ]
    },
    {
     "name": "stderr",
     "output_type": "stream",
     "text": [
      "Processing sections:  67%|██████▋   | 1508/2255 [16:52<09:53,  1.26section/s]"
     ]
    },
    {
     "name": "stdout",
     "output_type": "stream",
     "text": [
      "Processing section: 1609.04736.tex --> Introduction | Number of chunks: 1\n"
     ]
    },
    {
     "name": "stderr",
     "output_type": "stream",
     "text": [
      "Processing sections:  67%|██████▋   | 1510/2255 [16:52<07:38,  1.62section/s]"
     ]
    },
    {
     "name": "stdout",
     "output_type": "stream",
     "text": [
      "Processing section: 1604.03475.tex --> Introduction | Number of chunks: 2\n"
     ]
    },
    {
     "name": "stderr",
     "output_type": "stream",
     "text": [
      "Processing sections:  67%|██████▋   | 1512/2255 [16:53<07:26,  1.66section/s]"
     ]
    },
    {
     "name": "stdout",
     "output_type": "stream",
     "text": [
      "Processing section: 1604.03475.tex --> Detector and simulation | Number of chunks: 1\n"
     ]
    },
    {
     "name": "stderr",
     "output_type": "stream",
     "text": [
      "Processing sections:  67%|██████▋   | 1513/2255 [16:54<07:09,  1.73section/s]"
     ]
    },
    {
     "name": "stdout",
     "output_type": "stream",
     "text": [
      "Processing section: 1604.03475.tex --> Event selection | Number of chunks: 2\n"
     ]
    },
    {
     "name": "stderr",
     "output_type": "stream",
     "text": [
      "Processing sections:  67%|██████▋   | 1514/2255 [16:55<09:31,  1.30section/s]"
     ]
    },
    {
     "name": "stdout",
     "output_type": "stream",
     "text": [
      "Processing section: 1604.03475.tex --> Fit strategy and results | Number of chunks: 2\n"
     ]
    },
    {
     "name": "stderr",
     "output_type": "stream",
     "text": [
      "Processing sections:  67%|██████▋   | 1515/2255 [16:57<11:00,  1.12section/s]"
     ]
    },
    {
     "name": "stdout",
     "output_type": "stream",
     "text": [
      "Processing section: 1406.2624.tex --> Introduction | Number of chunks: 3\n"
     ]
    },
    {
     "name": "stderr",
     "output_type": "stream",
     "text": [
      "Processing sections:  67%|██████▋   | 1517/2255 [16:58<09:57,  1.24section/s]"
     ]
    },
    {
     "name": "stdout",
     "output_type": "stream",
     "text": [
      "Processing section: 1406.2624.tex --> Candidate selection | Number of chunks: 2\n"
     ]
    },
    {
     "name": "stderr",
     "output_type": "stream",
     "text": [
      "Processing sections:  67%|██████▋   | 1518/2255 [16:59<11:11,  1.10section/s]"
     ]
    },
    {
     "name": "stdout",
     "output_type": "stream",
     "text": [
      "Processing section: 1406.2624.tex --> Fit method | Number of chunks: 4\n"
     ]
    },
    {
     "name": "stderr",
     "output_type": "stream",
     "text": [
      "Processing sections:  67%|██████▋   | 1519/2255 [17:01<13:15,  1.08s/section]"
     ]
    },
    {
     "name": "stdout",
     "output_type": "stream",
     "text": [
      "Processing section: 1406.2624.tex --> Results and summary | Number of chunks: 2\n"
     ]
    },
    {
     "name": "stderr",
     "output_type": "stream",
     "text": [
      "Processing sections:  67%|██████▋   | 1520/2255 [17:02<13:05,  1.07s/section]"
     ]
    },
    {
     "name": "stdout",
     "output_type": "stream",
     "text": [
      "Processing section: 1110.2866.tex --> Introduction | Number of chunks: 2\n"
     ]
    },
    {
     "name": "stderr",
     "output_type": "stream",
     "text": [
      "Processing sections:  67%|██████▋   | 1522/2255 [17:03<10:24,  1.17section/s]"
     ]
    },
    {
     "name": "stdout",
     "output_type": "stream",
     "text": [
      "Processing section: 1110.2866.tex --> The LHCb detector | Number of chunks: 2\n"
     ]
    },
    {
     "name": "stderr",
     "output_type": "stream",
     "text": [
      "Processing sections:  68%|██████▊   | 1523/2255 [17:04<11:13,  1.09section/s]"
     ]
    },
    {
     "name": "stdout",
     "output_type": "stream",
     "text": [
      "Processing section: 1110.2866.tex --> Results and conclusions | Number of chunks: 2\n"
     ]
    },
    {
     "name": "stderr",
     "output_type": "stream",
     "text": [
      "Processing sections:  68%|██████▊   | 1524/2255 [17:05<12:02,  1.01section/s]"
     ]
    },
    {
     "name": "stdout",
     "output_type": "stream",
     "text": [
      "Processing section: 1110.2866.tex --> Acknowledgements | Number of chunks: 3\n"
     ]
    },
    {
     "name": "stderr",
     "output_type": "stream",
     "text": [
      "Processing sections:  68%|██████▊   | 1525/2255 [17:07<13:20,  1.10s/section]"
     ]
    },
    {
     "name": "stdout",
     "output_type": "stream",
     "text": [
      "Processing section: 1308.1277.tex --> Introduction | Number of chunks: 1\n"
     ]
    },
    {
     "name": "stderr",
     "output_type": "stream",
     "text": [
      "Processing sections:  68%|██████▊   | 1527/2255 [17:07<09:17,  1.31section/s]"
     ]
    },
    {
     "name": "stdout",
     "output_type": "stream",
     "text": [
      "Processing section: 1308.1277.tex --> Detector, data sample and event selection | Number of chunks: 3\n"
     ]
    },
    {
     "name": "stderr",
     "output_type": "stream",
     "text": [
      "Processing sections:  68%|██████▊   | 1528/2255 [17:09<11:13,  1.08section/s]"
     ]
    },
    {
     "name": "stdout",
     "output_type": "stream",
     "text": [
      "Processing section: 1308.1277.tex --> Asymmetries and signal yields | Number of chunks: 2\n"
     ]
    },
    {
     "name": "stderr",
     "output_type": "stream",
     "text": [
      "Processing sections:  68%|██████▊   | 1529/2255 [17:10<12:04,  1.00section/s]"
     ]
    },
    {
     "name": "stdout",
     "output_type": "stream",
     "text": [
      "Processing section: 1308.1277.tex --> Results and summary | Number of chunks: 2\n"
     ]
    },
    {
     "name": "stderr",
     "output_type": "stream",
     "text": [
      "Processing sections:  68%|██████▊   | 1530/2255 [17:11<12:24,  1.03s/section]"
     ]
    },
    {
     "name": "stdout",
     "output_type": "stream",
     "text": [
      "Processing section: 1603.06961.tex --> Introduction | Number of chunks: 2\n"
     ]
    },
    {
     "name": "stderr",
     "output_type": "stream",
     "text": [
      "Processing sections:  68%|██████▊   | 1532/2255 [17:12<10:09,  1.19section/s]"
     ]
    },
    {
     "name": "stdout",
     "output_type": "stream",
     "text": [
      "Processing section: 1603.06961.tex --> Detector and simulation | Number of chunks: 1\n"
     ]
    },
    {
     "name": "stderr",
     "output_type": "stream",
     "text": [
      "Processing sections:  68%|██████▊   | 1533/2255 [17:13<08:59,  1.34section/s]"
     ]
    },
    {
     "name": "stdout",
     "output_type": "stream",
     "text": [
      "Processing section: 1603.06961.tex --> Event selection | Number of chunks: 2\n"
     ]
    },
    {
     "name": "stderr",
     "output_type": "stream",
     "text": [
      "Processing sections:  68%|██████▊   | 1534/2255 [17:14<09:21,  1.28section/s]"
     ]
    },
    {
     "name": "stdout",
     "output_type": "stream",
     "text": [
      "Processing section: 1603.06961.tex --> Measurement of branching fractions | Number of chunks: 1\n"
     ]
    },
    {
     "name": "stderr",
     "output_type": "stream",
     "text": [
      "Processing sections:  68%|██████▊   | 1535/2255 [17:14<08:32,  1.40section/s]"
     ]
    },
    {
     "name": "stdout",
     "output_type": "stream",
     "text": [
      "Processing section: 1603.06961.tex --> Results and summary | Number of chunks: 2\n"
     ]
    },
    {
     "name": "stderr",
     "output_type": "stream",
     "text": [
      "Processing sections:  68%|██████▊   | 1536/2255 [17:15<09:01,  1.33section/s]"
     ]
    },
    {
     "name": "stdout",
     "output_type": "stream",
     "text": [
      "Processing section: 1211.6759.tex --> Introduction | Number of chunks: 1\n"
     ]
    },
    {
     "name": "stderr",
     "output_type": "stream",
     "text": [
      "Processing sections:  68%|██████▊   | 1538/2255 [17:16<06:44,  1.77section/s]"
     ]
    },
    {
     "name": "stdout",
     "output_type": "stream",
     "text": [
      "Processing section: 1211.6759.tex --> Conclusions | Number of chunks: 3\n"
     ]
    },
    {
     "name": "stderr",
     "output_type": "stream",
     "text": [
      "Processing sections:  68%|██████▊   | 1539/2255 [17:17<08:46,  1.36section/s]"
     ]
    },
    {
     "name": "stdout",
     "output_type": "stream",
     "text": [
      "Processing section: 1304.4518.tex --> Introduction | Number of chunks: 2\n"
     ]
    },
    {
     "name": "stderr",
     "output_type": "stream",
     "text": [
      "Processing sections:  68%|██████▊   | 1541/2255 [17:18<08:02,  1.48section/s]"
     ]
    },
    {
     "name": "stdout",
     "output_type": "stream",
     "text": [
      "Processing section: 1304.4518.tex --> Detector and triggers | Number of chunks: 1\n"
     ]
    },
    {
     "name": "stderr",
     "output_type": "stream",
     "text": [
      "Processing sections:  68%|██████▊   | 1542/2255 [17:19<07:48,  1.52section/s]"
     ]
    },
    {
     "name": "stdout",
     "output_type": "stream",
     "text": [
      "Processing section: 1304.4518.tex --> Signal and background discrimination | Number of chunks: 2\n"
     ]
    },
    {
     "name": "stderr",
     "output_type": "stream",
     "text": [
      "Processing sections:  68%|██████▊   | 1543/2255 [17:20<08:31,  1.39section/s]"
     ]
    },
    {
     "name": "stdout",
     "output_type": "stream",
     "text": [
      "Processing section: 1812.06004.tex --> Introduction | Number of chunks: 2\n"
     ]
    },
    {
     "name": "stderr",
     "output_type": "stream",
     "text": [
      "Processing sections:  69%|██████▊   | 1545/2255 [17:21<08:00,  1.48section/s]"
     ]
    },
    {
     "name": "stdout",
     "output_type": "stream",
     "text": [
      "Processing section: 1812.06004.tex --> Systematic uncertainties | Number of chunks: 1\n"
     ]
    },
    {
     "name": "stderr",
     "output_type": "stream",
     "text": [
      "Processing sections:  69%|██████▊   | 1546/2255 [17:21<07:33,  1.56section/s]"
     ]
    },
    {
     "name": "stdout",
     "output_type": "stream",
     "text": [
      "Processing section: 1501.03038.tex --> Introduction | Number of chunks: 1\n"
     ]
    },
    {
     "name": "stderr",
     "output_type": "stream",
     "text": [
      "Processing sections:  69%|██████▊   | 1548/2255 [17:22<05:59,  1.97section/s]"
     ]
    },
    {
     "name": "stdout",
     "output_type": "stream",
     "text": [
      "Processing section: 1501.03038.tex --> Summary | Number of chunks: 2\n"
     ]
    },
    {
     "name": "stderr",
     "output_type": "stream",
     "text": [
      "Processing sections:  69%|██████▊   | 1549/2255 [17:23<07:30,  1.57section/s]"
     ]
    },
    {
     "name": "stdout",
     "output_type": "stream",
     "text": [
      "Processing section: 1902.05599.tex --> Introduction | Number of chunks: 2\n"
     ]
    },
    {
     "name": "stderr",
     "output_type": "stream",
     "text": [
      "Processing sections:  69%|██████▉   | 1551/2255 [17:24<07:02,  1.67section/s]"
     ]
    },
    {
     "name": "stdout",
     "output_type": "stream",
     "text": [
      "Processing section: 1902.05599.tex --> Detector, data samples and observables | Number of chunks: 3\n"
     ]
    },
    {
     "name": "stderr",
     "output_type": "stream",
     "text": [
      "Processing sections:  69%|██████▉   | 1552/2255 [17:26<08:56,  1.31section/s]"
     ]
    },
    {
     "name": "stdout",
     "output_type": "stream",
     "text": [
      "Processing section: 1902.05599.tex --> Selections, signal yields and efficiency | Number of chunks: 3\n"
     ]
    },
    {
     "name": "stderr",
     "output_type": "stream",
     "text": [
      "Processing sections:  69%|██████▉   | 1553/2255 [17:27<10:44,  1.09section/s]"
     ]
    },
    {
     "name": "stdout",
     "output_type": "stream",
     "text": [
      "Processing section: 1902.05599.tex --> Selections, signal yields and efficiency --> Candidate reconstruction and selection | Number of chunks: 2\n"
     ]
    },
    {
     "name": "stderr",
     "output_type": "stream",
     "text": [
      "Processing sections:  69%|██████▉   | 1554/2255 [17:28<10:53,  1.07section/s]"
     ]
    },
    {
     "name": "stdout",
     "output_type": "stream",
     "text": [
      "Processing section: 1902.05599.tex --> Selections, signal yields and efficiency --> Signal yield determination | Number of chunks: 2\n"
     ]
    },
    {
     "name": "stderr",
     "output_type": "stream",
     "text": [
      "Processing sections:  69%|██████▉   | 1555/2255 [17:29<11:44,  1.01s/section]"
     ]
    },
    {
     "name": "stdout",
     "output_type": "stream",
     "text": [
      "Processing section: 1902.05599.tex --> Conclusions | Number of chunks: 16\n"
     ]
    },
    {
     "name": "stderr",
     "output_type": "stream",
     "text": [
      "Processing sections:  69%|██████▉   | 1556/2255 [17:36<29:18,  2.52s/section]"
     ]
    },
    {
     "name": "stdout",
     "output_type": "stream",
     "text": [
      "Processing section: 2412.13958.tex --> Introduction | Number of chunks: 1\n"
     ]
    },
    {
     "name": "stderr",
     "output_type": "stream",
     "text": [
      "Processing sections:  69%|██████▉   | 1558/2255 [17:37<18:33,  1.60s/section]"
     ]
    },
    {
     "name": "stdout",
     "output_type": "stream",
     "text": [
      "Processing section: 2412.13958.tex --> Detector, trigger and simulation | Number of chunks: 1\n"
     ]
    },
    {
     "name": "stderr",
     "output_type": "stream",
     "text": [
      "Processing sections:  69%|██████▉   | 1559/2255 [17:37<15:33,  1.34s/section]"
     ]
    },
    {
     "name": "stdout",
     "output_type": "stream",
     "text": [
      "Processing section: 2412.13958.tex --> Analysis strategy | Number of chunks: 3\n"
     ]
    },
    {
     "name": "stderr",
     "output_type": "stream",
     "text": [
      "Processing sections:  69%|██████▉   | 1560/2255 [17:38<15:46,  1.36s/section]"
     ]
    },
    {
     "name": "stdout",
     "output_type": "stream",
     "text": [
      "Processing section: 2412.13958.tex --> Event selection | Number of chunks: 2\n"
     ]
    },
    {
     "name": "stderr",
     "output_type": "stream",
     "text": [
      "Processing sections:  69%|██████▉   | 1561/2255 [17:40<14:59,  1.30s/section]"
     ]
    },
    {
     "name": "stdout",
     "output_type": "stream",
     "text": [
      "Processing section: 2412.13958.tex --> Invariant-mass fit | Number of chunks: 2\n"
     ]
    },
    {
     "name": "stderr",
     "output_type": "stream",
     "text": [
      "Processing sections:  69%|██████▉   | 1562/2255 [17:41<14:32,  1.26s/section]"
     ]
    },
    {
     "name": "stdout",
     "output_type": "stream",
     "text": [
      "Processing section: 2412.13958.tex --> Instrumental asymmetries | Number of chunks: 2\n"
     ]
    },
    {
     "name": "stderr",
     "output_type": "stream",
     "text": [
      "Processing sections:  69%|██████▉   | 1563/2255 [17:42<14:12,  1.23s/section]"
     ]
    },
    {
     "name": "stdout",
     "output_type": "stream",
     "text": [
      "Processing section: 2412.13958.tex --> Systematic uncertainties and combination | Number of chunks: 1\n"
     ]
    },
    {
     "name": "stderr",
     "output_type": "stream",
     "text": [
      "Processing sections:  69%|██████▉   | 1564/2255 [17:42<11:47,  1.02s/section]"
     ]
    },
    {
     "name": "stdout",
     "output_type": "stream",
     "text": [
      "Processing section: 2412.13958.tex --> Results and conclusions | Number of chunks: 2\n"
     ]
    },
    {
     "name": "stderr",
     "output_type": "stream",
     "text": [
      "Processing sections:  69%|██████▉   | 1565/2255 [17:43<11:40,  1.02s/section]"
     ]
    },
    {
     "name": "stdout",
     "output_type": "stream",
     "text": [
      "Processing section: 1505.07024.tex --> Introduction | Number of chunks: 2\n"
     ]
    },
    {
     "name": "stderr",
     "output_type": "stream",
     "text": [
      "Processing sections:  69%|██████▉   | 1567/2255 [17:45<09:33,  1.20section/s]"
     ]
    },
    {
     "name": "stdout",
     "output_type": "stream",
     "text": [
      "Processing section: 1505.07024.tex --> Detector and data set | Number of chunks: 2\n"
     ]
    },
    {
     "name": "stderr",
     "output_type": "stream",
     "text": [
      "Processing sections:  70%|██████▉   | 1568/2255 [17:46<10:22,  1.10section/s]"
     ]
    },
    {
     "name": "stdout",
     "output_type": "stream",
     "text": [
      "Processing section: 1505.07024.tex --> Conclusions | Number of chunks: 2\n"
     ]
    },
    {
     "name": "stderr",
     "output_type": "stream",
     "text": [
      "Processing sections:  70%|██████▉   | 1569/2255 [17:47<11:10,  1.02section/s]"
     ]
    },
    {
     "name": "stdout",
     "output_type": "stream",
     "text": [
      "Processing section: 1810.03138.tex --> Results | Number of chunks: 2\n"
     ]
    },
    {
     "name": "stderr",
     "output_type": "stream",
     "text": [
      "Processing sections:  70%|██████▉   | 1571/2255 [17:48<08:55,  1.28section/s]"
     ]
    },
    {
     "name": "stdout",
     "output_type": "stream",
     "text": [
      "Processing section: 1611.07704.tex --> Introduction | Number of chunks: 2\n"
     ]
    },
    {
     "name": "stderr",
     "output_type": "stream",
     "text": [
      "Processing sections:  70%|██████▉   | 1573/2255 [17:49<07:43,  1.47section/s]"
     ]
    },
    {
     "name": "stdout",
     "output_type": "stream",
     "text": [
      "Processing section: 1303.4906.tex --> Introduction | Number of chunks: 3\n"
     ]
    },
    {
     "name": "stderr",
     "output_type": "stream",
     "text": [
      "Processing sections:  70%|██████▉   | 1575/2255 [17:50<07:53,  1.44section/s]"
     ]
    },
    {
     "name": "stdout",
     "output_type": "stream",
     "text": [
      "Processing section: 2311.09985.tex --> Introduction | Number of chunks: 2\n"
     ]
    },
    {
     "name": "stderr",
     "output_type": "stream",
     "text": [
      "Processing sections:  70%|██████▉   | 1577/2255 [17:51<07:05,  1.59section/s]"
     ]
    },
    {
     "name": "stdout",
     "output_type": "stream",
     "text": [
      "Processing section: 2311.09985.tex --> Two-particle angular correlation analysis | Number of chunks: 2\n"
     ]
    },
    {
     "name": "stderr",
     "output_type": "stream",
     "text": [
      "Processing sections:  70%|██████▉   | 1578/2255 [17:53<08:24,  1.34section/s]"
     ]
    },
    {
     "name": "stdout",
     "output_type": "stream",
     "text": [
      "Processing section: 2311.09985.tex --> Summary | Number of chunks: 2\n"
     ]
    },
    {
     "name": "stderr",
     "output_type": "stream",
     "text": [
      "Processing sections:  70%|███████   | 1579/2255 [17:54<09:14,  1.22section/s]"
     ]
    },
    {
     "name": "stdout",
     "output_type": "stream",
     "text": [
      "Processing section: 1509.02372.tex --> Introduction | Number of chunks: 2\n"
     ]
    },
    {
     "name": "stderr",
     "output_type": "stream",
     "text": [
      "Processing sections:  70%|███████   | 1581/2255 [17:55<07:48,  1.44section/s]"
     ]
    },
    {
     "name": "stdout",
     "output_type": "stream",
     "text": [
      "Processing section: 1509.02372.tex --> Detector and simulation | Number of chunks: 1\n"
     ]
    },
    {
     "name": "stderr",
     "output_type": "stream",
     "text": [
      "Processing sections:  70%|███████   | 1582/2255 [17:55<07:32,  1.49section/s]"
     ]
    },
    {
     "name": "stdout",
     "output_type": "stream",
     "text": [
      "Processing section: 1509.02372.tex --> Selection and cross-section determination | Number of chunks: 3\n"
     ]
    },
    {
     "name": "stderr",
     "output_type": "stream",
     "text": [
      "Processing sections:  70%|███████   | 1583/2255 [17:57<09:11,  1.22section/s]"
     ]
    },
    {
     "name": "stdout",
     "output_type": "stream",
     "text": [
      "Processing section: 1509.02372.tex --> Summary | Number of chunks: 2\n"
     ]
    },
    {
     "name": "stderr",
     "output_type": "stream",
     "text": [
      "Processing sections:  70%|███████   | 1584/2255 [17:58<09:40,  1.16section/s]"
     ]
    },
    {
     "name": "stdout",
     "output_type": "stream",
     "text": [
      "Processing section: 1510.08367.tex --> Introduction | Number of chunks: 2\n"
     ]
    },
    {
     "name": "stderr",
     "output_type": "stream",
     "text": [
      "Processing sections:  70%|███████   | 1586/2255 [17:59<07:53,  1.41section/s]"
     ]
    },
    {
     "name": "stdout",
     "output_type": "stream",
     "text": [
      "Processing section: 1510.08367.tex --> Detector and simulation | Number of chunks: 1\n"
     ]
    },
    {
     "name": "stderr",
     "output_type": "stream",
     "text": [
      "Processing sections:  70%|███████   | 1587/2255 [17:59<07:31,  1.48section/s]"
     ]
    },
    {
     "name": "stdout",
     "output_type": "stream",
     "text": [
      "Processing section: 1510.08367.tex --> Event selection | Number of chunks: 2\n"
     ]
    },
    {
     "name": "stderr",
     "output_type": "stream",
     "text": [
      "Processing sections:  70%|███████   | 1588/2255 [18:00<08:49,  1.26section/s]"
     ]
    },
    {
     "name": "stdout",
     "output_type": "stream",
     "text": [
      "Processing section: 1510.08367.tex --> Determination of the {\\bf\\boldmath \\signal and \\mbox{\\norm}} yields | Number of chunks: 2\n"
     ]
    },
    {
     "name": "stderr",
     "output_type": "stream",
     "text": [
      "Processing sections:  70%|███████   | 1589/2255 [18:02<10:12,  1.09section/s]"
     ]
    },
    {
     "name": "stdout",
     "output_type": "stream",
     "text": [
      "Processing section: 1510.08367.tex --> Conclusions | Number of chunks: 2\n"
     ]
    },
    {
     "name": "stderr",
     "output_type": "stream",
     "text": [
      "Processing sections:  71%|███████   | 1590/2255 [18:03<10:42,  1.04section/s]"
     ]
    },
    {
     "name": "stdout",
     "output_type": "stream",
     "text": [
      "Processing section: 1310.8197.tex --> Introduction | Number of chunks: 2\n"
     ]
    },
    {
     "name": "stderr",
     "output_type": "stream",
     "text": [
      "Processing sections:  71%|███████   | 1592/2255 [18:04<09:03,  1.22section/s]"
     ]
    },
    {
     "name": "stdout",
     "output_type": "stream",
     "text": [
      "Processing section: 1310.8197.tex --> LHCb detector and simulation | Number of chunks: 1\n"
     ]
    },
    {
     "name": "stderr",
     "output_type": "stream",
     "text": [
      "Processing sections:  71%|███████   | 1593/2255 [18:05<08:33,  1.29section/s]"
     ]
    },
    {
     "name": "stdout",
     "output_type": "stream",
     "text": [
      "Processing section: 1310.8197.tex --> Jet reconstruction | Number of chunks: 1\n"
     ]
    },
    {
     "name": "stderr",
     "output_type": "stream",
     "text": [
      "Processing sections:  71%|███████   | 1594/2255 [18:05<08:00,  1.38section/s]"
     ]
    },
    {
     "name": "stdout",
     "output_type": "stream",
     "text": [
      "Processing section: 1310.8197.tex --> Selection and event reconstruction | Number of chunks: 3\n"
     ]
    },
    {
     "name": "stderr",
     "output_type": "stream",
     "text": [
      "Processing sections:  71%|███████   | 1595/2255 [18:07<10:08,  1.08section/s]"
     ]
    },
    {
     "name": "stdout",
     "output_type": "stream",
     "text": [
      "Processing section: 1310.8197.tex --> Selection and event reconstruction --> Background | Number of chunks: 1\n"
     ]
    },
    {
     "name": "stderr",
     "output_type": "stream",
     "text": [
      "Processing sections:  71%|███████   | 1596/2255 [18:07<09:30,  1.15section/s]"
     ]
    },
    {
     "name": "stdout",
     "output_type": "stream",
     "text": [
      "Processing section: 1310.8197.tex --> Selection and event reconstruction --> Z detection and reconstruction efficiencies | Number of chunks: 2\n"
     ]
    },
    {
     "name": "stderr",
     "output_type": "stream",
     "text": [
      "Processing sections:  71%|███████   | 1597/2255 [18:09<10:31,  1.04section/s]"
     ]
    },
    {
     "name": "stdout",
     "output_type": "stream",
     "text": [
      "Processing section: 1310.8197.tex --> Summary | Number of chunks: 1\n"
     ]
    },
    {
     "name": "stderr",
     "output_type": "stream",
     "text": [
      "Processing sections:  71%|███████   | 1598/2255 [18:09<09:23,  1.17section/s]"
     ]
    },
    {
     "name": "stdout",
     "output_type": "stream",
     "text": [
      "Processing section: 1610.06019.tex --> Introduction | Number of chunks: 2\n"
     ]
    },
    {
     "name": "stderr",
     "output_type": "stream",
     "text": [
      "Processing sections:  71%|███████   | 1600/2255 [18:10<07:29,  1.46section/s]"
     ]
    },
    {
     "name": "stdout",
     "output_type": "stream",
     "text": [
      "Processing section: 1610.06019.tex --> Conclusion | Number of chunks: 1\n"
     ]
    },
    {
     "name": "stderr",
     "output_type": "stream",
     "text": [
      "Processing sections:  71%|███████   | 1601/2255 [18:11<07:32,  1.45section/s]"
     ]
    },
    {
     "name": "stdout",
     "output_type": "stream",
     "text": [
      "Processing section: 1408.0978.tex --> Detector and simulation | Number of chunks: 1\n"
     ]
    },
    {
     "name": "stderr",
     "output_type": "stream",
     "text": [
      "Processing sections:  71%|███████   | 1603/2255 [18:12<05:56,  1.83section/s]"
     ]
    },
    {
     "name": "stdout",
     "output_type": "stream",
     "text": [
      "Processing section: 1408.0978.tex --> Selection of events | Number of chunks: 2\n"
     ]
    },
    {
     "name": "stderr",
     "output_type": "stream",
     "text": [
      "Processing sections:  71%|███████   | 1604/2255 [18:13<07:45,  1.40section/s]"
     ]
    },
    {
     "name": "stdout",
     "output_type": "stream",
     "text": [
      "Processing section: 1408.0978.tex --> Measurement of direct \\CP asymmetries | Number of chunks: 2\n"
     ]
    },
    {
     "name": "stderr",
     "output_type": "stream",
     "text": [
      "Processing sections:  71%|███████   | 1605/2255 [18:14<08:11,  1.32section/s]"
     ]
    },
    {
     "name": "stdout",
     "output_type": "stream",
     "text": [
      "Processing section: 1204.1237.tex --> Introduction | Number of chunks: 3\n"
     ]
    },
    {
     "name": "stderr",
     "output_type": "stream",
     "text": [
      "Processing sections:  71%|███████▏  | 1607/2255 [18:15<07:57,  1.36section/s]"
     ]
    },
    {
     "name": "stdout",
     "output_type": "stream",
     "text": [
      "Processing section: 1204.1237.tex --> Particle identification | Number of chunks: 2\n"
     ]
    },
    {
     "name": "stderr",
     "output_type": "stream",
     "text": [
      "Processing sections:  71%|███████▏  | 1608/2255 [18:16<08:45,  1.23section/s]"
     ]
    },
    {
     "name": "stdout",
     "output_type": "stream",
     "text": [
      "Processing section: 1204.1237.tex --> Determination of the branching fractions | Number of chunks: 2\n"
     ]
    },
    {
     "name": "stderr",
     "output_type": "stream",
     "text": [
      "Processing sections:  71%|███████▏  | 1609/2255 [18:17<09:18,  1.16section/s]"
     ]
    },
    {
     "name": "stdout",
     "output_type": "stream",
     "text": [
      "Processing section: 2403.03710.tex --> Introduction | Number of chunks: 1\n"
     ]
    },
    {
     "name": "stderr",
     "output_type": "stream",
     "text": [
      "Processing sections:  71%|███████▏  | 1611/2255 [18:18<07:00,  1.53section/s]"
     ]
    },
    {
     "name": "stdout",
     "output_type": "stream",
     "text": [
      "Processing section: 2403.03710.tex --> Detector and selection | Number of chunks: 3\n"
     ]
    },
    {
     "name": "stderr",
     "output_type": "stream",
     "text": [
      "Processing sections:  71%|███████▏  | 1612/2255 [18:19<08:54,  1.20section/s]"
     ]
    },
    {
     "name": "stdout",
     "output_type": "stream",
     "text": [
      "Processing section: 1611.06143.tex --> Theoretical Framework | Number of chunks: 3\n"
     ]
    },
    {
     "name": "stderr",
     "output_type": "stream",
     "text": [
      "Processing sections:  72%|███████▏  | 1615/2255 [18:21<06:52,  1.55section/s]"
     ]
    },
    {
     "name": "stdout",
     "output_type": "stream",
     "text": [
      "Processing section: 1611.06143.tex --> Off-line selection | Number of chunks: 2\n"
     ]
    },
    {
     "name": "stderr",
     "output_type": "stream",
     "text": [
      "Processing sections:  72%|███████▏  | 1616/2255 [18:22<07:53,  1.35section/s]"
     ]
    },
    {
     "name": "stdout",
     "output_type": "stream",
     "text": [
      "Processing section: 1611.06143.tex --> Yield extraction and fit strategy | Number of chunks: 2\n"
     ]
    },
    {
     "name": "stderr",
     "output_type": "stream",
     "text": [
      "Processing sections:  72%|███████▏  | 1617/2255 [18:23<08:28,  1.25section/s]"
     ]
    },
    {
     "name": "stdout",
     "output_type": "stream",
     "text": [
      "Processing section: 2109.01334.tex --> Introduction | Number of chunks: 1\n"
     ]
    },
    {
     "name": "stderr",
     "output_type": "stream",
     "text": [
      "Processing sections:  72%|███████▏  | 1619/2255 [18:23<06:16,  1.69section/s]"
     ]
    },
    {
     "name": "stdout",
     "output_type": "stream",
     "text": [
      "Processing section: 2109.01334.tex --> Candidate selection | Number of chunks: 1\n"
     ]
    },
    {
     "name": "stderr",
     "output_type": "stream",
     "text": [
      "Processing sections:  72%|███████▏  | 1620/2255 [18:24<06:00,  1.76section/s]"
     ]
    },
    {
     "name": "stdout",
     "output_type": "stream",
     "text": [
      "Processing section: 2109.01334.tex --> Prompt yield determination | Number of chunks: 2\n"
     ]
    },
    {
     "name": "stderr",
     "output_type": "stream",
     "text": [
      "Processing sections:  72%|███████▏  | 1621/2255 [18:25<07:31,  1.40section/s]"
     ]
    },
    {
     "name": "stdout",
     "output_type": "stream",
     "text": [
      "Processing section: 2109.01334.tex --> Systematic uncertainties | Number of chunks: 2\n"
     ]
    },
    {
     "name": "stderr",
     "output_type": "stream",
     "text": [
      "Processing sections:  72%|███████▏  | 1622/2255 [18:26<08:16,  1.27section/s]"
     ]
    },
    {
     "name": "stdout",
     "output_type": "stream",
     "text": [
      "Processing section: 2109.01334.tex --> Conclusion | Number of chunks: 2\n"
     ]
    },
    {
     "name": "stderr",
     "output_type": "stream",
     "text": [
      "Processing sections:  72%|███████▏  | 1623/2255 [18:27<08:24,  1.25section/s]"
     ]
    },
    {
     "name": "stdout",
     "output_type": "stream",
     "text": [
      "Processing section: 2112.08435.tex --> Introduction | Number of chunks: 1\n"
     ]
    },
    {
     "name": "stderr",
     "output_type": "stream",
     "text": [
      "Processing sections:  72%|███████▏  | 1625/2255 [18:28<06:16,  1.67section/s]"
     ]
    },
    {
     "name": "stdout",
     "output_type": "stream",
     "text": [
      "Processing section: 2112.08435.tex --> Detector and simulation | Number of chunks: 1\n"
     ]
    },
    {
     "name": "stderr",
     "output_type": "stream",
     "text": [
      "Processing sections:  72%|███████▏  | 1626/2255 [18:28<05:56,  1.77section/s]"
     ]
    },
    {
     "name": "stdout",
     "output_type": "stream",
     "text": [
      "Processing section: 2112.08435.tex --> Charm-jet identification | Number of chunks: 2\n"
     ]
    },
    {
     "name": "stderr",
     "output_type": "stream",
     "text": [
      "Processing sections:  72%|███████▏  | 1627/2255 [18:29<07:16,  1.44section/s]"
     ]
    },
    {
     "name": "stdout",
     "output_type": "stream",
     "text": [
      "Processing section: 2112.08435.tex --> Calibration in data | Number of chunks: 3\n"
     ]
    },
    {
     "name": "stderr",
     "output_type": "stream",
     "text": [
      "Processing sections:  72%|███████▏  | 1628/2255 [18:30<09:08,  1.14section/s]"
     ]
    },
    {
     "name": "stdout",
     "output_type": "stream",
     "text": [
      "Processing section: 2112.08435.tex --> Calibration in data --> Calibration datasets | Number of chunks: 2\n"
     ]
    },
    {
     "name": "stderr",
     "output_type": "stream",
     "text": [
      "Processing sections:  72%|███████▏  | 1630/2255 [18:32<07:40,  1.36section/s]"
     ]
    },
    {
     "name": "stdout",
     "output_type": "stream",
     "text": [
      "Processing section: 1608.01478.tex --> Introduction | Number of chunks: 2\n"
     ]
    },
    {
     "name": "stderr",
     "output_type": "stream",
     "text": [
      "Processing sections:  72%|███████▏  | 1632/2255 [18:33<07:20,  1.41section/s]"
     ]
    },
    {
     "name": "stdout",
     "output_type": "stream",
     "text": [
      "Processing section: 1706.07122.tex --> Introduction | Number of chunks: 2\n"
     ]
    },
    {
     "name": "stderr",
     "output_type": "stream",
     "text": [
      "Processing sections:  72%|███████▏  | 1634/2255 [18:34<06:58,  1.48section/s]"
     ]
    },
    {
     "name": "stdout",
     "output_type": "stream",
     "text": [
      "Processing section: 1706.07122.tex --> Detector, data sample and observables | Number of chunks: 2\n"
     ]
    },
    {
     "name": "stderr",
     "output_type": "stream",
     "text": [
      "Processing sections:  73%|███████▎  | 1635/2255 [18:35<07:50,  1.32section/s]"
     ]
    },
    {
     "name": "stdout",
     "output_type": "stream",
     "text": [
      "Processing section: 1706.07122.tex --> Event selection and cross-section determination | Number of chunks: 2\n"
     ]
    },
    {
     "name": "stderr",
     "output_type": "stream",
     "text": [
      "Processing sections:  73%|███████▎  | 1636/2255 [18:37<09:21,  1.10section/s]"
     ]
    },
    {
     "name": "stdout",
     "output_type": "stream",
     "text": [
      "Processing section: 1706.07122.tex --> Event selection and cross-section determination --> Determination of signal yields | Number of chunks: 1\n"
     ]
    },
    {
     "name": "stderr",
     "output_type": "stream",
     "text": [
      "Processing sections:  73%|███████▎  | 1637/2255 [18:37<08:47,  1.17section/s]"
     ]
    },
    {
     "name": "stdout",
     "output_type": "stream",
     "text": [
      "Processing section: 1706.07122.tex --> Conclusions | Number of chunks: 2\n"
     ]
    },
    {
     "name": "stderr",
     "output_type": "stream",
     "text": [
      "Processing sections:  73%|███████▎  | 1638/2255 [18:38<09:33,  1.08section/s]"
     ]
    },
    {
     "name": "stdout",
     "output_type": "stream",
     "text": [
      "Processing section: 2302.10629.tex --> Introduction | Number of chunks: 2\n"
     ]
    },
    {
     "name": "stderr",
     "output_type": "stream",
     "text": [
      "Processing sections:  73%|███████▎  | 1641/2255 [18:40<06:46,  1.51section/s]"
     ]
    },
    {
     "name": "stdout",
     "output_type": "stream",
     "text": [
      "Processing section: 2302.10629.tex --> Detector and simulation | Number of chunks: 2\n"
     ]
    },
    {
     "name": "stderr",
     "output_type": "stream",
     "text": [
      "Processing sections:  73%|███████▎  | 1642/2255 [18:41<07:44,  1.32section/s]"
     ]
    },
    {
     "name": "stdout",
     "output_type": "stream",
     "text": [
      "Processing section: 2302.10629.tex --> Event selection | Number of chunks: 3\n"
     ]
    },
    {
     "name": "stderr",
     "output_type": "stream",
     "text": [
      "Processing sections:  73%|███████▎  | 1643/2255 [18:42<09:07,  1.12section/s]"
     ]
    },
    {
     "name": "stdout",
     "output_type": "stream",
     "text": [
      "Processing section: 2302.10629.tex --> \n",
      "$\\decay{\\Bs}{\\chicone(3872)\\pip\\pim}$\n",
      "and $\\decay{\\Bs}{\\psitwos\\pip\\pim}$ decays | Number of chunks: 2\n"
     ]
    },
    {
     "name": "stderr",
     "output_type": "stream",
     "text": [
      "Processing sections:  73%|███████▎  | 1644/2255 [18:43<09:46,  1.04section/s]"
     ]
    },
    {
     "name": "stdout",
     "output_type": "stream",
     "text": [
      "Processing section: 2302.10629.tex --> Systematic uncertainties | Number of chunks: 3\n"
     ]
    },
    {
     "name": "stderr",
     "output_type": "stream",
     "text": [
      "Processing sections:  73%|███████▎  | 1645/2255 [18:45<10:59,  1.08s/section]"
     ]
    },
    {
     "name": "stdout",
     "output_type": "stream",
     "text": [
      "Processing section: 2302.10629.tex --> Summary | Number of chunks: 3\n"
     ]
    },
    {
     "name": "stderr",
     "output_type": "stream",
     "text": [
      "Processing sections:  73%|███████▎  | 1646/2255 [18:46<11:31,  1.14s/section]"
     ]
    },
    {
     "name": "stdout",
     "output_type": "stream",
     "text": [
      "Processing section: 1603.07037.tex --> Introduction | Number of chunks: 1\n"
     ]
    },
    {
     "name": "stderr",
     "output_type": "stream",
     "text": [
      "Processing sections:  73%|███████▎  | 1648/2255 [18:47<08:12,  1.23section/s]"
     ]
    },
    {
     "name": "stdout",
     "output_type": "stream",
     "text": [
      "Processing section: 1603.07037.tex --> Detector and simulation | Number of chunks: 1\n"
     ]
    },
    {
     "name": "stderr",
     "output_type": "stream",
     "text": [
      "Processing sections:  73%|███████▎  | 1649/2255 [18:48<07:48,  1.29section/s]"
     ]
    },
    {
     "name": "stdout",
     "output_type": "stream",
     "text": [
      "Processing section: 1603.07037.tex --> Reconstruction and selection of candidates | Number of chunks: 1\n"
     ]
    },
    {
     "name": "stderr",
     "output_type": "stream",
     "text": [
      "Processing sections:  73%|███████▎  | 1650/2255 [18:48<07:46,  1.30section/s]"
     ]
    },
    {
     "name": "stdout",
     "output_type": "stream",
     "text": [
      "Processing section: 1603.07037.tex --> Fits to the data | Number of chunks: 2\n"
     ]
    },
    {
     "name": "stderr",
     "output_type": "stream",
     "text": [
      "Processing sections:  73%|███████▎  | 1651/2255 [18:50<09:21,  1.08section/s]"
     ]
    },
    {
     "name": "stdout",
     "output_type": "stream",
     "text": [
      "Processing section: 1603.07037.tex --> Efficiencies | Number of chunks: 2\n"
     ]
    },
    {
     "name": "stderr",
     "output_type": "stream",
     "text": [
      "Processing sections:  73%|███████▎  | 1652/2255 [18:51<09:38,  1.04section/s]"
     ]
    },
    {
     "name": "stdout",
     "output_type": "stream",
     "text": [
      "Processing section: 1603.07037.tex --> Results and summary | Number of chunks: 2\n"
     ]
    },
    {
     "name": "stderr",
     "output_type": "stream",
     "text": [
      "Processing sections:  73%|███████▎  | 1653/2255 [18:52<10:00,  1.00section/s]"
     ]
    },
    {
     "name": "stdout",
     "output_type": "stream",
     "text": [
      "Processing section: 1612.03207.tex --> Introduction | Number of chunks: 2\n"
     ]
    },
    {
     "name": "stderr",
     "output_type": "stream",
     "text": [
      "Processing sections:  73%|███████▎  | 1655/2255 [18:53<08:20,  1.20section/s]"
     ]
    },
    {
     "name": "stdout",
     "output_type": "stream",
     "text": [
      "Processing section: 1612.03207.tex --> Detector and reconstruction | Number of chunks: 2\n"
     ]
    },
    {
     "name": "stderr",
     "output_type": "stream",
     "text": [
      "Processing sections:  73%|███████▎  | 1656/2255 [18:54<08:50,  1.13section/s]"
     ]
    },
    {
     "name": "stdout",
     "output_type": "stream",
     "text": [
      "Processing section: 1612.03207.tex --> Offline event selection | Number of chunks: 3\n"
     ]
    },
    {
     "name": "stderr",
     "output_type": "stream",
     "text": [
      "Processing sections:  73%|███████▎  | 1657/2255 [18:56<10:10,  1.02s/section]"
     ]
    },
    {
     "name": "stdout",
     "output_type": "stream",
     "text": [
      "Processing section: 1509.00292.tex --> Introduction | Number of chunks: 2\n"
     ]
    },
    {
     "name": "stderr",
     "output_type": "stream",
     "text": [
      "Processing sections:  74%|███████▎  | 1659/2255 [18:57<08:05,  1.23section/s]"
     ]
    },
    {
     "name": "stdout",
     "output_type": "stream",
     "text": [
      "Processing section: 1509.00292.tex --> Detector and simulation | Number of chunks: 1\n"
     ]
    },
    {
     "name": "stderr",
     "output_type": "stream",
     "text": [
      "Processing sections:  74%|███████▎  | 1660/2255 [18:57<07:27,  1.33section/s]"
     ]
    },
    {
     "name": "stdout",
     "output_type": "stream",
     "text": [
      "Processing section: 1509.00292.tex --> Event selection | Number of chunks: 2\n"
     ]
    },
    {
     "name": "stderr",
     "output_type": "stream",
     "text": [
      "Processing sections:  74%|███████▎  | 1661/2255 [18:58<08:17,  1.19section/s]"
     ]
    },
    {
     "name": "stdout",
     "output_type": "stream",
     "text": [
      "Processing section: 1509.00292.tex --> Signal determination | Number of chunks: 1\n"
     ]
    },
    {
     "name": "stderr",
     "output_type": "stream",
     "text": [
      "Processing sections:  74%|███████▎  | 1662/2255 [18:59<08:02,  1.23section/s]"
     ]
    },
    {
     "name": "stdout",
     "output_type": "stream",
     "text": [
      "Processing section: 1509.00292.tex --> Branching fraction results | Number of chunks: 2\n"
     ]
    },
    {
     "name": "stderr",
     "output_type": "stream",
     "text": [
      "Processing sections:  74%|███████▎  | 1663/2255 [19:00<09:24,  1.05section/s]"
     ]
    },
    {
     "name": "stdout",
     "output_type": "stream",
     "text": [
      "Processing section: 1509.00292.tex --> Conclusion | Number of chunks: 2\n"
     ]
    },
    {
     "name": "stderr",
     "output_type": "stream",
     "text": [
      "Processing sections:  74%|███████▍  | 1664/2255 [19:01<09:37,  1.02section/s]"
     ]
    },
    {
     "name": "stdout",
     "output_type": "stream",
     "text": [
      "Processing section: 2012.10380.tex --> Introduction | Number of chunks: 1\n"
     ]
    },
    {
     "name": "stderr",
     "output_type": "stream",
     "text": [
      "Processing sections:  74%|███████▍  | 1666/2255 [19:02<07:06,  1.38section/s]"
     ]
    },
    {
     "name": "stdout",
     "output_type": "stream",
     "text": [
      "Processing section: 2012.10380.tex --> Detector and data set | Number of chunks: 1\n"
     ]
    },
    {
     "name": "stderr",
     "output_type": "stream",
     "text": [
      "Processing sections:  74%|███████▍  | 1667/2255 [19:03<07:01,  1.40section/s]"
     ]
    },
    {
     "name": "stdout",
     "output_type": "stream",
     "text": [
      "Processing section: 2012.10380.tex --> Candidate selection | Number of chunks: 2\n"
     ]
    },
    {
     "name": "stderr",
     "output_type": "stream",
     "text": [
      "Processing sections:  74%|███████▍  | 1668/2255 [19:04<08:07,  1.20section/s]"
     ]
    },
    {
     "name": "stdout",
     "output_type": "stream",
     "text": [
      "Processing section: 2012.10380.tex --> Conclusion | Number of chunks: 18\n"
     ]
    },
    {
     "name": "stderr",
     "output_type": "stream",
     "text": [
      "Processing sections:  74%|███████▍  | 1669/2255 [19:11<25:15,  2.59s/section]"
     ]
    },
    {
     "name": "stdout",
     "output_type": "stream",
     "text": [
      "Processing section: 1504.05442.tex --> Introduction | Number of chunks: 2\n"
     ]
    },
    {
     "name": "stderr",
     "output_type": "stream",
     "text": [
      "Processing sections:  74%|███████▍  | 1671/2255 [19:13<17:03,  1.75s/section]"
     ]
    },
    {
     "name": "stdout",
     "output_type": "stream",
     "text": [
      "Processing section: 1504.05442.tex --> Observables and external inputs | Number of chunks: 4\n"
     ]
    },
    {
     "name": "stderr",
     "output_type": "stream",
     "text": [
      "Processing sections:  74%|███████▍  | 1672/2255 [19:14<16:48,  1.73s/section]"
     ]
    },
    {
     "name": "stdout",
     "output_type": "stream",
     "text": [
      "Processing section: 1504.05442.tex --> The LHCb detector and data set | Number of chunks: 1\n"
     ]
    },
    {
     "name": "stderr",
     "output_type": "stream",
     "text": [
      "Processing sections:  74%|███████▍  | 1673/2255 [19:15<13:49,  1.43s/section]"
     ]
    },
    {
     "name": "stdout",
     "output_type": "stream",
     "text": [
      "Processing section: 1504.05442.tex --> Candidate selection | Number of chunks: 3\n"
     ]
    },
    {
     "name": "stderr",
     "output_type": "stream",
     "text": [
      "Processing sections:  74%|███████▍  | 1674/2255 [19:16<13:50,  1.43s/section]"
     ]
    },
    {
     "name": "stdout",
     "output_type": "stream",
     "text": [
      "Processing section: 1504.05442.tex --> Invariant mass fit | Number of chunks: 4\n"
     ]
    },
    {
     "name": "stderr",
     "output_type": "stream",
     "text": [
      "Processing sections:  74%|███████▍  | 1675/2255 [19:18<14:23,  1.49s/section]"
     ]
    },
    {
     "name": "stdout",
     "output_type": "stream",
     "text": [
      "Processing section: 1911.03326.tex --> Introduction | Number of chunks: 1\n"
     ]
    },
    {
     "name": "stderr",
     "output_type": "stream",
     "text": [
      "Processing sections:  74%|███████▍  | 1677/2255 [19:19<09:56,  1.03s/section]"
     ]
    },
    {
     "name": "stdout",
     "output_type": "stream",
     "text": [
      "Processing section: 1911.03326.tex --> The \\lhcb detector and data sample | Number of chunks: 2\n"
     ]
    },
    {
     "name": "stderr",
     "output_type": "stream",
     "text": [
      "Processing sections:  74%|███████▍  | 1678/2255 [19:20<09:37,  1.00s/section]"
     ]
    },
    {
     "name": "stdout",
     "output_type": "stream",
     "text": [
      "Processing section: 1911.03326.tex --> Analysis technique | Number of chunks: 2\n"
     ]
    },
    {
     "name": "stderr",
     "output_type": "stream",
     "text": [
      "Processing sections:  74%|███████▍  | 1679/2255 [19:21<10:29,  1.09s/section]"
     ]
    },
    {
     "name": "stdout",
     "output_type": "stream",
     "text": [
      "Processing section: 1911.03326.tex --> Fit to the invariant mass | Number of chunks: 1\n"
     ]
    },
    {
     "name": "stderr",
     "output_type": "stream",
     "text": [
      "Processing sections:  75%|███████▍  | 1680/2255 [19:22<10:13,  1.07s/section]"
     ]
    },
    {
     "name": "stdout",
     "output_type": "stream",
     "text": [
      "Processing section: 2110.00831.tex --> Introduction | Number of chunks: 1\n"
     ]
    },
    {
     "name": "stderr",
     "output_type": "stream",
     "text": [
      "Processing sections:  75%|███████▍  | 1683/2255 [19:23<06:19,  1.51section/s]"
     ]
    },
    {
     "name": "stdout",
     "output_type": "stream",
     "text": [
      "Processing section: 2110.00831.tex --> Conclusions | Number of chunks: 1\n"
     ]
    },
    {
     "name": "stderr",
     "output_type": "stream",
     "text": [
      "Processing sections:  75%|███████▍  | 1684/2255 [19:24<06:23,  1.49section/s]"
     ]
    },
    {
     "name": "stdout",
     "output_type": "stream",
     "text": [
      "Processing section: 2410.18018.tex --> Introduction | Number of chunks: 2\n"
     ]
    },
    {
     "name": "stderr",
     "output_type": "stream",
     "text": [
      "Processing sections:  75%|███████▍  | 1686/2255 [19:25<06:12,  1.53section/s]"
     ]
    },
    {
     "name": "stdout",
     "output_type": "stream",
     "text": [
      "Processing section: 2410.18018.tex --> Detector and dataset | Number of chunks: 1\n"
     ]
    },
    {
     "name": "stderr",
     "output_type": "stream",
     "text": [
      "Processing sections:  75%|███████▍  | 1687/2255 [19:26<06:20,  1.49section/s]"
     ]
    },
    {
     "name": "stdout",
     "output_type": "stream",
     "text": [
      "Processing section: 2410.18018.tex --> Event selection | Number of chunks: 2\n"
     ]
    },
    {
     "name": "stderr",
     "output_type": "stream",
     "text": [
      "Processing sections:  75%|███████▍  | 1688/2255 [19:27<07:05,  1.33section/s]"
     ]
    },
    {
     "name": "stdout",
     "output_type": "stream",
     "text": [
      "Processing section: 2410.18018.tex --> Signal determination | Number of chunks: 1\n"
     ]
    },
    {
     "name": "stderr",
     "output_type": "stream",
     "text": [
      "Processing sections:  75%|███████▍  | 1689/2255 [19:27<06:48,  1.39section/s]"
     ]
    },
    {
     "name": "stdout",
     "output_type": "stream",
     "text": [
      "Processing section: 2410.18018.tex --> Conclusions | Number of chunks: 2\n"
     ]
    },
    {
     "name": "stderr",
     "output_type": "stream",
     "text": [
      "Processing sections:  75%|███████▍  | 1690/2255 [19:29<07:41,  1.22section/s]"
     ]
    },
    {
     "name": "stdout",
     "output_type": "stream",
     "text": [
      "Processing section: 1507.07892.tex --> Introduction | Number of chunks: 2\n"
     ]
    },
    {
     "name": "stderr",
     "output_type": "stream",
     "text": [
      "Processing sections:  75%|███████▌  | 1692/2255 [19:29<06:10,  1.52section/s]"
     ]
    },
    {
     "name": "stdout",
     "output_type": "stream",
     "text": [
      "Processing section: 1507.07892.tex --> Tagging potential of OS charm hadrons | Number of chunks: 1\n"
     ]
    },
    {
     "name": "stderr",
     "output_type": "stream",
     "text": [
      "Processing sections:  75%|███████▌  | 1693/2255 [19:30<06:14,  1.50section/s]"
     ]
    },
    {
     "name": "stdout",
     "output_type": "stream",
     "text": [
      "Processing section: 1507.07892.tex --> Selection of charm candidates | Number of chunks: 1\n"
     ]
    },
    {
     "name": "stderr",
     "output_type": "stream",
     "text": [
      "Processing sections:  75%|███████▌  | 1694/2255 [19:31<05:55,  1.58section/s]"
     ]
    },
    {
     "name": "stdout",
     "output_type": "stream",
     "text": [
      "Processing section: 1503.09086.tex --> Systematic uncertainties | Number of chunks: 1\n"
     ]
    },
    {
     "name": "stderr",
     "output_type": "stream",
     "text": [
      "Processing sections:  75%|███████▌  | 1696/2255 [19:31<04:32,  2.05section/s]"
     ]
    },
    {
     "name": "stdout",
     "output_type": "stream",
     "text": [
      "Processing section: 1503.09086.tex --> Results | Number of chunks: 2\n"
     ]
    },
    {
     "name": "stderr",
     "output_type": "stream",
     "text": [
      "Processing sections:  75%|███████▌  | 1697/2255 [19:32<05:23,  1.72section/s]"
     ]
    },
    {
     "name": "stdout",
     "output_type": "stream",
     "text": [
      "Processing section: 2202.09106.tex --> Introduction | Number of chunks: 3\n"
     ]
    },
    {
     "name": "stderr",
     "output_type": "stream",
     "text": [
      "Processing sections:  75%|███████▌  | 1699/2255 [19:34<05:51,  1.58section/s]"
     ]
    },
    {
     "name": "stdout",
     "output_type": "stream",
     "text": [
      "Processing section: 2202.09106.tex --> \\lhcb detector  | Number of chunks: 1\n"
     ]
    },
    {
     "name": "stderr",
     "output_type": "stream",
     "text": [
      "Processing sections:  75%|███████▌  | 1700/2255 [19:34<05:42,  1.62section/s]"
     ]
    },
    {
     "name": "stdout",
     "output_type": "stream",
     "text": [
      "Processing section: 2202.09106.tex --> Measurement strategy | Number of chunks: 1\n"
     ]
    },
    {
     "name": "stderr",
     "output_type": "stream",
     "text": [
      "Processing sections:  75%|███████▌  | 1701/2255 [19:35<05:49,  1.59section/s]"
     ]
    },
    {
     "name": "stdout",
     "output_type": "stream",
     "text": [
      "Processing section: 2202.09106.tex --> Systematic uncertainties | Number of chunks: 3\n"
     ]
    },
    {
     "name": "stderr",
     "output_type": "stream",
     "text": [
      "Processing sections:  75%|███████▌  | 1702/2255 [19:36<07:50,  1.18section/s]"
     ]
    },
    {
     "name": "stdout",
     "output_type": "stream",
     "text": [
      "Processing section: 2202.09106.tex --> Summary and conclusion | Number of chunks: 2\n"
     ]
    },
    {
     "name": "stderr",
     "output_type": "stream",
     "text": [
      "Processing sections:  76%|███████▌  | 1703/2255 [19:37<08:24,  1.09section/s]"
     ]
    },
    {
     "name": "stdout",
     "output_type": "stream",
     "text": [
      "Processing section: 2103.04949.tex --> Introduction | Number of chunks: 2\n"
     ]
    },
    {
     "name": "stderr",
     "output_type": "stream",
     "text": [
      "Processing sections:  76%|███████▌  | 1705/2255 [19:38<07:01,  1.31section/s]"
     ]
    },
    {
     "name": "stdout",
     "output_type": "stream",
     "text": [
      "Processing section: 2103.04949.tex --> Detector and simulation | Number of chunks: 2\n"
     ]
    },
    {
     "name": "stderr",
     "output_type": "stream",
     "text": [
      "Processing sections:  76%|███████▌  | 1706/2255 [19:39<07:19,  1.25section/s]"
     ]
    },
    {
     "name": "stdout",
     "output_type": "stream",
     "text": [
      "Processing section: 2103.04949.tex --> Event selection | Number of chunks: 3\n"
     ]
    },
    {
     "name": "stderr",
     "output_type": "stream",
     "text": [
      "Processing sections:  76%|███████▌  | 1707/2255 [19:41<08:49,  1.03section/s]"
     ]
    },
    {
     "name": "stdout",
     "output_type": "stream",
     "text": [
      "Processing section: 2103.04949.tex --> Systematic uncertainties | Number of chunks: 3\n"
     ]
    },
    {
     "name": "stderr",
     "output_type": "stream",
     "text": [
      "Processing sections:  76%|███████▌  | 1708/2255 [19:42<09:55,  1.09s/section]"
     ]
    },
    {
     "name": "stdout",
     "output_type": "stream",
     "text": [
      "Processing section: 2103.04949.tex --> Results and summary | Number of chunks: 2\n"
     ]
    },
    {
     "name": "stderr",
     "output_type": "stream",
     "text": [
      "Processing sections:  76%|███████▌  | 1709/2255 [19:43<10:06,  1.11s/section]"
     ]
    },
    {
     "name": "stdout",
     "output_type": "stream",
     "text": [
      "Processing section: 1504.07670.tex --> The LHCb detector | Number of chunks: 2\n"
     ]
    },
    {
     "name": "stderr",
     "output_type": "stream",
     "text": [
      "Processing sections:  76%|███████▌  | 1711/2255 [19:45<07:58,  1.14section/s]"
     ]
    },
    {
     "name": "stdout",
     "output_type": "stream",
     "text": [
      "Processing section: 1504.07670.tex --> Jet identification algorithms | Number of chunks: 4\n"
     ]
    },
    {
     "name": "stderr",
     "output_type": "stream",
     "text": [
      "Processing sections:  76%|███████▌  | 1712/2255 [19:46<09:26,  1.04s/section]"
     ]
    },
    {
     "name": "stdout",
     "output_type": "stream",
     "text": [
      "Processing section: 1504.07670.tex --> Jet identification algorithms --> The SV tagger | Number of chunks: 2\n"
     ]
    },
    {
     "name": "stderr",
     "output_type": "stream",
     "text": [
      "Processing sections:  76%|███████▌  | 1713/2255 [19:47<09:22,  1.04s/section]"
     ]
    },
    {
     "name": "stdout",
     "output_type": "stream",
     "text": [
      "Processing section: 1504.07670.tex --> Jet identification algorithms --> Performance in simulation | Number of chunks: 1\n"
     ]
    },
    {
     "name": "stderr",
     "output_type": "stream",
     "text": [
      "Processing sections:  76%|███████▌  | 1714/2255 [19:48<08:47,  1.03section/s]"
     ]
    },
    {
     "name": "stdout",
     "output_type": "stream",
     "text": [
      "Processing section: 2111.03001.tex --> Introduction | Number of chunks: 2\n"
     ]
    },
    {
     "name": "stderr",
     "output_type": "stream",
     "text": [
      "Processing sections:  76%|███████▌  | 1716/2255 [19:49<06:49,  1.32section/s]"
     ]
    },
    {
     "name": "stdout",
     "output_type": "stream",
     "text": [
      "Processing section: 2111.03001.tex --> Detector and simulation | Number of chunks: 2\n"
     ]
    },
    {
     "name": "stderr",
     "output_type": "stream",
     "text": [
      "Processing sections:  76%|███████▌  | 1717/2255 [19:50<07:25,  1.21section/s]"
     ]
    },
    {
     "name": "stdout",
     "output_type": "stream",
     "text": [
      "Processing section: 2111.03001.tex --> Event selection | Number of chunks: 2\n"
     ]
    },
    {
     "name": "stderr",
     "output_type": "stream",
     "text": [
      "Processing sections:  76%|███████▌  | 1718/2255 [19:51<08:26,  1.06section/s]"
     ]
    },
    {
     "name": "stdout",
     "output_type": "stream",
     "text": [
      "Processing section: 2111.03001.tex --> Ratios of branching fractions | Number of chunks: 2\n"
     ]
    },
    {
     "name": "stderr",
     "output_type": "stream",
     "text": [
      "Processing sections:  76%|███████▌  | 1719/2255 [19:52<08:08,  1.10section/s]"
     ]
    },
    {
     "name": "stdout",
     "output_type": "stream",
     "text": [
      "Processing section: 2111.03001.tex --> Systematic uncertainties | Number of chunks: 2\n"
     ]
    },
    {
     "name": "stderr",
     "output_type": "stream",
     "text": [
      "Processing sections:  76%|███████▋  | 1720/2255 [19:53<08:16,  1.08section/s]"
     ]
    },
    {
     "name": "stdout",
     "output_type": "stream",
     "text": [
      "Processing section: 1408.1251.tex --> Introduction | Number of chunks: 1\n"
     ]
    },
    {
     "name": "stderr",
     "output_type": "stream",
     "text": [
      "Processing sections:  76%|███████▋  | 1722/2255 [19:53<05:20,  1.66section/s]"
     ]
    },
    {
     "name": "stdout",
     "output_type": "stream",
     "text": [
      "Processing section: 1408.1251.tex --> Detector and software description | Number of chunks: 1\n"
     ]
    },
    {
     "name": "stderr",
     "output_type": "stream",
     "text": [
      "Processing sections:  76%|███████▋  | 1723/2255 [19:54<05:10,  1.71section/s]"
     ]
    },
    {
     "name": "stdout",
     "output_type": "stream",
     "text": [
      "Processing section: 1408.1251.tex --> Hadronic interactions | Number of chunks: 1\n"
     ]
    },
    {
     "name": "stderr",
     "output_type": "stream",
     "text": [
      "Processing sections:  76%|███████▋  | 1724/2255 [19:55<05:11,  1.71section/s]"
     ]
    },
    {
     "name": "stdout",
     "output_type": "stream",
     "text": [
      "Processing section: 1408.1251.tex --> Conclusion | Number of chunks: 1\n"
     ]
    },
    {
     "name": "stderr",
     "output_type": "stream",
     "text": [
      "Processing sections:  76%|███████▋  | 1725/2255 [19:55<05:09,  1.71section/s]"
     ]
    },
    {
     "name": "stdout",
     "output_type": "stream",
     "text": [
      "Processing section: 1407.7734.tex --> Introduction | Number of chunks: 2\n"
     ]
    },
    {
     "name": "stderr",
     "output_type": "stream",
     "text": [
      "Processing sections:  77%|███████▋  | 1727/2255 [19:56<04:51,  1.81section/s]"
     ]
    },
    {
     "name": "stdout",
     "output_type": "stream",
     "text": [
      "Processing section: 1407.7734.tex --> The \\lhcb detector and data samples | Number of chunks: 2\n"
     ]
    },
    {
     "name": "stderr",
     "output_type": "stream",
     "text": [
      "Processing sections:  77%|███████▋  | 1728/2255 [19:57<05:17,  1.66section/s]"
     ]
    },
    {
     "name": "stdout",
     "output_type": "stream",
     "text": [
      "Processing section: 1407.7734.tex --> Event selection and signal extraction | Number of chunks: 2\n"
     ]
    },
    {
     "name": "stderr",
     "output_type": "stream",
     "text": [
      "Processing sections:  77%|███████▋  | 1729/2255 [19:58<06:42,  1.31section/s]"
     ]
    },
    {
     "name": "stdout",
     "output_type": "stream",
     "text": [
      "Processing section: 1407.7734.tex --> Results and conclusion | Number of chunks: 6\n"
     ]
    },
    {
     "name": "stderr",
     "output_type": "stream",
     "text": [
      "Processing sections:  77%|███████▋  | 1730/2255 [20:01<10:37,  1.21s/section]"
     ]
    },
    {
     "name": "stdout",
     "output_type": "stream",
     "text": [
      "Processing section: 2205.10213.tex --> Introduction | Number of chunks: 2\n"
     ]
    },
    {
     "name": "stderr",
     "output_type": "stream",
     "text": [
      "Processing sections:  77%|███████▋  | 1732/2255 [20:02<07:40,  1.13section/s]"
     ]
    },
    {
     "name": "stdout",
     "output_type": "stream",
     "text": [
      "Processing section: 2205.10213.tex --> Detector, datasets, and theoretical predictions | Number of chunks: 2\n"
     ]
    },
    {
     "name": "stderr",
     "output_type": "stream",
     "text": [
      "Processing sections:  77%|███████▋  | 1733/2255 [20:02<07:29,  1.16section/s]"
     ]
    },
    {
     "name": "stdout",
     "output_type": "stream",
     "text": [
      "Processing section: 2205.10213.tex --> Conclusion | Number of chunks: 1\n"
     ]
    },
    {
     "name": "stderr",
     "output_type": "stream",
     "text": [
      "Processing sections:  77%|███████▋  | 1734/2255 [20:03<06:52,  1.26section/s]"
     ]
    },
    {
     "name": "stdout",
     "output_type": "stream",
     "text": [
      "Processing section: 1607.06446.tex --> Introduction | Number of chunks: 1\n"
     ]
    },
    {
     "name": "stderr",
     "output_type": "stream",
     "text": [
      "Processing sections:  77%|███████▋  | 1736/2255 [20:03<04:56,  1.75section/s]"
     ]
    },
    {
     "name": "stdout",
     "output_type": "stream",
     "text": [
      "Processing section: 1607.06446.tex --> Detector and simulation | Number of chunks: 1\n"
     ]
    },
    {
     "name": "stderr",
     "output_type": "stream",
     "text": [
      "Processing sections:  77%|███████▋  | 1737/2255 [20:04<05:03,  1.71section/s]"
     ]
    },
    {
     "name": "stdout",
     "output_type": "stream",
     "text": [
      "Processing section: 1607.06446.tex --> Results and conclusions | Number of chunks: 2\n"
     ]
    },
    {
     "name": "stderr",
     "output_type": "stream",
     "text": [
      "Processing sections:  77%|███████▋  | 1738/2255 [20:05<06:28,  1.33section/s]"
     ]
    },
    {
     "name": "stdout",
     "output_type": "stream",
     "text": [
      "Processing section: 1408.0275.tex --> Introduction | Number of chunks: 1\n"
     ]
    },
    {
     "name": "stderr",
     "output_type": "stream",
     "text": [
      "Processing sections:  77%|███████▋  | 1740/2255 [20:06<05:15,  1.63section/s]"
     ]
    },
    {
     "name": "stdout",
     "output_type": "stream",
     "text": [
      "Processing section: 1408.0275.tex --> Detector, trigger and simulation | Number of chunks: 1\n"
     ]
    },
    {
     "name": "stderr",
     "output_type": "stream",
     "text": [
      "Processing sections:  77%|███████▋  | 1741/2255 [20:07<05:06,  1.67section/s]"
     ]
    },
    {
     "name": "stdout",
     "output_type": "stream",
     "text": [
      "Processing section: 1408.0275.tex --> Data set and selection | Number of chunks: 2\n"
     ]
    },
    {
     "name": "stderr",
     "output_type": "stream",
     "text": [
      "Processing sections:  77%|███████▋  | 1742/2255 [20:08<06:31,  1.31section/s]"
     ]
    },
    {
     "name": "stdout",
     "output_type": "stream",
     "text": [
      "Processing section: 1408.0275.tex --> Fit model | Number of chunks: 3\n"
     ]
    },
    {
     "name": "stderr",
     "output_type": "stream",
     "text": [
      "Processing sections:  77%|███████▋  | 1743/2255 [20:09<08:01,  1.06section/s]"
     ]
    },
    {
     "name": "stdout",
     "output_type": "stream",
     "text": [
      "Processing section: 1408.0275.tex --> Fit model --> Decay time model | Number of chunks: 2\n"
     ]
    },
    {
     "name": "stderr",
     "output_type": "stream",
     "text": [
      "Processing sections:  77%|███████▋  | 1744/2255 [20:10<08:06,  1.05section/s]"
     ]
    },
    {
     "name": "stdout",
     "output_type": "stream",
     "text": [
      "Processing section: 2109.07292.tex --> Introduction | Number of chunks: 2\n"
     ]
    },
    {
     "name": "stderr",
     "output_type": "stream",
     "text": [
      "Processing sections:  77%|███████▋  | 1747/2255 [20:12<05:29,  1.54section/s]"
     ]
    },
    {
     "name": "stdout",
     "output_type": "stream",
     "text": [
      "Processing section: 2109.07292.tex --> Conclusion | Number of chunks: 2\n"
     ]
    },
    {
     "name": "stderr",
     "output_type": "stream",
     "text": [
      "Processing sections:  78%|███████▊  | 1748/2255 [20:13<06:18,  1.34section/s]"
     ]
    },
    {
     "name": "stdout",
     "output_type": "stream",
     "text": [
      "Processing section: 1204.1462.tex --> Introduction | Number of chunks: 1\n"
     ]
    },
    {
     "name": "stderr",
     "output_type": "stream",
     "text": [
      "Processing sections:  78%|███████▊  | 1750/2255 [20:14<05:27,  1.54section/s]"
     ]
    },
    {
     "name": "stdout",
     "output_type": "stream",
     "text": [
      "Processing section: 1204.1462.tex --> \\LHCb\\ detector and selection requirements | Number of chunks: 4\n"
     ]
    },
    {
     "name": "stderr",
     "output_type": "stream",
     "text": [
      "Processing sections:  78%|███████▊  | 1751/2255 [20:15<07:03,  1.19section/s]"
     ]
    },
    {
     "name": "stdout",
     "output_type": "stream",
     "text": [
      "Processing section: 1210.6289.tex --> Detector and datasets | Number of chunks: 1\n"
     ]
    },
    {
     "name": "stderr",
     "output_type": "stream",
     "text": [
      "Processing sections:  78%|███████▊  | 1753/2255 [20:16<05:17,  1.58section/s]"
     ]
    },
    {
     "name": "stdout",
     "output_type": "stream",
     "text": [
      "Processing section: 1210.6289.tex --> Event selection | Number of chunks: 2\n"
     ]
    },
    {
     "name": "stderr",
     "output_type": "stream",
     "text": [
      "Processing sections:  78%|███████▊  | 1754/2255 [20:17<06:20,  1.32section/s]"
     ]
    },
    {
     "name": "stdout",
     "output_type": "stream",
     "text": [
      "Processing section: 1308.6729.tex --> Introduction | Number of chunks: 2\n"
     ]
    },
    {
     "name": "stderr",
     "output_type": "stream",
     "text": [
      "Processing sections:  78%|███████▊  | 1756/2255 [20:18<06:08,  1.35section/s]"
     ]
    },
    {
     "name": "stdout",
     "output_type": "stream",
     "text": [
      "Processing section: 1308.6729.tex --> Detector and data set | Number of chunks: 2\n"
     ]
    },
    {
     "name": "stderr",
     "output_type": "stream",
     "text": [
      "Processing sections:  78%|███████▊  | 1757/2255 [20:19<06:38,  1.25section/s]"
     ]
    },
    {
     "name": "stdout",
     "output_type": "stream",
     "text": [
      "Processing section: 1308.6729.tex --> Event selection and cross-section determination | Number of chunks: 2\n"
     ]
    },
    {
     "name": "stderr",
     "output_type": "stream",
     "text": [
      "Processing sections:  78%|███████▊  | 1758/2255 [20:21<07:24,  1.12section/s]"
     ]
    },
    {
     "name": "stdout",
     "output_type": "stream",
     "text": [
      "Processing section: 1308.6729.tex --> Conclusion | Number of chunks: 1\n"
     ]
    },
    {
     "name": "stderr",
     "output_type": "stream",
     "text": [
      "Processing sections:  78%|███████▊  | 1759/2255 [20:21<07:00,  1.18section/s]"
     ]
    },
    {
     "name": "stdout",
     "output_type": "stream",
     "text": [
      "Processing section: 1401.6932.tex --> Analysis strategy and event selection | Number of chunks: 3\n"
     ]
    },
    {
     "name": "stderr",
     "output_type": "stream",
     "text": [
      "Processing sections:  78%|███████▊  | 1761/2255 [20:23<06:16,  1.31section/s]"
     ]
    },
    {
     "name": "stdout",
     "output_type": "stream",
     "text": [
      "Processing section: 1401.6932.tex --> Signal model | Number of chunks: 2\n"
     ]
    },
    {
     "name": "stderr",
     "output_type": "stream",
     "text": [
      "Processing sections:  78%|███████▊  | 1762/2255 [20:24<06:36,  1.24section/s]"
     ]
    },
    {
     "name": "stdout",
     "output_type": "stream",
     "text": [
      "Processing section: 1304.6365.tex --> Introduction | Number of chunks: 2\n"
     ]
    },
    {
     "name": "stderr",
     "output_type": "stream",
     "text": [
      "Processing sections:  78%|███████▊  | 1764/2255 [20:25<06:02,  1.35section/s]"
     ]
    },
    {
     "name": "stdout",
     "output_type": "stream",
     "text": [
      "Processing section: 2212.12664.tex --> Introduction | Number of chunks: 1\n"
     ]
    },
    {
     "name": "stderr",
     "output_type": "stream",
     "text": [
      "Processing sections:  78%|███████▊  | 1766/2255 [20:26<04:53,  1.67section/s]"
     ]
    },
    {
     "name": "stdout",
     "output_type": "stream",
     "text": [
      "Processing section: 2212.12664.tex --> The \\lhcb detector and event selection | Number of chunks: 1\n"
     ]
    },
    {
     "name": "stderr",
     "output_type": "stream",
     "text": [
      "Processing sections:  78%|███████▊  | 1767/2255 [20:26<05:09,  1.58section/s]"
     ]
    },
    {
     "name": "stdout",
     "output_type": "stream",
     "text": [
      "Processing section: 2212.12664.tex --> Conclusion | Number of chunks: 2\n"
     ]
    },
    {
     "name": "stderr",
     "output_type": "stream",
     "text": [
      "Processing sections:  78%|███████▊  | 1768/2255 [20:27<05:36,  1.45section/s]"
     ]
    },
    {
     "name": "stdout",
     "output_type": "stream",
     "text": [
      "Processing section: 2004.08163.tex --> Introduction | Number of chunks: 2\n"
     ]
    },
    {
     "name": "stderr",
     "output_type": "stream",
     "text": [
      "Processing sections:  78%|███████▊  | 1770/2255 [20:28<05:17,  1.53section/s]"
     ]
    },
    {
     "name": "stdout",
     "output_type": "stream",
     "text": [
      "Processing section: 2004.08163.tex --> Detector and simulation | Number of chunks: 1\n"
     ]
    },
    {
     "name": "stderr",
     "output_type": "stream",
     "text": [
      "Processing sections:  79%|███████▊  | 1771/2255 [20:29<05:11,  1.56section/s]"
     ]
    },
    {
     "name": "stdout",
     "output_type": "stream",
     "text": [
      "Processing section: 2004.08163.tex --> Event selection | Number of chunks: 2\n"
     ]
    },
    {
     "name": "stderr",
     "output_type": "stream",
     "text": [
      "Processing sections:  79%|███████▊  | 1772/2255 [20:30<06:09,  1.31section/s]"
     ]
    },
    {
     "name": "stdout",
     "output_type": "stream",
     "text": [
      "Processing section: 2004.08163.tex --> Mass measurement | Number of chunks: 2\n"
     ]
    },
    {
     "name": "stderr",
     "output_type": "stream",
     "text": [
      "Processing sections:  79%|███████▊  | 1773/2255 [20:31<06:41,  1.20section/s]"
     ]
    },
    {
     "name": "stdout",
     "output_type": "stream",
     "text": [
      "Processing section: 2004.08163.tex --> Summary | Number of chunks: 2\n"
     ]
    },
    {
     "name": "stderr",
     "output_type": "stream",
     "text": [
      "Processing sections:  79%|███████▊  | 1774/2255 [20:32<07:07,  1.12section/s]"
     ]
    },
    {
     "name": "stdout",
     "output_type": "stream",
     "text": [
      "Processing section: 1712.07428.tex --> Introduction | Number of chunks: 2\n"
     ]
    },
    {
     "name": "stderr",
     "output_type": "stream",
     "text": [
      "Processing sections:  79%|███████▉  | 1776/2255 [20:33<05:46,  1.38section/s]"
     ]
    },
    {
     "name": "stdout",
     "output_type": "stream",
     "text": [
      "Processing section: 1712.07428.tex --> Conclusion | Number of chunks: 2\n"
     ]
    },
    {
     "name": "stderr",
     "output_type": "stream",
     "text": [
      "Processing sections:  79%|███████▉  | 1777/2255 [20:34<06:11,  1.29section/s]"
     ]
    },
    {
     "name": "stdout",
     "output_type": "stream",
     "text": [
      "Processing section: 2212.04977.tex --> LHCb detector and trigger | Number of chunks: 1\n"
     ]
    },
    {
     "name": "stderr",
     "output_type": "stream",
     "text": [
      "Processing sections:  79%|███████▉  | 1779/2255 [20:35<04:34,  1.74section/s]"
     ]
    },
    {
     "name": "stdout",
     "output_type": "stream",
     "text": [
      "Processing section: 2212.04977.tex --> Signal selection | Number of chunks: 1\n"
     ]
    },
    {
     "name": "stderr",
     "output_type": "stream",
     "text": [
      "Processing sections:  79%|███████▉  | 1780/2255 [20:35<04:34,  1.73section/s]"
     ]
    },
    {
     "name": "stdout",
     "output_type": "stream",
     "text": [
      "Processing section: 2212.04977.tex --> Normalisation and invariant-mass fit | Number of chunks: 2\n"
     ]
    },
    {
     "name": "stderr",
     "output_type": "stream",
     "text": [
      "Processing sections:  79%|███████▉  | 1781/2255 [20:37<05:45,  1.37section/s]"
     ]
    },
    {
     "name": "stdout",
     "output_type": "stream",
     "text": [
      "Processing section: 2406.03387.tex --> Introduction | Number of chunks: 1\n"
     ]
    },
    {
     "name": "stderr",
     "output_type": "stream",
     "text": [
      "Processing sections:  79%|███████▉  | 1783/2255 [20:37<04:41,  1.68section/s]"
     ]
    },
    {
     "name": "stdout",
     "output_type": "stream",
     "text": [
      "Processing section: 2406.03387.tex --> Selection | Number of chunks: 2\n"
     ]
    },
    {
     "name": "stderr",
     "output_type": "stream",
     "text": [
      "Processing sections:  79%|███████▉  | 1784/2255 [20:39<05:42,  1.37section/s]"
     ]
    },
    {
     "name": "stdout",
     "output_type": "stream",
     "text": [
      "Processing section: 2406.03387.tex --> Corrections to simulation | Number of chunks: 1\n"
     ]
    },
    {
     "name": "stderr",
     "output_type": "stream",
     "text": [
      "Processing sections:  79%|███████▉  | 1785/2255 [20:39<05:27,  1.44section/s]"
     ]
    },
    {
     "name": "stdout",
     "output_type": "stream",
     "text": [
      "Processing section: 2406.03387.tex --> Signal yield determination | Number of chunks: 3\n"
     ]
    },
    {
     "name": "stderr",
     "output_type": "stream",
     "text": [
      "Processing sections:  79%|███████▉  | 1786/2255 [20:41<06:54,  1.13section/s]"
     ]
    },
    {
     "name": "stdout",
     "output_type": "stream",
     "text": [
      "Processing section: 2406.03387.tex --> Systematic uncertainties | Number of chunks: 1\n"
     ]
    },
    {
     "name": "stderr",
     "output_type": "stream",
     "text": [
      "Processing sections:  79%|███████▉  | 1787/2255 [20:41<06:04,  1.28section/s]"
     ]
    },
    {
     "name": "stdout",
     "output_type": "stream",
     "text": [
      "Processing section: 2406.03387.tex --> Results and conclusion | Number of chunks: 2\n"
     ]
    },
    {
     "name": "stderr",
     "output_type": "stream",
     "text": [
      "Processing sections:  79%|███████▉  | 1788/2255 [20:42<06:37,  1.18section/s]"
     ]
    },
    {
     "name": "stdout",
     "output_type": "stream",
     "text": [
      "Processing section: 2409.12629.tex --> Introduction | Number of chunks: 3\n"
     ]
    },
    {
     "name": "stderr",
     "output_type": "stream",
     "text": [
      "Processing sections:  79%|███████▉  | 1790/2255 [20:44<06:08,  1.26section/s]"
     ]
    },
    {
     "name": "stdout",
     "output_type": "stream",
     "text": [
      "Processing section: 2409.12629.tex --> Methodology | Number of chunks: 2\n"
     ]
    },
    {
     "name": "stderr",
     "output_type": "stream",
     "text": [
      "Processing sections:  79%|███████▉  | 1791/2255 [20:45<06:57,  1.11section/s]"
     ]
    },
    {
     "name": "stdout",
     "output_type": "stream",
     "text": [
      "Processing section: 2409.12629.tex --> Selection | Number of chunks: 2\n"
     ]
    },
    {
     "name": "stderr",
     "output_type": "stream",
     "text": [
      "Processing sections:  79%|███████▉  | 1792/2255 [20:46<07:26,  1.04section/s]"
     ]
    },
    {
     "name": "stdout",
     "output_type": "stream",
     "text": [
      "Processing section: 2409.12629.tex --> Mass distribution | Number of chunks: 1\n"
     ]
    },
    {
     "name": "stderr",
     "output_type": "stream",
     "text": [
      "Processing sections:  80%|███████▉  | 1793/2255 [20:47<06:35,  1.17section/s]"
     ]
    },
    {
     "name": "stdout",
     "output_type": "stream",
     "text": [
      "Processing section: 1404.5673.tex --> Introduction | Number of chunks: 2\n"
     ]
    },
    {
     "name": "stderr",
     "output_type": "stream",
     "text": [
      "Processing sections:  80%|███████▉  | 1795/2255 [20:48<05:54,  1.30section/s]"
     ]
    },
    {
     "name": "stdout",
     "output_type": "stream",
     "text": [
      "Processing section: 1404.5673.tex --> Introduction --> Systematic uncertainties | Number of chunks: 1\n"
     ]
    },
    {
     "name": "stderr",
     "output_type": "stream",
     "text": [
      "Processing sections:  80%|███████▉  | 1796/2255 [20:49<05:50,  1.31section/s]"
     ]
    },
    {
     "name": "stdout",
     "output_type": "stream",
     "text": [
      "Processing section: 1404.5673.tex --> \\boldmath Substructure of the $f_0(980)$ and $f_0(500)$ mesons | Number of chunks: 3\n"
     ]
    },
    {
     "name": "stderr",
     "output_type": "stream",
     "text": [
      "Processing sections:  80%|███████▉  | 1797/2255 [20:50<07:07,  1.07section/s]"
     ]
    },
    {
     "name": "stdout",
     "output_type": "stream",
     "text": [
      "Processing section: 1404.5673.tex --> Conclusions | Number of chunks: 2\n"
     ]
    },
    {
     "name": "stderr",
     "output_type": "stream",
     "text": [
      "Processing sections:  80%|███████▉  | 1798/2255 [20:51<07:16,  1.05section/s]"
     ]
    },
    {
     "name": "stdout",
     "output_type": "stream",
     "text": [
      "Processing section: 2010.06011.tex --> Introduction | Number of chunks: 4\n"
     ]
    },
    {
     "name": "stderr",
     "output_type": "stream",
     "text": [
      "Processing sections:  80%|███████▉  | 1800/2255 [20:53<06:42,  1.13section/s]"
     ]
    },
    {
     "name": "stdout",
     "output_type": "stream",
     "text": [
      "Processing section: 1407.7704.tex --> Results and conclusion | Number of chunks: 2\n"
     ]
    },
    {
     "name": "stderr",
     "output_type": "stream",
     "text": [
      "Processing sections:  80%|███████▉  | 1802/2255 [20:53<05:22,  1.40section/s]"
     ]
    },
    {
     "name": "stdout",
     "output_type": "stream",
     "text": [
      "Processing section: 1612.07421.tex --> Branching fraction measurement | Number of chunks: 2\n"
     ]
    },
    {
     "name": "stderr",
     "output_type": "stream",
     "text": [
      "Processing sections:  80%|████████  | 1804/2255 [20:55<05:17,  1.42section/s]"
     ]
    },
    {
     "name": "stdout",
     "output_type": "stream",
     "text": [
      "Processing section: 1612.07421.tex --> Conclusion | Number of chunks: 2\n"
     ]
    },
    {
     "name": "stderr",
     "output_type": "stream",
     "text": [
      "Processing sections:  80%|████████  | 1805/2255 [20:56<05:49,  1.29section/s]"
     ]
    },
    {
     "name": "stdout",
     "output_type": "stream",
     "text": [
      "Processing section: 1512.00439.tex --> Introduction | Number of chunks: 1\n"
     ]
    },
    {
     "name": "stderr",
     "output_type": "stream",
     "text": [
      "Processing sections:  80%|████████  | 1807/2255 [20:57<04:48,  1.55section/s]"
     ]
    },
    {
     "name": "stdout",
     "output_type": "stream",
     "text": [
      "Processing section: 1512.00439.tex --> Experimental setup | Number of chunks: 1\n"
     ]
    },
    {
     "name": "stderr",
     "output_type": "stream",
     "text": [
      "Processing sections:  80%|████████  | 1808/2255 [20:57<04:40,  1.59section/s]"
     ]
    },
    {
     "name": "stdout",
     "output_type": "stream",
     "text": [
      "Processing section: 1512.00439.tex --> Data selection and corrections | Number of chunks: 2\n"
     ]
    },
    {
     "name": "stderr",
     "output_type": "stream",
     "text": [
      "Processing sections:  80%|████████  | 1809/2255 [20:58<05:24,  1.38section/s]"
     ]
    },
    {
     "name": "stdout",
     "output_type": "stream",
     "text": [
      "Processing section: 1512.00439.tex --> Summary and conclusions | Number of chunks: 2\n"
     ]
    },
    {
     "name": "stderr",
     "output_type": "stream",
     "text": [
      "Processing sections:  80%|████████  | 1810/2255 [21:00<06:11,  1.20section/s]"
     ]
    },
    {
     "name": "stdout",
     "output_type": "stream",
     "text": [
      "Processing section: 2407.14261.tex --> Introduction | Number of chunks: 2\n"
     ]
    },
    {
     "name": "stderr",
     "output_type": "stream",
     "text": [
      "Processing sections:  80%|████████  | 1812/2255 [21:01<05:16,  1.40section/s]"
     ]
    },
    {
     "name": "stdout",
     "output_type": "stream",
     "text": [
      "Processing section: 2407.14261.tex --> The LHCb detector and data sample | Number of chunks: 2\n"
     ]
    },
    {
     "name": "stderr",
     "output_type": "stream",
     "text": [
      "Processing sections:  80%|████████  | 1813/2255 [21:02<05:51,  1.26section/s]"
     ]
    },
    {
     "name": "stdout",
     "output_type": "stream",
     "text": [
      "Processing section: 2407.14261.tex --> Cross-section determination | Number of chunks: 1\n"
     ]
    },
    {
     "name": "stderr",
     "output_type": "stream",
     "text": [
      "Processing sections:  80%|████████  | 1814/2255 [21:02<05:34,  1.32section/s]"
     ]
    },
    {
     "name": "stdout",
     "output_type": "stream",
     "text": [
      "Processing section: 2407.14261.tex --> Fits to data | Number of chunks: 1\n"
     ]
    },
    {
     "name": "stderr",
     "output_type": "stream",
     "text": [
      "Processing sections:  80%|████████  | 1815/2255 [21:03<05:36,  1.31section/s]"
     ]
    },
    {
     "name": "stdout",
     "output_type": "stream",
     "text": [
      "Processing section: 2411.09343.tex --> Event selection | Number of chunks: 2\n"
     ]
    },
    {
     "name": "stderr",
     "output_type": "stream",
     "text": [
      "Processing sections:  81%|████████  | 1817/2255 [21:04<05:05,  1.43section/s]"
     ]
    },
    {
     "name": "stdout",
     "output_type": "stream",
     "text": [
      "Processing section: 2104.04759.tex --> Introduction | Number of chunks: 2\n"
     ]
    },
    {
     "name": "stderr",
     "output_type": "stream",
     "text": [
      "Processing sections:  81%|████████  | 1819/2255 [21:05<04:44,  1.53section/s]"
     ]
    },
    {
     "name": "stdout",
     "output_type": "stream",
     "text": [
      "Processing section: 2104.04759.tex --> Conclusions | Number of chunks: 2\n"
     ]
    },
    {
     "name": "stderr",
     "output_type": "stream",
     "text": [
      "Processing sections:  81%|████████  | 1820/2255 [21:07<05:20,  1.36section/s]"
     ]
    },
    {
     "name": "stdout",
     "output_type": "stream",
     "text": [
      "Processing section: 1306.2239.tex --> Introduction | Number of chunks: 3\n"
     ]
    },
    {
     "name": "stderr",
     "output_type": "stream",
     "text": [
      "Processing sections:  81%|████████  | 1822/2255 [21:08<05:15,  1.37section/s]"
     ]
    },
    {
     "name": "stdout",
     "output_type": "stream",
     "text": [
      "Processing section: 1306.2239.tex --> Summary and conclusions | Number of chunks: 2\n"
     ]
    },
    {
     "name": "stderr",
     "output_type": "stream",
     "text": [
      "Processing sections:  81%|████████  | 1823/2255 [21:09<05:56,  1.21section/s]"
     ]
    },
    {
     "name": "stdout",
     "output_type": "stream",
     "text": [
      "Processing section: 1602.07543.tex --> Introduction | Number of chunks: 2\n"
     ]
    },
    {
     "name": "stderr",
     "output_type": "stream",
     "text": [
      "Processing sections:  81%|████████  | 1825/2255 [21:10<05:18,  1.35section/s]"
     ]
    },
    {
     "name": "stdout",
     "output_type": "stream",
     "text": [
      "Processing section: 1602.07543.tex --> Signal selection | Number of chunks: 2\n"
     ]
    },
    {
     "name": "stderr",
     "output_type": "stream",
     "text": [
      "Processing sections:  81%|████████  | 1826/2255 [21:12<06:17,  1.14section/s]"
     ]
    },
    {
     "name": "stdout",
     "output_type": "stream",
     "text": [
      "Processing section: 1602.07543.tex --> Signal and background shapes | Number of chunks: 2\n"
     ]
    },
    {
     "name": "stderr",
     "output_type": "stream",
     "text": [
      "Processing sections:  81%|████████  | 1827/2255 [21:13<06:25,  1.11section/s]"
     ]
    },
    {
     "name": "stdout",
     "output_type": "stream",
     "text": [
      "Processing section: 1602.07543.tex --> Fit results | Number of chunks: 2\n"
     ]
    },
    {
     "name": "stderr",
     "output_type": "stream",
     "text": [
      "Processing sections:  81%|████████  | 1828/2255 [21:14<06:58,  1.02section/s]"
     ]
    },
    {
     "name": "stdout",
     "output_type": "stream",
     "text": [
      "Processing section: 1703.00256.tex --> Conclusions | Number of chunks: 2\n"
     ]
    },
    {
     "name": "stderr",
     "output_type": "stream",
     "text": [
      "Processing sections:  81%|████████  | 1830/2255 [21:15<05:24,  1.31section/s]"
     ]
    },
    {
     "name": "stdout",
     "output_type": "stream",
     "text": [
      "Processing section: 1710.04921.tex --> Introduction | Number of chunks: 1\n"
     ]
    },
    {
     "name": "stderr",
     "output_type": "stream",
     "text": [
      "Processing sections:  81%|████████  | 1832/2255 [21:15<04:12,  1.67section/s]"
     ]
    },
    {
     "name": "stdout",
     "output_type": "stream",
     "text": [
      "Processing section: 1710.04921.tex --> Event selection | Number of chunks: 2\n"
     ]
    },
    {
     "name": "stderr",
     "output_type": "stream",
     "text": [
      "Processing sections:  81%|████████▏ | 1833/2255 [21:16<04:37,  1.52section/s]"
     ]
    },
    {
     "name": "stdout",
     "output_type": "stream",
     "text": [
      "Processing section: 1710.04921.tex --> Cross-section determination | Number of chunks: 2\n"
     ]
    },
    {
     "name": "stderr",
     "output_type": "stream",
     "text": [
      "Processing sections:  81%|████████▏ | 1834/2255 [21:17<05:04,  1.38section/s]"
     ]
    },
    {
     "name": "stdout",
     "output_type": "stream",
     "text": [
      "Processing section: 1607.06495.tex --> Introduction | Number of chunks: 1\n"
     ]
    },
    {
     "name": "stderr",
     "output_type": "stream",
     "text": [
      "Processing sections:  81%|████████▏ | 1836/2255 [21:18<03:51,  1.81section/s]"
     ]
    },
    {
     "name": "stdout",
     "output_type": "stream",
     "text": [
      "Processing section: 1607.06495.tex --> Detector and simulation | Number of chunks: 2\n"
     ]
    },
    {
     "name": "stderr",
     "output_type": "stream",
     "text": [
      "Processing sections:  81%|████████▏ | 1837/2255 [21:19<04:34,  1.52section/s]"
     ]
    },
    {
     "name": "stdout",
     "output_type": "stream",
     "text": [
      "Processing section: 1607.06495.tex --> Dataset and event selection | Number of chunks: 2\n"
     ]
    },
    {
     "name": "stderr",
     "output_type": "stream",
     "text": [
      "Processing sections:  82%|████████▏ | 1838/2255 [21:20<05:45,  1.21section/s]"
     ]
    },
    {
     "name": "stdout",
     "output_type": "stream",
     "text": [
      "Processing section: 1607.06495.tex --> Dataset and event selection --> Dimuon final state | Number of chunks: 1\n"
     ]
    },
    {
     "name": "stderr",
     "output_type": "stream",
     "text": [
      "Processing sections:  82%|████████▏ | 1839/2255 [21:21<05:35,  1.24section/s]"
     ]
    },
    {
     "name": "stdout",
     "output_type": "stream",
     "text": [
      "Processing section: 1607.06495.tex --> Dataset and event selection --> Dielectron final state | Number of chunks: 1\n"
     ]
    },
    {
     "name": "stderr",
     "output_type": "stream",
     "text": [
      "Processing sections:  82%|████████▏ | 1840/2255 [21:22<05:15,  1.31section/s]"
     ]
    },
    {
     "name": "stdout",
     "output_type": "stream",
     "text": [
      "Processing section: 1607.06495.tex --> Cross-section measurement | Number of chunks: 3\n"
     ]
    },
    {
     "name": "stderr",
     "output_type": "stream",
     "text": [
      "Processing sections:  82%|████████▏ | 1841/2255 [21:23<06:33,  1.05section/s]"
     ]
    },
    {
     "name": "stdout",
     "output_type": "stream",
     "text": [
      "Processing section: 1607.06495.tex --> Cross-section measurement --> Efficiency determination | Number of chunks: 1\n"
     ]
    },
    {
     "name": "stderr",
     "output_type": "stream",
     "text": [
      "Processing sections:  82%|████████▏ | 1842/2255 [21:24<06:04,  1.13section/s]"
     ]
    },
    {
     "name": "stdout",
     "output_type": "stream",
     "text": [
      "Processing section: 1607.06495.tex --> Systematic uncertainties | Number of chunks: 2\n"
     ]
    },
    {
     "name": "stderr",
     "output_type": "stream",
     "text": [
      "Processing sections:  82%|████████▏ | 1843/2255 [21:25<06:35,  1.04section/s]"
     ]
    },
    {
     "name": "stdout",
     "output_type": "stream",
     "text": [
      "Processing section: 1712.07051.tex --> Introduction | Number of chunks: 2\n"
     ]
    },
    {
     "name": "stderr",
     "output_type": "stream",
     "text": [
      "Processing sections:  82%|████████▏ | 1845/2255 [21:26<05:42,  1.20section/s]"
     ]
    },
    {
     "name": "stdout",
     "output_type": "stream",
     "text": [
      "Processing section: 1712.07051.tex --> Formalism | Number of chunks: 2\n"
     ]
    },
    {
     "name": "stderr",
     "output_type": "stream",
     "text": [
      "Processing sections:  82%|████████▏ | 1846/2255 [21:27<06:04,  1.12section/s]"
     ]
    },
    {
     "name": "stdout",
     "output_type": "stream",
     "text": [
      "Processing section: 1712.07051.tex --> Detector and dataset | Number of chunks: 2\n"
     ]
    },
    {
     "name": "stderr",
     "output_type": "stream",
     "text": [
      "Processing sections:  82%|████████▏ | 1847/2255 [21:29<06:48,  1.00s/section]"
     ]
    },
    {
     "name": "stdout",
     "output_type": "stream",
     "text": [
      "Processing section: 1712.07051.tex --> Summary | Number of chunks: 1\n"
     ]
    },
    {
     "name": "stderr",
     "output_type": "stream",
     "text": [
      "Processing sections:  82%|████████▏ | 1848/2255 [21:30<06:36,  1.03section/s]"
     ]
    },
    {
     "name": "stdout",
     "output_type": "stream",
     "text": [
      "Processing section: 2107.09593.tex --> Introduction | Number of chunks: 2\n"
     ]
    },
    {
     "name": "stderr",
     "output_type": "stream",
     "text": [
      "Processing sections:  82%|████████▏ | 1850/2255 [21:31<05:11,  1.30section/s]"
     ]
    },
    {
     "name": "stdout",
     "output_type": "stream",
     "text": [
      "Processing section: 2107.09593.tex --> Detector and simulation | Number of chunks: 1\n"
     ]
    },
    {
     "name": "stderr",
     "output_type": "stream",
     "text": [
      "Processing sections:  82%|████████▏ | 1851/2255 [21:31<04:56,  1.36section/s]"
     ]
    },
    {
     "name": "stdout",
     "output_type": "stream",
     "text": [
      "Processing section: 2107.09593.tex --> Data samples and selection | Number of chunks: 2\n"
     ]
    },
    {
     "name": "stderr",
     "output_type": "stream",
     "text": [
      "Processing sections:  82%|████████▏ | 1852/2255 [21:33<05:47,  1.16section/s]"
     ]
    },
    {
     "name": "stdout",
     "output_type": "stream",
     "text": [
      "Processing section: 2107.09593.tex --> Formalism | Number of chunks: 3\n"
     ]
    },
    {
     "name": "stderr",
     "output_type": "stream",
     "text": [
      "Processing sections:  82%|████████▏ | 1853/2255 [21:34<06:33,  1.02section/s]"
     ]
    },
    {
     "name": "stdout",
     "output_type": "stream",
     "text": [
      "Processing section: 1604.01525.tex --> Introduction | Number of chunks: 2\n"
     ]
    },
    {
     "name": "stderr",
     "output_type": "stream",
     "text": [
      "Processing sections:  82%|████████▏ | 1856/2255 [21:35<04:19,  1.54section/s]"
     ]
    },
    {
     "name": "stdout",
     "output_type": "stream",
     "text": [
      "Processing section: 2302.02886.tex --> Control region fit projections | Number of chunks: 2\n"
     ]
    },
    {
     "name": "stderr",
     "output_type": "stream",
     "text": [
      "Processing sections:  82%|████████▏ | 1858/2255 [21:36<04:15,  1.55section/s]"
     ]
    },
    {
     "name": "stdout",
     "output_type": "stream",
     "text": [
      "Processing section: 2302.02886.tex --> Determination of non-muon background using data | Number of chunks: 2\n"
     ]
    },
    {
     "name": "stderr",
     "output_type": "stream",
     "text": [
      "Processing sections:  82%|████████▏ | 1859/2255 [21:37<04:52,  1.35section/s]"
     ]
    },
    {
     "name": "stdout",
     "output_type": "stream",
     "text": [
      "Processing section: 2103.06810.tex --> Introduction | Number of chunks: 2\n"
     ]
    },
    {
     "name": "stderr",
     "output_type": "stream",
     "text": [
      "Processing sections:  83%|████████▎ | 1861/2255 [21:38<04:28,  1.47section/s]"
     ]
    },
    {
     "name": "stdout",
     "output_type": "stream",
     "text": [
      "Processing section: 2411.03399.tex --> Introduction | Number of chunks: 2\n"
     ]
    },
    {
     "name": "stderr",
     "output_type": "stream",
     "text": [
      "Processing sections:  83%|████████▎ | 1863/2255 [21:39<04:02,  1.61section/s]"
     ]
    },
    {
     "name": "stdout",
     "output_type": "stream",
     "text": [
      "Processing section: 2411.03399.tex --> Selection | Number of chunks: 2\n"
     ]
    },
    {
     "name": "stderr",
     "output_type": "stream",
     "text": [
      "Processing sections:  83%|████████▎ | 1864/2255 [21:41<04:53,  1.33section/s]"
     ]
    },
    {
     "name": "stdout",
     "output_type": "stream",
     "text": [
      "Processing section: 1607.06314.tex --> Introduction | Number of chunks: 1\n"
     ]
    },
    {
     "name": "stderr",
     "output_type": "stream",
     "text": [
      "Processing sections:  83%|████████▎ | 1866/2255 [21:41<03:43,  1.74section/s]"
     ]
    },
    {
     "name": "stdout",
     "output_type": "stream",
     "text": [
      "Processing section: 1607.06314.tex --> Detector and simulation | Number of chunks: 2\n"
     ]
    },
    {
     "name": "stderr",
     "output_type": "stream",
     "text": [
      "Processing sections:  83%|████████▎ | 1867/2255 [21:42<04:33,  1.42section/s]"
     ]
    },
    {
     "name": "stdout",
     "output_type": "stream",
     "text": [
      "Processing section: 1607.06314.tex --> Selection | Number of chunks: 2\n"
     ]
    },
    {
     "name": "stderr",
     "output_type": "stream",
     "text": [
      "Processing sections:  83%|████████▎ | 1868/2255 [21:44<05:11,  1.24section/s]"
     ]
    },
    {
     "name": "stdout",
     "output_type": "stream",
     "text": [
      "Processing section: 1607.06314.tex --> Fit model | Number of chunks: 2\n"
     ]
    },
    {
     "name": "stderr",
     "output_type": "stream",
     "text": [
      "Processing sections:  83%|████████▎ | 1869/2255 [21:45<05:33,  1.16section/s]"
     ]
    },
    {
     "name": "stdout",
     "output_type": "stream",
     "text": [
      "Processing section: 2402.05523.tex --> Introduction | Number of chunks: 2\n"
     ]
    },
    {
     "name": "stderr",
     "output_type": "stream",
     "text": [
      "Processing sections:  83%|████████▎ | 1871/2255 [21:46<04:24,  1.45section/s]"
     ]
    },
    {
     "name": "stdout",
     "output_type": "stream",
     "text": [
      "Processing section: 2407.18001.tex --> Introduction | Number of chunks: 4\n"
     ]
    },
    {
     "name": "stderr",
     "output_type": "stream",
     "text": [
      "Processing sections:  83%|████████▎ | 1873/2255 [21:47<04:40,  1.36section/s]"
     ]
    },
    {
     "name": "stdout",
     "output_type": "stream",
     "text": [
      "Processing section: 2407.18001.tex --> Measurement overview | Number of chunks: 2\n"
     ]
    },
    {
     "name": "stderr",
     "output_type": "stream",
     "text": [
      "Processing sections:  83%|████████▎ | 1874/2255 [21:48<05:07,  1.24section/s]"
     ]
    },
    {
     "name": "stdout",
     "output_type": "stream",
     "text": [
      "Processing section: 2407.18001.tex --> \\lhcb detector | Number of chunks: 1\n"
     ]
    },
    {
     "name": "stderr",
     "output_type": "stream",
     "text": [
      "Processing sections:  83%|████████▎ | 1875/2255 [21:49<04:52,  1.30section/s]"
     ]
    },
    {
     "name": "stdout",
     "output_type": "stream",
     "text": [
      "Processing section: 2407.18001.tex --> Candidate selection | Number of chunks: 3\n"
     ]
    },
    {
     "name": "stderr",
     "output_type": "stream",
     "text": [
      "Processing sections:  83%|████████▎ | 1876/2255 [21:50<05:50,  1.08section/s]"
     ]
    },
    {
     "name": "stdout",
     "output_type": "stream",
     "text": [
      "Processing section: 1608.04855.tex --> Introduction | Number of chunks: 1\n"
     ]
    },
    {
     "name": "stderr",
     "output_type": "stream",
     "text": [
      "Processing sections:  83%|████████▎ | 1878/2255 [21:51<04:15,  1.47section/s]"
     ]
    },
    {
     "name": "stdout",
     "output_type": "stream",
     "text": [
      "Processing section: 1608.04855.tex --> Phenomenology | Number of chunks: 2\n"
     ]
    },
    {
     "name": "stderr",
     "output_type": "stream",
     "text": [
      "Processing sections:  83%|████████▎ | 1879/2255 [21:52<04:57,  1.26section/s]"
     ]
    },
    {
     "name": "stdout",
     "output_type": "stream",
     "text": [
      "Processing section: 1608.04855.tex --> Systematic uncertainties | Number of chunks: 2\n"
     ]
    },
    {
     "name": "stderr",
     "output_type": "stream",
     "text": [
      "Processing sections:  83%|████████▎ | 1880/2255 [21:53<05:14,  1.19section/s]"
     ]
    },
    {
     "name": "stdout",
     "output_type": "stream",
     "text": [
      "Processing section: 1608.04855.tex --> Conclusions | Number of chunks: 2\n"
     ]
    },
    {
     "name": "stderr",
     "output_type": "stream",
     "text": [
      "Processing sections:  83%|████████▎ | 1881/2255 [21:54<05:36,  1.11section/s]"
     ]
    },
    {
     "name": "stdout",
     "output_type": "stream",
     "text": [
      "Processing section: 1201.5600.tex --> Introduction | Number of chunks: 1\n"
     ]
    },
    {
     "name": "stderr",
     "output_type": "stream",
     "text": [
      "Processing sections:  84%|████████▎ | 1883/2255 [21:55<04:02,  1.53section/s]"
     ]
    },
    {
     "name": "stdout",
     "output_type": "stream",
     "text": [
      "Processing section: 2311.15921.tex --> Introduction | Number of chunks: 2\n"
     ]
    },
    {
     "name": "stderr",
     "output_type": "stream",
     "text": [
      "Processing sections:  84%|████████▎ | 1885/2255 [21:56<04:06,  1.50section/s]"
     ]
    },
    {
     "name": "stdout",
     "output_type": "stream",
     "text": [
      "Processing section: 2311.15921.tex --> Detector and dataset | Number of chunks: 2\n"
     ]
    },
    {
     "name": "stderr",
     "output_type": "stream",
     "text": [
      "Processing sections:  84%|████████▎ | 1886/2255 [21:57<04:27,  1.38section/s]"
     ]
    },
    {
     "name": "stdout",
     "output_type": "stream",
     "text": [
      "Processing section: 2311.15921.tex --> Cross-section determination | Number of chunks: 2\n"
     ]
    },
    {
     "name": "stderr",
     "output_type": "stream",
     "text": [
      "Processing sections:  84%|████████▎ | 1887/2255 [21:58<05:03,  1.21section/s]"
     ]
    },
    {
     "name": "stdout",
     "output_type": "stream",
     "text": [
      "Processing section: 2311.15921.tex --> Conclusion | Number of chunks: 2\n"
     ]
    },
    {
     "name": "stderr",
     "output_type": "stream",
     "text": [
      "Processing sections:  84%|████████▎ | 1888/2255 [21:59<05:11,  1.18section/s]"
     ]
    },
    {
     "name": "stdout",
     "output_type": "stream",
     "text": [
      "Processing section: 1501.06777.tex --> Data set and selection | Number of chunks: 2\n"
     ]
    },
    {
     "name": "stderr",
     "output_type": "stream",
     "text": [
      "Processing sections:  84%|████████▍ | 1890/2255 [22:01<04:42,  1.29section/s]"
     ]
    },
    {
     "name": "stdout",
     "output_type": "stream",
     "text": [
      "Processing section: 1501.06777.tex --> Conclusions | Number of chunks: 1\n"
     ]
    },
    {
     "name": "stderr",
     "output_type": "stream",
     "text": [
      "Processing sections:  84%|████████▍ | 1891/2255 [22:01<04:39,  1.30section/s]"
     ]
    },
    {
     "name": "stdout",
     "output_type": "stream",
     "text": [
      "Processing section: 1710.04111.tex --> Introduction | Number of chunks: 1\n"
     ]
    },
    {
     "name": "stderr",
     "output_type": "stream",
     "text": [
      "Processing sections:  84%|████████▍ | 1893/2255 [22:02<03:41,  1.63section/s]"
     ]
    },
    {
     "name": "stdout",
     "output_type": "stream",
     "text": [
      "Processing section: 1710.04111.tex --> Detector and simulation | Number of chunks: 1\n"
     ]
    },
    {
     "name": "stderr",
     "output_type": "stream",
     "text": [
      "Processing sections:  84%|████████▍ | 1894/2255 [22:03<03:36,  1.67section/s]"
     ]
    },
    {
     "name": "stdout",
     "output_type": "stream",
     "text": [
      "Processing section: 1710.04111.tex --> Selection | Number of chunks: 1\n"
     ]
    },
    {
     "name": "stderr",
     "output_type": "stream",
     "text": [
      "Processing sections:  84%|████████▍ | 1895/2255 [22:03<03:39,  1.64section/s]"
     ]
    },
    {
     "name": "stdout",
     "output_type": "stream",
     "text": [
      "Processing section: 1710.04111.tex --> BDT training and calibration | Number of chunks: 2\n"
     ]
    },
    {
     "name": "stderr",
     "output_type": "stream",
     "text": [
      "Processing sections:  84%|████████▍ | 1896/2255 [22:04<04:32,  1.32section/s]"
     ]
    },
    {
     "name": "stdout",
     "output_type": "stream",
     "text": [
      "Processing section: 1710.04111.tex --> Summary | Number of chunks: 1\n"
     ]
    },
    {
     "name": "stderr",
     "output_type": "stream",
     "text": [
      "Processing sections:  84%|████████▍ | 1897/2255 [22:05<04:24,  1.35section/s]"
     ]
    },
    {
     "name": "stdout",
     "output_type": "stream",
     "text": [
      "Processing section: 1906.08302.tex --> $B^+ \\rightarrow D K^+ (D \\rightarrow K^0_{\\text{S}} h^+ h^-)$ analysis | Number of chunks: 2\n"
     ]
    },
    {
     "name": "stderr",
     "output_type": "stream",
     "text": [
      "Processing sections:  84%|████████▍ | 1898/2255 [22:06<05:16,  1.13section/s]"
     ]
    },
    {
     "name": "stdout",
     "output_type": "stream",
     "text": [
      "Processing section: 1210.4112.tex --> Introduction | Number of chunks: 2\n"
     ]
    },
    {
     "name": "stderr",
     "output_type": "stream",
     "text": [
      "Processing sections:  84%|████████▍ | 1900/2255 [22:08<04:39,  1.27section/s]"
     ]
    },
    {
     "name": "stdout",
     "output_type": "stream",
     "text": [
      "Processing section: 1210.4112.tex --> Dataset and selection | Number of chunks: 2\n"
     ]
    },
    {
     "name": "stderr",
     "output_type": "stream",
     "text": [
      "Processing sections:  84%|████████▍ | 1901/2255 [22:09<05:22,  1.10section/s]"
     ]
    },
    {
     "name": "stdout",
     "output_type": "stream",
     "text": [
      "Processing section: 1210.4112.tex --> Systematic uncertainties | Number of chunks: 2\n"
     ]
    },
    {
     "name": "stderr",
     "output_type": "stream",
     "text": [
      "Processing sections:  84%|████████▍ | 1902/2255 [22:10<05:57,  1.01s/section]"
     ]
    },
    {
     "name": "stdout",
     "output_type": "stream",
     "text": [
      "Processing section: 2405.13103.tex --> Detector, data samples, and simulation | Number of chunks: 1\n"
     ]
    },
    {
     "name": "stderr",
     "output_type": "stream",
     "text": [
      "Processing sections:  84%|████████▍ | 1904/2255 [22:11<04:03,  1.44section/s]"
     ]
    },
    {
     "name": "stdout",
     "output_type": "stream",
     "text": [
      "Processing section: 2405.13103.tex --> Selection | Number of chunks: 2\n"
     ]
    },
    {
     "name": "stderr",
     "output_type": "stream",
     "text": [
      "Processing sections:  84%|████████▍ | 1905/2255 [22:12<04:34,  1.27section/s]"
     ]
    },
    {
     "name": "stdout",
     "output_type": "stream",
     "text": [
      "Processing section: 1603.08993.tex --> Introduction | Number of chunks: 4\n"
     ]
    },
    {
     "name": "stderr",
     "output_type": "stream",
     "text": [
      "Processing sections:  85%|████████▍ | 1907/2255 [22:13<04:32,  1.28section/s]"
     ]
    },
    {
     "name": "stdout",
     "output_type": "stream",
     "text": [
      "Processing section: 1603.08993.tex --> Detector and simulation | Number of chunks: 1\n"
     ]
    },
    {
     "name": "stderr",
     "output_type": "stream",
     "text": [
      "Processing sections:  85%|████████▍ | 1908/2255 [22:14<04:12,  1.37section/s]"
     ]
    },
    {
     "name": "stdout",
     "output_type": "stream",
     "text": [
      "Processing section: 1603.08993.tex --> Event selection | Number of chunks: 2\n"
     ]
    },
    {
     "name": "stderr",
     "output_type": "stream",
     "text": [
      "Processing sections:  85%|████████▍ | 1909/2255 [22:15<05:01,  1.15section/s]"
     ]
    },
    {
     "name": "stdout",
     "output_type": "stream",
     "text": [
      "Processing section: 1603.08993.tex --> Signal yields and systematic uncertainties | Number of chunks: 4\n"
     ]
    },
    {
     "name": "stderr",
     "output_type": "stream",
     "text": [
      "Processing sections:  85%|████████▍ | 1910/2255 [22:17<06:04,  1.06s/section]"
     ]
    },
    {
     "name": "stdout",
     "output_type": "stream",
     "text": [
      "Processing section: 1708.05994.tex --> Introduction | Number of chunks: 3\n"
     ]
    },
    {
     "name": "stderr",
     "output_type": "stream",
     "text": [
      "Processing sections:  85%|████████▍ | 1912/2255 [22:18<05:10,  1.10section/s]"
     ]
    },
    {
     "name": "stdout",
     "output_type": "stream",
     "text": [
      "Processing section: 1708.05994.tex --> Detector and simulation | Number of chunks: 1\n"
     ]
    },
    {
     "name": "stderr",
     "output_type": "stream",
     "text": [
      "Processing sections:  85%|████████▍ | 1913/2255 [22:19<04:35,  1.24section/s]"
     ]
    },
    {
     "name": "stdout",
     "output_type": "stream",
     "text": [
      "Processing section: 1212.5205.tex --> Systematic uncertainties | Number of chunks: 2\n"
     ]
    },
    {
     "name": "stderr",
     "output_type": "stream",
     "text": [
      "Processing sections:  85%|████████▍ | 1915/2255 [22:20<03:42,  1.53section/s]"
     ]
    },
    {
     "name": "stdout",
     "output_type": "stream",
     "text": [
      "Processing section: 1212.5205.tex --> Results and summary | Number of chunks: 2\n"
     ]
    },
    {
     "name": "stderr",
     "output_type": "stream",
     "text": [
      "Processing sections:  85%|████████▍ | 1916/2255 [22:21<04:12,  1.34section/s]"
     ]
    },
    {
     "name": "stdout",
     "output_type": "stream",
     "text": [
      "Processing section: 1408.1137.tex --> Introduction | Number of chunks: 1\n"
     ]
    },
    {
     "name": "stderr",
     "output_type": "stream",
     "text": [
      "Processing sections:  85%|████████▌ | 1918/2255 [22:21<03:12,  1.75section/s]"
     ]
    },
    {
     "name": "stdout",
     "output_type": "stream",
     "text": [
      "Processing section: 1408.1137.tex --> Selection of signal candidates | Number of chunks: 3\n"
     ]
    },
    {
     "name": "stderr",
     "output_type": "stream",
     "text": [
      "Processing sections:  85%|████████▌ | 1919/2255 [22:23<04:17,  1.31section/s]"
     ]
    },
    {
     "name": "stdout",
     "output_type": "stream",
     "text": [
      "Processing section: 1408.1137.tex --> Conclusions | Number of chunks: 2\n"
     ]
    },
    {
     "name": "stderr",
     "output_type": "stream",
     "text": [
      "Processing sections:  85%|████████▌ | 1921/2255 [22:24<03:40,  1.51section/s]"
     ]
    },
    {
     "name": "stdout",
     "output_type": "stream",
     "text": [
      "Processing section: 2003.04352.tex --> Introduction | Number of chunks: 1\n"
     ]
    },
    {
     "name": "stderr",
     "output_type": "stream",
     "text": [
      "Processing sections:  85%|████████▌ | 1923/2255 [22:24<02:57,  1.88section/s]"
     ]
    },
    {
     "name": "stdout",
     "output_type": "stream",
     "text": [
      "Processing section: 2003.04352.tex --> Detector, data samples, and simulation | Number of chunks: 1\n"
     ]
    },
    {
     "name": "stderr",
     "output_type": "stream",
     "text": [
      "Processing sections:  85%|████████▌ | 1924/2255 [22:25<03:00,  1.83section/s]"
     ]
    },
    {
     "name": "stdout",
     "output_type": "stream",
     "text": [
      "Processing section: 2003.04352.tex --> Selection and missing mass calculation | Number of chunks: 3\n"
     ]
    },
    {
     "name": "stderr",
     "output_type": "stream",
     "text": [
      "Processing sections:  85%|████████▌ | 1925/2255 [22:26<04:08,  1.33section/s]"
     ]
    },
    {
     "name": "stdout",
     "output_type": "stream",
     "text": [
      "Processing section: 1412.2500.tex --> Detector description and data set | Number of chunks: 1\n"
     ]
    },
    {
     "name": "stderr",
     "output_type": "stream",
     "text": [
      "Processing sections:  85%|████████▌ | 1927/2255 [22:27<03:07,  1.75section/s]"
     ]
    },
    {
     "name": "stdout",
     "output_type": "stream",
     "text": [
      "Processing section: 1412.2500.tex --> Data analysis | Number of chunks: 3\n"
     ]
    },
    {
     "name": "stderr",
     "output_type": "stream",
     "text": [
      "Processing sections:  85%|████████▌ | 1928/2255 [22:28<04:06,  1.33section/s]"
     ]
    },
    {
     "name": "stdout",
     "output_type": "stream",
     "text": [
      "Processing section: 1712.03220.tex --> Introduction | Number of chunks: 3\n"
     ]
    },
    {
     "name": "stderr",
     "output_type": "stream",
     "text": [
      "Processing sections:  86%|████████▌ | 1930/2255 [22:30<03:59,  1.36section/s]"
     ]
    },
    {
     "name": "stdout",
     "output_type": "stream",
     "text": [
      "Processing section: 1712.03220.tex --> Event selection and candidate reconstruction | Number of chunks: 1\n"
     ]
    },
    {
     "name": "stderr",
     "output_type": "stream",
     "text": [
      "Processing sections:  86%|████████▌ | 1931/2255 [22:30<03:49,  1.41section/s]"
     ]
    },
    {
     "name": "stdout",
     "output_type": "stream",
     "text": [
      "Processing section: 1712.03220.tex --> Determination of oscillation parameters | Number of chunks: 2\n"
     ]
    },
    {
     "name": "stderr",
     "output_type": "stream",
     "text": [
      "Processing sections:  86%|████████▌ | 1932/2255 [22:32<04:35,  1.17section/s]"
     ]
    },
    {
     "name": "stdout",
     "output_type": "stream",
     "text": [
      "Processing section: 1712.03220.tex --> Results | Number of chunks: 2\n"
     ]
    },
    {
     "name": "stderr",
     "output_type": "stream",
     "text": [
      "Processing sections:  86%|████████▌ | 1933/2255 [22:33<05:14,  1.02section/s]"
     ]
    },
    {
     "name": "stdout",
     "output_type": "stream",
     "text": [
      "Processing section: 1712.03220.tex --> Summary | Number of chunks: 1\n"
     ]
    },
    {
     "name": "stderr",
     "output_type": "stream",
     "text": [
      "Processing sections:  86%|████████▌ | 1934/2255 [22:34<04:52,  1.10section/s]"
     ]
    },
    {
     "name": "stdout",
     "output_type": "stream",
     "text": [
      "Processing section: 2409.03009.tex --> Systematic uncertainties and cross-checks | Number of chunks: 2\n"
     ]
    },
    {
     "name": "stderr",
     "output_type": "stream",
     "text": [
      "Processing sections:  86%|████████▌ | 1936/2255 [22:35<03:49,  1.39section/s]"
     ]
    },
    {
     "name": "stdout",
     "output_type": "stream",
     "text": [
      "Processing section: 2211.05034.tex --> Systematic uncertainties | Number of chunks: 2\n"
     ]
    },
    {
     "name": "stderr",
     "output_type": "stream",
     "text": [
      "Processing sections:  86%|████████▌ | 1938/2255 [22:36<03:39,  1.44section/s]"
     ]
    },
    {
     "name": "stdout",
     "output_type": "stream",
     "text": [
      "Processing section: 2211.05034.tex --> Summary | Number of chunks: 2\n"
     ]
    },
    {
     "name": "stderr",
     "output_type": "stream",
     "text": [
      "Processing sections:  86%|████████▌ | 1939/2255 [22:37<03:55,  1.34section/s]"
     ]
    },
    {
     "name": "stdout",
     "output_type": "stream",
     "text": [
      "Processing section: 2109.02621.tex --> Introduction | Number of chunks: 2\n"
     ]
    },
    {
     "name": "stderr",
     "output_type": "stream",
     "text": [
      "Processing sections:  86%|████████▌ | 1941/2255 [22:38<03:39,  1.43section/s]"
     ]
    },
    {
     "name": "stdout",
     "output_type": "stream",
     "text": [
      "Processing section: 2109.02621.tex --> Reconstruction and selection of candidates | Number of chunks: 2\n"
     ]
    },
    {
     "name": "stderr",
     "output_type": "stream",
     "text": [
      "Processing sections:  86%|████████▌ | 1942/2255 [22:39<04:04,  1.28section/s]"
     ]
    },
    {
     "name": "stdout",
     "output_type": "stream",
     "text": [
      "Processing section: 2109.02621.tex --> Determination of signal yields | Number of chunks: 2\n"
     ]
    },
    {
     "name": "stderr",
     "output_type": "stream",
     "text": [
      "Processing sections:  86%|████████▌ | 1943/2255 [22:41<04:46,  1.09section/s]"
     ]
    },
    {
     "name": "stdout",
     "output_type": "stream",
     "text": [
      "Processing section: 2109.02621.tex --> Conclusion | Number of chunks: 2\n"
     ]
    },
    {
     "name": "stderr",
     "output_type": "stream",
     "text": [
      "Processing sections:  86%|████████▌ | 1944/2255 [22:42<04:56,  1.05section/s]"
     ]
    },
    {
     "name": "stdout",
     "output_type": "stream",
     "text": [
      "Processing section: 1609.03124.tex --> Event generation and detector simulation | Number of chunks: 1\n"
     ]
    },
    {
     "name": "stderr",
     "output_type": "stream",
     "text": [
      "Processing sections:  86%|████████▋ | 1947/2255 [22:42<02:57,  1.74section/s]"
     ]
    },
    {
     "name": "stdout",
     "output_type": "stream",
     "text": [
      "Processing section: 1609.03124.tex --> Event selection and signal determination | Number of chunks: 2\n"
     ]
    },
    {
     "name": "stderr",
     "output_type": "stream",
     "text": [
      "Processing sections:  86%|████████▋ | 1948/2255 [22:43<03:23,  1.51section/s]"
     ]
    },
    {
     "name": "stdout",
     "output_type": "stream",
     "text": [
      "Processing section: 1609.03124.tex --> Conclusion | Number of chunks: 1\n"
     ]
    },
    {
     "name": "stderr",
     "output_type": "stream",
     "text": [
      "Processing sections:  86%|████████▋ | 1949/2255 [22:44<03:16,  1.56section/s]"
     ]
    },
    {
     "name": "stdout",
     "output_type": "stream",
     "text": [
      "Processing section: 2205.13477.tex --> Introduction | Number of chunks: 1\n"
     ]
    },
    {
     "name": "stderr",
     "output_type": "stream",
     "text": [
      "Processing sections:  87%|████████▋ | 1951/2255 [22:45<02:32,  2.00section/s]"
     ]
    },
    {
     "name": "stdout",
     "output_type": "stream",
     "text": [
      "Processing section: 1901.06222.tex --> Efficiencies and branching fractions ratio | Number of chunks: 2\n"
     ]
    },
    {
     "name": "stderr",
     "output_type": "stream",
     "text": [
      "Processing sections:  87%|████████▋ | 1953/2255 [22:46<02:32,  1.98section/s]"
     ]
    },
    {
     "name": "stdout",
     "output_type": "stream",
     "text": [
      "Processing section: 1901.06222.tex --> Systematic uncertainties | Number of chunks: 2\n"
     ]
    },
    {
     "name": "stderr",
     "output_type": "stream",
     "text": [
      "Processing sections:  87%|████████▋ | 1954/2255 [22:47<03:01,  1.65section/s]"
     ]
    },
    {
     "name": "stdout",
     "output_type": "stream",
     "text": [
      "Processing section: 1901.06222.tex --> Conclusions | Number of chunks: 1\n"
     ]
    },
    {
     "name": "stderr",
     "output_type": "stream",
     "text": [
      "Processing sections:  87%|████████▋ | 1955/2255 [22:47<03:06,  1.61section/s]"
     ]
    },
    {
     "name": "stdout",
     "output_type": "stream",
     "text": [
      "Processing section: 2107.03419.tex --> Introduction | Number of chunks: 1\n"
     ]
    },
    {
     "name": "stderr",
     "output_type": "stream",
     "text": [
      "Processing sections:  87%|████████▋ | 1957/2255 [22:48<02:33,  1.94section/s]"
     ]
    },
    {
     "name": "stdout",
     "output_type": "stream",
     "text": [
      "Processing section: 2107.03419.tex --> Selection of $\\boldmath\\textbf\\Omegab \\to \\Xicp\\Km\\pim$ decays | Number of chunks: 1\n"
     ]
    },
    {
     "name": "stderr",
     "output_type": "stream",
     "text": [
      "Processing sections:  87%|████████▋ | 1958/2255 [22:49<02:45,  1.80section/s]"
     ]
    },
    {
     "name": "stdout",
     "output_type": "stream",
     "text": [
      "Processing section: 1209.4284.tex --> Introduction | Number of chunks: 2\n"
     ]
    },
    {
     "name": "stderr",
     "output_type": "stream",
     "text": [
      "Processing sections:  87%|████████▋ | 1960/2255 [22:50<02:56,  1.67section/s]"
     ]
    },
    {
     "name": "stdout",
     "output_type": "stream",
     "text": [
      "Processing section: 1209.4284.tex --> Selection of signal candidates | Number of chunks: 2\n"
     ]
    },
    {
     "name": "stderr",
     "output_type": "stream",
     "text": [
      "Processing sections:  87%|████████▋ | 1961/2255 [22:51<03:20,  1.47section/s]"
     ]
    },
    {
     "name": "stdout",
     "output_type": "stream",
     "text": [
      "Processing section: 1209.4284.tex --> Systematic uncertainties | Number of chunks: 1\n"
     ]
    },
    {
     "name": "stderr",
     "output_type": "stream",
     "text": [
      "Processing sections:  87%|████████▋ | 1962/2255 [22:52<03:22,  1.45section/s]"
     ]
    },
    {
     "name": "stdout",
     "output_type": "stream",
     "text": [
      "Processing section: 1411.0943.tex --> Introduction | Number of chunks: 3\n"
     ]
    },
    {
     "name": "stderr",
     "output_type": "stream",
     "text": [
      "Processing sections:  87%|████████▋ | 1964/2255 [22:53<03:19,  1.46section/s]"
     ]
    },
    {
     "name": "stdout",
     "output_type": "stream",
     "text": [
      "Processing section: 1209.0282.tex --> \\lhcb detector | Number of chunks: 1\n"
     ]
    },
    {
     "name": "stderr",
     "output_type": "stream",
     "text": [
      "Processing sections:  87%|████████▋ | 1966/2255 [22:54<02:31,  1.90section/s]"
     ]
    },
    {
     "name": "stdout",
     "output_type": "stream",
     "text": [
      "Processing section: 2312.12228.tex --> Introduction | Number of chunks: 2\n"
     ]
    },
    {
     "name": "stderr",
     "output_type": "stream",
     "text": [
      "Processing sections:  87%|████████▋ | 1968/2255 [22:55<02:29,  1.92section/s]"
     ]
    },
    {
     "name": "stdout",
     "output_type": "stream",
     "text": [
      "Processing section: 2312.12228.tex --> Detector and simulation | Number of chunks: 1\n"
     ]
    },
    {
     "name": "stderr",
     "output_type": "stream",
     "text": [
      "Processing sections:  87%|████████▋ | 1969/2255 [22:55<02:36,  1.83section/s]"
     ]
    },
    {
     "name": "stdout",
     "output_type": "stream",
     "text": [
      "Processing section: 2312.12228.tex --> Candidate selection and background sources | Number of chunks: 3\n"
     ]
    },
    {
     "name": "stderr",
     "output_type": "stream",
     "text": [
      "Processing sections:  87%|████████▋ | 1970/2255 [22:57<03:27,  1.37section/s]"
     ]
    },
    {
     "name": "stdout",
     "output_type": "stream",
     "text": [
      "Processing section: 2312.12228.tex --> Invariant-mass fits | Number of chunks: 2\n"
     ]
    },
    {
     "name": "stderr",
     "output_type": "stream",
     "text": [
      "Processing sections:  87%|████████▋ | 1971/2255 [22:58<03:43,  1.27section/s]"
     ]
    },
    {
     "name": "stdout",
     "output_type": "stream",
     "text": [
      "Processing section: 1303.2614.tex --> Method and formalism | Number of chunks: 2\n"
     ]
    },
    {
     "name": "stderr",
     "output_type": "stream",
     "text": [
      "Processing sections:  87%|████████▋ | 1973/2255 [22:59<03:21,  1.40section/s]"
     ]
    },
    {
     "name": "stdout",
     "output_type": "stream",
     "text": [
      "Processing section: 1303.2614.tex --> Data set and selection | Number of chunks: 2\n"
     ]
    },
    {
     "name": "stderr",
     "output_type": "stream",
     "text": [
      "Processing sections:  88%|████████▊ | 1974/2255 [23:00<04:00,  1.17section/s]"
     ]
    },
    {
     "name": "stdout",
     "output_type": "stream",
     "text": [
      "Processing section: 2010.11802.tex --> Introduction | Number of chunks: 2\n"
     ]
    },
    {
     "name": "stderr",
     "output_type": "stream",
     "text": [
      "Processing sections:  88%|████████▊ | 1976/2255 [23:01<03:32,  1.31section/s]"
     ]
    },
    {
     "name": "stdout",
     "output_type": "stream",
     "text": [
      "Processing section: 1701.05274.tex --> Efficiency corrections | Number of chunks: 1\n"
     ]
    },
    {
     "name": "stderr",
     "output_type": "stream",
     "text": [
      "Processing sections:  88%|████████▊ | 1978/2255 [23:02<02:46,  1.66section/s]"
     ]
    },
    {
     "name": "stdout",
     "output_type": "stream",
     "text": [
      "Processing section: 1701.05274.tex --> \\boldmath Results of $R_{\\Xibm/\\Lb}$ and systematic uncertainties | Number of chunks: 2\n"
     ]
    },
    {
     "name": "stderr",
     "output_type": "stream",
     "text": [
      "Processing sections:  88%|████████▊ | 1979/2255 [23:03<03:13,  1.43section/s]"
     ]
    },
    {
     "name": "stdout",
     "output_type": "stream",
     "text": [
      "Processing section: 1701.05274.tex --> Conclusion | Number of chunks: 2\n"
     ]
    },
    {
     "name": "stderr",
     "output_type": "stream",
     "text": [
      "Processing sections:  88%|████████▊ | 1980/2255 [23:04<03:49,  1.20section/s]"
     ]
    },
    {
     "name": "stdout",
     "output_type": "stream",
     "text": [
      "Processing section: 1912.03723.tex --> Introduction | Number of chunks: 4\n"
     ]
    },
    {
     "name": "stderr",
     "output_type": "stream",
     "text": [
      "Processing sections:  88%|████████▊ | 1982/2255 [23:06<03:43,  1.22section/s]"
     ]
    },
    {
     "name": "stdout",
     "output_type": "stream",
     "text": [
      "Processing section: 1912.03723.tex --> Detector and simulation | Number of chunks: 1\n"
     ]
    },
    {
     "name": "stderr",
     "output_type": "stream",
     "text": [
      "Processing sections:  88%|████████▊ | 1983/2255 [23:07<03:40,  1.23section/s]"
     ]
    },
    {
     "name": "stdout",
     "output_type": "stream",
     "text": [
      "Processing section: 1912.03723.tex --> Selection | Number of chunks: 3\n"
     ]
    },
    {
     "name": "stderr",
     "output_type": "stream",
     "text": [
      "Processing sections:  88%|████████▊ | 1984/2255 [23:08<04:19,  1.05section/s]"
     ]
    },
    {
     "name": "stdout",
     "output_type": "stream",
     "text": [
      "Processing section: 1912.03723.tex --> Mass fit | Number of chunks: 1\n"
     ]
    },
    {
     "name": "stderr",
     "output_type": "stream",
     "text": [
      "Processing sections:  88%|████████▊ | 1985/2255 [23:09<04:05,  1.10section/s]"
     ]
    },
    {
     "name": "stdout",
     "output_type": "stream",
     "text": [
      "Processing section: 1912.03723.tex --> Systematic uncertainties | Number of chunks: 2\n"
     ]
    },
    {
     "name": "stderr",
     "output_type": "stream",
     "text": [
      "Processing sections:  88%|████████▊ | 1986/2255 [23:10<04:33,  1.02s/section]"
     ]
    },
    {
     "name": "stdout",
     "output_type": "stream",
     "text": [
      "Processing section: 1912.03723.tex --> Results and conclusion | Number of chunks: 2\n"
     ]
    },
    {
     "name": "stderr",
     "output_type": "stream",
     "text": [
      "Processing sections:  88%|████████▊ | 1987/2255 [23:12<04:47,  1.07s/section]"
     ]
    },
    {
     "name": "stdout",
     "output_type": "stream",
     "text": [
      "Processing section: 1109.6831.tex --> Introduction | Number of chunks: 5\n"
     ]
    },
    {
     "name": "stderr",
     "output_type": "stream",
     "text": [
      "Processing sections:  88%|████████▊ | 1989/2255 [23:14<04:37,  1.04s/section]"
     ]
    },
    {
     "name": "stdout",
     "output_type": "stream",
     "text": [
      "Processing section: 1109.6831.tex --> Summary | Number of chunks: 3\n"
     ]
    },
    {
     "name": "stderr",
     "output_type": "stream",
     "text": [
      "Processing sections:  88%|████████▊ | 1990/2255 [23:15<04:52,  1.11s/section]"
     ]
    },
    {
     "name": "stdout",
     "output_type": "stream",
     "text": [
      "Processing section: 1009.2731.tex --> Introduction | Number of chunks: 2\n"
     ]
    },
    {
     "name": "stderr",
     "output_type": "stream",
     "text": [
      "Processing sections:  88%|████████▊ | 1992/2255 [23:16<03:58,  1.10section/s]"
     ]
    },
    {
     "name": "stdout",
     "output_type": "stream",
     "text": [
      "Processing section: 1009.2731.tex --> \\boldmath Analysis of $D^0\\to K^-\\pi^+$ | Number of chunks: 2\n"
     ]
    },
    {
     "name": "stderr",
     "output_type": "stream",
     "text": [
      "Processing sections:  88%|████████▊ | 1993/2255 [23:17<04:19,  1.01section/s]"
     ]
    },
    {
     "name": "stdout",
     "output_type": "stream",
     "text": [
      "Processing section: 1009.2731.tex --> Conclusions | Number of chunks: 3\n"
     ]
    },
    {
     "name": "stderr",
     "output_type": "stream",
     "text": [
      "Processing sections:  88%|████████▊ | 1994/2255 [23:19<04:32,  1.04s/section]"
     ]
    },
    {
     "name": "stdout",
     "output_type": "stream",
     "text": [
      "Processing section: 2112.12763.tex --> Summary and outlook | Number of chunks: 2\n"
     ]
    },
    {
     "name": "stderr",
     "output_type": "stream",
     "text": [
      "Processing sections:  89%|████████▊ | 1996/2255 [23:20<03:46,  1.14section/s]"
     ]
    },
    {
     "name": "stdout",
     "output_type": "stream",
     "text": [
      "Processing section: 1912.08139.tex --> Introduction | Number of chunks: 3\n"
     ]
    },
    {
     "name": "stderr",
     "output_type": "stream",
     "text": [
      "Processing sections:  89%|████████▊ | 1998/2255 [23:21<03:29,  1.23section/s]"
     ]
    },
    {
     "name": "stdout",
     "output_type": "stream",
     "text": [
      "Processing section: 1912.08139.tex --> Detector and data sets | Number of chunks: 2\n"
     ]
    },
    {
     "name": "stderr",
     "output_type": "stream",
     "text": [
      "Processing sections:  89%|████████▊ | 1999/2255 [23:22<03:38,  1.17section/s]"
     ]
    },
    {
     "name": "stdout",
     "output_type": "stream",
     "text": [
      "Processing section: 1912.08139.tex --> Selection and backgrounds | Number of chunks: 1\n"
     ]
    },
    {
     "name": "stderr",
     "output_type": "stream",
     "text": [
      "Processing sections:  89%|████████▊ | 2000/2255 [23:23<03:24,  1.24section/s]"
     ]
    },
    {
     "name": "stdout",
     "output_type": "stream",
     "text": [
      "Processing section: 1912.08139.tex --> Conclusions | Number of chunks: 2\n"
     ]
    },
    {
     "name": "stderr",
     "output_type": "stream",
     "text": [
      "Processing sections:  89%|████████▊ | 2001/2255 [23:24<03:45,  1.13section/s]"
     ]
    },
    {
     "name": "stdout",
     "output_type": "stream",
     "text": [
      "Processing section: 2206.06673.tex --> Introduction | Number of chunks: 2\n"
     ]
    },
    {
     "name": "stderr",
     "output_type": "stream",
     "text": [
      "Processing sections:  89%|████████▉ | 2003/2255 [23:25<03:14,  1.29section/s]"
     ]
    },
    {
     "name": "stdout",
     "output_type": "stream",
     "text": [
      "Processing section: 2206.06673.tex --> The \\lhcb detector and data samples | Number of chunks: 1\n"
     ]
    },
    {
     "name": "stderr",
     "output_type": "stream",
     "text": [
      "Processing sections:  89%|████████▉ | 2004/2255 [23:26<02:56,  1.42section/s]"
     ]
    },
    {
     "name": "stdout",
     "output_type": "stream",
     "text": [
      "Processing section: 2206.06673.tex --> Candidate selection | Number of chunks: 2\n"
     ]
    },
    {
     "name": "stderr",
     "output_type": "stream",
     "text": [
      "Processing sections:  89%|████████▉ | 2005/2255 [23:27<03:17,  1.27section/s]"
     ]
    },
    {
     "name": "stdout",
     "output_type": "stream",
     "text": [
      "Processing section: 2206.06673.tex --> Signal yield determination | Number of chunks: 2\n"
     ]
    },
    {
     "name": "stderr",
     "output_type": "stream",
     "text": [
      "Processing sections:  89%|████████▉ | 2006/2255 [23:28<03:42,  1.12section/s]"
     ]
    },
    {
     "name": "stdout",
     "output_type": "stream",
     "text": [
      "Processing section: 2206.06673.tex --> Signal yield determination --> Mass fit to the control channel \\boldmath{\\BDkpi} | Number of chunks: 2\n"
     ]
    },
    {
     "name": "stderr",
     "output_type": "stream",
     "text": [
      "Processing sections:  89%|████████▉ | 2007/2255 [23:29<04:13,  1.02s/section]"
     ]
    },
    {
     "name": "stdout",
     "output_type": "stream",
     "text": [
      "Processing section: 1304.6325.tex --> Introduction | Number of chunks: 5\n"
     ]
    },
    {
     "name": "stderr",
     "output_type": "stream",
     "text": [
      "Processing sections:  89%|████████▉ | 2009/2255 [23:31<04:08,  1.01s/section]"
     ]
    },
    {
     "name": "stdout",
     "output_type": "stream",
     "text": [
      "Processing section: 1304.6325.tex --> Selection of signal candidates | Number of chunks: 3\n"
     ]
    },
    {
     "name": "stderr",
     "output_type": "stream",
     "text": [
      "Processing sections:  89%|████████▉ | 2010/2255 [23:33<04:28,  1.10s/section]"
     ]
    },
    {
     "name": "stdout",
     "output_type": "stream",
     "text": [
      "Processing section: 1304.6325.tex --> Angular distribution at large recoil | Number of chunks: 2\n"
     ]
    },
    {
     "name": "stderr",
     "output_type": "stream",
     "text": [
      "Processing sections:  89%|████████▉ | 2011/2255 [23:34<04:38,  1.14s/section]"
     ]
    },
    {
     "name": "stdout",
     "output_type": "stream",
     "text": [
      "Processing section: 2204.12228.tex --> Introduction | Number of chunks: 2\n"
     ]
    },
    {
     "name": "stderr",
     "output_type": "stream",
     "text": [
      "Processing sections:  89%|████████▉ | 2013/2255 [23:35<03:45,  1.07section/s]"
     ]
    },
    {
     "name": "stdout",
     "output_type": "stream",
     "text": [
      "Processing section: 2204.12228.tex --> Event selection | Number of chunks: 2\n"
     ]
    },
    {
     "name": "stderr",
     "output_type": "stream",
     "text": [
      "Processing sections:  89%|████████▉ | 2014/2255 [23:36<03:58,  1.01section/s]"
     ]
    },
    {
     "name": "stdout",
     "output_type": "stream",
     "text": [
      "Processing section: 2204.12228.tex --> Background sources | Number of chunks: 3\n"
     ]
    },
    {
     "name": "stderr",
     "output_type": "stream",
     "text": [
      "Processing sections:  89%|████████▉ | 2015/2255 [23:38<04:15,  1.06s/section]"
     ]
    },
    {
     "name": "stdout",
     "output_type": "stream",
     "text": [
      "Processing section: 1504.04462.tex --> Differential branching fraction | Number of chunks: 3\n"
     ]
    },
    {
     "name": "stderr",
     "output_type": "stream",
     "text": [
      "Processing sections:  89%|████████▉ | 2017/2255 [23:39<03:39,  1.08section/s]"
     ]
    },
    {
     "name": "stdout",
     "output_type": "stream",
     "text": [
      "Processing section: 1504.04462.tex --> Conclusions | Number of chunks: 2\n"
     ]
    },
    {
     "name": "stderr",
     "output_type": "stream",
     "text": [
      "Processing sections:  89%|████████▉ | 2018/2255 [23:40<03:41,  1.07section/s]"
     ]
    },
    {
     "name": "stdout",
     "output_type": "stream",
     "text": [
      "Processing section: 2405.12688.tex --> Conclusion | Number of chunks: 2\n"
     ]
    },
    {
     "name": "stderr",
     "output_type": "stream",
     "text": [
      "Processing sections:  90%|████████▉ | 2020/2255 [23:41<02:59,  1.31section/s]"
     ]
    },
    {
     "name": "stdout",
     "output_type": "stream",
     "text": [
      "Processing section: 1308.1048.tex --> Introduction | Number of chunks: 3\n"
     ]
    },
    {
     "name": "stderr",
     "output_type": "stream",
     "text": [
      "Processing sections:  90%|████████▉ | 2022/2255 [23:43<02:55,  1.33section/s]"
     ]
    },
    {
     "name": "stdout",
     "output_type": "stream",
     "text": [
      "Processing section: 1308.1048.tex --> The LHCb detector and trigger | Number of chunks: 1\n"
     ]
    },
    {
     "name": "stderr",
     "output_type": "stream",
     "text": [
      "Processing sections:  90%|████████▉ | 2023/2255 [23:43<02:59,  1.29section/s]"
     ]
    },
    {
     "name": "stdout",
     "output_type": "stream",
     "text": [
      "Processing section: 1411.1264.tex --> Detector and samples | Number of chunks: 1\n"
     ]
    },
    {
     "name": "stderr",
     "output_type": "stream",
     "text": [
      "Processing sections:  90%|████████▉ | 2025/2255 [23:44<02:16,  1.68section/s]"
     ]
    },
    {
     "name": "stdout",
     "output_type": "stream",
     "text": [
      "Processing section: 1411.1264.tex --> Measurement strategy and event selection | Number of chunks: 1\n"
     ]
    },
    {
     "name": "stderr",
     "output_type": "stream",
     "text": [
      "Processing sections:  90%|████████▉ | 2026/2255 [23:45<02:27,  1.56section/s]"
     ]
    },
    {
     "name": "stdout",
     "output_type": "stream",
     "text": [
      "Processing section: 1411.1264.tex --> Summary | Number of chunks: 2\n"
     ]
    },
    {
     "name": "stderr",
     "output_type": "stream",
     "text": [
      "Processing sections:  90%|████████▉ | 2027/2255 [23:46<02:46,  1.37section/s]"
     ]
    },
    {
     "name": "stdout",
     "output_type": "stream",
     "text": [
      "Processing section: 1509.00414.tex --> Introduction | Number of chunks: 3\n"
     ]
    },
    {
     "name": "stderr",
     "output_type": "stream",
     "text": [
      "Processing sections:  90%|████████▉ | 2029/2255 [23:47<02:39,  1.42section/s]"
     ]
    },
    {
     "name": "stdout",
     "output_type": "stream",
     "text": [
      "Processing section: 1509.00414.tex --> Introduction --> CKM matrix elements | Number of chunks: 2\n"
     ]
    },
    {
     "name": "stderr",
     "output_type": "stream",
     "text": [
      "Processing sections:  90%|█████████ | 2030/2255 [23:48<02:43,  1.37section/s]"
     ]
    },
    {
     "name": "stdout",
     "output_type": "stream",
     "text": [
      "Processing section: 2009.02481.tex --> Introduction | Number of chunks: 2\n"
     ]
    },
    {
     "name": "stderr",
     "output_type": "stream",
     "text": [
      "Processing sections:  90%|█████████ | 2032/2255 [23:49<02:36,  1.43section/s]"
     ]
    },
    {
     "name": "stdout",
     "output_type": "stream",
     "text": [
      "Processing section: 2009.02481.tex --> Conclusion | Number of chunks: 2\n"
     ]
    },
    {
     "name": "stderr",
     "output_type": "stream",
     "text": [
      "Processing sections:  90%|█████████ | 2033/2255 [23:51<03:03,  1.21section/s]"
     ]
    },
    {
     "name": "stdout",
     "output_type": "stream",
     "text": [
      "Processing section: 2105.14738.tex --> Introduction | Number of chunks: 2\n"
     ]
    },
    {
     "name": "stderr",
     "output_type": "stream",
     "text": [
      "Processing sections:  90%|█████████ | 2035/2255 [23:52<02:42,  1.35section/s]"
     ]
    },
    {
     "name": "stdout",
     "output_type": "stream",
     "text": [
      "Processing section: 2105.14738.tex --> Systematic uncertainties | Number of chunks: 1\n"
     ]
    },
    {
     "name": "stderr",
     "output_type": "stream",
     "text": [
      "Processing sections:  90%|█████████ | 2036/2255 [23:52<02:36,  1.40section/s]"
     ]
    },
    {
     "name": "stdout",
     "output_type": "stream",
     "text": [
      "Processing section: 1601.07878.tex --> Introduction | Number of chunks: 2\n"
     ]
    },
    {
     "name": "stderr",
     "output_type": "stream",
     "text": [
      "Processing sections:  90%|█████████ | 2038/2255 [23:54<02:31,  1.43section/s]"
     ]
    },
    {
     "name": "stdout",
     "output_type": "stream",
     "text": [
      "Processing section: 1601.07878.tex --> Detector and datasets | Number of chunks: 1\n"
     ]
    },
    {
     "name": "stderr",
     "output_type": "stream",
     "text": [
      "Processing sections:  90%|█████████ | 2039/2255 [23:55<02:36,  1.38section/s]"
     ]
    },
    {
     "name": "stdout",
     "output_type": "stream",
     "text": [
      "Processing section: 1601.07878.tex --> Signal extraction and efficiencies | Number of chunks: 1\n"
     ]
    },
    {
     "name": "stderr",
     "output_type": "stream",
     "text": [
      "Processing sections:  90%|█████████ | 2040/2255 [23:55<02:26,  1.47section/s]"
     ]
    },
    {
     "name": "stdout",
     "output_type": "stream",
     "text": [
      "Processing section: 1601.07878.tex --> Conclusions | Number of chunks: 2\n"
     ]
    },
    {
     "name": "stderr",
     "output_type": "stream",
     "text": [
      "Processing sections:  91%|█████████ | 2041/2255 [23:56<02:46,  1.29section/s]"
     ]
    },
    {
     "name": "stdout",
     "output_type": "stream",
     "text": [
      "Processing section: 2411.05669.tex --> Introduction | Number of chunks: 1\n"
     ]
    },
    {
     "name": "stderr",
     "output_type": "stream",
     "text": [
      "Processing sections:  91%|█████████ | 2043/2255 [23:57<02:12,  1.60section/s]"
     ]
    },
    {
     "name": "stdout",
     "output_type": "stream",
     "text": [
      "Processing section: 2411.05669.tex --> Conclusions | Number of chunks: 1\n"
     ]
    },
    {
     "name": "stderr",
     "output_type": "stream",
     "text": [
      "Processing sections:  91%|█████████ | 2044/2255 [23:58<02:06,  1.66section/s]"
     ]
    },
    {
     "name": "stdout",
     "output_type": "stream",
     "text": [
      "Processing section: 1110.3970.tex --> Introduction | Number of chunks: 3\n"
     ]
    },
    {
     "name": "stderr",
     "output_type": "stream",
     "text": [
      "Processing sections:  91%|█████████ | 2046/2255 [23:59<02:13,  1.57section/s]"
     ]
    },
    {
     "name": "stdout",
     "output_type": "stream",
     "text": [
      "Processing section: 1110.3970.tex --> Detector, dataset and selection | Number of chunks: 3\n"
     ]
    },
    {
     "name": "stderr",
     "output_type": "stream",
     "text": [
      "Processing sections:  91%|█████████ | 2047/2255 [24:00<02:52,  1.21section/s]"
     ]
    },
    {
     "name": "stdout",
     "output_type": "stream",
     "text": [
      "Processing section: 1311.4823.tex --> Introduction | Number of chunks: 2\n"
     ]
    },
    {
     "name": "stderr",
     "output_type": "stream",
     "text": [
      "Processing sections:  91%|█████████ | 2049/2255 [24:02<02:38,  1.30section/s]"
     ]
    },
    {
     "name": "stdout",
     "output_type": "stream",
     "text": [
      "Processing section: 1311.4823.tex --> Detector description | Number of chunks: 1\n"
     ]
    },
    {
     "name": "stderr",
     "output_type": "stream",
     "text": [
      "Processing sections:  91%|█████████ | 2050/2255 [24:02<02:27,  1.39section/s]"
     ]
    },
    {
     "name": "stdout",
     "output_type": "stream",
     "text": [
      "Processing section: 1311.4823.tex --> Selection criteria | Number of chunks: 2\n"
     ]
    },
    {
     "name": "stderr",
     "output_type": "stream",
     "text": [
      "Processing sections:  91%|█████████ | 2051/2255 [24:04<02:49,  1.21section/s]"
     ]
    },
    {
     "name": "stdout",
     "output_type": "stream",
     "text": [
      "Processing section: 1311.4823.tex --> Determination of signal yields | Number of chunks: 3\n"
     ]
    },
    {
     "name": "stderr",
     "output_type": "stream",
     "text": [
      "Processing sections:  91%|█████████ | 2052/2255 [24:05<03:13,  1.05section/s]"
     ]
    },
    {
     "name": "stdout",
     "output_type": "stream",
     "text": [
      "Processing section: 1311.4823.tex --> Calculation of branching fractions | Number of chunks: 2\n"
     ]
    },
    {
     "name": "stderr",
     "output_type": "stream",
     "text": [
      "Processing sections:  91%|█████████ | 2053/2255 [24:06<03:24,  1.01s/section]"
     ]
    },
    {
     "name": "stdout",
     "output_type": "stream",
     "text": [
      "Processing section: 1311.4823.tex --> Signal significance and fit validation | Number of chunks: 1\n"
     ]
    },
    {
     "name": "stderr",
     "output_type": "stream",
     "text": [
      "Processing sections:  91%|█████████ | 2054/2255 [24:07<03:00,  1.12section/s]"
     ]
    },
    {
     "name": "stdout",
     "output_type": "stream",
     "text": [
      "Processing section: 1311.4823.tex --> Conclusion | Number of chunks: 2\n"
     ]
    },
    {
     "name": "stderr",
     "output_type": "stream",
     "text": [
      "Processing sections:  91%|█████████ | 2055/2255 [24:08<03:22,  1.01s/section]"
     ]
    },
    {
     "name": "stdout",
     "output_type": "stream",
     "text": [
      "Processing section: 1510.01664.tex --> Introduction | Number of chunks: 1\n"
     ]
    },
    {
     "name": "stderr",
     "output_type": "stream",
     "text": [
      "Processing sections:  91%|█████████ | 2057/2255 [24:08<02:13,  1.49section/s]"
     ]
    },
    {
     "name": "stdout",
     "output_type": "stream",
     "text": [
      "Processing section: 1510.01664.tex --> Formalism | Number of chunks: 4\n"
     ]
    },
    {
     "name": "stderr",
     "output_type": "stream",
     "text": [
      "Processing sections:  91%|█████████▏| 2058/2255 [24:10<02:56,  1.11section/s]"
     ]
    },
    {
     "name": "stdout",
     "output_type": "stream",
     "text": [
      "Processing section: 1510.01664.tex --> Detector, selection and simulation | Number of chunks: 2\n"
     ]
    },
    {
     "name": "stderr",
     "output_type": "stream",
     "text": [
      "Processing sections:  91%|█████████▏| 2059/2255 [24:11<03:03,  1.07section/s]"
     ]
    },
    {
     "name": "stdout",
     "output_type": "stream",
     "text": [
      "Processing section: 1510.01664.tex --> Fits | Number of chunks: 5\n"
     ]
    },
    {
     "name": "stderr",
     "output_type": "stream",
     "text": [
      "Processing sections:  91%|█████████▏| 2060/2255 [24:13<04:02,  1.24s/section]"
     ]
    },
    {
     "name": "stdout",
     "output_type": "stream",
     "text": [
      "Processing section: 1510.01664.tex --> Fits --> Overview | Number of chunks: 1\n"
     ]
    },
    {
     "name": "stderr",
     "output_type": "stream",
     "text": [
      "Processing sections:  91%|█████████▏| 2061/2255 [24:14<03:29,  1.08s/section]"
     ]
    },
    {
     "name": "stdout",
     "output_type": "stream",
     "text": [
      "Processing section: 1510.01664.tex --> Fits --> Mixing parameters | Number of chunks: 4\n"
     ]
    },
    {
     "name": "stderr",
     "output_type": "stream",
     "text": [
      "Processing sections:  91%|█████████▏| 2062/2255 [24:15<03:55,  1.22s/section]"
     ]
    },
    {
     "name": "stdout",
     "output_type": "stream",
     "text": [
      "Processing section: 1510.01664.tex --> Systematic uncertainties | Number of chunks: 2\n"
     ]
    },
    {
     "name": "stderr",
     "output_type": "stream",
     "text": [
      "Processing sections:  91%|█████████▏| 2063/2255 [24:16<03:49,  1.19s/section]"
     ]
    },
    {
     "name": "stdout",
     "output_type": "stream",
     "text": [
      "Processing section: 1510.01664.tex --> Conclusions | Number of chunks: 2\n"
     ]
    },
    {
     "name": "stderr",
     "output_type": "stream",
     "text": [
      "Processing sections:  92%|█████████▏| 2064/2255 [24:17<03:35,  1.13s/section]"
     ]
    },
    {
     "name": "stdout",
     "output_type": "stream",
     "text": [
      "Processing section: 1406.7204.tex --> Introduction | Number of chunks: 2\n"
     ]
    },
    {
     "name": "stderr",
     "output_type": "stream",
     "text": [
      "Processing sections:  92%|█████████▏| 2066/2255 [24:19<02:54,  1.08section/s]"
     ]
    },
    {
     "name": "stdout",
     "output_type": "stream",
     "text": [
      "Processing section: 1406.7204.tex --> Detector and data sample | Number of chunks: 2\n"
     ]
    },
    {
     "name": "stderr",
     "output_type": "stream",
     "text": [
      "Processing sections:  92%|█████████▏| 2067/2255 [24:20<02:52,  1.09section/s]"
     ]
    },
    {
     "name": "stdout",
     "output_type": "stream",
     "text": [
      "Processing section: 1406.7204.tex --> \\BTohh lifetime measurements | Number of chunks: 2\n"
     ]
    },
    {
     "name": "stderr",
     "output_type": "stream",
     "text": [
      "Processing sections:  92%|█████████▏| 2068/2255 [24:21<03:08,  1.01s/section]"
     ]
    },
    {
     "name": "stdout",
     "output_type": "stream",
     "text": [
      "Processing section: 1406.7204.tex --> Systematic Studies | Number of chunks: 2\n"
     ]
    },
    {
     "name": "stderr",
     "output_type": "stream",
     "text": [
      "Processing sections:  92%|█████████▏| 2069/2255 [24:22<03:16,  1.06s/section]"
     ]
    },
    {
     "name": "stdout",
     "output_type": "stream",
     "text": [
      "Processing section: 1406.7204.tex --> Results and conclusions | Number of chunks: 2\n"
     ]
    },
    {
     "name": "stderr",
     "output_type": "stream",
     "text": [
      "Processing sections:  92%|█████████▏| 2070/2255 [24:23<03:31,  1.14s/section]"
     ]
    },
    {
     "name": "stdout",
     "output_type": "stream",
     "text": [
      "Processing section: 1806.09707.tex --> Event selection | Number of chunks: 1\n"
     ]
    },
    {
     "name": "stderr",
     "output_type": "stream",
     "text": [
      "Processing sections:  92%|█████████▏| 2072/2255 [24:24<02:24,  1.26section/s]"
     ]
    },
    {
     "name": "stdout",
     "output_type": "stream",
     "text": [
      "Processing section: 1806.09707.tex --> Invariant-mass fits | Number of chunks: 2\n"
     ]
    },
    {
     "name": "stderr",
     "output_type": "stream",
     "text": [
      "Processing sections:  92%|█████████▏| 2073/2255 [24:25<02:39,  1.14section/s]"
     ]
    },
    {
     "name": "stdout",
     "output_type": "stream",
     "text": [
      "Processing section: 1109.0963.tex --> Introduction | Number of chunks: 2\n"
     ]
    },
    {
     "name": "stderr",
     "output_type": "stream",
     "text": [
      "Processing sections:  92%|█████████▏| 2075/2255 [24:26<02:09,  1.39section/s]"
     ]
    },
    {
     "name": "stdout",
     "output_type": "stream",
     "text": [
      "Processing section: 1109.0963.tex --> The LHCb detector and dataset  | Number of chunks: 1\n"
     ]
    },
    {
     "name": "stderr",
     "output_type": "stream",
     "text": [
      "Processing sections:  92%|█████████▏| 2076/2255 [24:27<02:02,  1.46section/s]"
     ]
    },
    {
     "name": "stdout",
     "output_type": "stream",
     "text": [
      "Processing section: 1109.0963.tex --> Event selection and signal yield | Number of chunks: 2\n"
     ]
    },
    {
     "name": "stderr",
     "output_type": "stream",
     "text": [
      "Processing sections:  92%|█████████▏| 2077/2255 [24:28<02:11,  1.35section/s]"
     ]
    },
    {
     "name": "stdout",
     "output_type": "stream",
     "text": [
      "Processing section: 1109.0963.tex --> Conclusions | Number of chunks: 5\n"
     ]
    },
    {
     "name": "stderr",
     "output_type": "stream",
     "text": [
      "Processing sections:  92%|█████████▏| 2078/2255 [24:30<03:08,  1.07s/section]"
     ]
    },
    {
     "name": "stdout",
     "output_type": "stream",
     "text": [
      "Processing section: 1308.5916.tex --> Introduction | Number of chunks: 2\n"
     ]
    },
    {
     "name": "stderr",
     "output_type": "stream",
     "text": [
      "Processing sections:  92%|█████████▏| 2080/2255 [24:31<02:30,  1.16section/s]"
     ]
    },
    {
     "name": "stdout",
     "output_type": "stream",
     "text": [
      "Processing section: 1308.5916.tex --> Branching fractions | Number of chunks: 2\n"
     ]
    },
    {
     "name": "stderr",
     "output_type": "stream",
     "text": [
      "Processing sections:  92%|█████████▏| 2081/2255 [24:32<02:37,  1.10section/s]"
     ]
    },
    {
     "name": "stdout",
     "output_type": "stream",
     "text": [
      "Processing section: 2306.12746.tex --> Introduction | Number of chunks: 2\n"
     ]
    },
    {
     "name": "stderr",
     "output_type": "stream",
     "text": [
      "Processing sections:  92%|█████████▏| 2083/2255 [24:33<02:14,  1.28section/s]"
     ]
    },
    {
     "name": "stdout",
     "output_type": "stream",
     "text": [
      "Processing section: 2306.12746.tex --> Analysis overview | Number of chunks: 1\n"
     ]
    },
    {
     "name": "stderr",
     "output_type": "stream",
     "text": [
      "Processing sections:  92%|█████████▏| 2084/2255 [24:34<02:08,  1.33section/s]"
     ]
    },
    {
     "name": "stdout",
     "output_type": "stream",
     "text": [
      "Processing section: 2306.12746.tex --> LHCb experiment | Number of chunks: 1\n"
     ]
    },
    {
     "name": "stderr",
     "output_type": "stream",
     "text": [
      "Processing sections:  92%|█████████▏| 2085/2255 [24:34<01:58,  1.43section/s]"
     ]
    },
    {
     "name": "stdout",
     "output_type": "stream",
     "text": [
      "Processing section: 2306.12746.tex --> The energy test method | Number of chunks: 1\n"
     ]
    },
    {
     "name": "stderr",
     "output_type": "stream",
     "text": [
      "Processing sections:  93%|█████████▎| 2086/2255 [24:35<01:52,  1.50section/s]"
     ]
    },
    {
     "name": "stdout",
     "output_type": "stream",
     "text": [
      "Processing section: 2306.12746.tex --> Event selection | Number of chunks: 3\n"
     ]
    },
    {
     "name": "stderr",
     "output_type": "stream",
     "text": [
      "Processing sections:  93%|█████████▎| 2087/2255 [24:36<02:28,  1.13section/s]"
     ]
    },
    {
     "name": "stdout",
     "output_type": "stream",
     "text": [
      "Processing section: 1512.00322.tex --> Introduction | Number of chunks: 2\n"
     ]
    },
    {
     "name": "stderr",
     "output_type": "stream",
     "text": [
      "Processing sections:  93%|█████████▎| 2089/2255 [24:37<01:58,  1.40section/s]"
     ]
    },
    {
     "name": "stdout",
     "output_type": "stream",
     "text": [
      "Processing section: 1512.00322.tex --> Detector and simulation | Number of chunks: 2\n"
     ]
    },
    {
     "name": "stderr",
     "output_type": "stream",
     "text": [
      "Processing sections:  93%|█████████▎| 2090/2255 [24:38<02:08,  1.28section/s]"
     ]
    },
    {
     "name": "stdout",
     "output_type": "stream",
     "text": [
      "Processing section: 2301.07010.tex --> Introduction | Number of chunks: 3\n"
     ]
    },
    {
     "name": "stderr",
     "output_type": "stream",
     "text": [
      "Processing sections:  93%|█████████▎| 2092/2255 [24:40<02:03,  1.32section/s]"
     ]
    },
    {
     "name": "stdout",
     "output_type": "stream",
     "text": [
      "Processing section: 2301.07010.tex --> Polarisation sensitivity | Number of chunks: 3\n"
     ]
    },
    {
     "name": "stderr",
     "output_type": "stream",
     "text": [
      "Processing sections:  93%|█████████▎| 2093/2255 [24:41<02:24,  1.12section/s]"
     ]
    },
    {
     "name": "stdout",
     "output_type": "stream",
     "text": [
      "Processing section: 2301.07010.tex --> Summary | Number of chunks: 2\n"
     ]
    },
    {
     "name": "stderr",
     "output_type": "stream",
     "text": [
      "Processing sections:  93%|█████████▎| 2094/2255 [24:42<02:19,  1.15section/s]"
     ]
    },
    {
     "name": "stdout",
     "output_type": "stream",
     "text": [
      "Processing section: 2301.07010.tex --> Matching to the LHCb model | Number of chunks: 3\n"
     ]
    },
    {
     "name": "stderr",
     "output_type": "stream",
     "text": [
      "Processing sections:  93%|█████████▎| 2095/2255 [24:43<02:39,  1.00section/s]"
     ]
    },
    {
     "name": "stdout",
     "output_type": "stream",
     "text": [
      "Processing section: 2301.07010.tex --> Example of extending amplitude models with the polarimeter field | Number of chunks: 3\n"
     ]
    },
    {
     "name": "stderr",
     "output_type": "stream",
     "text": [
      "Processing sections:  93%|█████████▎| 2096/2255 [24:45<02:56,  1.11s/section]"
     ]
    },
    {
     "name": "stdout",
     "output_type": "stream",
     "text": [
      "Processing section: 1210.2631.tex --> Introduction | Number of chunks: 4\n"
     ]
    },
    {
     "name": "stderr",
     "output_type": "stream",
     "text": [
      "Processing sections:  93%|█████████▎| 2098/2255 [24:46<02:32,  1.03section/s]"
     ]
    },
    {
     "name": "stdout",
     "output_type": "stream",
     "text": [
      "Processing section: 1210.2631.tex --> Introduction --> Results | Number of chunks: 2\n"
     ]
    },
    {
     "name": "stderr",
     "output_type": "stream",
     "text": [
      "Processing sections:  93%|█████████▎| 2100/2255 [24:47<02:00,  1.28section/s]"
     ]
    },
    {
     "name": "stdout",
     "output_type": "stream",
     "text": [
      "Processing section: 1210.2631.tex --> Summary | Number of chunks: 3\n"
     ]
    },
    {
     "name": "stderr",
     "output_type": "stream",
     "text": [
      "Processing sections:  93%|█████████▎| 2101/2255 [24:49<02:21,  1.09section/s]"
     ]
    },
    {
     "name": "stdout",
     "output_type": "stream",
     "text": [
      "Processing section: 1509.06628.tex --> Introduction | Number of chunks: 5\n"
     ]
    },
    {
     "name": "stderr",
     "output_type": "stream",
     "text": [
      "Processing sections:  93%|█████████▎| 2103/2255 [24:51<02:19,  1.09section/s]"
     ]
    },
    {
     "name": "stdout",
     "output_type": "stream",
     "text": [
      "Processing section: 1509.06628.tex --> Detector and simulation | Number of chunks: 2\n"
     ]
    },
    {
     "name": "stderr",
     "output_type": "stream",
     "text": [
      "Processing sections:  93%|█████████▎| 2104/2255 [24:52<02:32,  1.01s/section]"
     ]
    },
    {
     "name": "stdout",
     "output_type": "stream",
     "text": [
      "Processing section: 1509.06628.tex --> Signal selection and backgrounds | Number of chunks: 3\n"
     ]
    },
    {
     "name": "stderr",
     "output_type": "stream",
     "text": [
      "Processing sections:  93%|█████████▎| 2105/2255 [24:53<02:47,  1.11s/section]"
     ]
    },
    {
     "name": "stdout",
     "output_type": "stream",
     "text": [
      "Processing section: 1509.06628.tex --> Analysis formalism | Number of chunks: 2\n"
     ]
    },
    {
     "name": "stderr",
     "output_type": "stream",
     "text": [
      "Processing sections:  93%|█████████▎| 2106/2255 [24:55<02:48,  1.13s/section]"
     ]
    },
    {
     "name": "stdout",
     "output_type": "stream",
     "text": [
      "Processing section: 1509.06628.tex --> Analysis formalism --> Isobar models for {\\boldmath\\decay{\\Dz}{\\KSKpi}} | Number of chunks: 2\n"
     ]
    },
    {
     "name": "stderr",
     "output_type": "stream",
     "text": [
      "Processing sections:  93%|█████████▎| 2107/2255 [24:56<02:52,  1.17s/section]"
     ]
    },
    {
     "name": "stdout",
     "output_type": "stream",
     "text": [
      "Processing section: 1307.7648.tex --> Introduction | Number of chunks: 2\n"
     ]
    },
    {
     "name": "stderr",
     "output_type": "stream",
     "text": [
      "Processing sections:  94%|█████████▎| 2109/2255 [24:57<02:18,  1.06section/s]"
     ]
    },
    {
     "name": "stdout",
     "output_type": "stream",
     "text": [
      "Processing section: 1307.7648.tex --> Trigger and event selection | Number of chunks: 3\n"
     ]
    },
    {
     "name": "stderr",
     "output_type": "stream",
     "text": [
      "Processing sections:  94%|█████████▎| 2110/2255 [24:59<02:36,  1.08s/section]"
     ]
    },
    {
     "name": "stdout",
     "output_type": "stream",
     "text": [
      "Processing section: 1307.7648.tex --> Fit model | Number of chunks: 4\n"
     ]
    },
    {
     "name": "stderr",
     "output_type": "stream",
     "text": [
      "Processing sections:  94%|█████████▎| 2111/2255 [25:00<02:53,  1.21s/section]"
     ]
    },
    {
     "name": "stdout",
     "output_type": "stream",
     "text": [
      "Processing section: 1408.0970.tex --> Time-dependent measurements | Number of chunks: 2\n"
     ]
    },
    {
     "name": "stderr",
     "output_type": "stream",
     "text": [
      "Processing sections:  94%|█████████▎| 2113/2255 [25:01<02:11,  1.08section/s]"
     ]
    },
    {
     "name": "stdout",
     "output_type": "stream",
     "text": [
      "Processing section: 2407.11474.tex --> Introduction | Number of chunks: 1\n"
     ]
    },
    {
     "name": "stderr",
     "output_type": "stream",
     "text": [
      "Processing sections:  94%|█████████▍| 2115/2255 [25:02<01:39,  1.40section/s]"
     ]
    },
    {
     "name": "stdout",
     "output_type": "stream",
     "text": [
      "Processing section: 2407.11474.tex --> Candidate selection | Number of chunks: 1\n"
     ]
    },
    {
     "name": "stderr",
     "output_type": "stream",
     "text": [
      "Processing sections:  94%|█████████▍| 2116/2255 [25:03<01:39,  1.40section/s]"
     ]
    },
    {
     "name": "stdout",
     "output_type": "stream",
     "text": [
      "Processing section: 2407.11474.tex --> Normalisation and invariant-mass fit | Number of chunks: 3\n"
     ]
    },
    {
     "name": "stderr",
     "output_type": "stream",
     "text": [
      "Processing sections:  94%|█████████▍| 2117/2255 [25:04<01:59,  1.15section/s]"
     ]
    },
    {
     "name": "stdout",
     "output_type": "stream",
     "text": [
      "Processing section: 2407.11474.tex --> Summary | Number of chunks: 2\n"
     ]
    },
    {
     "name": "stderr",
     "output_type": "stream",
     "text": [
      "Processing sections:  94%|█████████▍| 2119/2255 [25:05<01:35,  1.43section/s]"
     ]
    },
    {
     "name": "stdout",
     "output_type": "stream",
     "text": [
      "Processing section: 1711.02505.tex --> Introduction | Number of chunks: 3\n"
     ]
    },
    {
     "name": "stderr",
     "output_type": "stream",
     "text": [
      "Processing sections:  94%|█████████▍| 2121/2255 [25:07<01:36,  1.38section/s]"
     ]
    },
    {
     "name": "stdout",
     "output_type": "stream",
     "text": [
      "Processing section: 1711.02505.tex --> Detector and simulation | Number of chunks: 2\n"
     ]
    },
    {
     "name": "stderr",
     "output_type": "stream",
     "text": [
      "Processing sections:  94%|█████████▍| 2122/2255 [25:08<01:47,  1.23section/s]"
     ]
    },
    {
     "name": "stdout",
     "output_type": "stream",
     "text": [
      "Processing section: 1711.02505.tex --> Selection criteria and multivariate analysis | Number of chunks: 1\n"
     ]
    },
    {
     "name": "stderr",
     "output_type": "stream",
     "text": [
      "Processing sections:  94%|█████████▍| 2123/2255 [25:08<01:41,  1.30section/s]"
     ]
    },
    {
     "name": "stdout",
     "output_type": "stream",
     "text": [
      "Processing section: 1711.02505.tex --> Systematic uncertainties | Number of chunks: 4\n"
     ]
    },
    {
     "name": "stderr",
     "output_type": "stream",
     "text": [
      "Processing sections:  94%|█████████▍| 2124/2255 [25:10<02:09,  1.01section/s]"
     ]
    },
    {
     "name": "stdout",
     "output_type": "stream",
     "text": [
      "Processing section: 1711.02505.tex --> Systematic uncertainties --> Signal model uncertainties | Number of chunks: 2\n"
     ]
    },
    {
     "name": "stderr",
     "output_type": "stream",
     "text": [
      "Processing sections:  94%|█████████▍| 2125/2255 [25:11<02:10,  1.00s/section]"
     ]
    },
    {
     "name": "stdout",
     "output_type": "stream",
     "text": [
      "Processing section: 1711.02505.tex --> Systematic uncertainties --> Background-related systematic uncertainties | Number of chunks: 1\n"
     ]
    },
    {
     "name": "stderr",
     "output_type": "stream",
     "text": [
      "Processing sections:  94%|█████████▍| 2126/2255 [25:12<02:02,  1.05section/s]"
     ]
    },
    {
     "name": "stdout",
     "output_type": "stream",
     "text": [
      "Processing section: 1711.02505.tex --> Systematic uncertainties --> Uncertainties related to the selection | Number of chunks: 2\n"
     ]
    },
    {
     "name": "stderr",
     "output_type": "stream",
     "text": [
      "Processing sections:  94%|█████████▍| 2127/2255 [25:13<02:05,  1.02section/s]"
     ]
    },
    {
     "name": "stdout",
     "output_type": "stream",
     "text": [
      "Processing section: 1711.02505.tex --> Conclusion | Number of chunks: 2\n"
     ]
    },
    {
     "name": "stderr",
     "output_type": "stream",
     "text": [
      "Processing sections:  94%|█████████▍| 2128/2255 [25:14<02:12,  1.04s/section]"
     ]
    },
    {
     "name": "stdout",
     "output_type": "stream",
     "text": [
      "Processing section: 1205.0934.tex --> Introduction | Number of chunks: 1\n"
     ]
    },
    {
     "name": "stderr",
     "output_type": "stream",
     "text": [
      "Processing sections:  95%|█████████▍| 2131/2255 [25:15<01:14,  1.66section/s]"
     ]
    },
    {
     "name": "stdout",
     "output_type": "stream",
     "text": [
      "Processing section: 1205.0934.tex --> Comparison with $SU(3)$ expectations | Number of chunks: 2\n"
     ]
    },
    {
     "name": "stderr",
     "output_type": "stream",
     "text": [
      "Processing sections:  95%|█████████▍| 2132/2255 [25:16<01:23,  1.47section/s]"
     ]
    },
    {
     "name": "stdout",
     "output_type": "stream",
     "text": [
      "Processing section: 1403.2888.tex --> Introduction | Number of chunks: 3\n"
     ]
    },
    {
     "name": "stderr",
     "output_type": "stream",
     "text": [
      "Processing sections:  95%|█████████▍| 2134/2255 [25:17<01:22,  1.47section/s]"
     ]
    },
    {
     "name": "stdout",
     "output_type": "stream",
     "text": [
      "Processing section: 1601.01495.tex --> Introduction | Number of chunks: 2\n"
     ]
    },
    {
     "name": "stderr",
     "output_type": "stream",
     "text": [
      "Processing sections:  95%|█████████▍| 2136/2255 [25:18<01:19,  1.49section/s]"
     ]
    },
    {
     "name": "stdout",
     "output_type": "stream",
     "text": [
      "Processing section: 1601.01495.tex --> Event selection | Number of chunks: 2\n"
     ]
    },
    {
     "name": "stderr",
     "output_type": "stream",
     "text": [
      "Processing sections:  95%|█████████▍| 2137/2255 [25:20<01:35,  1.24section/s]"
     ]
    },
    {
     "name": "stdout",
     "output_type": "stream",
     "text": [
      "Processing section: 1601.01495.tex --> Summary | Number of chunks: 2\n"
     ]
    },
    {
     "name": "stderr",
     "output_type": "stream",
     "text": [
      "Processing sections:  95%|█████████▍| 2138/2255 [25:21<01:42,  1.14section/s]"
     ]
    },
    {
     "name": "stdout",
     "output_type": "stream",
     "text": [
      "Processing section: 1407.2126.tex --> Data selection | Number of chunks: 2\n"
     ]
    },
    {
     "name": "stderr",
     "output_type": "stream",
     "text": [
      "Processing sections:  95%|█████████▍| 2140/2255 [25:22<01:28,  1.30section/s]"
     ]
    },
    {
     "name": "stdout",
     "output_type": "stream",
     "text": [
      "Processing section: 1412.6352.tex --> Introduction | Number of chunks: 4\n"
     ]
    },
    {
     "name": "stderr",
     "output_type": "stream",
     "text": [
      "Processing sections:  95%|█████████▍| 2142/2255 [25:24<01:27,  1.28section/s]"
     ]
    },
    {
     "name": "stdout",
     "output_type": "stream",
     "text": [
      "Processing section: 1412.6352.tex --> Introduction --> Physics goals of the LHCb experiment | Number of chunks: 2\n"
     ]
    },
    {
     "name": "stderr",
     "output_type": "stream",
     "text": [
      "Processing sections:  95%|█████████▌| 2143/2255 [25:25<01:30,  1.24section/s]"
     ]
    },
    {
     "name": "stdout",
     "output_type": "stream",
     "text": [
      "Processing section: 1412.6352.tex --> Conclusion and outlook | Number of chunks: 2\n"
     ]
    },
    {
     "name": "stderr",
     "output_type": "stream",
     "text": [
      "Processing sections:  95%|█████████▌| 2144/2255 [25:26<01:36,  1.15section/s]"
     ]
    },
    {
     "name": "stdout",
     "output_type": "stream",
     "text": [
      "Processing section: 1209.4029.tex --> Introduction | Number of chunks: 2\n"
     ]
    },
    {
     "name": "stderr",
     "output_type": "stream",
     "text": [
      "Processing sections:  95%|█████████▌| 2146/2255 [25:27<01:23,  1.31section/s]"
     ]
    },
    {
     "name": "stdout",
     "output_type": "stream",
     "text": [
      "Processing section: 1209.4029.tex --> Experimental setup | Number of chunks: 1\n"
     ]
    },
    {
     "name": "stderr",
     "output_type": "stream",
     "text": [
      "Processing sections:  95%|█████████▌| 2147/2255 [25:28<01:21,  1.32section/s]"
     ]
    },
    {
     "name": "stdout",
     "output_type": "stream",
     "text": [
      "Processing section: 1209.4029.tex --> Selection and multivariate classifier | Number of chunks: 1\n"
     ]
    },
    {
     "name": "stderr",
     "output_type": "stream",
     "text": [
      "Processing sections:  95%|█████████▌| 2148/2255 [25:28<01:18,  1.37section/s]"
     ]
    },
    {
     "name": "stdout",
     "output_type": "stream",
     "text": [
      "Processing section: 2010.14485.tex --> Introduction | Number of chunks: 2\n"
     ]
    },
    {
     "name": "stderr",
     "output_type": "stream",
     "text": [
      "Processing sections:  95%|█████████▌| 2150/2255 [25:29<01:10,  1.50section/s]"
     ]
    },
    {
     "name": "stdout",
     "output_type": "stream",
     "text": [
      "Processing section: 2010.14485.tex --> Detector and simulation | Number of chunks: 2\n"
     ]
    },
    {
     "name": "stderr",
     "output_type": "stream",
     "text": [
      "Processing sections:  95%|█████████▌| 2151/2255 [25:31<01:19,  1.31section/s]"
     ]
    },
    {
     "name": "stdout",
     "output_type": "stream",
     "text": [
      "Processing section: 2010.14485.tex --> Selection requirements | Number of chunks: 3\n"
     ]
    },
    {
     "name": "stderr",
     "output_type": "stream",
     "text": [
      "Processing sections:  95%|█████████▌| 2152/2255 [25:32<01:35,  1.08section/s]"
     ]
    },
    {
     "name": "stdout",
     "output_type": "stream",
     "text": [
      "Processing section: 2010.14485.tex --> Systematic uncertainties | Number of chunks: 5\n"
     ]
    },
    {
     "name": "stderr",
     "output_type": "stream",
     "text": [
      "Processing sections:  95%|█████████▌| 2153/2255 [25:34<02:02,  1.20s/section]"
     ]
    },
    {
     "name": "stdout",
     "output_type": "stream",
     "text": [
      "Processing section: 2010.14485.tex --> Systematic uncertainties --> \\boldmath{Production ratio $R(\\Xibm\\pip)$} | Number of chunks: 1\n"
     ]
    },
    {
     "name": "stderr",
     "output_type": "stream",
     "text": [
      "Processing sections:  96%|█████████▌| 2154/2255 [25:35<01:42,  1.01s/section]"
     ]
    },
    {
     "name": "stdout",
     "output_type": "stream",
     "text": [
      "Processing section: 2010.14485.tex --> Systematic uncertainties --> \\boldmath{\\Xibm mass} | Number of chunks: 2\n"
     ]
    },
    {
     "name": "stderr",
     "output_type": "stream",
     "text": [
      "Processing sections:  96%|█████████▌| 2155/2255 [25:36<01:48,  1.08s/section]"
     ]
    },
    {
     "name": "stdout",
     "output_type": "stream",
     "text": [
      "Processing section: 2010.14485.tex --> Summary | Number of chunks: 2\n"
     ]
    },
    {
     "name": "stderr",
     "output_type": "stream",
     "text": [
      "Processing sections:  96%|█████████▌| 2156/2255 [25:37<01:52,  1.14s/section]"
     ]
    },
    {
     "name": "stdout",
     "output_type": "stream",
     "text": [
      "Processing section: 1812.07008.tex --> Introduction | Number of chunks: 2\n"
     ]
    },
    {
     "name": "stderr",
     "output_type": "stream",
     "text": [
      "Processing sections:  96%|█████████▌| 2158/2255 [25:38<01:26,  1.12section/s]"
     ]
    },
    {
     "name": "stdout",
     "output_type": "stream",
     "text": [
      "Processing section: 1812.07008.tex --> Phase-space density and two-body invariant-mass propagators | Number of chunks: 2\n"
     ]
    },
    {
     "name": "stderr",
     "output_type": "stream",
     "text": [
      "Processing sections:  96%|█████████▌| 2159/2255 [25:39<01:30,  1.07section/s]"
     ]
    },
    {
     "name": "stdout",
     "output_type": "stream",
     "text": [
      "Processing section: 1109.4276.tex --> Summary | Number of chunks: 2\n"
     ]
    },
    {
     "name": "stderr",
     "output_type": "stream",
     "text": [
      "Processing sections:  96%|█████████▌| 2161/2255 [25:40<01:14,  1.26section/s]"
     ]
    },
    {
     "name": "stdout",
     "output_type": "stream",
     "text": [
      "Processing section: 1112.1600.tex --> The LHCb detector | Number of chunks: 1\n"
     ]
    },
    {
     "name": "stderr",
     "output_type": "stream",
     "text": [
      "Processing sections:  96%|█████████▌| 2163/2255 [25:41<00:56,  1.64section/s]"
     ]
    },
    {
     "name": "stdout",
     "output_type": "stream",
     "text": [
      "Processing section: 1112.1600.tex --> Analysis strategy | Number of chunks: 1\n"
     ]
    },
    {
     "name": "stderr",
     "output_type": "stream",
     "text": [
      "Processing sections:  96%|█████████▌| 2164/2255 [25:42<00:57,  1.57section/s]"
     ]
    },
    {
     "name": "stdout",
     "output_type": "stream",
     "text": [
      "Processing section: 1112.1600.tex --> Selection | Number of chunks: 1\n"
     ]
    },
    {
     "name": "stderr",
     "output_type": "stream",
     "text": [
      "Processing sections:  96%|█████████▌| 2165/2255 [25:42<00:54,  1.66section/s]"
     ]
    },
    {
     "name": "stdout",
     "output_type": "stream",
     "text": [
      "Processing section: 1112.1600.tex --> Determination of the mass and BDT distributions | Number of chunks: 2\n"
     ]
    },
    {
     "name": "stderr",
     "output_type": "stream",
     "text": [
      "Processing sections:  96%|█████████▌| 2166/2255 [25:43<01:02,  1.43section/s]"
     ]
    },
    {
     "name": "stdout",
     "output_type": "stream",
     "text": [
      "Processing section: 1411.6899.tex --> Introduction | Number of chunks: 2\n"
     ]
    },
    {
     "name": "stderr",
     "output_type": "stream",
     "text": [
      "Processing sections:  96%|█████████▌| 2168/2255 [25:44<00:55,  1.58section/s]"
     ]
    },
    {
     "name": "stdout",
     "output_type": "stream",
     "text": [
      "Processing section: 1411.6899.tex --> Detector and event simulation | Number of chunks: 1\n"
     ]
    },
    {
     "name": "stderr",
     "output_type": "stream",
     "text": [
      "Processing sections:  96%|█████████▌| 2169/2255 [25:45<00:52,  1.63section/s]"
     ]
    },
    {
     "name": "stdout",
     "output_type": "stream",
     "text": [
      "Processing section: 1411.6899.tex --> Event Selection | Number of chunks: 1\n"
     ]
    },
    {
     "name": "stderr",
     "output_type": "stream",
     "text": [
      "Processing sections:  96%|█████████▌| 2170/2255 [25:45<00:49,  1.70section/s]"
     ]
    },
    {
     "name": "stdout",
     "output_type": "stream",
     "text": [
      "Processing section: 1411.6899.tex --> Systematic uncertainties and cross-checks | Number of chunks: 2\n"
     ]
    },
    {
     "name": "stderr",
     "output_type": "stream",
     "text": [
      "Processing sections:  96%|█████████▋| 2171/2255 [25:47<01:02,  1.35section/s]"
     ]
    },
    {
     "name": "stdout",
     "output_type": "stream",
     "text": [
      "Processing section: 1411.6899.tex --> Results and summary | Number of chunks: 2\n"
     ]
    },
    {
     "name": "stderr",
     "output_type": "stream",
     "text": [
      "Processing sections:  96%|█████████▋| 2172/2255 [25:48<01:08,  1.22section/s]"
     ]
    },
    {
     "name": "stdout",
     "output_type": "stream",
     "text": [
      "Processing section: 1701.08705.tex --> Introduction | Number of chunks: 2\n"
     ]
    },
    {
     "name": "stderr",
     "output_type": "stream",
     "text": [
      "Processing sections:  96%|█████████▋| 2174/2255 [25:49<00:56,  1.42section/s]"
     ]
    },
    {
     "name": "stdout",
     "output_type": "stream",
     "text": [
      "Processing section: 1701.08705.tex --> Systematic uncertainties | Number of chunks: 1\n"
     ]
    },
    {
     "name": "stderr",
     "output_type": "stream",
     "text": [
      "Processing sections:  96%|█████████▋| 2175/2255 [25:49<00:53,  1.48section/s]"
     ]
    },
    {
     "name": "stdout",
     "output_type": "stream",
     "text": [
      "Processing section: 1701.08705.tex --> Conclusions | Number of chunks: 2\n"
     ]
    },
    {
     "name": "stderr",
     "output_type": "stream",
     "text": [
      "Processing sections:  96%|█████████▋| 2176/2255 [25:50<01:01,  1.28section/s]"
     ]
    },
    {
     "name": "stdout",
     "output_type": "stream",
     "text": [
      "Processing section: 1305.2168.tex --> Introduction | Number of chunks: 2\n"
     ]
    },
    {
     "name": "stderr",
     "output_type": "stream",
     "text": [
      "Processing sections:  97%|█████████▋| 2178/2255 [25:52<00:54,  1.42section/s]"
     ]
    },
    {
     "name": "stdout",
     "output_type": "stream",
     "text": [
      "Processing section: 1305.2168.tex --> Selection of signal candidates | Number of chunks: 2\n"
     ]
    },
    {
     "name": "stderr",
     "output_type": "stream",
     "text": [
      "Processing sections:  97%|█████████▋| 2179/2255 [25:53<00:58,  1.30section/s]"
     ]
    },
    {
     "name": "stdout",
     "output_type": "stream",
     "text": [
      "Processing section: 1305.2168.tex --> Differential branching fraction | Number of chunks: 2\n"
     ]
    },
    {
     "name": "stderr",
     "output_type": "stream",
     "text": [
      "Processing sections:  97%|█████████▋| 2180/2255 [25:54<01:01,  1.22section/s]"
     ]
    },
    {
     "name": "stdout",
     "output_type": "stream",
     "text": [
      "Processing section: 1305.2168.tex --> Conclusions | Number of chunks: 2\n"
     ]
    },
    {
     "name": "stderr",
     "output_type": "stream",
     "text": [
      "Processing sections:  97%|█████████▋| 2181/2255 [25:55<01:04,  1.15section/s]"
     ]
    },
    {
     "name": "stdout",
     "output_type": "stream",
     "text": [
      "Processing section: 1405.1543.tex --> Introduction | Number of chunks: 1\n"
     ]
    },
    {
     "name": "stderr",
     "output_type": "stream",
     "text": [
      "Processing sections:  97%|█████████▋| 2183/2255 [25:55<00:46,  1.56section/s]"
     ]
    },
    {
     "name": "stdout",
     "output_type": "stream",
     "text": [
      "Processing section: 1405.1543.tex --> Detector and event samples | Number of chunks: 1\n"
     ]
    },
    {
     "name": "stderr",
     "output_type": "stream",
     "text": [
      "Processing sections:  97%|█████████▋| 2184/2255 [25:56<00:45,  1.56section/s]"
     ]
    },
    {
     "name": "stdout",
     "output_type": "stream",
     "text": [
      "Processing section: 1405.1543.tex --> Reconstruction and selection | Number of chunks: 1\n"
     ]
    },
    {
     "name": "stderr",
     "output_type": "stream",
     "text": [
      "Processing sections:  97%|█████████▋| 2185/2255 [25:57<00:45,  1.55section/s]"
     ]
    },
    {
     "name": "stdout",
     "output_type": "stream",
     "text": [
      "Processing section: 1405.1543.tex --> Resolution and efficiency | Number of chunks: 2\n"
     ]
    },
    {
     "name": "stderr",
     "output_type": "stream",
     "text": [
      "Processing sections:  97%|█████████▋| 2186/2255 [25:58<00:55,  1.25section/s]"
     ]
    },
    {
     "name": "stdout",
     "output_type": "stream",
     "text": [
      "Processing section: 1204.1620.tex --> Introduction | Number of chunks: 2\n"
     ]
    },
    {
     "name": "stderr",
     "output_type": "stream",
     "text": [
      "Processing sections:  97%|█████████▋| 2188/2255 [25:59<00:47,  1.40section/s]"
     ]
    },
    {
     "name": "stdout",
     "output_type": "stream",
     "text": [
      "Processing section: 1204.1620.tex --> LHCb detector and Monte Carlo samples | Number of chunks: 1\n"
     ]
    },
    {
     "name": "stderr",
     "output_type": "stream",
     "text": [
      "Processing sections:  97%|█████████▋| 2189/2255 [26:00<00:47,  1.39section/s]"
     ]
    },
    {
     "name": "stdout",
     "output_type": "stream",
     "text": [
      "Processing section: 1204.1620.tex --> Selection of $W$ and $Z$ events | Number of chunks: 1\n"
     ]
    },
    {
     "name": "stderr",
     "output_type": "stream",
     "text": [
      "Processing sections:  97%|█████████▋| 2190/2255 [26:00<00:44,  1.45section/s]"
     ]
    },
    {
     "name": "stdout",
     "output_type": "stream",
     "text": [
      "Processing section: 1508.00788.tex --> Introduction | Number of chunks: 1\n"
     ]
    },
    {
     "name": "stderr",
     "output_type": "stream",
     "text": [
      "Processing sections:  97%|█████████▋| 2192/2255 [26:01<00:33,  1.89section/s]"
     ]
    },
    {
     "name": "stdout",
     "output_type": "stream",
     "text": [
      "Processing section: 1508.00788.tex --> Signal selection | Number of chunks: 3\n"
     ]
    },
    {
     "name": "stderr",
     "output_type": "stream",
     "text": [
      "Processing sections:  97%|█████████▋| 2193/2255 [26:02<00:44,  1.40section/s]"
     ]
    },
    {
     "name": "stdout",
     "output_type": "stream",
     "text": [
      "Processing section: 1508.00788.tex --> Summary | Number of chunks: 2\n"
     ]
    },
    {
     "name": "stderr",
     "output_type": "stream",
     "text": [
      "Processing sections:  97%|█████████▋| 2194/2255 [26:03<00:46,  1.32section/s]"
     ]
    },
    {
     "name": "stdout",
     "output_type": "stream",
     "text": [
      "Processing section: 1212.4755.tex --> Introduction | Number of chunks: 1\n"
     ]
    },
    {
     "name": "stderr",
     "output_type": "stream",
     "text": [
      "Processing sections:  97%|█████████▋| 2196/2255 [26:04<00:33,  1.77section/s]"
     ]
    },
    {
     "name": "stdout",
     "output_type": "stream",
     "text": [
      "Processing section: 1212.4755.tex --> Data analysis | Number of chunks: 5\n"
     ]
    },
    {
     "name": "stderr",
     "output_type": "stream",
     "text": [
      "Processing sections:  97%|█████████▋| 2197/2255 [26:06<00:51,  1.12section/s]"
     ]
    },
    {
     "name": "stdout",
     "output_type": "stream",
     "text": [
      "Processing section: 1212.4755.tex --> Data analysis --> Data and Monte Carlo samples | Number of chunks: 2\n"
     ]
    },
    {
     "name": "stderr",
     "output_type": "stream",
     "text": [
      "Processing sections:  97%|█████████▋| 2198/2255 [26:07<00:54,  1.04section/s]"
     ]
    },
    {
     "name": "stdout",
     "output_type": "stream",
     "text": [
      "Processing section: 1212.4755.tex --> Data analysis --> Event classes | Number of chunks: 1\n"
     ]
    },
    {
     "name": "stderr",
     "output_type": "stream",
     "text": [
      "Processing sections:  98%|█████████▊| 2199/2255 [26:08<00:50,  1.11section/s]"
     ]
    },
    {
     "name": "stdout",
     "output_type": "stream",
     "text": [
      "Processing section: 1212.4755.tex --> Data analysis --> Corrections | Number of chunks: 2\n"
     ]
    },
    {
     "name": "stderr",
     "output_type": "stream",
     "text": [
      "Processing sections:  98%|█████████▊| 2200/2255 [26:09<00:54,  1.02section/s]"
     ]
    },
    {
     "name": "stdout",
     "output_type": "stream",
     "text": [
      "Processing section: 1212.4755.tex --> Results | Number of chunks: 2\n"
     ]
    },
    {
     "name": "stderr",
     "output_type": "stream",
     "text": [
      "Processing sections:  98%|█████████▊| 2201/2255 [26:10<00:55,  1.03s/section]"
     ]
    },
    {
     "name": "stdout",
     "output_type": "stream",
     "text": [
      "Processing section: 1212.4755.tex --> Conclusions | Number of chunks: 2\n"
     ]
    },
    {
     "name": "stderr",
     "output_type": "stream",
     "text": [
      "Processing sections:  98%|█████████▊| 2202/2255 [26:11<00:55,  1.04s/section]"
     ]
    },
    {
     "name": "stdout",
     "output_type": "stream",
     "text": [
      "Processing section: 1403.8044.tex --> Introduction | Number of chunks: 2\n"
     ]
    },
    {
     "name": "stderr",
     "output_type": "stream",
     "text": [
      "Processing sections:  98%|█████████▊| 2204/2255 [26:12<00:44,  1.14section/s]"
     ]
    },
    {
     "name": "stdout",
     "output_type": "stream",
     "text": [
      "Processing section: 1403.8044.tex --> Selection | Number of chunks: 2\n"
     ]
    },
    {
     "name": "stderr",
     "output_type": "stream",
     "text": [
      "Processing sections:  98%|█████████▊| 2205/2255 [26:14<00:46,  1.06section/s]"
     ]
    },
    {
     "name": "stdout",
     "output_type": "stream",
     "text": [
      "Processing section: 2406.17006.tex --> Introduction | Number of chunks: 4\n"
     ]
    },
    {
     "name": "stderr",
     "output_type": "stream",
     "text": [
      "Processing sections:  98%|█████████▊| 2207/2255 [26:15<00:42,  1.14section/s]"
     ]
    },
    {
     "name": "stdout",
     "output_type": "stream",
     "text": [
      "Processing section: 2406.17006.tex --> Detector and simulation | Number of chunks: 3\n"
     ]
    },
    {
     "name": "stderr",
     "output_type": "stream",
     "text": [
      "Processing sections:  98%|█████████▊| 2208/2255 [26:17<00:46,  1.01section/s]"
     ]
    },
    {
     "name": "stdout",
     "output_type": "stream",
     "text": [
      "Processing section: 2406.17006.tex --> Event selection | Number of chunks: 4\n"
     ]
    },
    {
     "name": "stderr",
     "output_type": "stream",
     "text": [
      "Processing sections:  98%|█████████▊| 2209/2255 [26:18<00:52,  1.13s/section]"
     ]
    },
    {
     "name": "stdout",
     "output_type": "stream",
     "text": [
      "Processing section: 1709.03944.tex --> Introduction | Number of chunks: 2\n"
     ]
    },
    {
     "name": "stderr",
     "output_type": "stream",
     "text": [
      "Processing sections:  98%|█████████▊| 2211/2255 [26:19<00:40,  1.08section/s]"
     ]
    },
    {
     "name": "stdout",
     "output_type": "stream",
     "text": [
      "Processing section: 1709.03944.tex --> Detector and event selection | Number of chunks: 3\n"
     ]
    },
    {
     "name": "stderr",
     "output_type": "stream",
     "text": [
      "Processing sections:  98%|█████████▊| 2212/2255 [26:21<00:43,  1.02s/section]"
     ]
    },
    {
     "name": "stdout",
     "output_type": "stream",
     "text": [
      "Processing section: 1709.03944.tex --> Invariant mass fit | Number of chunks: 2\n"
     ]
    },
    {
     "name": "stderr",
     "output_type": "stream",
     "text": [
      "Processing sections:  98%|█████████▊| 2213/2255 [26:22<00:41,  1.00section/s]"
     ]
    },
    {
     "name": "stdout",
     "output_type": "stream",
     "text": [
      "Processing section: 1903.05530.tex --> Detector and simulation | Number of chunks: 1\n"
     ]
    },
    {
     "name": "stderr",
     "output_type": "stream",
     "text": [
      "Processing sections:  98%|█████████▊| 2215/2255 [26:22<00:27,  1.44section/s]"
     ]
    },
    {
     "name": "stdout",
     "output_type": "stream",
     "text": [
      "Processing section: 1903.05530.tex --> Decay amplitude | Number of chunks: 2\n"
     ]
    },
    {
     "name": "stderr",
     "output_type": "stream",
     "text": [
      "Processing sections:  98%|█████████▊| 2216/2255 [26:24<00:33,  1.17section/s]"
     ]
    },
    {
     "name": "stdout",
     "output_type": "stream",
     "text": [
      "Processing section: 1903.05530.tex --> Selection requirements | Number of chunks: 2\n"
     ]
    },
    {
     "name": "stderr",
     "output_type": "stream",
     "text": [
      "Processing sections:  98%|█████████▊| 2217/2255 [26:25<00:32,  1.17section/s]"
     ]
    },
    {
     "name": "stdout",
     "output_type": "stream",
     "text": [
      "Processing section: 1903.05530.tex --> Conclusions | Number of chunks: 16\n"
     ]
    },
    {
     "name": "stderr",
     "output_type": "stream",
     "text": [
      "Processing sections:  98%|█████████▊| 2218/2255 [26:31<01:26,  2.34s/section]"
     ]
    },
    {
     "name": "stdout",
     "output_type": "stream",
     "text": [
      "Processing section: 1309.0587.tex --> Detector and software | Number of chunks: 1\n"
     ]
    },
    {
     "name": "stderr",
     "output_type": "stream",
     "text": [
      "Processing sections:  98%|█████████▊| 2220/2255 [26:32<00:51,  1.48s/section]"
     ]
    },
    {
     "name": "stdout",
     "output_type": "stream",
     "text": [
      "Processing section: 1309.0587.tex --> Candidate selection | Number of chunks: 2\n"
     ]
    },
    {
     "name": "stderr",
     "output_type": "stream",
     "text": [
      "Processing sections:  98%|█████████▊| 2221/2255 [26:33<00:46,  1.36s/section]"
     ]
    },
    {
     "name": "stdout",
     "output_type": "stream",
     "text": [
      "Processing section: 1309.0587.tex --> Results and summary  | Number of chunks: 2\n"
     ]
    },
    {
     "name": "stderr",
     "output_type": "stream",
     "text": [
      "Processing sections:  99%|█████████▊| 2222/2255 [26:34<00:42,  1.29s/section]"
     ]
    },
    {
     "name": "stdout",
     "output_type": "stream",
     "text": [
      "Processing section: 1810.07655.tex --> Introduction | Number of chunks: 2\n"
     ]
    },
    {
     "name": "stderr",
     "output_type": "stream",
     "text": [
      "Processing sections:  99%|█████████▊| 2224/2255 [26:35<00:31,  1.01s/section]"
     ]
    },
    {
     "name": "stdout",
     "output_type": "stream",
     "text": [
      "Processing section: 1810.07655.tex --> Detector description and data samples | Number of chunks: 2\n"
     ]
    },
    {
     "name": "stderr",
     "output_type": "stream",
     "text": [
      "Processing sections:  99%|█████████▊| 2225/2255 [26:36<00:30,  1.03s/section]"
     ]
    },
    {
     "name": "stdout",
     "output_type": "stream",
     "text": [
      "Processing section: 1810.07655.tex --> Definition of the observables | Number of chunks: 3\n"
     ]
    },
    {
     "name": "stderr",
     "output_type": "stream",
     "text": [
      "Processing sections:  99%|█████████▊| 2226/2255 [26:37<00:32,  1.13s/section]"
     ]
    },
    {
     "name": "stdout",
     "output_type": "stream",
     "text": [
      "Processing section: 1810.07655.tex --> Summary | Number of chunks: 1\n"
     ]
    },
    {
     "name": "stderr",
     "output_type": "stream",
     "text": [
      "Processing sections:  99%|█████████▉| 2227/2255 [26:38<00:26,  1.04section/s]"
     ]
    },
    {
     "name": "stdout",
     "output_type": "stream",
     "text": [
      "Processing section: 1212.1045.tex --> Introduction | Number of chunks: 1\n"
     ]
    },
    {
     "name": "stderr",
     "output_type": "stream",
     "text": [
      "Processing sections:  99%|█████████▉| 2229/2255 [26:39<00:17,  1.46section/s]"
     ]
    },
    {
     "name": "stdout",
     "output_type": "stream",
     "text": [
      "Processing section: 2210.10412.tex --> Introduction | Number of chunks: 2\n"
     ]
    },
    {
     "name": "stderr",
     "output_type": "stream",
     "text": [
      "Processing sections:  99%|█████████▉| 2231/2255 [26:40<00:16,  1.47section/s]"
     ]
    },
    {
     "name": "stdout",
     "output_type": "stream",
     "text": [
      "Processing section: 2201.10167.tex --> Introduction | Number of chunks: 2\n"
     ]
    },
    {
     "name": "stderr",
     "output_type": "stream",
     "text": [
      "Processing sections:  99%|█████████▉| 2233/2255 [26:41<00:14,  1.50section/s]"
     ]
    },
    {
     "name": "stdout",
     "output_type": "stream",
     "text": [
      "Processing section: 2201.10167.tex --> Conclusion | Number of chunks: 2\n"
     ]
    },
    {
     "name": "stderr",
     "output_type": "stream",
     "text": [
      "Processing sections:  99%|█████████▉| 2234/2255 [26:43<00:16,  1.25section/s]"
     ]
    },
    {
     "name": "stdout",
     "output_type": "stream",
     "text": [
      "Processing section: 1905.06662.tex --> Introduction | Number of chunks: 2\n"
     ]
    },
    {
     "name": "stderr",
     "output_type": "stream",
     "text": [
      "Processing sections:  99%|█████████▉| 2236/2255 [26:44<00:13,  1.36section/s]"
     ]
    },
    {
     "name": "stdout",
     "output_type": "stream",
     "text": [
      "Processing section: 1905.06662.tex --> Systematic uncertainties of the amplitude analysis | Number of chunks: 1\n"
     ]
    },
    {
     "name": "stderr",
     "output_type": "stream",
     "text": [
      "Processing sections:  99%|█████████▉| 2237/2255 [26:45<00:12,  1.43section/s]"
     ]
    },
    {
     "name": "stdout",
     "output_type": "stream",
     "text": [
      "Processing section: 1905.06662.tex --> Summary and final considerations | Number of chunks: 17\n"
     ]
    },
    {
     "name": "stderr",
     "output_type": "stream",
     "text": [
      "Processing sections:  99%|█████████▉| 2238/2255 [26:51<00:35,  2.10s/section]"
     ]
    },
    {
     "name": "stdout",
     "output_type": "stream",
     "text": [
      "Processing section: 1202.6579.tex --> The LHCb detector and data | Number of chunks: 1\n"
     ]
    },
    {
     "name": "stderr",
     "output_type": "stream",
     "text": [
      "Processing sections:  99%|█████████▉| 2240/2255 [26:52<00:21,  1.41s/section]"
     ]
    },
    {
     "name": "stdout",
     "output_type": "stream",
     "text": [
      "Processing section: 1202.6579.tex --> Cross-section determination | Number of chunks: 1\n"
     ]
    },
    {
     "name": "stderr",
     "output_type": "stream",
     "text": [
      "Processing sections:  99%|█████████▉| 2241/2255 [26:53<00:18,  1.31s/section]"
     ]
    },
    {
     "name": "stdout",
     "output_type": "stream",
     "text": [
      "Processing section: 1403.1339.tex --> Introduction | Number of chunks: 2\n"
     ]
    },
    {
     "name": "stderr",
     "output_type": "stream",
     "text": [
      "Processing sections:  99%|█████████▉| 2243/2255 [26:54<00:12,  1.03s/section]"
     ]
    },
    {
     "name": "stdout",
     "output_type": "stream",
     "text": [
      "Processing section: 1403.1339.tex --> LHCb detector and data sample | Number of chunks: 1\n"
     ]
    },
    {
     "name": "stderr",
     "output_type": "stream",
     "text": [
      "Processing sections: 100%|█████████▉| 2244/2255 [26:55<00:10,  1.07section/s]"
     ]
    },
    {
     "name": "stdout",
     "output_type": "stream",
     "text": [
      "Processing section: 1403.1339.tex --> Conclusion | Number of chunks: 2\n"
     ]
    },
    {
     "name": "stderr",
     "output_type": "stream",
     "text": [
      "Processing sections: 100%|█████████▉| 2245/2255 [26:56<00:09,  1.03section/s]"
     ]
    },
    {
     "name": "stdout",
     "output_type": "stream",
     "text": [
      "Processing section: 2405.00098.tex --> Introduction | Number of chunks: 2\n"
     ]
    },
    {
     "name": "stderr",
     "output_type": "stream",
     "text": [
      "Processing sections: 100%|█████████▉| 2247/2255 [26:57<00:06,  1.27section/s]"
     ]
    },
    {
     "name": "stdout",
     "output_type": "stream",
     "text": [
      "Processing section: 2405.00098.tex --> Amplitude analysis formalism | Number of chunks: 3\n"
     ]
    },
    {
     "name": "stderr",
     "output_type": "stream",
     "text": [
      "Processing sections: 100%|█████████▉| 2248/2255 [26:58<00:06,  1.10section/s]"
     ]
    },
    {
     "name": "stdout",
     "output_type": "stream",
     "text": [
      "Processing section: 2405.00098.tex --> Amplitude analysis formalism --> Amplitude model | Number of chunks: 2\n"
     ]
    },
    {
     "name": "stderr",
     "output_type": "stream",
     "text": [
      "Processing sections: 100%|█████████▉| 2249/2255 [26:59<00:05,  1.02section/s]"
     ]
    },
    {
     "name": "stdout",
     "output_type": "stream",
     "text": [
      "Processing section: 2405.00098.tex --> Amplitude analysis formalism --> Systematic uncertainties | Number of chunks: 1\n"
     ]
    },
    {
     "name": "stderr",
     "output_type": "stream",
     "text": [
      "Processing sections: 100%|█████████▉| 2250/2255 [27:00<00:04,  1.13section/s]"
     ]
    },
    {
     "name": "stdout",
     "output_type": "stream",
     "text": [
      "Processing section: 2405.00098.tex --> Branching fraction measurement | Number of chunks: 2\n"
     ]
    },
    {
     "name": "stderr",
     "output_type": "stream",
     "text": [
      "Processing sections: 100%|█████████▉| 2251/2255 [27:01<00:03,  1.05section/s]"
     ]
    },
    {
     "name": "stdout",
     "output_type": "stream",
     "text": [
      "Processing section: 1308.4583.tex --> Introduction | Number of chunks: 2\n"
     ]
    },
    {
     "name": "stderr",
     "output_type": "stream",
     "text": [
      "Processing sections: 100%|█████████▉| 2253/2255 [27:02<00:01,  1.24section/s]"
     ]
    },
    {
     "name": "stdout",
     "output_type": "stream",
     "text": [
      "Processing section: 1308.4583.tex --> Systematic uncertainties | Number of chunks: 1\n"
     ]
    },
    {
     "name": "stderr",
     "output_type": "stream",
     "text": [
      "Processing sections: 100%|█████████▉| 2254/2255 [27:03<00:00,  1.42section/s]"
     ]
    },
    {
     "name": "stdout",
     "output_type": "stream",
     "text": [
      "Processing section: 1308.4583.tex --> Results and conclusions | Number of chunks: 2\n"
     ]
    },
    {
     "name": "stderr",
     "output_type": "stream",
     "text": [
      "Processing sections: 100%|██████████| 2255/2255 [27:03<00:00,  1.39section/s]\n"
     ]
    }
   ],
   "source": [
    "for section in tqdm(needs_abstract, desc=\"Processing sections\", unit=\"section\"):\n",
    "    # Dont try to summarize Headers, its just a bunch of LaTeX junk\n",
    "    if section.title == \"Headers\":\n",
    "        continue\n",
    "    # Don't re-generate an abstract\n",
    "    if section.abstract is not None:\n",
    "        continue\n",
    "    location = section.title\n",
    "    parent = section.parent\n",
    "    while not (parent is None):\n",
    "        location = f\"{parent.title} --> {location}\"\n",
    "        parent = parent.parent\n",
    "\n",
    "    string = section.text\n",
    "    chunked_string, num_tokens = split_into_chunks(string)\n",
    "    # The text excerpt is too small to justify generating an abstract\n",
    "    if num_tokens < 300:\n",
    "        continue\n",
    "    \n",
    "    tqdm.write(f\"Processing section: {location} | Number of chunks: {len(chunked_string)}\")\n",
    "    \n",
    "    summaries = summarizer(chunked_string, max_length = max(MAX_SUMMARY_LENGTH // len(chunked_string), 40), min_length = 5, length_penalty = 5.0, do_sample = True, temperature = 0.25)\n",
    "    section.abstract = \"\".join([summary['summary_text'] + \" \" for summary in summaries])"
   ]
  },
  {
   "cell_type": "code",
   "execution_count": 19,
   "metadata": {},
   "outputs": [],
   "source": [
    "needs_abstract[i].abstract = None"
   ]
  },
  {
   "cell_type": "code",
   "execution_count": 52,
   "metadata": {},
   "outputs": [
    {
     "name": "stdout",
     "output_type": "stream",
     "text": [
      "Signal selection and data analysis\n",
      "\n",
      "\\label{sec:ana}\n",
      "\n",
      "The signal selection is largely performed at the trigger level. \n",
      "The offline analysis, in addition, requires the transverse momentum of \\proton and \\antiproton to be \n",
      "$\\pt > 2.0 \\gevc$, and restricts charmonium candidates to the rapidity range $2.0 < y < 4.5$. \n",
      "\n",
      "Discrimination between promptly produced charmonium candidates and those from \n",
      "$b$-hadron decays is achieved using the pseudo-decay time $t_{z} = \\Delta z \\cdot M / p_z$, \n",
      "where $\\Delta z$ is the distance along the beam axis between \n",
      "the corresponding \\proton\\proton collision vertex (primary vertex) \n",
      "and the candidate decay vertex, $M$ is the candidate mass, and $p_z$ is the longitudinal component \n",
      "of its momentum. \n",
      "Candidates with $t_{z} < 80 \\fs$ are classified as prompt, while those \n",
      "with $t_{z} > 80 \\fs$ are classified as having originated from \\bquark-hadron decays. \n",
      "For charmonium candidates from \\bquark-hadron decays, a significant displacement \n",
      "of the proton tracks with respect to the primary vertex is also required. \n",
      "\n",
      "The selected samples of prompt charmonium candidates and charmonia from \\bquark-hadron decays  \n",
      "have some candidates wrongly classified \n",
      "(cross-feed). \n",
      "The cross-feed probability is estimated using simulated samples and is scaled using the observed \n",
      "signal candidate yields in data. \n",
      "The cross-feed component is subtracted to obtain the ratio of produced $\\etac (1S)$ and \\jpsi mesons \n",
      "decaying into the \\proton\\antiproton final state. \n",
      "Corrections range from 2\\% to 3\\% for the ratio of promptly produced $\\etac (1S)$ and \\jpsi mesons, \n",
      "and from 8\\% to 10\\% for the ratio of charmonia produced in \\bquark-hadron decays. \n",
      "\n",
      "The ratios of signal yields are expressed in terms of \n",
      "ratios of cross-sections multiplied by the decay branching fractions as \n",
      "\\begin{align*}\n",
      " \\frac{N^{P}_{\\etac (1S)}}{N^{P}_{\\jpsi}} &= \\frac{\\sigma(\\etac (1S)) \\times \\BF ( \\etac (1S) \\to \\proton\\antiproton )} \n",
      " {\\sigma(\\jpsi) \\times \\BF ( \\jpsi\\to \\proton\\antiproton )}  , \\\\  \n",
      " \\frac{N^{b}_{\\etac (1S)}}{N^{b}_{\\jpsi}} &= \\frac{\\BF ( \\bquark \\to \\etac (1S) X ) \\times \\BF ( \\etac (1S) \\to \\proton\\antiproton )}\n",
      " {\\BF ( \\bquark \\to \\jpsi X ) \\times \\BF ( \\jpsi \\to \\proton\\antiproton )} ,\n",
      "\\end{align*}\n",
      "where $N^P$ and $N^b$ are the numbers of charmonia \n",
      "from prompt production and \\bquark-hadron decays, respectively. \n",
      "The simulation describes the kinematic-related differences between the $\\etac (1S)$ and \\jpsi decay modes reasonably well \n",
      "and predicts that the relative efficiencies for selecting and reconstructing $\\etac (1S)$ and \\jpsi mesons differ by less than 0.5\\%.\n",
      "Equal efficiencies are assumed for the $\\etac (1S)$ and \\jpsi meson reconstruction and selection criteria. \n",
      "The efficiency for selecting and reconstructing prompt \\jpsi mesons \n",
      "is corrected for polarization effects, \n",
      "as a function of rapidity and \\pt, according to Ref. . \n",
      "\n",
      "The numbers of reconstructed $\\etac (1S)$ and \\jpsi candidates are extracted \n",
      "from an extended maximum likelihood fit to the unbinned \\proton\\antiproton invariant mass distribution. \n",
      "The \\jpsi peak position $M_{\\jpsi}$ and the mass difference $\\Delta M_{\\jpsi , \\etac (1S)}$ are fitted \n",
      "in the sample of charmonia from \\bquark-hadron decays, \n",
      "where the signal is more prominent because of the reduced background level due to charmonium decay-vertex \n",
      "displacement requirements. \n",
      "The results are then used to apply Gaussian constraints in the fit \n",
      "to the \\proton\\antiproton invariant mass spectrum in the prompt production analysis, \n",
      "where the signal-to-background ratio is smaller, due to large combinatorial backgrounds. \n",
      "\n",
      "The signal shape is defined by the detector response, combined with the natural width in the case of the $\\etac (1S)$ resonance. \n",
      "The detector response is described using two Gaussian functions with a common mean value. \n",
      "In the description of each resonance, \n",
      "the ratio of narrow to wide Gaussian widths, $\\sigma^a_{\\jpsi} / \\sigma^b_{\\jpsi} = \\sigma^a_{\\etac (1S)} / \\sigma^b_{\\etac (1S)}$, \n",
      "the fraction of the narrow Gaussian component, \n",
      "and the ratio of the $\\etac (1S)$ and \\jpsi narrow Gaussian widths, \n",
      "$\\sigma^a_{\\etac (1S)}/\\sigma^a_{\\jpsi}$, \n",
      "are fixed in the fit to the values observed in simulation. \n",
      "The only resolution parameter left free in the fit \n",
      "to the low-background sample from \\bquark-hadron decays, $\\sigma^a_{\\jpsi}$, \n",
      "is fixed to its central value in the fit to the prompt sample. \n",
      "The natural width $\\Gamma_{\\etac (1S)}$ of the $\\etac (1S)$ resonance is also extracted \n",
      "from the fit to the \\bquark-hadron decays sample, \n",
      "and is fixed to that value in the prompt production analysis. \n",
      "Gaussian constraints on the \\jpsi meson mass and the $\\Delta M_{\\jpsi , \\, \\etac (1S)}$ mass difference \n",
      "from the fit to the \\bquark-hadron decays sample are applied in the prompt production analysis. \n",
      "The fit with free mass values gives consistent results. \n",
      "\n",
      "The combinatorial background is parametrized by an exponential function \n",
      "in the fit of the sample \n",
      "from \\bquark-hadron decays, \n",
      "and by a third-order polynomial in the fit to the prompt sample. \n",
      "\n",
      "Combinations of \\proton\\antiproton from the decay $\\jpsi \\to \\proton\\antiproton \\piz$ \n",
      "potentially affect the region close to the $\\etac (1S)$ signal; \n",
      "hence, this contribution is specifically included in the background description. \n",
      "It produces a non-peaking contribution, \n",
      "and its mass distribution is described by a square-root shape to account for the phase space available \n",
      "to the \\proton\\antiproton system from the $\\jpsi \\to \\proton\\antiproton \\piz$ decay, \n",
      "convolved with two Gaussian functions to account for the detector mass resolution. \n",
      "In the fit to the \\proton\\antiproton invariant mass spectrum, \n",
      "the normalization of this contribution is fixed \n",
      "using the number of candidates found in the \\jpsi signal peak \n",
      "and the ratios of branching fractions and efficiencies \n",
      "for the $\\jpsi \\to \\proton\\antiproton \\piz$ and $\\jpsi \\to \\proton\\antiproton$ decay modes. \n",
      "\n",
      "The \\proton\\antiproton invariant mass spectra for charmonium candidates from \\bquark-hadron decays \n",
      "in the 7\\tev and 8\\tev data are observed to be \n",
      "consistent. \n",
      "The two data samples are therefore combined and the resulting \n",
      "spectrum is shown in Fig.  with the fit overlaid. \n",
      "\n",
      "The \\pt dependence of the $\\etac (1S)$ production rate exhibits similar behaviour to the \\jpsi meson rate \n",
      "in the kinematic region studied. \n",
      "\n",
      "The performance of the \\lhcb tracking system and the use of a final state common to \\jpsi and $\\etac (1S)$ decays \n",
      "allows a precise measurement of the mass difference between the two mesons.\n",
      "In order to measure the $\\etac (1S)$ mass relative to the well-reconstructed and well-known \\jpsi mass, \n",
      "a momentum scale calibration  is applied on data, and validated with the \\jpsi mass measurement. \n",
      "The $M_{\\jpsi}$ and $\\Delta M _{\\jpsi , \\, \\etac (1S)}$ values are extracted from the fit to the \\proton\\antiproton invariant mass \n",
      "in the low-background sample of charmonium candidates produced in \\bquark-hadron decays (Fig. ). \n",
      "The \\jpsi mass measurement, $M_{\\jpsi} = 3096.66 \\pm 0.19 \\pm 0.02$ \\mevcc, \n",
      "agrees well with the average from Ref. . \n",
      "The mass difference is measured to be \n",
      "\\[\n",
      "\\Delta M_{\\jpsi , \\, \\etac (1S)} = 114.7 \\pm 1.5 \\pm 0.1 \\, \\mevcc . \n",
      "\\]\n",
      "The systematic uncertainty is dominated by the parametrization of the $\\jpsi \\to \\proton \\antiproton \\piz$ contribution. \n",
      "The mass difference agrees with the average from Ref. . \n",
      "In addition, the $\\etac (1S)$ natural width \n",
      "is obtained from the fit to the \\proton\\antiproton invariant mass (Fig. ), \n",
      "$\\Gamma_{\\etac (1S)} = 25.8 \\pm 5.2 \\pm 1.9 \\mev$. \n",
      "The systematic uncertainty \n",
      "is dominated by knowledge of the detector mass resolution. \n",
      "The value of $\\Gamma_{\\etac (1S)}$ obtained is in good agreement with the average from Ref. , \n",
      "but it is less precise than previous measurements. \n",
      "\n",
      "\n",
      "\n",
      "\n"
     ]
    }
   ],
   "source": [
    "i = 229\n",
    "print(needs_abstract[i].title)\n",
    "\n",
    "tex = needs_abstract[i].text\n",
    "print(tex)"
   ]
  },
  {
   "cell_type": "code",
   "execution_count": 51,
   "metadata": {},
   "outputs": [
    {
     "name": "stdout",
     "output_type": "stream",
     "text": [
      "We first repeat all the fits, including the spin-parity analysis, lowering the \\pt requirement from 7.5 to 7.0 GeV. We find that all the resonance parameters vary within their statistical uncertainties. The background lineshapes are additionaly tested by random variation of their parameters. For each mass spectrum, we generate and fit 500 new histograms where the. resonance parameters and yields are fixed to the values obtained from the data. \n"
     ]
    }
   ],
   "source": [
    "print(needs_abstract[i].abstract)"
   ]
  },
  {
   "cell_type": "code",
   "execution_count": 55,
   "metadata": {},
   "outputs": [],
   "source": [
    "os.makedirs(dir_paper_trees, exist_ok = True)\n",
    "\n",
    "for paper in papers:\n",
    "    with open(dir_paper_trees + paper.title[:-4] + \".pkl\", \"wb\") as f:\n",
    "        pickle.dump(paper, f)\n"
   ]
  },
  {
   "cell_type": "code",
   "execution_count": null,
   "metadata": {},
   "outputs": [],
   "source": []
  }
 ],
 "metadata": {
  "kernelspec": {
   "display_name": "beauty-in-stats",
   "language": "python",
   "name": "python3"
  },
  "language_info": {
   "codemirror_mode": {
    "name": "ipython",
    "version": 3
   },
   "file_extension": ".py",
   "mimetype": "text/x-python",
   "name": "python",
   "nbconvert_exporter": "python",
   "pygments_lexer": "ipython3",
   "version": "3.10.16"
  }
 },
 "nbformat": 4,
 "nbformat_minor": 2
}
