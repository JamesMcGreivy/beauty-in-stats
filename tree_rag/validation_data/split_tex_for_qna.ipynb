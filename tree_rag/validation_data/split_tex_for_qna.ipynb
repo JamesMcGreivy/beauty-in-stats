{
 "cells": [
  {
   "cell_type": "code",
   "execution_count": 3,
   "metadata": {},
   "outputs": [],
   "source": [
    "import os\n",
    "os.chdir(\"..\")\n",
    "import paper_tree\n",
    "import regex as re\n",
    "\n",
    "dir_expanded_tex = \"../data/expanded_tex/\"\n",
    "dir_split_tex = \"./split_tex/\""
   ]
  },
  {
   "cell_type": "code",
   "execution_count": 39,
   "metadata": {},
   "outputs": [],
   "source": [
    "filenames = list(filter(lambda str : (\".tex\" in str[-4:]), os.listdir(dir_expanded_tex)))\n",
    "\n",
    "def split_paper(paper):\n",
    "    pattern = r\"(?<!\\\\)(?:\\\\\\\\)*\\K\\n\"\n",
    "    paper = re.sub(pattern, \" \", paper)\n",
    "    split_sentences = {1 + i : sentence + \".\" for i, sentence in enumerate(paper.split(\". \"))}\n",
    "    return split_sentences\n",
    "\n",
    "os.makedirs(dir_split_tex, exist_ok = True)\n",
    "for filename in filenames:\n",
    "    with open(dir_expanded_tex + filename, \"r+\") as file:\n",
    "        full_tex = file.read()\n",
    "    full_tex = paper_tree.clean_junk(full_tex)\n",
    "    split_sentences = split_paper(full_tex)\n",
    "\n",
    "    with open(dir_split_tex + filename, \"w+\") as file:\n",
    "        for i in split_sentences:\n",
    "            sentence = split_sentences[i]\n",
    "            file.write(f\"{sentence} \\n\")"
   ]
  }
 ],
 "metadata": {
  "kernelspec": {
   "display_name": "beauty-in-stats",
   "language": "python",
   "name": "python3"
  },
  "language_info": {
   "codemirror_mode": {
    "name": "ipython",
    "version": 3
   },
   "file_extension": ".py",
   "mimetype": "text/x-python",
   "name": "python",
   "nbconvert_exporter": "python",
   "pygments_lexer": "ipython3",
   "version": "3.10.16"
  }
 },
 "nbformat": 4,
 "nbformat_minor": 2
}
