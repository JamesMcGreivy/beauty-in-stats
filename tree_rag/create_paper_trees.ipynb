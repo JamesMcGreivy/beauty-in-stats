{
 "cells": [
  {
   "cell_type": "markdown",
   "metadata": {},
   "source": [
    "# Constructing Paper Trees from Raw LaTeX"
   ]
  },
  {
   "cell_type": "code",
   "execution_count": 1,
   "metadata": {},
   "outputs": [],
   "source": [
    "import regex as re\n",
    "from tqdm import tqdm\n",
    "from concurrent.futures import ThreadPoolExecutor, as_completed\n",
    "import pickle\n",
    "import paper_tree\n",
    "import os\n",
    "import torch\n",
    "torch.cuda.empty_cache()\n",
    "import importlib\n",
    "importlib.reload(paper_tree)\n",
    "\n",
    "dir_expanded_tex = \"../data/expanded_tex/\"\n",
    "dir_abstracts = \"../data/abstracts/\"\n",
    "dir_paper_trees = \"./saved_paper_trees/paper_trees/\""
   ]
  },
  {
   "cell_type": "code",
   "execution_count": 2,
   "metadata": {},
   "outputs": [
    {
     "name": "stderr",
     "output_type": "stream",
     "text": [
      "Processing:   0%|          | 0/781 [00:00<?, ?it/s]"
     ]
    },
    {
     "name": "stderr",
     "output_type": "stream",
     "text": [
      "Processing: 100%|██████████| 781/781 [00:21<00:00, 35.62it/s]\n"
     ]
    }
   ],
   "source": [
    "os.makedirs(dir_paper_trees, exist_ok=True)\n",
    "def tex_to_paper_tree(filename):\n",
    "    with open(dir_abstracts + filename) as file:\n",
    "        abstract = file.read()\n",
    "    with open(dir_expanded_tex + filename) as file:\n",
    "        full_tex = file.read()\n",
    "    full_tex = paper_tree.clean_junk(full_tex)\n",
    "    # Build the Paper Tree object\n",
    "    paper = paper_tree.PaperTree(filename, full_tex, abstract = abstract, section_max_tokens = 500)\n",
    "    # Clean up all empty sections, expand subsections if the paper is in 'Letter' format\n",
    "    paper_tree.remove_empty_sections(paper)\n",
    "    paper_tree.fix_letter_subsections(paper)\n",
    "    paper_tree.collapse_lone_subsections(paper)\n",
    "    return paper\n",
    "\n",
    "filenames = list(filter(lambda str : (\".tex\" in str[-4:]), os.listdir(dir_expanded_tex)))\n",
    "\n",
    "papers = []\n",
    "with ThreadPoolExecutor(max_workers = 20) as executor:\n",
    "    futures = [executor.submit(tex_to_paper_tree, filename) for filename in filenames]\n",
    "    for future in tqdm(as_completed(futures), total=len(futures), desc=\"Processing\"):\n",
    "        paper = future.result()\n",
    "        papers.append(paper)"
   ]
  },
  {
   "cell_type": "markdown",
   "metadata": {},
   "source": [
    "#### Some elements do not have easily parsed captions, need to manually find them"
   ]
  },
  {
   "cell_type": "code",
   "execution_count": 57,
   "metadata": {},
   "outputs": [
    {
     "data": {
      "text/plain": [
       "3"
      ]
     },
     "execution_count": 57,
     "metadata": {},
     "output_type": "execute_result"
    }
   ],
   "source": [
    "no_caption = []\n",
    "\n",
    "def build_no_caption(paper, no_caption):\n",
    "    for section in paper.sections:\n",
    "        build_no_caption(section, no_caption)\n",
    "    if paper.abstract is not None:\n",
    "        if any([e in paper.title for e in [\"figure\", \"table\", \"sidewaystable\"]]):\n",
    "            if len(paper.abstract) < 10:\n",
    "                no_caption.append(paper)\n",
    "\n",
    "for paper in papers:\n",
    "    build_no_caption(paper, no_caption)\n",
    "\n",
    "len(no_caption)"
   ]
  },
  {
   "cell_type": "code",
   "execution_count": 58,
   "metadata": {},
   "outputs": [
    {
     "name": "stdout",
     "output_type": "stream",
     "text": [
      "For Element:  1707.01665.tex --> Appendix --> Fit results by category --> table 0\n",
      "Element Text:  [htb] \\paperCaption{2011} \\begin{center} \\begin{tabular}{l | >{\\hfill} p{0.9cm}@{$\\,\\pm\\,$}p{0.5cm} >{\\hfill} p{1.25cm}@{$\\,\\pm\\,$}p{1.25cm} | >{\\hfill} p{0.9cm}@{$\\,\\pm\\,$}p{0.5cm} >{\\hfill} p{1.25cm}@{$\\,\\pm\\,$}p{1.25cm} } & \\multicolumn{4}{c|}{\\DD} & \\multicolumn{4}{c}{\\LL} \\\\ Decay & \\multicolumn{2}{c}{Yield} & \\multicolumn{2}{c|}{Efficiency (\\%)} & \\multicolumn{2}{c}{Yield} & \\multicolumn{2}{c}{Efficiency (\\%)} \\\\ \\hline \\BdtoKsPiPi & $803$ & $36$ & $0.0488$ & $0.0093$ & $471$ & $27$ & $0.0188$ & $0.0036$ \\\\ \\BdtoKsKK & $281$ & $19$ & $0.0292$ & $0.0063$ & $222$ & $17$ & $0.0157$ & $0.0034$ \\\\ \\BstoKsKPi & $333$ & $23$ & $0.0361$ & $0.0064$ & $207$ & $16$ & $0.0148$ & $0.0025$ \\\\ \\BdtoKsKPi & $76$ & $13$ & $0.0322$ & $0.0063$ & $50$ & $9$ & $0.0174$ & $0.0034$ \\\\ \\BstoKsPiPi & $43$ & $10$ & $0.0316$ & $0.0051$ & $21$ & $8$ & $0.0160$ & $0.0025$ \\\\ \\BstoKsKK & $5$ & $3$ & $0.0244$ & $0.0052$ & $4$ & $3$ & $0.0129$ & $0.0029$ \\\\ \\end{tabular} \\end{center}\n",
      "\n",
      "Current Caption:  \n",
      "For Element:  1707.01665.tex --> Appendix --> Fit results by category --> table 1\n",
      "Element Text:  [htb] \\paperCaption{2012a} \\begin{center} \\begin{tabular}{l | >{\\hfill} p{0.9cm}@{$\\,\\pm\\,$}p{0.5cm} >{\\hfill} p{1.25cm}@{$\\,\\pm\\,$}p{1.25cm} | >{\\hfill} p{0.9cm}@{$\\,\\pm\\,$}p{0.5cm} >{\\hfill} p{1.25cm}@{$\\,\\pm\\,$}p{1.25cm} } & \\multicolumn{4}{c|}{\\DD} & \\multicolumn{4}{c}{\\LL} \\\\ Decay & \\multicolumn{2}{c}{Yield} & \\multicolumn{2}{c|}{Efficiency (\\%)} & \\multicolumn{2}{c}{Yield} & \\multicolumn{2}{c}{Efficiency (\\%)} \\\\ \\hline \\BdtoKsPiPi & $553$ & $30$ & $0.0423$ & $0.0059$ & $286$ & $20$ & $0.0166$ & $0.0023$ \\\\ \\BdtoKsKK & $181$ & $15$ & $0.0263$ & $0.0052$ & $119$ & $12$ & $0.0149$ & $0.0029$ \\\\ \\BstoKsKPi & $205$ & $18$ & $0.0395$ & $0.0060$ & $99$ & $13$ & $0.0155$ & $0.0023$ \\\\ \\BdtoKsKPi & $63$ & $11$ & $0.0306$ & $0.0047$ & $45$ & $10$ & $0.0143$ & $0.0022$ \\\\ \\BstoKsPiPi & $17$ & $8$ & $0.0493$ & $0.0068$ & $15$ & $6$ & $0.0145$ & $0.0021$ \\\\ \\BstoKsKK & $2$ & $3$ & $0.0290$ & $0.0039$ & $1$ & $2$ & $0.0092$ & $0.0030$ \\\\ \\end{tabular} \\end{center}\n",
      "\n",
      "Current Caption:  \n",
      "For Element:  1707.01665.tex --> Appendix --> Fit results by category --> table 2\n",
      "Element Text:  [htb] \\paperCaption{2012b} \\begin{center} \\begin{tabular}{l | >{\\hfill} p{0.9cm}@{$\\,\\pm\\,$}p{0.5cm} >{\\hfill} p{1.25cm}@{$\\,\\pm\\,$}p{1.25cm} | >{\\hfill} p{0.9cm}@{$\\,\\pm\\,$}p{0.5cm} >{\\hfill} p{1.25cm}@{$\\,\\pm\\,$}p{1.25cm} } & \\multicolumn{4}{c|}{\\DD} & \\multicolumn{4}{c}{\\LL} \\\\ Decay & \\multicolumn{2}{c}{Yield} & \\multicolumn{2}{c|}{Efficiency (\\%)} & \\multicolumn{2}{c}{Yield} & \\multicolumn{2}{c}{Efficiency (\\%)} \\\\ \\hline \\BdtoKsPiPi & $1410$ & $46$ & $0.0455$ & $0.0063$ & $654$ & $30$ & $0.0161$ & $0.0022$ \\\\ \\BdtoKsKK & $671$ & $30$ & $0.0395$ & $0.0076$ & $344$ & $20$ & $0.0128$ & $0.0025$ \\\\ \\BstoKsKPi & $562$ & $29$ & $0.0401$ & $0.0059$ & $262$ & $19$ & $0.0138$ & $0.0020$ \\\\ \\BdtoKsKPi & $122$ & $17$ & $0.0402$ & $0.0056$ & $65$ & $10$ & $0.0100$ & $0.0015$ \\\\ \\BstoKsPiPi & $86$ & $14$ & $0.0335$ & $0.0045$ & $38$ & $5$ & $0.0108$ & $0.0015$ \\\\ \\BstoKsKK & $5$ & $4$ & $0.0291$ & $0.0034$ & $2$ & $2$ & $0.0083$ & $0.0017$ \\\\ \\end{tabular} \\end{center}\n",
      "\n",
      "Current Caption:  \n"
     ]
    }
   ],
   "source": [
    "# FOR \\paperCaption{YEAR}:\n",
    "\"\"\"\n",
    "Signal yields obtained for the 2012b category from the\n",
    "simultaneous fit to the data.\n",
    "The yields shown are those obtained when fitting the data sample\n",
    "selected using the BDT optimisation chosen for the given decay mode.\n",
    "The uncertainties are statistical only.\n",
    "The average selection efficiencies, described in\n",
    "Sec.~\\ref{sec:Efficiencies}, are also shown for each decay mode\n",
    "together with the corresponding total uncertainty due to the limited\n",
    "simulation sample size and systematic effects in their determination.\n",
    "\"\"\"\n",
    "\n",
    "# FOR \\resultstable:\n",
    "\"\"\"\n",
    "Summary of $P_c^+$ properties. The central values are based on the fit displayed in Fig.~\\ref{fig:defaultFit}.\n",
    "\"\"\"\n",
    "\n",
    "for element in no_caption:\n",
    "    id = element.title\n",
    "    parent = element.parent\n",
    "    while parent is not None:\n",
    "        id = f\"{parent.title} --> {id}\"\n",
    "        parent = parent.parent\n",
    "    print(\"For Element: \", id)\n",
    "    print(\"Element Text: \", element.text)\n",
    "    print(\"Current Caption: \", element.abstract)\n",
    "    caption = input(f\"Please manually enter the caption. Enter CANCEL to skip manually finding captions.\")\n",
    "    if caption.lower() == \"cancel\":\n",
    "        break\n",
    "    element.abstract = caption"
   ]
  },
  {
   "cell_type": "code",
   "execution_count": null,
   "metadata": {},
   "outputs": [],
   "source": [
    "# SAVE ALL PAPER TREES\n",
    "os.makedirs(dir_paper_trees, exist_ok = True)\n",
    "for paper in papers:\n",
    "    with open(dir_paper_trees + paper.title[:-4] + \".pkl\", \"wb\") as f:\n",
    "        pickle.dump(paper, f)"
   ]
  },
  {
   "cell_type": "markdown",
   "metadata": {},
   "source": [
    "## Section-level Abstract Generation with Summarization Models"
   ]
  },
  {
   "cell_type": "code",
   "execution_count": 2,
   "metadata": {},
   "outputs": [],
   "source": [
    "import regex as re\n",
    "from tqdm import tqdm\n",
    "from concurrent.futures import ThreadPoolExecutor, as_completed\n",
    "import pickle\n",
    "import paper_tree\n",
    "import os\n",
    "import torch\n",
    "torch.cuda.empty_cache()\n",
    "import importlib\n",
    "importlib.reload(paper_tree)\n",
    "dir_expanded_tex = \"../data/expanded_tex/\"\n",
    "dir_abstracts = \"../data/abstracts/\"\n",
    "dir_paper_trees = \"./saved_paper_trees/paper_trees/\"\n",
    "\n",
    "# Directory to write sumarized paper trees\n",
    "dir_summarized_paper_trees = \"./saved_paper_trees/summarized_openai_paper_trees/\""
   ]
  },
  {
   "cell_type": "markdown",
   "metadata": {},
   "source": [
    "### Load paper trees to be summarized"
   ]
  },
  {
   "cell_type": "code",
   "execution_count": null,
   "metadata": {},
   "outputs": [],
   "source": [
    "load_dir = dir_summarized_paper_trees\n",
    "\n",
    "# LOAD ALL PAPER TREES\n",
    "filenames = list(filter(lambda str : (\".pkl\" in str[-4:]), os.listdir(load_dir)))\n",
    "papers = []\n",
    "for filename in filenames:\n",
    "    with open(load_dir + filename, \"rb\") as f:\n",
    "        paper = pickle.load(f)\n",
    "        papers.append(paper)\n",
    "\n",
    "# For any section with no children, the abstract is just equal to the text\n",
    "def give_abstract(paper):\n",
    "    if paper.abstract is None and len(paper.sections) == 0:\n",
    "        paper.abstract = paper.text\n",
    "    for section in paper.sections:\n",
    "        give_abstract(section)\n",
    "for paper in papers:\n",
    "    give_abstract(paper)"
   ]
  },
  {
   "cell_type": "markdown",
   "metadata": {},
   "source": [
    "#### Method 1: Summarize with ChatGPT 4o-mini"
   ]
  },
  {
   "cell_type": "code",
   "execution_count": null,
   "metadata": {},
   "outputs": [],
   "source": [
    "from llama_index.llms.openai import OpenAI\n",
    "import asyncio\n",
    "import nest_asyncio\n",
    "nest_asyncio.apply()\n",
    "\n",
    "llm = OpenAI(temperature=0, model=\"gpt-4o-mini\")\n",
    "\n",
    "def get_prompt(excerpt):\n",
    "    prompt = f\"\"\"\n",
    "    Instruction:\n",
    "    You are an expert in particle physics and machine learning. Your task is to give a 400-token summary of the following excerpt, preserving all key details that would be needed for using this summary for cosine-similarity search with sentence embeddings.\n",
    "\n",
    "    ### Guidelines:\n",
    "    Exclude Redundant Content - Do not include background information about the LHC or LHCb detector, citations, or general particle physics knowledge.\n",
    "    Preserve Important Information - Retain experimental results, theoretical conclusions, and key terminology (e.g., particle names, detector specifics, statistical methods).\n",
    "    Describe all formulas in words - Avoid including raw mathematical expressions, as they cannot be effectively indexed by a RAG system. Instead, provide a clear verbal explanation of a formula's significance in the context of the excerpt.\n",
    "    Maintain Technical Precision - Avoid oversimplification of physics concepts; the summary should be useful for physicists querying a RAG system.\n",
    "    Format Clearly - Use concise technical language, structured paragraphs, and bullet points if necessary for clarity.\n",
    "    400 Tokens Max - Ensure the output remains under 400 tokens while fully capturing the core findings of the text.\n",
    "\n",
    "    ### Paper Excerpt:\n",
    "    {excerpt}\n",
    "\n",
    "    Output the summary below.\n",
    "    \"\"\"\n",
    "    return prompt       \n",
    "\n",
    "async def summarize(paper):\n",
    "    text = \"\"\n",
    "    for section in paper.sections:\n",
    "        elements = [\"figure\", \"table\", \"sidewaystable\"]\n",
    "        if any([element in section.title for element in elements]):\n",
    "            text += f\"{section.title} caption: {section.abstract} \\n\"\n",
    "        else:\n",
    "            text += f\"{section.abstract} \\n\"\n",
    "    return await llm.acomplete(get_prompt(text))\n",
    "\n",
    "async def main(to_be_summarized):\n",
    "    tasks = [summarize(paper) for paper in to_be_summarized]\n",
    "    results = await asyncio.gather(*tasks)\n",
    "    for paper, result in zip(to_be_summarized, results):\n",
    "        paper.abstract = result.text\n",
    "\n",
    "def build_to_be_summarized(paper, to_be_summarized):\n",
    "    if paper.abstract is None:\n",
    "        can_be_summarized = True\n",
    "        for section in paper.sections:\n",
    "            if section.abstract is None:\n",
    "                can_be_summarized = False\n",
    "        \n",
    "        if can_be_summarized:\n",
    "            to_be_summarized.append(paper)\n",
    "\n",
    "    for section in paper.sections:\n",
    "        build_to_be_summarized(section, to_be_summarized) "
   ]
  },
  {
   "cell_type": "code",
   "execution_count": 9,
   "metadata": {},
   "outputs": [
    {
     "name": "stdout",
     "output_type": "stream",
     "text": [
      "283\n",
      "235\n",
      "188\n",
      "143\n",
      "97\n",
      "53\n",
      "9\n",
      "2\n",
      "0\n"
     ]
    }
   ],
   "source": [
    "import time\n",
    "os.makedirs(dir_summarized_paper_trees, exist_ok=True)\n",
    "\n",
    "to_be_summarized = [None]\n",
    "while len(to_be_summarized) > 0:\n",
    "    to_be_summarized = []\n",
    "    for paper in papers:\n",
    "        build_to_be_summarized(paper, to_be_summarized)\n",
    "    print(len(to_be_summarized))\n",
    "    to_be_summarized = to_be_summarized[0:50]\n",
    "    asyncio.run(main(to_be_summarized))\n",
    "\n",
    "    for paper in papers:\n",
    "        with open(dir_summarized_paper_trees + paper.title[:-4] + \".pkl\", \"wb\") as f:\n",
    "            pickle.dump(paper, f)\n",
    "\n",
    "    time.sleep(30)"
   ]
  },
  {
   "cell_type": "markdown",
   "metadata": {},
   "source": [
    "#### Method 2: Summarize with bart-large-cnn"
   ]
  },
  {
   "cell_type": "code",
   "execution_count": null,
   "metadata": {},
   "outputs": [],
   "source": [
    "needs_abstract = []\n",
    "def build_needs_abstract(paper, needs_abstract):\n",
    "    for section in paper.sections:\n",
    "        build_needs_abstract(section, needs_abstract)\n",
    "    if paper.abstract is None:\n",
    "        needs_abstract.append(paper)\n",
    "\n",
    "for paper in papers:\n",
    "    build_needs_abstract(paper, needs_abstract)\n",
    "\n",
    "len(needs_abstract)"
   ]
  },
  {
   "cell_type": "code",
   "execution_count": 376,
   "metadata": {},
   "outputs": [
    {
     "name": "stderr",
     "output_type": "stream",
     "text": [
      "Device set to use cuda\n"
     ]
    }
   ],
   "source": [
    "from transformers import BartTokenizer\n",
    "import math\n",
    "torch.cuda.empty_cache() \n",
    "\n",
    "MAX_SUMMARY_LENGTH = 300\n",
    "BART_MAX_TOKENS = 1024\n",
    "\n",
    "tokenizer = BartTokenizer.from_pretrained(\"facebook/bart-large-cnn\")\n",
    "# Function to split the text into chunks with overlap\n",
    "def split_into_chunks(text, max_length = BART_MAX_TOKENS - MAX_SUMMARY_LENGTH):\n",
    "    # Tokenize the text into tokens\n",
    "    tokens = tokenizer.encode(text, truncation=False)\n",
    "\n",
    "    # Calculate the ideal chunk size (as equal as possible)\n",
    "    chunk_size = math.ceil(len(tokens) / math.ceil(len(tokens) / max_length))\n",
    "\n",
    "    # Calculate how many chunks are needed\n",
    "    num_chunks = math.ceil(len(tokens) / chunk_size)\n",
    "\n",
    "    chunks = []\n",
    "    start_idx = 0\n",
    "\n",
    "    for _ in range(num_chunks):\n",
    "        end_idx = start_idx + chunk_size\n",
    "        chunk = tokens[start_idx:end_idx]\n",
    "        chunks.append(chunk)\n",
    "\n",
    "        # Update start_idx for the next chunk\n",
    "        start_idx = end_idx\n",
    "\n",
    "    # Decode chunks back to text\n",
    "    chunk_texts = [tokenizer.decode(chunk, skip_special_tokens=True) for chunk in chunks]\n",
    "\n",
    "    return chunk_texts, len(tokens)\n",
    "\n",
    "from transformers import pipeline\n",
    "summarizer = pipeline(\"summarization\", model=\"facebook/bart-large-cnn\", device=\"cuda\")"
   ]
  },
  {
   "cell_type": "code",
   "execution_count": null,
   "metadata": {},
   "outputs": [
    {
     "name": "stderr",
     "output_type": "stream",
     "text": [
      "Processing sections:   0%|          | 0/6149 [00:00<?, ?section/s]"
     ]
    },
    {
     "name": "stdout",
     "output_type": "stream",
     "text": [
      "Processing section: 2110.00831.tex --> Characterisation and results | Number of chunks: 2\n"
     ]
    },
    {
     "name": "stderr",
     "output_type": "stream",
     "text": [
      "Device set to use cuda\n",
      "Processing sections:   0%|          | 1/6149 [00:13<23:11:12, 13.58s/section]"
     ]
    },
    {
     "name": "stdout",
     "output_type": "stream",
     "text": [
      "Processing section: 2110.00831.tex --> Mitigation strategies | Number of chunks: 1\n"
     ]
    },
    {
     "name": "stderr",
     "output_type": "stream",
     "text": [
      "Processing sections:   0%|          | 2/6149 [00:14<10:12:59,  5.98s/section]"
     ]
    },
    {
     "name": "stdout",
     "output_type": "stream",
     "text": [
      "Processing section: 2110.00831.tex --> Effects on the PID performance | Number of chunks: 1\n"
     ]
    },
    {
     "name": "stderr",
     "output_type": "stream",
     "text": [
      "Processing sections:   0%|          | 3/6149 [00:14<5:58:38,  3.50s/section] "
     ]
    },
    {
     "name": "stdout",
     "output_type": "stream",
     "text": [
      "Processing section: 1505.01654.tex --> Determination of signal yield | Number of chunks: 1\n",
      "Processing section: 2103.11058.tex --> Introduction | Number of chunks: 1\n"
     ]
    },
    {
     "name": "stderr",
     "output_type": "stream",
     "text": [
      "Processing sections:   0%|          | 5/6149 [00:15<2:58:08,  1.74s/section]"
     ]
    },
    {
     "name": "stdout",
     "output_type": "stream",
     "text": [
      "Processing section: 2103.11058.tex --> Signal modes and fit model | Number of chunks: 1\n"
     ]
    },
    {
     "name": "stderr",
     "output_type": "stream",
     "text": [
      "Processing sections:   0%|          | 6/6149 [00:16<2:22:37,  1.39s/section]"
     ]
    },
    {
     "name": "stdout",
     "output_type": "stream",
     "text": [
      "Processing section: 2309.05514.tex --> Analysis overview | Number of chunks: 1\n"
     ]
    },
    {
     "name": "stderr",
     "output_type": "stream",
     "text": [
      "Processing sections:   0%|          | 7/6149 [00:16<1:58:11,  1.15s/section]"
     ]
    },
    {
     "name": "stdout",
     "output_type": "stream",
     "text": [
      "Processing section: 2309.05514.tex --> Fit to determine the \\texorpdfstring{\\textbf{\\CP}}{CP} violation observables | Number of chunks: 1\n"
     ]
    },
    {
     "name": "stderr",
     "output_type": "stream",
     "text": [
      "Processing sections:   0%|          | 8/6149 [00:17<1:53:52,  1.11s/section]"
     ]
    },
    {
     "name": "stdout",
     "output_type": "stream",
     "text": [
      "Processing section: 2309.05514.tex --> Appendix | Number of chunks: 1\n",
      "Processing section: 1403.1339.tex --> Introduction | Number of chunks: 1\n",
      "Processing section: 2201.03497.tex --> Headers | Number of chunks: 2\n"
     ]
    },
    {
     "name": "stderr",
     "output_type": "stream",
     "text": [
      "Processing sections:   0%|          | 10/6149 [00:20<3:26:22,  2.02s/section]\n"
     ]
    }
   ],
   "source": [
    "i = 0\n",
    "for section in tqdm(needs_abstract, desc=\"Processing sections\", unit=\"section\"):\n",
    "    string = \"\"\n",
    "    for subsection in section.sections:\n",
    "        string += (subsection.abstract + \" \")\n",
    "        \n",
    "    chunked_string, num_tokens = split_into_chunks(string)\n",
    "    tqdm.write(f\"Processing section: {section} | Number of chunks: {len(chunked_string)}\")\n",
    "\n",
    "    # Excerpt is small enough that summarization is not needed.\n",
    "    if num_tokens < MAX_SUMMARY_LENGTH:\n",
    "        section.abstract = string\n",
    "    else:    \n",
    "        summaries = summarizer(chunked_string, max_length = max(MAX_SUMMARY_LENGTH // len(chunked_string), 100), min_length = 50)\n",
    "        section.abstract = \"\".join([summary['summary_text'] + \" \" for summary in summaries])\n",
    "\n",
    "    if i % 50 == 0:\n",
    "        for paper in papers:\n",
    "            with open(dir_summarized_paper_trees + paper.title[:-4] + \".pkl\", \"wb\") as f:\n",
    "                pickle.dump(paper, f)\n",
    "        torch.cuda.empty_cache()\n",
    "        summarizer = pipeline(\"summarization\", model=\"facebook/bart-large-cnn\", device=\"cuda\")\n",
    "    i += 1"
   ]
  },
  {
   "cell_type": "markdown",
   "metadata": {},
   "source": [
    "### Testing"
   ]
  },
  {
   "cell_type": "code",
   "execution_count": 99,
   "metadata": {},
   "outputs": [
    {
     "data": {
      "image/png": "[encoded data removed]",
      "text/plain": [
       "<Figure size 640x480 with 1 Axes>"
      ]
     },
     "metadata": {},
     "output_type": "display_data"
    }
   ],
   "source": [
    "ab_len = []\n",
    "ab_section = []\n",
    "\n",
    "def build_ab_len(paper):\n",
    "    for section in paper.sections:\n",
    "        build_ab_len(section)\n",
    "    if paper.abstract is not None:\n",
    "        ab = paper.abstract\n",
    "        ab_len.append(len(tokenizer.encode(ab, truncation=False)))\n",
    "        ab_section.append(paper)\n",
    "\n",
    "for i, paper in enumerate(papers):\n",
    "    build_ab_len(paper)\n",
    "    if i > 100:\n",
    "        break\n",
    "\n",
    "import matplotlib.pyplot as plt\n",
    "plt.hist(ab_len, bins = 100)\n",
    "plt.ylim(0, 500)\n",
    "None"
   ]
  },
  {
   "cell_type": "code",
   "execution_count": 111,
   "metadata": {},
   "outputs": [
    {
     "name": "stdout",
     "output_type": "stream",
     "text": [
      "Max Chunk Length (chars): 2115\n",
      "Section: 2412.09414.tex --> Headers --> Chunk 11 \n",
      " Text:  used to correct the five-dimensional decay model of the corresponding dielectron mode.\n",
      "In addition, particle-identification, hardware-trigger, and tracking efficiencies as well as the dielectron-mass resolution are corrected using dedicated control channels in data. \n",
      "Systematic uncertainties related to the determination of the yields arise due to limited knowledge of the various fit components and are evaluated using pseudoexperiments, where alternative fit models are tested. These include variations of the signal and background shape parameters within the uncertainties determined from the fits to simulation, and a signal shape obtained with a modified electron momentum resolution. In addition, a Bukin distribution is tested as an alternative distribution to represent the signal. Since not all selection criteria can be applied to background simulation because of limited simulated sample sizes, the misidentified background shapes are recomputed using an alternative set of selection criteria. The combinatorial background shape is determined in alternative \\dm ranges.  \n",
      "The fraction of signal decays migrating into other regions of dielectron mass is varied within its uncertainty. Furthermore, fit components are re-evaluated using simulated samples corresponding to different data-taking years. The dominant systematic uncertainty arising from assumptions in the fit is determined by fully neglecting all partially reconstructed backgrounds. The impact of neglecting further misidentified backgrounds is found to be negligible everywhere except in the signal $\\rho^0/\\omega$ dielectron-mass region, where a contribution from \\Dkpeenr decays misreconstructed as the signal are found, and the appropriate systematic uncertainty is computed. \n",
      "The statistical uncertainty on the normalization yield leads to a relative systematic uncertainty of $4.8\\%$ ($4.5\\%$) for \\Dppee (\\Dkkee). \n",
      "Systematic uncertainties affecting the efficiency ratio include residual data-simulation differences and limitations in the data-driven methods used to determine the particle-identification, tracking and trigger effic\n",
      "\n",
      "\n",
      "\n",
      "Min Chunk Length (chars): 18\n",
      "Section: 2304.14891.tex --> Dalitz plot analysis of the \\boldmath{\\etac} decay to \\boldmath{\\kskpi} --> Headers \n",
      " Text: \n",
      "\\label{sec:etac}\n",
      "\n"
     ]
    }
   ],
   "source": [
    "print(f\"Max Chunk Length (chars): {max(ab_len)}\")\n",
    "max_sec_idx = ab_len.index(max(ab_len))\n",
    "max_sec = ab_section[max_sec_idx]\n",
    "max_sec_id = max_sec.title\n",
    "parent = max_sec.parent\n",
    "while parent is not None:\n",
    "    max_sec_id = f\"{parent.title} --> {max_sec_id}\"\n",
    "    parent = parent.parent\n",
    "print(f\"Section: {max_sec_id} \\n Text: {max_sec.abstract}\")\n",
    "\n",
    "ab_len.pop(max_sec_idx)\n",
    "ab_section.pop(max_sec_idx)\n",
    "\n",
    "print(\"\\n\\n\")\n",
    "\n",
    "print(f\"Min Chunk Length (chars): {min(ab_len)}\")\n",
    "min_sec_idx = ab_len.index(min(ab_len))\n",
    "min_sec = ab_section[min_sec_idx]\n",
    "min_sec_id = min_sec.title\n",
    "parent = min_sec.parent\n",
    "while parent is not None:\n",
    "    min_sec_id = f\"{parent.title} --> {min_sec_id}\"\n",
    "    parent = parent.parent\n",
    "print(f\"Section: {min_sec_id} \\n Text: {min_sec.abstract}\")\n",
    "\n",
    "ab_len.pop(min_sec_idx)\n",
    "ab_section.pop(min_sec_idx)\n",
    "\n",
    "None"
   ]
  },
  {
   "cell_type": "code",
   "execution_count": 23,
   "metadata": {},
   "outputs": [],
   "source": []
  },
  {
   "cell_type": "code",
   "execution_count": null,
   "metadata": {},
   "outputs": [],
   "source": []
  }
 ],
 "metadata": {
  "kernelspec": {
   "display_name": "beauty-in-stats",
   "language": "python",
   "name": "python3"
  },
  "language_info": {
   "codemirror_mode": {
    "name": "ipython",
    "version": 3
   },
   "file_extension": ".py",
   "mimetype": "text/x-python",
   "name": "python",
   "nbconvert_exporter": "python",
   "pygments_lexer": "ipython3",
   "version": "3.10.16"
  }
 },
 "nbformat": 4,
 "nbformat_minor": 2
}
