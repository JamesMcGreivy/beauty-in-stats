{
 "cells": [
  {
   "cell_type": "code",
   "execution_count": 29,
   "metadata": {},
   "outputs": [],
   "source": [
    "\"\"\"\n",
    "Author: James McGreivy\n",
    "Email: mcgreivy@mit.edu\n",
    "\"\"\"\n",
    "\n",
    "import numpy as np\n",
    "import os\n",
    "import matplotlib.pyplot as plt\n",
    "import matplotlib\n",
    "import regex as re \n",
    "import subprocess\n",
    "import importlib\n",
    "from collections import deque\n",
    "import json\n",
    "import asyncio\n",
    "from tqdm import tqdm\n",
    "import pickle\n",
    "import glob\n",
    "\n",
    "os.chdir(\"/work/submit/mcgreivy/beauty-in-stats/src/graph_rag\")\n",
    "\n",
    "import SystematicsGraph"
   ]
  },
  {
   "cell_type": "code",
   "execution_count": 40,
   "metadata": {},
   "outputs": [],
   "source": [
    "def build_papers_cache(tex_dir, abstract_dir, cache_dir, max_papers=-1):\n",
    "\n",
    "    os.makedirs(cache_dir, exist_ok=True)\n",
    "    # Remove everything currently in the cache directory\n",
    "    files = glob.glob(os.path.join(cache_dir, \"*\"))\n",
    "    for f in files:\n",
    "        print(files)\n",
    "        os.remove(f)\n",
    "\n",
    "    print(f\"Loading papers from {tex_dir}\")\n",
    "\n",
    "    tex_files = [f for f in os.listdir(tex_dir) if f.endswith(\".tex\")]\n",
    "    \n",
    "    if max_papers != -1:\n",
    "        tex_files = tex_files[:max_papers]\n",
    "    \n",
    "    for file in tqdm(tex_files, desc=\"Loading papers\"):\n",
    "\n",
    "        abstract_path = os.path.join(abstract_dir, file)\n",
    "        try:\n",
    "            with open(abstract_path, 'r', encoding='utf-8') as f:\n",
    "                abstract = f.read()\n",
    "        except Exception as e:\n",
    "            tqdm.write(f\"Warning: Abstract not found for {file} \\n {e}\")\n",
    "            continue\n",
    "\n",
    "        tex_path = os.path.join(tex_dir, file)\n",
    "        with open(tex_path, 'r', encoding='utf-8') as f:\n",
    "            text = f.read()\n",
    "\n",
    "        arxiv_id = file[:file.find(\".tex\")]\n",
    "\n",
    "        paper = SystematicsGraph.LHCbPaper(abstract, text, arxiv_id)\n",
    "        \n",
    "        with open(os.path.join(cache_dir, paper.arxiv_id + \".pkl\"), \"wb\") as f:\n",
    "            pickle.dump(paper, f)\n",
    "            "
   ]
  },
  {
   "cell_type": "code",
   "execution_count": null,
   "metadata": {},
   "outputs": [
    {
     "name": "stdout",
     "output_type": "stream",
     "text": [
      "['../systematics_graph_cache/papers/2503.02711.pkl', '../systematics_graph_cache/papers/2502.18987.pkl', '../systematics_graph_cache/papers/2501.12611.pkl', '../systematics_graph_cache/papers/2502.04013.pkl', '../systematics_graph_cache/papers/2501.14943.pkl']\n",
      "['../systematics_graph_cache/papers/2503.02711.pkl', '../systematics_graph_cache/papers/2502.18987.pkl', '../systematics_graph_cache/papers/2501.12611.pkl', '../systematics_graph_cache/papers/2502.04013.pkl', '../systematics_graph_cache/papers/2501.14943.pkl']\n",
      "['../systematics_graph_cache/papers/2503.02711.pkl', '../systematics_graph_cache/papers/2502.18987.pkl', '../systematics_graph_cache/papers/2501.12611.pkl', '../systematics_graph_cache/papers/2502.04013.pkl', '../systematics_graph_cache/papers/2501.14943.pkl']\n",
      "['../systematics_graph_cache/papers/2503.02711.pkl', '../systematics_graph_cache/papers/2502.18987.pkl', '../systematics_graph_cache/papers/2501.12611.pkl', '../systematics_graph_cache/papers/2502.04013.pkl', '../systematics_graph_cache/papers/2501.14943.pkl']\n",
      "['../systematics_graph_cache/papers/2503.02711.pkl', '../systematics_graph_cache/papers/2502.18987.pkl', '../systematics_graph_cache/papers/2501.12611.pkl', '../systematics_graph_cache/papers/2502.04013.pkl', '../systematics_graph_cache/papers/2501.14943.pkl']\n",
      "Loading papers from ../scraper/data/cleaned_tex\n"
     ]
    },
    {
     "name": "stderr",
     "output_type": "stream",
     "text": [
      "Loading papers: 100%|██████████| 5/5 [00:00<00:00, 175.58it/s]\n"
     ]
    }
   ],
   "source": [
    "tex_dir= \"../scraper/data/cleaned_tex\"\n",
    "abstract_dir=\"../scraper/data/abstracts\"\n",
    "cache_dir=\"../systematics_graph_cache/papers\"\n",
    "\n",
    "build_papers_cache(tex_dir, abstract_dir, cache_dir, 5)"
   ]
  },
  {
   "cell_type": "code",
   "execution_count": 48,
   "metadata": {},
   "outputs": [
    {
     "name": "stderr",
     "output_type": "stream",
     "text": [
      "Processing papers: 100%|██████████| 5/5 [00:00<00:00, 454.43it/s]"
     ]
    },
    {
     "name": "stdout",
     "output_type": "stream",
     "text": [
      "Already processed 2503.02711, skipping...\n",
      "Already processed 2502.18987, skipping...\n",
      "Already processed 2501.12611, skipping...\n",
      "Already processed 2502.04013, skipping...\n",
      "Already processed 2501.14943, skipping...\n",
      "Finished processing all papers\n"
     ]
    },
    {
     "name": "stderr",
     "output_type": "stream",
     "text": [
      "\n"
     ]
    }
   ],
   "source": [
    "async def process_papers_cache(cache_dir, threads=6, timeout=360):\n",
    "    \n",
    "    files = list(filter(lambda x : \".pkl\" in x, os.listdir(cache_dir)))\n",
    "\n",
    "    # Create progress bar\n",
    "    pbar = tqdm(total=len(files), desc=\"Processing papers\")\n",
    "    semaphore = asyncio.Semaphore(threads)\n",
    "    \n",
    "    async def process_with_limit(file_path):\n",
    "\n",
    "        with open(file_path, \"rb\") as f:\n",
    "            paper = pickle.load(f)\n",
    "\n",
    "        \"\"\"Process a single paper with semaphore limiting.\"\"\"\n",
    "        if hasattr(paper, \"relationships\") and len(paper.relationships) > 0:\n",
    "            tqdm.write(f\"Already processed {paper.arxiv_id}, skipping...\")\n",
    "            pbar.update(1)\n",
    "            return\n",
    "        \n",
    "        async with semaphore:\n",
    "            try:\n",
    "                await asyncio.wait_for(\n",
    "                    paper.process_paper(),\n",
    "                    timeout=timeout\n",
    "                )\n",
    "                tqdm.write(f\"Successfully processed: {paper.arxiv_id}\")\n",
    "\n",
    "                with open(file_path, \"wb\") as f:\n",
    "                    pickle.dump(paper, f)\n",
    "\n",
    "            except Exception as e:\n",
    "                tqdm.write(f\"Exception {e} while processing {paper.arxiv_id}\")\n",
    "            finally:\n",
    "                pbar.update(1)\n",
    "    \n",
    "    tasks = [process_with_limit(os.path.join(cache_dir, file)) for file in files]        \n",
    "    await asyncio.gather(*tasks)\n",
    "    pbar.close()\n",
    "    \n",
    "    print(\"Finished processing all papers\")\n",
    "\n",
    "import nest_asyncio\n",
    "nest_asyncio.apply()\n",
    "asyncio.run(process_papers_cache(cache_dir))"
   ]
  },
  {
   "cell_type": "code",
   "execution_count": null,
   "metadata": {},
   "outputs": [],
   "source": [
    "def build_graph(papers):\n",
    "    graph = SystematicsGraph.SystematicsGraph()\n",
    "    \n",
    "    for paper in tqdm(papers, desc=\"Loading papers into graph\"):\n",
    "        graph.load_paper(paper)\n",
    "    \n",
    "    return graph\n",
    "\n",
    "\n",
    "def merge_entities(graph):\n",
    "    print(\"Merging similar entities...\")\n",
    "    \n",
    "    # Merge uncertainty sources\n",
    "    print(\"Merging uncertainty sources...\")\n",
    "    graph.merge_entity_type(\"uncertainty_source\", [\"type\"], 0.2, True)\n",
    "    \n",
    "    # Merge methods\n",
    "    print(\"Merging methods...\")\n",
    "    graph.merge_entity_type(\"method\", [], 0.2, True)\n",
    "    \n",
    "    print(\"Entity merging complete\")\n",
    "\n",
    "\n",
    "def push_to_neo4j(graph, uri, username, password):\n",
    "    print(f\"Pushing graph to Neo4j at {uri}\")\n",
    "    graph.push_to_neo4j(uri, username, password)\n",
    "    print(\"Successfully pushed graph to Neo4j\")\n",
    "\n",
    "\n",
    "async def main():\n",
    "    # Neo4j connection details\n",
    "    NEO4J_URI = \"neo4j+s://2d257b33.databases.neo4j.io\"\n",
    "    NEO4J_USERNAME = \"neo4j\"\n",
    "    NEO4J_PASSWORD = \"LrVuuzEjpH3gmxLAFlOwgZoKnDCnX5AU3rRqS0PW97g\"\n",
    "    \n",
    "    text_dir=\"../scraper/data/cleaned_tex/\", \n",
    "    abstract_dir=\"../scraper/data/abstracts/\"\n",
    "\n",
    "    save_dir = \"./systematics_graph_cache/lhcb_papers.pkl\"\n",
    "\n",
    "    papers = load_papers(text_dir, abstract_dir, save_dir, 4)\n",
    "\n",
    "    \n",
    "    await process_papers(papers, threads=3)\n",
    "    \n",
    "    save_papers(papers, )\n",
    "    \n",
    "    # graph = build_graph(papers)\n",
    "    \n",
    "    # merge_entities(graph)\n",
    "    \n",
    "    # push_to_neo4j(graph, NEO4J_URI, NEO4J_USERNAME, NEO4J_PASSWORD)\n",
    "\n",
    "\n",
    "if __name__ == \"__main__\":\n",
    "    pass\n",
    "    #asyncio.run(main())"
   ]
  },
  {
   "cell_type": "markdown",
   "metadata": {},
   "source": [
    "### Graph Querying"
   ]
  },
  {
   "cell_type": "code",
   "execution_count": 1,
   "metadata": {},
   "outputs": [],
   "source": [
    "from GraphQueryAgent import GraphQueryAgent\n",
    "\n",
    "uri=\"neo4j+s://2d257b33.databases.neo4j.io\"\n",
    "username=\"neo4j\"\n",
    "password = \"LrVuuzEjpH3gmxLAFlOwgZoKnDCnX5AU3rRqS0PW97g\"\n",
    "agent = GraphQueryAgent(uri, username, password)"
   ]
  },
  {
   "cell_type": "code",
   "execution_count": 2,
   "metadata": {},
   "outputs": [
    {
     "ename": "NameError",
     "evalue": "name 're' is not defined",
     "output_type": "error",
     "traceback": [
      "\u001b[0;31m---------------------------------------------------------------------------\u001b[0m",
      "\u001b[0;31mNameError\u001b[0m                                 Traceback (most recent call last)",
      "Cell \u001b[0;32mIn[2], line 2\u001b[0m\n\u001b[1;32m      1\u001b[0m query \u001b[38;5;241m=\u001b[39m \u001b[38;5;124m\"\u001b[39m\u001b[38;5;124mWhat systematic tends to result in the largest uncertainty in studies of CP violation? Roughly how large are these uncertainties?\u001b[39m\u001b[38;5;124m\"\u001b[39m\n\u001b[0;32m----> 2\u001b[0m answer \u001b[38;5;241m=\u001b[39m \u001b[43magent\u001b[49m\u001b[38;5;241;43m.\u001b[39;49m\u001b[43mquery\u001b[49m\u001b[43m(\u001b[49m\u001b[43mquery\u001b[49m\u001b[43m)\u001b[49m\n",
      "File \u001b[0;32m~/beauty-in-stats/src/graph_rag/GraphQueryAgent.py:266\u001b[0m, in \u001b[0;36mGraphQueryAgent.query\u001b[0;34m(self, query_text)\u001b[0m\n\u001b[1;32m    258\u001b[0m     \u001b[38;5;28;01mreturn\u001b[39;00m {\n\u001b[1;32m    259\u001b[0m         \u001b[38;5;124m\"\u001b[39m\u001b[38;5;124mcypher_query\u001b[39m\u001b[38;5;124m\"\u001b[39m: \u001b[38;5;28;01mNone\u001b[39;00m,\n\u001b[1;32m    260\u001b[0m         \u001b[38;5;124m\"\u001b[39m\u001b[38;5;124mraw_results\u001b[39m\u001b[38;5;124m\"\u001b[39m: \u001b[38;5;28;01mNone\u001b[39;00m,\n\u001b[1;32m    261\u001b[0m         \u001b[38;5;124m\"\u001b[39m\u001b[38;5;124mexplanation\u001b[39m\u001b[38;5;124m\"\u001b[39m: error_msg,\n\u001b[1;32m    262\u001b[0m         \u001b[38;5;124m\"\u001b[39m\u001b[38;5;124msynthesized_answer\u001b[39m\u001b[38;5;124m\"\u001b[39m: error_msg\n\u001b[1;32m    263\u001b[0m     }\n\u001b[1;32m    265\u001b[0m \u001b[38;5;66;03m# Step 2: Process and execute the Cypher query\u001b[39;00m\n\u001b[0;32m--> 266\u001b[0m processed_cypher \u001b[38;5;241m=\u001b[39m \u001b[38;5;28;43mself\u001b[39;49m\u001b[38;5;241;43m.\u001b[39;49m\u001b[43mprocess_cypher_query\u001b[49m\u001b[43m(\u001b[49m\u001b[43mcypher_query\u001b[49m\u001b[43m)\u001b[49m\n\u001b[1;32m    268\u001b[0m \u001b[38;5;28;01mtry\u001b[39;00m:\n\u001b[1;32m    269\u001b[0m     cursor \u001b[38;5;241m=\u001b[39m \u001b[38;5;28mself\u001b[39m\u001b[38;5;241m.\u001b[39mgraph\u001b[38;5;241m.\u001b[39mquery(processed_cypher)\n",
      "File \u001b[0;32m~/beauty-in-stats/src/graph_rag/GraphQueryAgent.py:193\u001b[0m, in \u001b[0;36mGraphQueryAgent.process_cypher_query\u001b[0;34m(self, cypher_query)\u001b[0m\n\u001b[1;32m    190\u001b[0m     embedding \u001b[38;5;241m=\u001b[39m \u001b[38;5;28mlist\u001b[39m(embedding_model\u001b[38;5;241m.\u001b[39mencode(text))\n\u001b[1;32m    191\u001b[0m     \u001b[38;5;28;01mreturn\u001b[39;00m \u001b[38;5;28mstr\u001b[39m(embedding)\n\u001b[0;32m--> 193\u001b[0m processed_cypher \u001b[38;5;241m=\u001b[39m \u001b[43mre\u001b[49m\u001b[38;5;241m.\u001b[39msub(pattern, replacement_function, cypher_query)\n\u001b[1;32m    194\u001b[0m \u001b[38;5;28;01mreturn\u001b[39;00m processed_cypher\n",
      "\u001b[0;31mNameError\u001b[0m: name 're' is not defined"
     ]
    }
   ],
   "source": [
    "query = \"What systematic tends to result in the largest uncertainty in studies of CP violation? Roughly how large are these uncertainties?\"\n",
    "answer = agent.query(query)"
   ]
  },
  {
   "cell_type": "code",
   "execution_count": 16,
   "metadata": {},
   "outputs": [
    {
     "name": "stdout",
     "output_type": "stream",
     "text": [
      "Query: What systematic tends to result in the largest uncertainty in studies of CP violation? Roughly how large are these uncertainties?\n",
      "\n",
      "Cypher Query: MATCH (o:observable) WHERE o.type CONTAINS 'physical_constant' WITH o ORDER BY vector.similarity.cosine(o.embedding, $(\"CP violation\")) DESC LIMIT 20\n",
      "MATCH (u:uncertainty_source)-[r:affects]-(o)\n",
      "WITH u, o, r\n",
      "WHERE u.type <> 'statistical'\n",
      "WITH u.name AS uncertainty_name, u.description AS uncertainty_description, u.arxiv_id AS arxiv_id, o.name AS observable_name, o.arxiv_id AS observable_arxiv, r.ranking AS ranking, r.magnitude AS magnitude\n",
      "WITH uncertainty_name, uncertainty_description, arxiv_id, COLLECT(DISTINCT [observable_name, observable_arxiv]) AS observables, AVG(ranking) AS avg_ranking, COLLECT(DISTINCT magnitude) AS magnitudes\n",
      "RETURN uncertainty_name, uncertainty_description, arxiv_id, observables, avg_ranking, magnitudes\n",
      "ORDER BY avg_ranking ASC\n",
      "LIMIT 20\n",
      "\n",
      "explanation: This Cypher query identifies the systematic uncertainty sources that most significantly impact CP violation studies by focusing on observables classified as physical constants related to CP violation. It retrieves the uncertainty sources affecting these observables, along with their average importance ranking and typical magnitude of their contribution to the total uncertainty. The results are ordered by the average importance ranking to highlight the dominant systematics and include relevant observables and their papers for context.\n",
      "\n",
      "Synthesized Answer:\n",
      " The systematic uncertainty most frequently associated with the largest impact on CP violation measurements is related to **fit model and PDF modeling uncertainties**, which cover the choice and variation of signal and background probability density functions and fit models. These uncertainties affect signal yield extraction and CP observable measurements, with magnitudes typically in the range of about 0.4% to 1.5% (0.43–1.45 × 10⁻²) [2308.00587, 2411.19781, 2311.10434]. Similarly, **strong-phase parameter uncertainties** (c_i, s_i) also contribute significantly, with uncertainties ranging roughly from 0.18% to 2.33% (0.18–2.33 × 10⁻²) [2309.05514, 2311.10434].\n",
      "\n",
      "Other notable large systematics include **external branching fraction uncertainties**, which can reach up to about 0.28% (0.028 mode dependent) and 0.33–1.09% (0.33–1.09 × 10⁻²) depending on the mode [2308.00587, 2311.10434], and **particle identification and detection asymmetries**, which are typically on the order of a few per mille to a few percent (e.g., around 0.25% or 0.010 in some cases) [2412.13958, 2411.15441]. \n",
      "\n",
      "Other systematics such as **hardware trigger efficiency corrections** and **background shape modeling** also contribute uncertainties at the sub-percent level (around 0.2% or less) [2412.13958, 2306.12746]. Several uncertainties related to flavor tagging calibration, mass shape modeling, and software trigger selection appear with somewhat smaller magnitudes but remain relevant.\n",
      "\n",
      "In summary, the largest systematic uncertainties in CP violation studies tend to arise from fit model/PDF choices and strong-phase parameter inputs, with typical magnitudes up to a few percent or a few times 10⁻² in absolute terms. Many other systematics contribute at the sub-percent level. Exact magnitudes can be mode-dependent and are often evaluated by varying models or external inputs within their uncertainties [2308.00587, 2311.10434, 2411.19781].\n"
     ]
    }
   ],
   "source": [
    "print(\"Query:\", query)\n",
    "print(\"\\nCypher Query:\", answer[\"cypher_query\"])\n",
    "print(\"\\nexplanation:\", answer[\"explanation\"])\n",
    "print(\"\\nSynthesized Answer:\\n\", answer[\"synthesized_answer\"])"
   ]
  },
  {
   "cell_type": "code",
   "execution_count": 8,
   "metadata": {},
   "outputs": [
    {
     "name": "stdout",
     "output_type": "stream",
     "text": [
      "MATCH (o:observable) WHERE o.type CONTAINS 'physical_constant' WITH o ORDER BY vector.similarity.cosine(o.embedding, [-0.002668354, 0.014479429, -0.036080487, 0.022082537, -0.015610004, -0.023077147, -0.022156319, 0.002087259, -0.018545624, -0.0027308273, 0.023635834, -0.03224365, 0.018095437, -0.0036364584, 0.021645857, -0.032337744, 0.031136252, -0.011478264, -0.03174111, -0.020712188, 0.023705246, -0.04409919, -0.0008243269, 0.04496399, -0.039289396, 0.018980563, -0.004292594, -0.016523592, -0.035786852, -0.01370339, -0.027106859, -0.049007773, 0.027676182, -0.06254653, 0.003279017, -0.048825674, 0.0006639421, 0.001900897, -0.052226108, 0.024750035, 0.012985992, -0.06204855, 0.006578718, -0.038730275, 0.0329035, -0.02190374, 0.0044309385, -0.036377124, 0.0009073392, -0.014752998, 0.021476507, 0.043894425, 0.017962892, -0.051165454, 0.057382576, 0.022970937, -0.0036581885, -0.012254066, -0.041973393, -0.04240697, -0.025960611, -0.038928524, 0.023840323, 0.022106225, -0.008647565, 0.10789303, 0.016047275, -0.0071857865, 0.0060944934, -0.027009668, 0.017089944, 0.05248169, 0.045632366, -0.030932153, -0.062349718, 0.008510062, -0.009384108, 0.013257438, 0.0226182, 0.013949336, 0.046335913, 0.011503589, 0.011659442, 0.017094394, 0.014145815, 0.019558765, -0.029220792, -0.0018031507, -0.032798056, 0.0011257402, 0.012195466, -0.024036696, 0.009042612, 0.021802668, -0.040343944, -0.03747557, 0.007737874, 0.027284963, -0.017543739, 0.08168338, -0.03531323, 0.018297391, 0.012540377, -0.0582116, 0.041215748, -0.02570524, 0.0065777865, 0.012781982, -0.0056434846, 0.02206347, 0.034218084, 0.041718837, 0.02899562, -0.015908806, 0.012614729, 0.017094368, -0.03133889, -0.041517217, 0.0027972932, -0.020183899, -0.006042446, 0.014551845, 0.049499966, -0.03611789, -0.016154718, -0.018073315, 0.022927519, 0.010942531, -0.014102871, 0.017499262, 0.017023567, 0.020471232, -0.053996954, -0.015119613, -0.021937981, -0.0051356778, -0.03378202, -0.04763768, -0.009593487, -0.05180593, -0.0057852804, 0.019205308, -0.061649755, -0.04186389, -0.0050073457, -0.01419287, 0.01588881, -0.03268717, 0.012098705, 0.011956182, -0.022220029, -0.00060347165, 0.05345879, -0.0566161, 0.012462059, -0.000311609, -0.026147455, -0.020542214, -0.005702682, -0.016342442, 0.025268327, 0.029081646, -0.021840693, -0.00039450268, 0.03358456, 0.008131376, 0.061892822, -0.008406319, -0.034421798, 0.0071754563, 0.023355639, 0.005646249, -0.024639493, -0.06065854, 0.04540869, -0.0010874087, 0.049181603, 0.014514097, -0.022620548, -0.042235605, 0.025495572, 0.03223154, 0.006451215, -0.055479463, -0.010519364, -0.013407994, 0.012634621, 0.005083641, -0.0034600329, 0.017161125, 0.004076453, -0.018292869, 0.049581416, 0.0018117137, 0.003662933, -0.020766053, 0.025374316, -0.019177794, 0.0024732177, 0.002169374, 3.3912467e-05, 0.007784178, 0.026937917, -0.03357431, -0.0395781, -0.0064191027, -0.006829412, -0.014105116, 0.023915539, -0.053494588, -0.021303432, -0.009165406, 0.009309493, 0.040637504, -0.031879105, 0.019850928, 0.0030190807, -0.028229332, 0.012356291, -0.0032852914, 0.00065442384, 0.0047283364, -0.060175635, 0.035877123, 0.008196042, 0.028091725, 0.0001769737, 0.056958463, 0.013926937, 0.012730145, -0.010435837, -0.0007660061, -0.006109695, 0.012236479, 0.023870513, 0.061776556, 0.01778434, 0.033968788, 0.05547034, 0.006435994, 0.015372003, -0.007892332, 0.05670874, -0.0031930325, 0.042928506, -0.00783511, -0.0048628077, 0.01823286, -0.040650446, 0.0011123449, 0.03145642, -0.0357371, 0.010522592, 0.02646388, -0.021176478, 0.035977397, 0.01654153, 0.010449267, 0.049118638, 0.016514568, -0.0010708937, 0.008226911, 0.06948421, 0.015024008, 0.005664296, -0.009829758, -0.012113823, -0.013738555, 0.0077944524, -0.043889232, 0.015243737, -0.02204763, -0.014759677, 0.031742398, 0.0030133403, 0.030239863, 0.057667945, -0.03470695, 0.02192397, 0.0045455596, 0.07522795, 0.025970332, 0.027750604, -0.042338435, 0.013927414, 0.0448929, -0.042122077, -0.024232633, -0.005528828, 0.001393863, 0.01107556, 0.0040164595, 0.07719453, 0.0493151, -0.008793433, 0.012211937, -0.040173322, -0.12680535, 0.03973209, -0.019496603, 0.021444218, 0.044021178, -0.0025474427, -0.01834143, -0.025809499, -0.013746299, 0.0001636925, -0.021000251, -0.056627132, -0.03434624, -0.017255163, 0.03747174, -0.011616149, -0.012706577, -0.042573053, 0.016523313, -0.023239406, 0.009161513, -0.025440423, 0.017581834, -0.05950651, -0.030636892, -0.016584938, 0.0663972, -0.00767519, -0.06278237, 0.023893695, -0.010454569, -0.039344747, -0.009959886, 0.047773648, -0.0071108555, -0.0029889941, 0.037145887, -0.056471612, 0.015690373, 0.0022498013, 0.0210606, 0.066017695, 0.0006879076, 0.023544615, 0.027340459, -0.03931247, -0.049109574, 0.0033701418, -0.02940189, 0.029216073, -0.03405718, 0.008270727, -0.018389776, -0.011850173, 0.007347219, 0.0060520517, -0.006007589, 0.025369322, -0.05073832, 0.0066183945, -0.044296503, -0.046014458, -0.00655302, 0.0016150865, -0.02047634, 0.02741153, -0.026419818, -0.018559428, 0.03632231, -0.019110372, 0.00041735094, -0.020484766, 0.007132057, -0.039739203, -0.041095566, 0.014546763, -0.033208746, 0.0154936025, -0.031870253, -0.116372846, -0.033113513, 0.011560537, -0.0342075, 0.037264585, -0.032315187, -0.035438605, 0.014171532, 0.01917099, 0.039925467, 0.2322863, -0.0046884115, -0.005920355, -0.02391283, 0.014009915, -0.025045013, -0.025002472, -0.016909726, -0.013789665, -0.040253952, -0.04698409, -0.037631467, 0.009855427, -0.04476144, -0.02848257, -0.00053510844, 0.028975947, -0.041159216, 0.07147254, -0.064709134, -0.04049483, 0.010406695, 0.039950576, 0.052633315, -0.031439755, -0.084836975, -0.029802185, 0.0053638793, -0.011189569, -0.010453245, -0.015334361, -0.025328455, 0.048287906, -0.031032043, 0.008509209, -0.009345076, -0.03971646, -0.026853407, 0.012220984, 0.03254125, 0.020538725, -0.05161568, -0.014310231, 0.014980297, 0.019462198, -0.040081896, -0.009883859, -0.020631012, -0.0023857506, 0.011340772, -0.02950793, 0.0268081, -0.008566022, 0.0089615155, -0.058236185, -0.0065085073, 0.0061653703, -0.028035775, -0.02021603, 0.028671104, 0.037868354, -0.015722513, -0.024334555, 0.091218606, -0.010614952, 0.022320688, 0.03634154, -0.024086434, -0.0013557889, -0.011220668, 0.0825615, 0.0138149, -0.026126964, 0.015580729, 0.059139375, -0.011797064, 0.008849954, 0.01270366, -0.007480652, 0.0084290905, 0.0043659485, -0.036121562, -0.012756634, -0.010727367, 0.0049924366, -0.033150416, 0.0329273, 0.039258245, 0.0050004, -0.042702537, 0.018491525, 0.0023957922, -0.0044074496, 0.06701078, -0.0336011, 0.013906587, 0.0021706298, 0.031980667, -0.03469461, -0.007169227, -0.033839356, -0.012268298, 0.039326686, -0.027963512, 0.022077661, 0.0020673824, 0.035806056, 0.0032207125, -0.041136093, -0.032360874, 0.059611913, 0.03152537, 0.011982345, -0.0060919803, -0.019775763, 0.03210756, -0.0022415554, 0.051324967, 0.05447766, 0.034055162, -0.015598092, 0.041615583, -0.0047267214, 0.047749773, 0.0020441941, -0.0031003535, -0.055049453, -0.030968098, -0.05235554, 0.059154846, -0.037245646, -0.009358666, -0.030800497, 0.06302229, 0.028802862, -0.031463463, 0.009836386, 0.00034916672, 0.019002425, 0.007240352, -0.05191834, -0.024060182, 0.00040751274, 0.044109296, 0.012599424, -0.037393022, -0.029963395, 0.0025854742, -0.002423662, -0.002572426, -0.014858258, 0.01720362, -0.008787892, -0.01981886, -0.017843785, -0.051086698, 0.0049171937, -0.03722273, -0.027827686, 0.007358135, -0.028158003, -0.017097285, -0.04492268, 0.0021568001, 0.020756574, 0.025472146, -0.013012262, 0.06431788, 0.0035133502, 0.016655352, 0.031494357, -0.0012697103, -0.049075086, 0.08643602, 0.021628488, -0.005206417, -0.006477902, -0.022277659, -6.9045906e-05, 0.013111287, 0.026982639, 0.0055746525, 0.00025936813, -0.04075945, -0.0056433193, 0.008394089, -0.0032203104, -0.014725634, -0.043135706, -0.0009162335, -0.07791169, 0.07406384, 0.019531405, 0.012352364, 0.008505719, 0.030119834, -0.010474931, 0.022496603, 0.032774083, -0.019312575, 0.011130069, -0.011878231, -0.026268382, -0.0072215046, -0.012007599, -0.027873334, 0.0005217082, 0.0007119807, 0.010638247, -0.037258934, -0.05042948, 0.040024083, -0.047042385, 0.0040817703, -0.014846112, 0.051576756, 0.061389588, -0.034853514, 0.01969416, -0.019041058, 0.014541271, 0.007973589, 0.043260094, -0.006932701, -0.01199287, -0.015923139, -0.0017775422, -0.0009273616, 0.027469616, 0.028240694, 0.02068794, -0.09403453, -0.026288768, -0.017035216, 0.0035431786, 0.024244973, 0.004305936, 0.02504728, 0.03178698, 0.0033134993, 0.052430328, 0.0058406508, 0.025837207, 0.069597, 0.04835354, 0.007131903, -0.035340864, -0.0236256, 0.051478803, 0.0595393, -0.011921784, 0.06428168, 0.026629386, -0.029825194, -0.030613603, -0.0067585367, -0.018946102, -0.00026504043, -0.016479747, -0.019676795, 0.04331339, 0.009405214, -0.02990857, -0.0117306765, 0.004315927, -0.032473963, 0.018815007, -0.020531638, 0.0073719, -0.038328372, 0.010380673, 0.019236052, 0.019406706, 0.024114873, 0.013809995, -0.030624958, -0.004300612, 0.059019193, 0.071213156, 0.007139252, 0.03359743, -0.00046081436, -0.020918908, -0.0028896742, 0.029143367, 0.049306806, 0.045796003, -0.008813999, 0.022861153, 0.0034380301, -0.017280994, -0.036818553, -0.07198416, 0.004445391, -0.015360521, -0.015082641, -0.039549395, 0.06052229, -0.008563064, 0.030499619, 0.013205823, 0.03832604, -0.055272285, -0.052308187, -0.005675344, -0.0052077807, 0.033566575, 0.014574257, 0.046178278, 0.026297443, 0.027299572, -0.061372954, 0.00094279397, -0.019999372, 0.0053935205, -0.018132595, -0.02015653, -0.0038708702, 0.011623041, -0.012864491, -0.06580075, 0.0149320485, 0.02398136, 0.0019440246, -0.048379183, 0.023209268, -0.031107957, -0.007108393, -0.0060157487, -0.03010457, -0.013244115, 0.007362176, -0.0142511455, 0.0014714666, 0.00080835586, 0.042303845, -0.025633859, -0.033780634, 0.08393218, 0.037950985, -0.006688677, -0.01368424, 0.013389739, 0.00963361, 0.0043155393, -0.02620491, 0.00028285867, -0.00606346, 0.041924883, 0.001828415, -0.018300496, 0.02533679, -0.0336721, -0.01278917, -0.018640656, 0.042025674, 0.022953354, 0.03370284, -0.049167994, -0.015627403, 0.0074939793, 0.043411262, -0.044877127, 0.030515395, 0.042042907, 0.009129593, 0.017277595, 0.028059138, 0.023158034, -0.050588727, -0.02812813, -0.033836834, -0.018467536, 0.015055048, -0.00029225, 0.009804572, -0.012863413, -0.025308134, 0.009202054, -0.01919444, -0.015225995, -0.028811157, -0.062349427, 0.001510176, -0.0051464397, -0.017210329, -0.023355108, -0.019707223, 0.058795385, 0.024895735, -0.017466497, -0.032178167, -0.016893847, -0.017605001, -0.11760162, 0.022467643, -0.007542733, -0.029177452, -0.041684493, 0.013130164, 0.0054313317, -0.014259111, 0.007446414, -0.053776078, -0.033994257, 0.012351537, 0.00021307034, -0.018333012, -0.009146038, -0.002521899, 0.025084564, 0.0104918545, 0.03851734, -0.0019524473, -0.019756524, 0.05945641, 0.017680468, -0.00536051, 0.004959109, 0.008536736, -0.014052771, -0.049096018, -0.046025462, -0.06403912, 0.0029917085, -0.055297144, 0.04260764, 0.019316483, -0.017494112, 0.013920986, 0.018992504, -0.016980564, -0.014038692, -0.018455703, 0.033333905, -0.0002005385, -0.026676895, -0.011953609, 0.019875262, 0.0068645086, -0.017067626, 0.0015586297, -0.037783913, -0.0033389966, -0.020985946, 0.0074180407, -0.039836336, -0.0026319893, 0.028941587, 0.037731994, -0.022050653, 0.0058978545, 0.005784193, 0.024695735, -0.03207843, 0.0125346165, -0.06461271, -0.052352007, -0.027532687, 0.020197777, -0.021711221, 0.024479194, 0.0045257974, 0.040181655, 0.0070592663, 0.012270788, 0.04300103, -0.038337644, -0.056302976, 0.029217403, 0.06844842, 0.034865677, 0.021480208, -0.008911607, -0.05791569, 0.007416217, 0.0082592955, -0.025441008, -0.018990172, 0.0022266426, 0.014663271, -0.017032618, -0.0028850418, -0.007406237, -0.07123309, 0.012657189, -0.009519597, 0.0392637, 0.029479202, -0.00516363, -0.019271465, 0.012468777, -0.035641044, 0.008345999, -0.0025038547, -0.033171523, -0.0013970418, -0.0044726827, -0.02439417, 0.0125490865, -0.034690868, 0.00078658824, 0.0059288885, -0.008779954, -0.01775994, 0.0072106207, -0.008775923, 0.013920325, -0.010770937, -0.03898876, 0.00073184393, -0.010668189, 0.040902052, 0.023169057, -0.0012864216, -0.01931032, 0.045896783, -0.03689455, -0.015610975, 0.0031264084, 0.051487904, 0.020305198, 0.021341866, -0.0032052742, 0.05578522, 0.0073051495, 0.0038695866, 0.010699419, -0.0032019122, 0.03689315, 0.008983642, 0.025740176, 0.029345036, -0.02547774, -0.0013735228, 0.031155834, -0.008426022, -0.011700833, 0.00794882, -0.016757777, 0.001617749, -0.047732677, -0.014482793, -0.04779833, 0.019386146, 0.013041877, -0.0047235307, 0.031171229, -0.072365426, -0.004073015, -0.020690931, 0.042824794, 0.06319426, 0.0068063075, -0.015285571, -0.009271469, 0.0011187085, -0.050586686, -0.0010146446, 0.031024866, -0.009835777, 0.009156796, -0.006141365, -0.018560443, -0.0055057947, 0.04231331, -0.03191793, 0.051944192, 0.018239848, -0.0048575187, -0.01810039, -0.0449416, -0.0008241276, 0.0012287599, 0.0304737, 0.037876725, -0.02605171, 0.0035142372, -0.034544453, 0.040153183, 0.029994486, 0.023273876, -0.04478705, -0.042730313, -0.007279652, -0.0037091982, -0.011187666, 0.010977869, 0.016536145, -4.407729e-05, 0.018165268, -0.0021615466, -0.029274583, 0.014661036, 0.045146912, -0.045889694, -0.022334969, -0.0144625455, -0.05492197, 0.020627374, -0.007845157, 0.03227629, 0.0005802022, 0.06134362, -0.003954564, -0.020147702, -0.0065628192, 0.03457227, -0.0061731986, 0.014513789, -0.0073551065, 0.010899558, -0.009076566, 0.0022115707, -0.0033678561, 0.028666573, -0.006247034, -0.042622305, -0.0008890052, 0.025961773, -0.025486989, -0.003963526, 0.072757505, 0.00350735, 0.010141335, -0.0040588495, -0.02330335, 0.028281534, 0.028144062, -0.021103546, 0.00043956633, 0.028051414, -0.05012601, -0.035575982, 0.018521765, -0.047172755, -0.018872432, 0.051848166]) DESC LIMIT 20\n",
      "MATCH (u:uncertainty_source)-[r:affects]-(o)\n",
      "WITH u, o, r\n",
      "WHERE u.type <> 'statistical'\n",
      "WITH u.name AS uncertainty_name, u.description AS uncertainty_description, u.arxiv_id AS arxiv_id, o.name AS observable_name, o.arxiv_id AS observable_arxiv, r.ranking AS ranking, r.magnitude AS magnitude\n",
      "WITH uncertainty_name, uncertainty_description, arxiv_id, COLLECT(DISTINCT [observable_name, observable_arxiv]) AS observables, AVG(ranking) AS avg_ranking, COLLECT(DISTINCT magnitude) AS magnitudes\n",
      "RETURN uncertainty_name, uncertainty_description, arxiv_id, observables, avg_ranking, magnitudes\n",
      "ORDER BY avg_ranking ASC\n",
      "LIMIT 20\n",
      "\n"
     ]
    }
   ],
   "source": [
    "print(agent.process_cypher_query(\"\"\"MATCH (o:observable) WHERE o.type CONTAINS 'physical_constant' WITH o ORDER BY vector.similarity.cosine(o.embedding, $(\"CP violation\")) DESC LIMIT 20\n",
    "MATCH (u:uncertainty_source)-[r:affects]-(o)\n",
    "WITH u, o, r\n",
    "WHERE u.type <> 'statistical'\n",
    "WITH u.name AS uncertainty_name, u.description AS uncertainty_description, u.arxiv_id AS arxiv_id, o.name AS observable_name, o.arxiv_id AS observable_arxiv, r.ranking AS ranking, r.magnitude AS magnitude\n",
    "WITH uncertainty_name, uncertainty_description, arxiv_id, COLLECT(DISTINCT [observable_name, observable_arxiv]) AS observables, AVG(ranking) AS avg_ranking, COLLECT(DISTINCT magnitude) AS magnitudes\n",
    "RETURN uncertainty_name, uncertainty_description, arxiv_id, observables, avg_ranking, magnitudes\n",
    "ORDER BY avg_ranking ASC\n",
    "LIMIT 20\n",
    "\"\"\"))"
   ]
  },
  {
   "cell_type": "code",
   "execution_count": null,
   "metadata": {},
   "outputs": [],
   "source": []
  }
 ],
 "metadata": {
  "kernelspec": {
   "display_name": "Python (BeautyInStats)",
   "language": "python",
   "name": "beautyinstats"
  },
  "language_info": {
   "codemirror_mode": {
    "name": "ipython",
    "version": 3
   },
   "file_extension": ".py",
   "mimetype": "text/x-python",
   "name": "python",
   "nbconvert_exporter": "python",
   "pygments_lexer": "ipython3",
   "version": "3.10.16"
  }
 },
 "nbformat": 4,
 "nbformat_minor": 2
}
