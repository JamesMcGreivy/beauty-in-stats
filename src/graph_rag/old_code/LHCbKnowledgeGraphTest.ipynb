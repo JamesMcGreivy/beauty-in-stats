{
 "cells": [
  {
   "cell_type": "code",
   "execution_count": 1,
   "metadata": {},
   "outputs": [],
   "source": [
    "import numpy as np\n",
    "import os\n",
    "import matplotlib.pyplot as plt\n",
    "import matplotlib\n",
    "import regex as re \n",
    "import subprocess\n",
    "import importlib\n",
    "from collections import deque\n",
    "\n",
    "from llama_index.core.node_parser import SentenceSplitter\n",
    "from llama_index.core import Document\n",
    "\n",
    "from llama_index.llms.openai import OpenAI\n",
    "llm = OpenAI(temperature=0, model=\"gpt-4o-mini\")\n",
    "\n",
    "os.chdir(\"/work/submit/mcgreivy/beauty-in-stats/graph_rag\")\n",
    "\n",
    "import LHCbKnowledgeGraph\n",
    "importlib.reload(LHCbKnowledgeGraph)\n",
    "\n",
    "import nest_asyncio\n",
    "nest_asyncio.apply()"
   ]
  },
  {
   "cell_type": "markdown",
   "metadata": {},
   "source": [
    "Chunked Stats Corpus"
   ]
  },
  {
   "cell_type": "code",
   "execution_count": 2,
   "metadata": {},
   "outputs": [],
   "source": [
    "def clean_latex(text):\n",
    "    environments = [\n",
    "        r'\\\\begin\\{figure\\*?\\}.*?\\\\end\\{figure\\*?\\}',\n",
    "        r'\\\\begin\\{wrapfigure\\*?\\}.*?\\\\end\\{wrapfigure\\*?\\}',\n",
    "        r'\\\\begin\\{thebibliography\\}.*?\\\\end\\{thebibliography\\}',\n",
    "        r'\\\\label\\{.*?\\}',\n",
    "        r'.*\\\\begin\\{document\\}',\n",
    "    ]\n",
    "    \n",
    "    for pattern in environments:\n",
    "        text = re.sub(pattern, ' ', text, flags=re.DOTALL)\n",
    "\n",
    "    marker = \"\\\\section{Introduction}\"\n",
    "    position = text.find(marker)\n",
    "    if position > 0:\n",
    "        text = text[position:]\n",
    "\n",
    "    text = re.sub(r'\\%.*\\n', \"\", text)\n",
    "    text = re.sub(r\"\\n\\s*\", \"\\n\", text)\n",
    "    text = re.sub(r'([^\\S\\n])+', ' ', text)\n",
    "    return text\n",
    "\n",
    "def split_sections(text, depth=0, title=\"\", max_tokens=6000):\n",
    "    pattern = r\"(\\\\\" + \"sub\" * depth + r\"section[\\*\\s]*(?:\\[[^\\]]*\\])?\\s*({(?:[^{}]*+|(?2))*}))\"\n",
    "    matches = re.finditer(pattern, text)\n",
    "\n",
    "    if not matches or depth > 3:\n",
    "        return [text]\n",
    "\n",
    "    sections = []\n",
    "    start = 0\n",
    "    section_title = \"\"\n",
    "    for match in [(match.start(), match.end()) for match in matches] + [(-1, -1)]:\n",
    "        end = match[0]\n",
    "        section_text = text[start:end]\n",
    "        if len(re.sub(\"\\s\", \"\", section_text)) > 0:\n",
    "            new_title = f\"{title}\\n{section_title}\" if len(title) > 0 else section_title\n",
    "            num_tokens = len(LHCbKnowledgeGraph.embedding_model.tokenizer.tokenize(section_text))\n",
    "            if num_tokens > max_tokens:\n",
    "                sections.extend(split_sections(section_text, depth=depth+1, title=new_title))\n",
    "            else:\n",
    "                sections.append(new_title + section_text)\n",
    "\n",
    "        start = match[1]\n",
    "        section_title = text[end:start]\n",
    "\n",
    "    return sections"
   ]
  },
  {
   "cell_type": "code",
   "execution_count": 3,
   "metadata": {},
   "outputs": [],
   "source": [
    "chunks = []\n",
    "i = 0\n",
    "corpus_path = \"/work/submit/mcgreivy/beauty-in-stats/src/scraper/data/cleaned_tex\"\n",
    "for file in os.listdir(corpus_path):\n",
    "    if file.endswith(\".tex\"):\n",
    "        file_path = os.path.join(corpus_path, file)\n",
    "        with open(file_path) as f:\n",
    "            if i != 5:\n",
    "                i += 1\n",
    "                continue\n",
    "            text = clean_latex(f.read())\n",
    "            sections = split_sections(text)\n",
    "            chunks.extend(sections)\n",
    "            break"
   ]
  },
  {
   "cell_type": "code",
   "execution_count": 15,
   "metadata": {},
   "outputs": [
    {
     "name": "stdout",
     "output_type": "stream",
     "text": [
      "\\section{Systematic uncertainties}\n",
      "Systematic uncertainties on the {{\\calB} ( {{{\\Lambda} ^0_{ b } } {\\to} { J / {\\psi} } {{\\Xi} ^-} {{ K } ^+} } )/{\\calB} ( {{{\\Lambda} ^0_{ b } } {\\to} { J / {\\psi} } {\\Lambda} } )} and {{\\calB} ( {{{\\Xi} ^0_{ b } } {\\to} { J / {\\psi} } {{\\Xi} ^-} {{\\pi} ^+} } )/{\\calB} ( {{{\\Xi} ^-_{ b } } {\\to} { J / {\\psi} } {{\\Xi} ^-} } )} measurements arise from several sources. A summary of the uncertainties is provided in Table~\\ref{tab:systematics:summary}.\n",
      "\\begin{table}[!htb]\n",
      "\\caption{Summary of relative systematic uncertainties (in percent) for the measured ratio of branching fractions. The individual sources are described in the text. The total relative uncertainty is determined by adding the individual sources in quadrature.}\n",
      "\\begin{tabular}{lcc}\n",
      "\\hline\n",
      "Source & {\\frac{\\mathlarger{\\calB}( {{{\\Lambda} ^0_{ b } } {\\to} { J / {\\psi} } {{\\Xi} ^-} {{ K } ^+} } )}{\\mathlarger{\\calB}( {{{\\Lambda} ^0_{ b } } {\\to} { J / {\\psi} } {\\Lambda} } )}} [\\\\hline\n",
      "Fit model &1.9& 1.3 \\\\ \n",
      "Size of the simulated samples & 0.9& 1.2 \\\\ \n",
      "Corrections to simulation & 3.4 & 1.1 \\\\ \n",
      "Alternative corrections & 1.1 & 1.2 \\\\\n",
      "Additional corrections & 1.9 & 1.0 \\\\ \n",
      "Tracking efficiency & 1.5 & 1.4 \\\\ \n",
      "Truth matching & 1.3 & 1.2 \\\\ \n",
      "Phase-space model & 4.5 & 3.8 \\\\ \n",
      "\\hline\n",
      "Total & 6.7 & 5.0 \\\\ \n",
      "\\hline\n",
      "\\end{tabular}\n",
      "\\end{table}\n",
      "The systematic effect due to the choice of the invariant-mass fit model is assessed by means of pseudoexperiments wherein the invariant-mass distribution is generated with an alternative model and fitted using the baseline model. The alternative model replaces the two Crystal Ball functions by an Hypatia function (or vice versa for the {{{\\Lambda} ^0_{ b } } {\\to} { J / {\\psi} } {\\Lambda} } case) for the signal. The physical backgrounds in the {{{\\Lambda} ^0_{ b } } {\\to} { J / {\\psi} } {\\Lambda} } channel are both modelled with a single Crystal Ball function in the alternative model. \n",
      "The uncertainty on the selection efficiencies originating from the limited size of the simulated samples is propagated to the branching fraction and considered as a systematic uncertainty. \n",
      "The corrections applied to the simulation to improve the agreement with data are obtained with an uncertainty. The effect of this limited precision is assessed by varying the corrections within their uncertainty and recomputing the efficiencies 100 times. The standard deviation of the efficiency variation is assigned as a systematic uncertainty.\n",
      "The {\\chi^2} distribution of each kinematic fit is corrected using the normalisation channels as calibration samples. While the normalisation decay topology is similar, it is not identical to the signal decay.\n",
      "Alternative corrections for the simulations are derived by swapping the calibration channel, { i.e.} using the {{{\\Lambda} ^0_{ b } } {\\to} { J / {\\psi} } {\\Lambda} } channel for {{{\\Xi} ^0_{ b } } {\\to} { J / {\\psi} } {{\\Xi} ^-} {{\\pi} ^+} } corrections and the {{{\\Xi} ^-_{ b } } {\\to} { J / {\\psi} } {{\\Xi} ^-} } channel for {{{\\Lambda} ^0_{ b } } {\\to} { J / {\\psi} } {{\\Xi} ^-} {{ K } ^+} } corrections. The variation in the efficiency is assigned as the systematic uncertainty.\n",
      "After applying the baseline corrections to the simulation, some level of mismodelling remains in variables not used directly in the selection. The effect of this mismodelling is assessed by recomputing the efficiencies after correcting the additional distributions and the difference with respect to the baseline efficiency is added as a systematic uncertainty.\n",
      "The signal channels feature a prompt hadron without a counterpart in the normalisation channel. An additional uncertainty on tracking efficiency of 1.4 \\Efficiencies are determined from simulated samples and rely on an accurate match between generated and reconstructed decays. In some cases, this so-called truth matching can fail if the fraction of hits associated between the reconstructed track and the generated particle does not reach a minimum threshold. The effect of such potential incorrect matching is evaluated by recomputing the efficiencies with an alternative method that does not rely on truth matching. Instead, the number of signal events after the selection, required to compute the efficiency, is determined by an invariant-mass fit of the { b } -hadron spectrum, similar to the approach used for data. The difference in efficiency derived from the baseline and the alternative method is assigned as the systematic uncertainty.\n",
      "Lastly, inaccuracies in the phase-space model used for signal simulation could affect the derived efficiency. The decay dynamics and angular distributions are corrected using the signal channels. The effect of the limited precision on the derived corrections is assessed by recalculating 100 times the efficiencies after varying the correction factors within their statistical uncertainty. The standard deviation is assigned as the systematic uncertainty.\n",
      "The systematic uncertainties described in the section above are considered to be uncorrelated and added in quadrature.\n",
      "\n"
     ]
    }
   ],
   "source": [
    "entities = []\n",
    "for chunk in chunks[]:\n",
    "    print(chunk)\n",
    "    prompt = LHCbKnowledgeGraph.get_lhcb_entity_extraction_prompt(chunk)\n",
    "    found_entities = eval(llm.complete(prompt).text)\n",
    "    entities.extend(found_entities)"
   ]
  },
  {
   "cell_type": "code",
   "execution_count": 16,
   "metadata": {},
   "outputs": [
    {
     "name": "stdout",
     "output_type": "stream",
     "text": [
      "{'entity_name': 'branching fraction ratio of Λ^0_b to J/ψ Ξ^- K^+', 'entity_type': 'measurement_quantity', 'justification': 'This quantity is measured as part of the systematic uncertainties analysis, specifically for the decay process Λ^0_b to J/ψ Ξ^- K^+.'}\n",
      "{'entity_name': 'branching fraction ratio of Ξ^0_b to J/ψ Ξ^- π^+', 'entity_type': 'measurement_quantity', 'justification': 'This quantity is also measured in the context of systematic uncertainties, specifically for the decay process Ξ^0_b to J/ψ Ξ^- π^+.'}\n",
      "{'entity_name': 'Λ^0_b to J/ψ Ξ^- K^+', 'entity_type': 'decay_process', 'justification': 'This decay process is part of the branching fraction ratio being measured and analyzed for systematic uncertainties.'}\n",
      "{'entity_name': 'Ξ^0_b to J/ψ Ξ^- π^+', 'entity_type': 'decay_process', 'justification': 'This decay process is included in the analysis of the branching fraction ratio and associated systematic uncertainties.'}\n",
      "{'entity_name': 'Λ^0_b to J/ψ Λ', 'entity_type': 'decay_process', 'justification': 'This decay process serves as the normalization channel for the branching fraction ratio involving Λ^0_b to J/ψ Ξ^- K^+.'}\n",
      "{'entity_name': 'Ξ^-_b to J/ψ Ξ^-', 'entity_type': 'decay_process', 'justification': 'This decay process is used as a normalization channel for the branching fraction ratio involving Ξ^0_b to J/ψ Ξ^- π^+.'}\n",
      "{'entity_name': 'fit model', 'entity_type': 'systematic_uncertainty_source', 'magnitude': '1.9% for Λ^0_b to J/ψ Ξ^- K^+ and 1.3% for Ξ^0_b to J/ψ Ξ^- π^+', 'justification': 'The systematic uncertainty due to the choice of the invariant-mass fit model is assessed through pseudoexperiments.'}\n",
      "{'entity_name': 'size of the simulated samples', 'entity_type': 'systematic_uncertainty_source', 'magnitude': '0.9% for Λ^0_b to J/ψ Ξ^- K^+ and 1.2% for Ξ^0_b to J/ψ Ξ^- π^+', 'justification': 'The uncertainty on the selection efficiencies originating from the limited size of the simulated samples is propagated to the branching fraction.'}\n",
      "{'entity_name': 'corrections to simulation', 'entity_type': 'systematic_uncertainty_source', 'magnitude': '3.4% for Λ^0_b to J/ψ Ξ^- K^+ and 1.1% for Ξ^0_b to J/ψ Ξ^- π^+', 'justification': 'The corrections applied to the simulation to improve agreement with data introduce a systematic uncertainty.'}\n",
      "{'entity_name': 'alternative corrections', 'entity_type': 'systematic_uncertainty_source', 'magnitude': '1.1% for Λ^0_b to J/ψ Ξ^- K^+ and 1.2% for Ξ^0_b to J/ψ Ξ^- π^+', 'justification': 'Alternative corrections for the simulations are derived by swapping the calibration channel, contributing to systematic uncertainty.'}\n",
      "{'entity_name': 'additional corrections', 'entity_type': 'systematic_uncertainty_source', 'magnitude': '1.9% for Λ^0_b to J/ψ Ξ^- K^+ and 1.0% for Ξ^0_b to J/ψ Ξ^- π^+', 'justification': 'The effect of mismodelling in variables not used directly in the selection leads to additional systematic uncertainty.'}\n",
      "{'entity_name': 'tracking efficiency', 'entity_type': 'systematic_uncertainty_source', 'magnitude': '1.5% for Λ^0_b to J/ψ Ξ^- K^+ and 1.4% for Ξ^0_b to J/ψ Ξ^- π^+', 'justification': 'An additional uncertainty on tracking efficiency is introduced due to the accuracy of matching generated and reconstructed decays.'}\n",
      "{'entity_name': 'truth matching', 'entity_type': 'systematic_uncertainty_source', 'magnitude': '1.3% for Λ^0_b to J/ψ Ξ^- K^+ and 1.2% for Ξ^0_b to J/ψ Ξ^- π^+', 'justification': 'The effect of potential incorrect matching in truth matching is evaluated and assigned as a systematic uncertainty.'}\n",
      "{'entity_name': 'phase-space model', 'entity_type': 'systematic_uncertainty_source', 'magnitude': '4.5% for Λ^0_b to J/ψ Ξ^- K^+ and 3.8% for Ξ^0_b to J/ψ Ξ^- π^+', 'justification': 'Inaccuracies in the phase-space model used for signal simulation could affect the derived efficiency, leading to systematic uncertainty.'}\n",
      "{'entity_name': 'systematic uncertainties addition method', 'entity_type': 'systematic_handling_method', 'justification': 'The systematic uncertainties are considered to be uncorrelated and added in quadrature to determine the total relative uncertainty.'}\n"
     ]
    }
   ],
   "source": [
    "for e in entities:\n",
    "    print(e)"
   ]
  },
  {
   "cell_type": "code",
   "execution_count": 17,
   "metadata": {},
   "outputs": [
    {
     "name": "stdout",
     "output_type": "stream",
     "text": [
      "{'entity_name': 'branching fraction', 'entity_type': 'measurement_quantity'}\n",
      "{'entity_name': '9 fb^{-1}', 'entity_type': 'measurement_quantity'}\n",
      "{'entity_name': 'R_{BF}', 'entity_type': 'measurement_quantity'}\n",
      "{'entity_name': '\\\\mathcal{R}_{BF} \\\\equiv \\x0crac{\\\\mathcal{B}(B^{+} \\to \\\\psi(2S) \\\\phi K^{+})}{\\\\mathcal{B}(B^{+} \\to J/\\\\psi \\\\phi K^{+})}', 'entity_type': 'measurement_quantity'}\n"
     ]
    }
   ],
   "source": [
    "for e in entities:\n",
    "    if e[\"entity_type\"] == \"measurement_quantity\":\n",
    "        print(e)"
   ]
  },
  {
   "cell_type": "code",
   "execution_count": 19,
   "metadata": {},
   "outputs": [
    {
     "name": "stdout",
     "output_type": "stream",
     "text": [
      "{'entity_name': '80 times smaller phase space', 'entity_type': 'decay_property'}\n",
      "{'entity_name': '5 times larger average amplitude squared', 'entity_type': 'decay_property'}\n",
      "{'entity_name': 'resonant amplitudes in B^{+} \\to \\\\psi(2S) \\\\phi K^{+}', 'entity_type': 'decay_property'}\n"
     ]
    }
   ],
   "source": [
    "for e in entities:\n",
    "    if e[\"entity_type\"] == \"decay_property\":\n",
    "        print(e)"
   ]
  },
  {
   "cell_type": "code",
   "execution_count": 100,
   "metadata": {},
   "outputs": [],
   "source": [
    "from py2neo import Graph, Node, Relationship\n",
    "\n",
    "uri=\"neo4j+s://2d257b33.databases.neo4j.io\"\n",
    "username=\"neo4j\"\n",
    "password=\"LrVuuzEjpH3gmxLAFlOwgZoKnDCnX5AU3rRqS0PW97g\"\n",
    "\n",
    "graph = Graph(uri, auth=(username, password))\n",
    "\n",
    "graph.delete_all()\n",
    "\n",
    "entity_nodes = {}\n",
    "\n",
    "for entity in entities:\n",
    "    node = Node(\n",
    "        entity[\"entity_type\"],\n",
    "        name=entity[\"entity_name\"],\n",
    "        description=entity[\"description\"],\n",
    "    )\n",
    "\n",
    "    graph.create(node)\n",
    "    entity_nodes[entity[\"entity_name\"]] = node\n",
    "\n",
    "for rel in relationships:\n",
    "    try:\n",
    "        rel = rel.copy()\n",
    "        source_node = entity_nodes[rel[\"source\"]]\n",
    "        target_node = entity_nodes[rel[\"target\"]]\n",
    "        relationship = rel[\"relation\"]\n",
    "        rel.pop(\"source\")\n",
    "        rel.pop(\"target\")\n",
    "        rel.pop(\"relation\")\n",
    "\n",
    "        relationship = Relationship(\n",
    "            source_node,\n",
    "            relationship,\n",
    "            target_node,\n",
    "            **rel\n",
    "        )\n",
    "\n",
    "        graph.create(relationship)\n",
    "    \n",
    "    except Exception as e:\n",
    "        print(e)"
   ]
  },
  {
   "cell_type": "code",
   "execution_count": null,
   "metadata": {},
   "outputs": [],
   "source": []
  }
 ],
 "metadata": {
  "kernelspec": {
   "display_name": "Python (BeautyInStats)",
   "language": "python",
   "name": "beautyinstats"
  },
  "language_info": {
   "codemirror_mode": {
    "name": "ipython",
    "version": 3
   },
   "file_extension": ".py",
   "mimetype": "text/x-python",
   "name": "python",
   "nbconvert_exporter": "python",
   "pygments_lexer": "ipython3",
   "version": "3.10.16"
  }
 },
 "nbformat": 4,
 "nbformat_minor": 2
}
