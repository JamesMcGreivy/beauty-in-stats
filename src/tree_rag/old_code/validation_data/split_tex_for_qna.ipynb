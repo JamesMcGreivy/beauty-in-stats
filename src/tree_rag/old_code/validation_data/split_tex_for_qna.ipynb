{
 "cells": [
  {
   "cell_type": "code",
   "execution_count": 4,
   "metadata": {},
   "outputs": [],
   "source": [
    "import os\n",
    "os.chdir(\"/work/submit/mcgreivy/beauty-in-stats/src/tree_rag\")\n",
    "import PaperTree\n",
    "import regex as re\n",
    "\n",
    "dir_expanded_tex = \"/work/submit/mcgreivy/beauty-in-stats/src/scraper/data/cleaned_tex/\"\n",
    "dir_split_tex = \"/work/submit/mcgreivy/beauty-in-stats/src/tree_rag/validation_data\""
   ]
  },
  {
   "cell_type": "code",
   "execution_count": null,
   "metadata": {},
   "outputs": [
    {
     "ename": "NameError",
     "evalue": "name 'paper_tree' is not defined",
     "output_type": "error",
     "traceback": [
      "\u001b[0;31m---------------------------------------------------------------------------\u001b[0m",
      "\u001b[0;31mNameError\u001b[0m                                 Traceback (most recent call last)",
      "Cell \u001b[0;32mIn[5], line 13\u001b[0m\n\u001b[1;32m     11\u001b[0m \u001b[38;5;28;01mwith\u001b[39;00m \u001b[38;5;28mopen\u001b[39m(dir_expanded_tex \u001b[38;5;241m+\u001b[39m filename, \u001b[38;5;124m\"\u001b[39m\u001b[38;5;124mr+\u001b[39m\u001b[38;5;124m\"\u001b[39m) \u001b[38;5;28;01mas\u001b[39;00m file:\n\u001b[1;32m     12\u001b[0m     full_tex \u001b[38;5;241m=\u001b[39m file\u001b[38;5;241m.\u001b[39mread()\n\u001b[0;32m---> 13\u001b[0m full_tex \u001b[38;5;241m=\u001b[39m \u001b[43mpaper_tree\u001b[49m\u001b[38;5;241m.\u001b[39mclean_junk(full_tex)\n\u001b[1;32m     14\u001b[0m split_sentences \u001b[38;5;241m=\u001b[39m split_paper(full_tex)\n\u001b[1;32m     16\u001b[0m \u001b[38;5;28;01mwith\u001b[39;00m \u001b[38;5;28mopen\u001b[39m(dir_split_tex \u001b[38;5;241m+\u001b[39m filename, \u001b[38;5;124m\"\u001b[39m\u001b[38;5;124mw+\u001b[39m\u001b[38;5;124m\"\u001b[39m) \u001b[38;5;28;01mas\u001b[39;00m file:\n",
      "\u001b[0;31mNameError\u001b[0m: name 'paper_tree' is not defined"
     ]
    }
   ],
   "source": [
    "filenames = list(filter(lambda str : (\".tex\" in str[-4:]), os.listdir(dir_expanded_tex)))\n",
    "\n",
    "def split_paper(paper):\n",
    "    pattern = r\"(?<!\\\\)(?:\\\\\\\\)*\\K\\n\"\n",
    "    paper = re.sub(pattern, \" \", paper)\n",
    "    split_sentences = {1 + i : sentence + \".\" for i, sentence in enumerate(paper.split(\". \"))}\n",
    "    return split_sentences\n",
    "\n",
    "os.makedirs(dir_split_tex, exist_ok = True)\n",
    "for filename in filenames:\n",
    "    with open(dir_expanded_tex + filename, \"r+\") as file:\n",
    "        full_tex = file.read()\n",
    "    full_tex = PaperTree.clean_junk(full_tex)\n",
    "    split_sentences = split_paper(full_tex)\n",
    "\n",
    "    with open(dir_split_tex + filename, \"w+\") as file:\n",
    "        for i in split_sentences:\n",
    "            sentence = split_sentences[i]\n",
    "            file.write(f\"{sentence} \\n\")"
   ]
  },
  {
   "cell_type": "code",
   "execution_count": null,
   "metadata": {},
   "outputs": [],
   "source": []
  }
 ],
 "metadata": {
  "kernelspec": {
   "display_name": "Python (BeautyInStats)",
   "language": "python",
   "name": "beautyinstats"
  },
  "language_info": {
   "codemirror_mode": {
    "name": "ipython",
    "version": 3
   },
   "file_extension": ".py",
   "mimetype": "text/x-python",
   "name": "python",
   "nbconvert_exporter": "python",
   "pygments_lexer": "ipython3",
   "version": "3.10.16"
  }
 },
 "nbformat": 4,
 "nbformat_minor": 2
}
