{
 "cells": [
  {
   "cell_type": "code",
   "execution_count": 1,
   "metadata": {},
   "outputs": [
    {
     "data": {
      "text/plain": [
       "<module 'SystematicsGraph' from '/work/submit/mcgreivy/beauty-in-stats/graph_rag/SystematicsGraph.py'>"
      ]
     },
     "execution_count": 1,
     "metadata": {},
     "output_type": "execute_result"
    }
   ],
   "source": [
    "import numpy as np\n",
    "import os\n",
    "import matplotlib.pyplot as plt\n",
    "import matplotlib\n",
    "import regex as re \n",
    "import subprocess\n",
    "import importlib\n",
    "from collections import deque\n",
    "import json\n",
    "\n",
    "os.chdir(\"/work/submit/mcgreivy/beauty-in-stats/graph_rag\")\n",
    "\n",
    "import nest_asyncio\n",
    "nest_asyncio.apply()\n",
    "import SystematicsGraph\n",
    "importlib.reload(SystematicsGraph)"
   ]
  },
  {
   "cell_type": "markdown",
   "metadata": {},
   "source": [
    "Chunked Stats Corpus"
   ]
  },
  {
   "cell_type": "code",
   "execution_count": 2,
   "metadata": {},
   "outputs": [],
   "source": [
    "papers = []\n",
    "\n",
    "text_dir = \"/work/submit/mcgreivy/beauty-in-stats/src/scraper/data/cleaned_tex/\"\n",
    "abstract_dir = \"/work/submit/mcgreivy/beauty-in-stats/src/scraper/data/abstracts/\"\n",
    "for file in os.listdir(text_dir):\n",
    "    if file.endswith(\".tex\"):    \n",
    "        abstract_path = os.path.join(abstract_dir, file)\n",
    "        with open(abstract_path, 'r') as f:\n",
    "            abstract = f.read()\n",
    "\n",
    "        text_path = os.path.join(text_dir, file)\n",
    "        with open(text_path, 'r') as f:\n",
    "            text = f.read()\n",
    "\n",
    "        arxiv_id = file[:file.find(\".tex\")]\n",
    "\n",
    "        paper = SystematicsGraph.LHCbPaper(abstract, text, arxiv_id)\n",
    "        papers.append(paper)\n",
    "\n",
    "    if len(papers) > 10:\n",
    "        break"
   ]
  },
  {
   "cell_type": "code",
   "execution_count": 5,
   "metadata": {},
   "outputs": [],
   "source": [
    "import asyncio\n",
    "# async def process_papers(papers, threads=5):\n",
    "#     semaphore = asyncio.Semaphore(threads)\n",
    "#     async def process_with_limit(paper):\n",
    "#         async with semaphore:\n",
    "#             await paper.process_paper()\n",
    "        \n",
    "#     tasks = [process_with_limit(paper) for paper in papers]        \n",
    "#     await asyncio.gather(*tasks)\n",
    "\n",
    "# asyncio.run(process_papers(papers))\n",
    "\n",
    "import pickle\n",
    "#pickle.dump(papers, open(\"lhcb_papers.pkl\", \"wb\"))\n",
    "papers = pickle.load(open(\"lhcb_papers.pkl\", \"rb\"))"
   ]
  },
  {
   "cell_type": "code",
   "execution_count": null,
   "metadata": {},
   "outputs": [
    {
     "name": "stdout",
     "output_type": "stream",
     "text": [
      "Error loading relationship: \n",
      " {'type': 'AFFECTS', 'source': 'Form factors', 'target': 'Branching fraction ratio κ_{D**0_{1,2}} ≡ BR(B- → D**0_{1,2} τ- ⊥_τ) / BR(B- → D**0_{1,2} D_s^{(*)-})', 'magnitude': '3.7%', 'relevant_quotes': ['Form factors & 3.7\\\\', 'In the simulation, the three B- → D**0 τ- ⊥_τ decays are generated using the Isgur--Scora--Grinstein-Wise (ISGW2) model. More recent models better describe these semileptonic decays: Leibovich--Ligeti--Stewart--Wise (LLSW) and Bernlochner--Ligeti--Robinson (BLR). Alternative templates are obtained for the main B- → D_1(2420)^0 τ- ⊥_τ contribution by using the Hammer package to weight events according to these two models.']} \n",
      " target does not exist\n",
      "Error loading relationship: \n",
      " {'type': 'AFFECTS', 'source': 'D2*(2460) fraction', 'target': 'Branching fraction ratio κ_{D**0_{1,2}} ≡ BR(B- → D**0_{1,2} τ- ⊥_τ) / BR(B- → D**0_{1,2} D_s^{(*)-})', 'magnitude': '4.4%', 'relevant_quotes': ['The fit assumes a fixed ratio between the D_1(2420)^0 and D_2^*(2460)^0 signal contributions: a systematic uncertainty of 4.4\\\\', 'D2*(2460) fraction & 4.4\\\\']} \n",
      " target does not exist\n",
      "Error loading relationship: \n",
      " {'type': 'AFFECTS', 'source': 'Finite size of simulated samples', 'target': 'Branching fraction ratio κ_{D**0_{1,2}} ≡ BR(B- → D**0_{1,2} τ- ⊥_τ) / BR(B- → D**0_{1,2} D_s^{(*)-})', 'magnitude': '4.1%', 'relevant_quotes': ['The systematic uncertainty associated to the finite sizes of the simulated samples is determined with the bootstrap method, as in Ref. [LHCb-PAPER-2022-052] and a 4.1\\\\', 'Finite size of the simulated sample & 4.1\\\\']} \n",
      " target does not exist\n",
      "Error loading relationship: \n",
      " {'type': 'AFFECTS', 'source': 'Variables and binning choices', 'target': 'Branching fraction ratio κ_{D**0_{1,2}} ≡ BR(B- → D**0_{1,2} τ- ⊥_τ) / BR(B- → D**0_{1,2} D_s^{(*)-})', 'magnitude': '5.0%', 'relevant_quotes': ['The effect of changing fit observables, replacing the q^2 variable by the D* helicity angle, and changing the binning schemes with half or twice the number of bins, results in a systematic uncertainty of 5.0\\\\', 'Variables and binning choices & 5.0\\\\']} \n",
      " target does not exist\n",
      "Error loading relationship: \n",
      " {'type': 'AFFECTS', 'source': 'Other potential background', 'target': 'Branching fraction ratio κ_{D**0_{1,2}} ≡ BR(B- → D**0_{1,2} τ- ⊥_τ) / BR(B- → D**0_{1,2} D_s^{(*)-})', 'magnitude': '3.6%', 'relevant_quotes': ['The systematic uncertainty associated with the B- → D**0 ⊥ D0bar X and Bm → D**0 D- X background contamination is estimated to be 3.6\\\\', 'Other potential background & 3.6\\\\']} \n",
      " target does not exist\n",
      "Error loading relationship: \n",
      " {'type': 'AFFECTS', 'source': 'Efficiency determination', 'target': 'Branching fraction ratio κ_{D**0_{1,2}} ≡ BR(B- → D**0_{1,2} τ- ⊥_τ) / BR(B- → D**0_{1,2} D_s^{(*)-})', 'magnitude': '4.3%', 'relevant_quotes': ['The uncertainty associated to the extra track reconstruction efficiency cancels to a large extent since the normalisation channel also requires an extra track reconstruction.', 'Efficiency determination & 4.3\\\\']} \n",
      " target does not exist\n",
      "Error loading relationship: \n",
      " {'type': 'AFFECTS', 'source': 'Selection and analysis', 'target': 'Branching fraction ratio κ_{D**0_{1,2}} ≡ BR(B- → D**0_{1,2} τ- ⊥_τ) / BR(B- → D**0_{1,2} D_s^{(*)-})', 'magnitude': '2.0%', 'relevant_quotes': ['Selection and analysis & 2.0\\\\', 'In order to check the fit stability and potential bias, the same fit procedure is performed on selected candidates from the simulated sample containing inclusive b-hadron decays...']} \n",
      " target does not exist\n",
      "Error loading relationship: \n",
      " {'type': 'AFFECTS', 'source': 'Detachment requirement', 'target': 'Branching fraction ratio κ_{D**0_{1,2}} ≡ BR(B- → D**0_{1,2} τ- ⊥_τ) / BR(B- → D**0_{1,2} D_s^{(*)-})', 'magnitude': '4.0%', 'relevant_quotes': ['A good agreement is found, except for the efficiency of the vertex detachment requirement, which deviates by 10\\\\', 'The background suppression due to the detachment requirement must be correctly described in simulation...', 'Detachment requirement & 4.0\\\\']} \n",
      " target does not exist\n",
      "Error loading relationship: \n",
      " {'type': 'AFFECTS', 'source': 'Wrong-sign (WS) background description', 'target': 'Branching fraction ratio κ_{D**0_{1,2}} ≡ BR(B- → D**0_{1,2} τ- ⊥_τ) / BR(B- → D**0_{1,2} D_s^{(*)-})', 'magnitude': '2.0%', 'relevant_quotes': ['A key feature of this analysis is the modelling of the fake D** background with data using the WS sample.', 'The discrepancy between the observed background under the Δm peak and its estimation is less than 5\\\\', 'WS background description & 2.0\\\\']} \n",
      " target does not exist\n",
      "Error loading relationship: \n",
      " {'type': 'ESTIMATED_WITH', 'source': 'Trigger efficiency', 'target': 'Data-driven method', 'magnitude': 'N/A', 'relevant_quotes': ['The systematic uncertainty associated with the trigger efficiency is determined by comparing the trigger efficiency ratio ... obtained from simulation to that obtained from control samples consisting of events triggered independently of the signal decays using a data-driven method.', 'The trigger system consists of a hardware stage and two software trigger stages selecting events with muon candidates.', 'The systematic uncertainty associated with the trigger efficiency is evaluated by this comparison.']} \n",
      " target does not exist\n",
      "Error loading relationship: \n",
      " {'type': 'ESTIMATED_WITH', 'source': 'Material budget', 'target': 'Simulation variation by ±10%', 'magnitude': 'N/A', 'relevant_quotes': ['The systematic uncertainty due to imperfect description of the detector material ... is estimated by varying the amount of material in the relevant detector volumes by about ±10%.', 'This affects the K/π tracking efficiency from simulation.', 'The material budget uncertainty is propagated to the branching fraction ratio measurement.']} \n",
      " target does not exist\n",
      "Error loading relationship: \n",
      " {'type': 'REDUCED_BY', 'source': 'Production asymmetry', 'target': 'Weighting the B+ → J/ψ K+ sample to match the kinematic distributions of the B+ → J/ψ π+ sample', 'magnitude': 'Effect reduced; difference taken as systematic uncertainty', 'relevant_quotes': ['The effects of different production cross-sections of B- and B+ mesons are largely canceled in the ΔA^{CP} measurement, and further reduced by weighting the B+ → J/ψ K+ sample to eliminate a small difference with the B+ → J/ψ π+ sample in the B+ kinematic distributions.', 'For the baseline result of ΔA^{CP}, the B+ → J/ψ π+ sample is weighted to match the kinematic distribution of the B+ → J/ψ K+ sample in order to cancel the effect of the B+/B- production asymmetry on the measurement.', 'The difference of the ΔA^{CP} values obtained with and without this weighting step is taken as a systematic uncertainty.']} \n",
      " target does not exist\n"
     ]
    }
   ],
   "source": [
    "from SystematicsGraph import SystematicsGraph\n",
    "\n",
    "graph = SystematicsGraph()\n",
    "\n",
    "for paper in papers:\n",
    "    graph.load_paper(paper)\n",
    "\n",
    "graph.cluster_entity_type(\"Uncertainty Sources\")\n",
    "graph.merge_entity_type(\"Estimation Methods\")"
   ]
  },
  {
   "cell_type": "code",
   "execution_count": 4,
   "metadata": {},
   "outputs": [
    {
     "ename": "NameError",
     "evalue": "name 'graph' is not defined",
     "output_type": "error",
     "traceback": [
      "\u001b[0;31m---------------------------------------------------------------------------\u001b[0m",
      "\u001b[0;31mNameError\u001b[0m                                 Traceback (most recent call last)",
      "Cell \u001b[0;32mIn[4], line 4\u001b[0m\n\u001b[1;32m      2\u001b[0m username\u001b[38;5;241m=\u001b[39m\u001b[38;5;124m\"\u001b[39m\u001b[38;5;124mneo4j\u001b[39m\u001b[38;5;124m\"\u001b[39m\n\u001b[1;32m      3\u001b[0m password \u001b[38;5;241m=\u001b[39m os\u001b[38;5;241m.\u001b[39menviron\u001b[38;5;241m.\u001b[39mget(\u001b[38;5;124m\"\u001b[39m\u001b[38;5;124mNEO4J_PASSWORD\u001b[39m\u001b[38;5;124m\"\u001b[39m)\n\u001b[0;32m----> 4\u001b[0m \u001b[43mgraph\u001b[49m\u001b[38;5;241m.\u001b[39mpush_to_neo4j(uri, username, password)\n",
      "\u001b[0;31mNameError\u001b[0m: name 'graph' is not defined"
     ]
    }
   ],
   "source": [
    "uri=\"neo4j+s://2d257b33.databases.neo4j.io\"\n",
    "username=\"neo4j\"\n",
    "password = os.environ.get(\"NEO4J_PASSWORD\")\n",
    "graph.push_to_neo4j(uri, username, password)"
   ]
  },
  {
   "cell_type": "code",
   "execution_count": null,
   "metadata": {},
   "outputs": [],
   "source": []
  }
 ],
 "metadata": {
  "kernelspec": {
   "display_name": "Python (BeautyInStats)",
   "language": "python",
   "name": "beautyinstats"
  },
  "language_info": {
   "codemirror_mode": {
    "name": "ipython",
    "version": 3
   },
   "file_extension": ".py",
   "mimetype": "text/x-python",
   "name": "python",
   "nbconvert_exporter": "python",
   "pygments_lexer": "ipython3",
   "version": "3.10.16"
  }
 },
 "nbformat": 4,
 "nbformat_minor": 2
}
